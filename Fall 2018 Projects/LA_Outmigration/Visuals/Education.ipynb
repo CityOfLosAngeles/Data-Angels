{
 "cells": [
  {
   "cell_type": "markdown",
   "metadata": {},
   "source": [
    "### Educational Attainment of LA Out Migrators"
   ]
  },
  {
   "cell_type": "code",
   "execution_count": 1,
   "metadata": {},
   "outputs": [],
   "source": [
    "import pandas as pd\n",
    "import numpy as np\n",
    "import altair as alt"
   ]
  },
  {
   "cell_type": "code",
   "execution_count": 2,
   "metadata": {},
   "outputs": [],
   "source": [
    "file = pd.read_csv('ipums_clean.csv')"
   ]
  },
  {
   "cell_type": "code",
   "execution_count": 3,
   "metadata": {},
   "outputs": [
    {
     "data": {
      "text/plain": [
       "array([ 7,  2,  3,  1,  0,  6, 10, 11,  4,  5,  8], dtype=int64)"
      ]
     },
     "execution_count": 3,
     "metadata": {},
     "output_type": "execute_result"
    }
   ],
   "source": [
    "file.EDUC.unique()"
   ]
  },
  {
   "cell_type": "code",
   "execution_count": 4,
   "metadata": {},
   "outputs": [
    {
     "data": {
      "text/plain": [
       "array(['1 year of college', 'Grade 5, 6, 7, or 8', 'Grade 9',\n",
       "       'Nursery school to grade 4', 'N/A or no schooling', 'Grade 12',\n",
       "       '4 years of college', '5+ years of college', 'Grade 10',\n",
       "       'Grade 11', '2 years of college'], dtype=object)"
      ]
     },
     "execution_count": 4,
     "metadata": {},
     "output_type": "execute_result"
    }
   ],
   "source": [
    "file.EDUC_DESC.unique()"
   ]
  },
  {
   "cell_type": "code",
   "execution_count": 5,
   "metadata": {},
   "outputs": [],
   "source": [
    "#Renaming & combining some labels from EDUC_DESC\n",
    "education = {\n",
    "0:'N/A or no schooling',\n",
    "1:'Nursery school to grade 4',\n",
    "2:'Grade 5, 6, 7, or 8',\n",
    "3:'Some high school',\n",
    "4:'Some high school',\n",
    "5:'Some high school',\n",
    "6:'HS diploma',\n",
    "7:'Some college',\n",
    "8:'Some college',\n",
    "9:'Some college',\n",
    "10:\"College diploma\",\n",
    "11:'Graduate school'}\n",
    "\n",
    "file.EDUC_DESC = file.EDUC.map(education)"
   ]
  },
  {
   "cell_type": "code",
   "execution_count": 6,
   "metadata": {},
   "outputs": [],
   "source": [
    "#Extracting annual migration counts for each education level\n",
    "educ = {}\n",
    "for year in range(2006,2018):\n",
    "    df = file[file.YEAR == year]\n",
    "    categories = file.EDUC_DESC.unique()\n",
    "    counts = {}\n",
    "    for category in categories:\n",
    "        count = df.PERWT[df.EDUC_DESC == category].sum()\n",
    "        counts[category] = count\n",
    "    educ[year] = counts"
   ]
  },
  {
   "cell_type": "code",
   "execution_count": 7,
   "metadata": {},
   "outputs": [],
   "source": [
    "#Creating data frame for plotting\n",
    "level = pd.DataFrame()\n",
    "for year in educ:\n",
    "    df = pd.DataFrame.from_dict(educ[year], orient='index')\n",
    "    df = df.reset_index()\n",
    "    yr = np.full(8, str(year))\n",
    "    df['Year'] = pd.to_datetime(yr)\n",
    "    level = pd.concat([level, df], sort=True)\n",
    "level = level.reset_index(drop=True)\n",
    "level = level.rename({'index':'Education Level', 0:'Count'}, axis=1)"
   ]
  },
  {
   "cell_type": "code",
   "execution_count": 9,
   "metadata": {},
   "outputs": [
    {
     "data": {
      "application/vnd.vegalite.v2+json": {
       "$schema": "https://vega.github.io/schema/vega-lite/v2.6.0.json",
       "config": {
        "legend": {
         "labelFontSize": 13,
         "symbolSize": 30,
         "symbolStrokeWidth": 5.5
        },
        "view": {
         "height": 300,
         "strokeWidth": 0,
         "width": 400
        }
       },
       "data": {
        "name": "data-a4ab1742cfab97d941ee7adc37c469f0"
       },
       "datasets": {
        "data-a4ab1742cfab97d941ee7adc37c469f0": [
         {
          "Count": 80117,
          "Education Level": "Some college",
          "Year": "2006-01-01T00:00:00"
         },
         {
          "Count": 42975,
          "Education Level": "Grade 5, 6, 7, or 8",
          "Year": "2006-01-01T00:00:00"
         },
         {
          "Count": 44299,
          "Education Level": "Some high school",
          "Year": "2006-01-01T00:00:00"
         },
         {
          "Count": 41359,
          "Education Level": "Nursery school to grade 4",
          "Year": "2006-01-01T00:00:00"
         },
         {
          "Count": 44514,
          "Education Level": "N/A or no schooling",
          "Year": "2006-01-01T00:00:00"
         },
         {
          "Count": 129532,
          "Education Level": "HS diploma",
          "Year": "2006-01-01T00:00:00"
         },
         {
          "Count": 63256,
          "Education Level": "College diploma",
          "Year": "2006-01-01T00:00:00"
         },
         {
          "Count": 33872,
          "Education Level": "Graduate school",
          "Year": "2006-01-01T00:00:00"
         },
         {
          "Count": 79089,
          "Education Level": "Some college",
          "Year": "2007-01-01T00:00:00"
         },
         {
          "Count": 33851,
          "Education Level": "Grade 5, 6, 7, or 8",
          "Year": "2007-01-01T00:00:00"
         },
         {
          "Count": 38917,
          "Education Level": "Some high school",
          "Year": "2007-01-01T00:00:00"
         },
         {
          "Count": 27918,
          "Education Level": "Nursery school to grade 4",
          "Year": "2007-01-01T00:00:00"
         },
         {
          "Count": 37607,
          "Education Level": "N/A or no schooling",
          "Year": "2007-01-01T00:00:00"
         },
         {
          "Count": 126502,
          "Education Level": "HS diploma",
          "Year": "2007-01-01T00:00:00"
         },
         {
          "Count": 56318,
          "Education Level": "College diploma",
          "Year": "2007-01-01T00:00:00"
         },
         {
          "Count": 26644,
          "Education Level": "Graduate school",
          "Year": "2007-01-01T00:00:00"
         },
         {
          "Count": 64333,
          "Education Level": "Some college",
          "Year": "2008-01-01T00:00:00"
         },
         {
          "Count": 20210,
          "Education Level": "Grade 5, 6, 7, or 8",
          "Year": "2008-01-01T00:00:00"
         },
         {
          "Count": 30153,
          "Education Level": "Some high school",
          "Year": "2008-01-01T00:00:00"
         },
         {
          "Count": 23789,
          "Education Level": "Nursery school to grade 4",
          "Year": "2008-01-01T00:00:00"
         },
         {
          "Count": 22652,
          "Education Level": "N/A or no schooling",
          "Year": "2008-01-01T00:00:00"
         },
         {
          "Count": 84767,
          "Education Level": "HS diploma",
          "Year": "2008-01-01T00:00:00"
         },
         {
          "Count": 54575,
          "Education Level": "College diploma",
          "Year": "2008-01-01T00:00:00"
         },
         {
          "Count": 28351,
          "Education Level": "Graduate school",
          "Year": "2008-01-01T00:00:00"
         },
         {
          "Count": 69786,
          "Education Level": "Some college",
          "Year": "2009-01-01T00:00:00"
         },
         {
          "Count": 19797,
          "Education Level": "Grade 5, 6, 7, or 8",
          "Year": "2009-01-01T00:00:00"
         },
         {
          "Count": 27586,
          "Education Level": "Some high school",
          "Year": "2009-01-01T00:00:00"
         },
         {
          "Count": 28102,
          "Education Level": "Nursery school to grade 4",
          "Year": "2009-01-01T00:00:00"
         },
         {
          "Count": 24964,
          "Education Level": "N/A or no schooling",
          "Year": "2009-01-01T00:00:00"
         },
         {
          "Count": 95366,
          "Education Level": "HS diploma",
          "Year": "2009-01-01T00:00:00"
         },
         {
          "Count": 48864,
          "Education Level": "College diploma",
          "Year": "2009-01-01T00:00:00"
         },
         {
          "Count": 23852,
          "Education Level": "Graduate school",
          "Year": "2009-01-01T00:00:00"
         },
         {
          "Count": 73065,
          "Education Level": "Some college",
          "Year": "2010-01-01T00:00:00"
         },
         {
          "Count": 23980,
          "Education Level": "Grade 5, 6, 7, or 8",
          "Year": "2010-01-01T00:00:00"
         },
         {
          "Count": 26151,
          "Education Level": "Some high school",
          "Year": "2010-01-01T00:00:00"
         },
         {
          "Count": 22500,
          "Education Level": "Nursery school to grade 4",
          "Year": "2010-01-01T00:00:00"
         },
         {
          "Count": 23664,
          "Education Level": "N/A or no schooling",
          "Year": "2010-01-01T00:00:00"
         },
         {
          "Count": 94772,
          "Education Level": "HS diploma",
          "Year": "2010-01-01T00:00:00"
         },
         {
          "Count": 59253,
          "Education Level": "College diploma",
          "Year": "2010-01-01T00:00:00"
         },
         {
          "Count": 25814,
          "Education Level": "Graduate school",
          "Year": "2010-01-01T00:00:00"
         },
         {
          "Count": 66561,
          "Education Level": "Some college",
          "Year": "2011-01-01T00:00:00"
         },
         {
          "Count": 17886,
          "Education Level": "Grade 5, 6, 7, or 8",
          "Year": "2011-01-01T00:00:00"
         },
         {
          "Count": 23253,
          "Education Level": "Some high school",
          "Year": "2011-01-01T00:00:00"
         },
         {
          "Count": 21876,
          "Education Level": "Nursery school to grade 4",
          "Year": "2011-01-01T00:00:00"
         },
         {
          "Count": 23946,
          "Education Level": "N/A or no schooling",
          "Year": "2011-01-01T00:00:00"
         },
         {
          "Count": 84364,
          "Education Level": "HS diploma",
          "Year": "2011-01-01T00:00:00"
         },
         {
          "Count": 56585,
          "Education Level": "College diploma",
          "Year": "2011-01-01T00:00:00"
         },
         {
          "Count": 26413,
          "Education Level": "Graduate school",
          "Year": "2011-01-01T00:00:00"
         },
         {
          "Count": 59851,
          "Education Level": "Some college",
          "Year": "2012-01-01T00:00:00"
         },
         {
          "Count": 20804,
          "Education Level": "Grade 5, 6, 7, or 8",
          "Year": "2012-01-01T00:00:00"
         },
         {
          "Count": 20824,
          "Education Level": "Some high school",
          "Year": "2012-01-01T00:00:00"
         },
         {
          "Count": 19955,
          "Education Level": "Nursery school to grade 4",
          "Year": "2012-01-01T00:00:00"
         },
         {
          "Count": 20487,
          "Education Level": "N/A or no schooling",
          "Year": "2012-01-01T00:00:00"
         },
         {
          "Count": 76796,
          "Education Level": "HS diploma",
          "Year": "2012-01-01T00:00:00"
         },
         {
          "Count": 50593,
          "Education Level": "College diploma",
          "Year": "2012-01-01T00:00:00"
         },
         {
          "Count": 27517,
          "Education Level": "Graduate school",
          "Year": "2012-01-01T00:00:00"
         },
         {
          "Count": 67272,
          "Education Level": "Some college",
          "Year": "2013-01-01T00:00:00"
         },
         {
          "Count": 16560,
          "Education Level": "Grade 5, 6, 7, or 8",
          "Year": "2013-01-01T00:00:00"
         },
         {
          "Count": 24276,
          "Education Level": "Some high school",
          "Year": "2013-01-01T00:00:00"
         },
         {
          "Count": 21737,
          "Education Level": "Nursery school to grade 4",
          "Year": "2013-01-01T00:00:00"
         },
         {
          "Count": 19777,
          "Education Level": "N/A or no schooling",
          "Year": "2013-01-01T00:00:00"
         },
         {
          "Count": 84842,
          "Education Level": "HS diploma",
          "Year": "2013-01-01T00:00:00"
         },
         {
          "Count": 60781,
          "Education Level": "College diploma",
          "Year": "2013-01-01T00:00:00"
         },
         {
          "Count": 27669,
          "Education Level": "Graduate school",
          "Year": "2013-01-01T00:00:00"
         },
         {
          "Count": 76403,
          "Education Level": "Some college",
          "Year": "2014-01-01T00:00:00"
         },
         {
          "Count": 19339,
          "Education Level": "Grade 5, 6, 7, or 8",
          "Year": "2014-01-01T00:00:00"
         },
         {
          "Count": 20278,
          "Education Level": "Some high school",
          "Year": "2014-01-01T00:00:00"
         },
         {
          "Count": 24273,
          "Education Level": "Nursery school to grade 4",
          "Year": "2014-01-01T00:00:00"
         },
         {
          "Count": 24921,
          "Education Level": "N/A or no schooling",
          "Year": "2014-01-01T00:00:00"
         },
         {
          "Count": 91663,
          "Education Level": "HS diploma",
          "Year": "2014-01-01T00:00:00"
         },
         {
          "Count": 64607,
          "Education Level": "College diploma",
          "Year": "2014-01-01T00:00:00"
         },
         {
          "Count": 34036,
          "Education Level": "Graduate school",
          "Year": "2014-01-01T00:00:00"
         },
         {
          "Count": 78861,
          "Education Level": "Some college",
          "Year": "2015-01-01T00:00:00"
         },
         {
          "Count": 15244,
          "Education Level": "Grade 5, 6, 7, or 8",
          "Year": "2015-01-01T00:00:00"
         },
         {
          "Count": 23489,
          "Education Level": "Some high school",
          "Year": "2015-01-01T00:00:00"
         },
         {
          "Count": 19963,
          "Education Level": "Nursery school to grade 4",
          "Year": "2015-01-01T00:00:00"
         },
         {
          "Count": 23593,
          "Education Level": "N/A or no schooling",
          "Year": "2015-01-01T00:00:00"
         },
         {
          "Count": 97580,
          "Education Level": "HS diploma",
          "Year": "2015-01-01T00:00:00"
         },
         {
          "Count": 61554,
          "Education Level": "College diploma",
          "Year": "2015-01-01T00:00:00"
         },
         {
          "Count": 34122,
          "Education Level": "Graduate school",
          "Year": "2015-01-01T00:00:00"
         },
         {
          "Count": 79485,
          "Education Level": "Some college",
          "Year": "2016-01-01T00:00:00"
         },
         {
          "Count": 18608,
          "Education Level": "Grade 5, 6, 7, or 8",
          "Year": "2016-01-01T00:00:00"
         },
         {
          "Count": 20824,
          "Education Level": "Some high school",
          "Year": "2016-01-01T00:00:00"
         },
         {
          "Count": 29304,
          "Education Level": "Nursery school to grade 4",
          "Year": "2016-01-01T00:00:00"
         },
         {
          "Count": 23935,
          "Education Level": "N/A or no schooling",
          "Year": "2016-01-01T00:00:00"
         },
         {
          "Count": 93075,
          "Education Level": "HS diploma",
          "Year": "2016-01-01T00:00:00"
         },
         {
          "Count": 68343,
          "Education Level": "College diploma",
          "Year": "2016-01-01T00:00:00"
         },
         {
          "Count": 34937,
          "Education Level": "Graduate school",
          "Year": "2016-01-01T00:00:00"
         },
         {
          "Count": 74219,
          "Education Level": "Some college",
          "Year": "2017-01-01T00:00:00"
         },
         {
          "Count": 18206,
          "Education Level": "Grade 5, 6, 7, or 8",
          "Year": "2017-01-01T00:00:00"
         },
         {
          "Count": 19514,
          "Education Level": "Some high school",
          "Year": "2017-01-01T00:00:00"
         },
         {
          "Count": 23937,
          "Education Level": "Nursery school to grade 4",
          "Year": "2017-01-01T00:00:00"
         },
         {
          "Count": 22222,
          "Education Level": "N/A or no schooling",
          "Year": "2017-01-01T00:00:00"
         },
         {
          "Count": 97410,
          "Education Level": "HS diploma",
          "Year": "2017-01-01T00:00:00"
         },
         {
          "Count": 68335,
          "Education Level": "College diploma",
          "Year": "2017-01-01T00:00:00"
         },
         {
          "Count": 38939,
          "Education Level": "Graduate school",
          "Year": "2017-01-01T00:00:00"
         }
        ]
       },
       "encoding": {
        "color": {
         "field": "Education Level",
         "legend": {
          "values": [
           "HS diploma",
           "Some college",
           "College diploma",
           "Graduate school",
           "Nursery school to grade 4",
           "N/A or no schooling",
           "Some high school",
           "Grade 5, 6, 7, or 8"
          ]
         },
         "title": null,
         "type": "nominal"
        },
        "x": {
         "axis": {
          "grid": false,
          "labelFlush": false
         },
         "field": "Year",
         "timeUnit": "year",
         "title": null,
         "type": "temporal"
        },
        "y": {
         "field": "Count",
         "scale": {
          "domain": [
           0,
           140000
          ]
         },
         "title": null,
         "type": "quantitative"
        }
       },
       "mark": {
        "strokeWidth": 4,
        "type": "line"
       },
       "title": "LA Out Migration (by Educational Attainment)                            ",
       "width": 500
      },
      "image/png": "[encoded data removed]",
      "text/plain": [
       "<VegaLite 2 object>\n",
       "\n",
       "If you see this message, it means the renderer has not been properly enabled\n",
       "for the frontend that you are using. For more information, see\n",
       "https://altair-viz.github.io/user_guide/troubleshooting.html\n"
      ]
     },
     "execution_count": 9,
     "metadata": {},
     "output_type": "execute_result"
    }
   ],
   "source": [
    "#Plotting via Altair\n",
    "alt.Chart(level).mark_line(strokeWidth=4).encode(\n",
    "    x=alt.X('year(Year)', \n",
    "            title=None, \n",
    "            axis=alt.Axis(labelFlush=False, grid=False)), \n",
    "    y=alt.Y('Count', \n",
    "            title=None, \n",
    "            scale=alt.Scale(domain=(0,140000))), \n",
    "    color=alt.Color('Education Level', \n",
    "                    title=None, \n",
    "                    legend=alt.Legend(values=['HS diploma', 'Some college', \"College diploma\", 'Graduate school', \n",
    "                                              'Nursery school to grade 4', 'N/A or no schooling', 'Some high school', 'Grade 5, 6, 7, or 8']))\n",
    ").properties(width=500, title='LA Out Migration (by Educational Attainment)                            '\n",
    ").configure_legend(labelFontSize=13, \n",
    "                   symbolStrokeWidth=5.5, \n",
    "                   symbolSize=30\n",
    ").configure_view(strokeWidth=0)"
   ]
  }
 ],
 "metadata": {
  "kernelspec": {
   "display_name": "Python 3",
   "language": "python",
   "name": "python3"
  },
  "language_info": {
   "codemirror_mode": {
    "name": "ipython",
    "version": 3
   },
   "file_extension": ".py",
   "mimetype": "text/x-python",
   "name": "python",
   "nbconvert_exporter": "python",
   "pygments_lexer": "ipython3",
   "version": "3.6.2"
  }
 },
 "nbformat": 4,
 "nbformat_minor": 2
}
