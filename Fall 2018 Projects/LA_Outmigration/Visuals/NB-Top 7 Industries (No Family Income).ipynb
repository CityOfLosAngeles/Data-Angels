{
 "cells": [
  {
   "cell_type": "markdown",
   "metadata": {},
   "source": [
    "### Top 7 Industries - Out Migrators w/ No Family Income\n",
    "\\*PERWT *is* applied here (since the data does not address economic variables, such as income or rent)"
   ]
  },
  {
   "cell_type": "code",
   "execution_count": 1,
   "metadata": {},
   "outputs": [],
   "source": [
    "import pandas as pd\n",
    "import numpy as np\n",
    "import altair as alt"
   ]
  },
  {
   "cell_type": "code",
   "execution_count": 2,
   "metadata": {},
   "outputs": [],
   "source": [
    "outmigrators = pd.read_csv('ipums_clean.csv')"
   ]
  },
  {
   "cell_type": "code",
   "execution_count": 5,
   "metadata": {},
   "outputs": [],
   "source": [
    "#Removing rows with NA's\n",
    "outmigrators = outmigrators[outmigrators.IND_CAT.str.contains('N/A') == False]"
   ]
  },
  {
   "cell_type": "markdown",
   "metadata": {},
   "source": [
    "Abbreviating the description of some top 7 industries:"
   ]
  },
  {
   "cell_type": "code",
   "execution_count": 6,
   "metadata": {},
   "outputs": [],
   "source": [
    "outmigrators = outmigrators.replace({'Accommodation and Food Services':'Accom. & Food Services', \n",
    "                     'Professional, Scientific, and Technical Services':'Scientific & Tech Services', \n",
    "                     'Health Care and Social Assistance':'Health Care'})"
   ]
  },
  {
   "cell_type": "code",
   "execution_count": 7,
   "metadata": {},
   "outputs": [
    {
     "data": {
      "text/plain": [
       "Retail Trade                  3021\n",
       "Health Care                   2434\n",
       "Educational Services          2423\n",
       "Scientific & Tech Services    2226\n",
       "Accom. & Food Services        2218\n",
       "Manufacturing                 1985\n",
       "Construction                  1498\n",
       "Name: IND_CAT, dtype: int64"
      ]
     },
     "execution_count": 7,
     "metadata": {},
     "output_type": "execute_result"
    }
   ],
   "source": [
    "outmigrators.IND_CAT.value_counts()[:7]"
   ]
  },
  {
   "cell_type": "markdown",
   "metadata": {},
   "source": [
    "#### Filtered Data:"
   ]
  },
  {
   "cell_type": "code",
   "execution_count": 8,
   "metadata": {},
   "outputs": [],
   "source": [
    "#Removing records with missing rent or mortgage values (assigned the value 0)\n",
    "#Removing records with missing individual and/or family income values (assigned the value 9999999)\n",
    "#Only keeping records of individuals who do not have family incomes\n",
    "out_rent_inc = outmigrators[(outmigrators.RENT != 0) & \n",
    "                            (outmigrators.INCTOT != 9999999) & \n",
    "                            (outmigrators.FTOTINC != 9999999) & \n",
    "                            (outmigrators.INCTOT >= outmigrators.FTOTINC)]"
   ]
  },
  {
   "cell_type": "code",
   "execution_count": 9,
   "metadata": {},
   "outputs": [
    {
     "data": {
      "text/plain": [
       "6310"
      ]
     },
     "execution_count": 9,
     "metadata": {},
     "output_type": "execute_result"
    }
   ],
   "source": [
    "len(out_rent_inc)"
   ]
  },
  {
   "cell_type": "code",
   "execution_count": 10,
   "metadata": {},
   "outputs": [
    {
     "data": {
      "text/plain": [
       "Scientific & Tech Services                                  745\n",
       "Retail Trade                                                724\n",
       "Educational Services                                        636\n",
       "Health Care                                                 604\n",
       "Accom. & Food Services                                      577\n",
       "Manufacturing                                               473\n",
       "Finance and Insurance                                       307\n",
       "Administrative and support and waste management services    307\n",
       "Construction                                                298\n",
       "Name: IND_CAT, dtype: int64"
      ]
     },
     "execution_count": 10,
     "metadata": {},
     "output_type": "execute_result"
    }
   ],
   "source": [
    "out_rent_inc.IND_CAT.value_counts()[:9]"
   ]
  },
  {
   "cell_type": "markdown",
   "metadata": {},
   "source": [
    "*Note: Construction now is the 9th most common industry after filtering"
   ]
  },
  {
   "cell_type": "markdown",
   "metadata": {},
   "source": [
    "---"
   ]
  },
  {
   "cell_type": "code",
   "execution_count": 11,
   "metadata": {},
   "outputs": [
    {
     "data": {
      "text/plain": [
       "'Administrative and support and waste management services'"
      ]
     },
     "execution_count": 11,
     "metadata": {},
     "output_type": "execute_result"
    }
   ],
   "source": [
    "#Extracting only the top 7 industries from the unfiltered data, to include construction values\n",
    "top7_orig = list(out_rent_inc.IND_CAT.value_counts()[:9].index)\n",
    "top7_orig.pop(6)\n",
    "top7_orig.pop(6)"
   ]
  },
  {
   "cell_type": "code",
   "execution_count": 12,
   "metadata": {},
   "outputs": [
    {
     "data": {
      "text/plain": [
       "['Scientific & Tech Services',\n",
       " 'Retail Trade',\n",
       " 'Educational Services',\n",
       " 'Health Care',\n",
       " 'Accom. & Food Services',\n",
       " 'Manufacturing',\n",
       " 'Construction']"
      ]
     },
     "execution_count": 12,
     "metadata": {},
     "output_type": "execute_result"
    }
   ],
   "source": [
    "top7_orig"
   ]
  },
  {
   "cell_type": "code",
   "execution_count": 13,
   "metadata": {},
   "outputs": [],
   "source": [
    "#Calculating annual out migration counts for top 7 industries\n",
    "ind = pd.DataFrame()\n",
    "\n",
    "for year in range(2006,2018):    \n",
    "    df = out_rent_inc[out_rent_inc.YEAR == year]\n",
    "    counts = {}\n",
    "    for industry in top7_orig:\n",
    "        count = df.PERWT[df.IND_CAT == industry].sum()\n",
    "        counts[industry] = count\n",
    "        \n",
    "    ind_df = pd.DataFrame.from_dict(counts, orient='index')\n",
    "    ind_df = ind_df.reset_index().rename({'index':'Industry', 0:'Count'}, axis=1)\n",
    "    ind_df['Year'] = np.full(len(ind_df), year)\n",
    "    \n",
    "    ind = pd.concat([ind, ind_df])"
   ]
  },
  {
   "cell_type": "code",
   "execution_count": 14,
   "metadata": {},
   "outputs": [
    {
     "data": {
      "text/html": [
       "<div>\n",
       "<style scoped>\n",
       "    .dataframe tbody tr th:only-of-type {\n",
       "        vertical-align: middle;\n",
       "    }\n",
       "\n",
       "    .dataframe tbody tr th {\n",
       "        vertical-align: top;\n",
       "    }\n",
       "\n",
       "    .dataframe thead th {\n",
       "        text-align: right;\n",
       "    }\n",
       "</style>\n",
       "<table border=\"1\" class=\"dataframe\">\n",
       "  <thead>\n",
       "    <tr style=\"text-align: right;\">\n",
       "      <th></th>\n",
       "      <th>Industry</th>\n",
       "      <th>Count</th>\n",
       "      <th>Year</th>\n",
       "    </tr>\n",
       "  </thead>\n",
       "  <tbody>\n",
       "    <tr>\n",
       "      <th>0</th>\n",
       "      <td>Scientific &amp; Tech Services</td>\n",
       "      <td>8084</td>\n",
       "      <td>2006</td>\n",
       "    </tr>\n",
       "    <tr>\n",
       "      <th>1</th>\n",
       "      <td>Retail Trade</td>\n",
       "      <td>10748</td>\n",
       "      <td>2006</td>\n",
       "    </tr>\n",
       "    <tr>\n",
       "      <th>2</th>\n",
       "      <td>Educational Services</td>\n",
       "      <td>4772</td>\n",
       "      <td>2006</td>\n",
       "    </tr>\n",
       "    <tr>\n",
       "      <th>3</th>\n",
       "      <td>Health Care</td>\n",
       "      <td>5748</td>\n",
       "      <td>2006</td>\n",
       "    </tr>\n",
       "    <tr>\n",
       "      <th>4</th>\n",
       "      <td>Accom. &amp; Food Services</td>\n",
       "      <td>9170</td>\n",
       "      <td>2006</td>\n",
       "    </tr>\n",
       "    <tr>\n",
       "      <th>5</th>\n",
       "      <td>Manufacturing</td>\n",
       "      <td>7600</td>\n",
       "      <td>2006</td>\n",
       "    </tr>\n",
       "    <tr>\n",
       "      <th>6</th>\n",
       "      <td>Construction</td>\n",
       "      <td>7317</td>\n",
       "      <td>2006</td>\n",
       "    </tr>\n",
       "    <tr>\n",
       "      <th>0</th>\n",
       "      <td>Scientific &amp; Tech Services</td>\n",
       "      <td>7088</td>\n",
       "      <td>2007</td>\n",
       "    </tr>\n",
       "    <tr>\n",
       "      <th>1</th>\n",
       "      <td>Retail Trade</td>\n",
       "      <td>9031</td>\n",
       "      <td>2007</td>\n",
       "    </tr>\n",
       "    <tr>\n",
       "      <th>2</th>\n",
       "      <td>Educational Services</td>\n",
       "      <td>3679</td>\n",
       "      <td>2007</td>\n",
       "    </tr>\n",
       "  </tbody>\n",
       "</table>\n",
       "</div>"
      ],
      "text/plain": [
       "                     Industry  Count  Year\n",
       "0  Scientific & Tech Services   8084  2006\n",
       "1                Retail Trade  10748  2006\n",
       "2        Educational Services   4772  2006\n",
       "3                 Health Care   5748  2006\n",
       "4      Accom. & Food Services   9170  2006\n",
       "5               Manufacturing   7600  2006\n",
       "6                Construction   7317  2006\n",
       "0  Scientific & Tech Services   7088  2007\n",
       "1                Retail Trade   9031  2007\n",
       "2        Educational Services   3679  2007"
      ]
     },
     "execution_count": 14,
     "metadata": {},
     "output_type": "execute_result"
    }
   ],
   "source": [
    "ind.head(10)"
   ]
  },
  {
   "cell_type": "code",
   "execution_count": 15,
   "metadata": {},
   "outputs": [
    {
     "data": {
      "application/vnd.vegalite.v2+json": {
       "$schema": "https://vega.github.io/schema/vega-lite/v2.6.0.json",
       "background": "white",
       "config": {
        "axis": {
         "labelAngle": 0
        },
        "legend": {
         "labelFontSize": 13,
         "symbolSize": 30,
         "symbolStrokeWidth": 5.5
        },
        "view": {
         "height": 300,
         "strokeWidth": 0,
         "width": 400
        }
       },
       "data": {
        "name": "data-11e76d90520a76522e14710cf0b74ab2"
       },
       "datasets": {
        "data-11e76d90520a76522e14710cf0b74ab2": [
         {
          "Count": 8084,
          "Industry": "Scientific & Tech Services",
          "Year": 2006
         },
         {
          "Count": 10748,
          "Industry": "Retail Trade",
          "Year": 2006
         },
         {
          "Count": 4772,
          "Industry": "Educational Services",
          "Year": 2006
         },
         {
          "Count": 5748,
          "Industry": "Health Care",
          "Year": 2006
         },
         {
          "Count": 9170,
          "Industry": "Accom. & Food Services",
          "Year": 2006
         },
         {
          "Count": 7600,
          "Industry": "Manufacturing",
          "Year": 2006
         },
         {
          "Count": 7317,
          "Industry": "Construction",
          "Year": 2006
         },
         {
          "Count": 7088,
          "Industry": "Scientific & Tech Services",
          "Year": 2007
         },
         {
          "Count": 9031,
          "Industry": "Retail Trade",
          "Year": 2007
         },
         {
          "Count": 3679,
          "Industry": "Educational Services",
          "Year": 2007
         },
         {
          "Count": 5467,
          "Industry": "Health Care",
          "Year": 2007
         },
         {
          "Count": 8030,
          "Industry": "Accom. & Food Services",
          "Year": 2007
         },
         {
          "Count": 6215,
          "Industry": "Manufacturing",
          "Year": 2007
         },
         {
          "Count": 8608,
          "Industry": "Construction",
          "Year": 2007
         },
         {
          "Count": 9266,
          "Industry": "Scientific & Tech Services",
          "Year": 2008
         },
         {
          "Count": 7246,
          "Industry": "Retail Trade",
          "Year": 2008
         },
         {
          "Count": 5834,
          "Industry": "Educational Services",
          "Year": 2008
         },
         {
          "Count": 6920,
          "Industry": "Health Care",
          "Year": 2008
         },
         {
          "Count": 6308,
          "Industry": "Accom. & Food Services",
          "Year": 2008
         },
         {
          "Count": 6108,
          "Industry": "Manufacturing",
          "Year": 2008
         },
         {
          "Count": 3910,
          "Industry": "Construction",
          "Year": 2008
         },
         {
          "Count": 6294,
          "Industry": "Scientific & Tech Services",
          "Year": 2009
         },
         {
          "Count": 7202,
          "Industry": "Retail Trade",
          "Year": 2009
         },
         {
          "Count": 5916,
          "Industry": "Educational Services",
          "Year": 2009
         },
         {
          "Count": 5479,
          "Industry": "Health Care",
          "Year": 2009
         },
         {
          "Count": 6095,
          "Industry": "Accom. & Food Services",
          "Year": 2009
         },
         {
          "Count": 4042,
          "Industry": "Manufacturing",
          "Year": 2009
         },
         {
          "Count": 2949,
          "Industry": "Construction",
          "Year": 2009
         },
         {
          "Count": 7755,
          "Industry": "Scientific & Tech Services",
          "Year": 2010
         },
         {
          "Count": 8382,
          "Industry": "Retail Trade",
          "Year": 2010
         },
         {
          "Count": 5089,
          "Industry": "Educational Services",
          "Year": 2010
         },
         {
          "Count": 5282,
          "Industry": "Health Care",
          "Year": 2010
         },
         {
          "Count": 5678,
          "Industry": "Accom. & Food Services",
          "Year": 2010
         },
         {
          "Count": 5828,
          "Industry": "Manufacturing",
          "Year": 2010
         },
         {
          "Count": 2673,
          "Industry": "Construction",
          "Year": 2010
         },
         {
          "Count": 6769,
          "Industry": "Scientific & Tech Services",
          "Year": 2011
         },
         {
          "Count": 9936,
          "Industry": "Retail Trade",
          "Year": 2011
         },
         {
          "Count": 5356,
          "Industry": "Educational Services",
          "Year": 2011
         },
         {
          "Count": 5944,
          "Industry": "Health Care",
          "Year": 2011
         },
         {
          "Count": 7432,
          "Industry": "Accom. & Food Services",
          "Year": 2011
         },
         {
          "Count": 3701,
          "Industry": "Manufacturing",
          "Year": 2011
         },
         {
          "Count": 2858,
          "Industry": "Construction",
          "Year": 2011
         },
         {
          "Count": 6392,
          "Industry": "Scientific & Tech Services",
          "Year": 2012
         },
         {
          "Count": 8158,
          "Industry": "Retail Trade",
          "Year": 2012
         },
         {
          "Count": 6751,
          "Industry": "Educational Services",
          "Year": 2012
         },
         {
          "Count": 8168,
          "Industry": "Health Care",
          "Year": 2012
         },
         {
          "Count": 4327,
          "Industry": "Accom. & Food Services",
          "Year": 2012
         },
         {
          "Count": 5644,
          "Industry": "Manufacturing",
          "Year": 2012
         },
         {
          "Count": 4880,
          "Industry": "Construction",
          "Year": 2012
         },
         {
          "Count": 8002,
          "Industry": "Scientific & Tech Services",
          "Year": 2013
         },
         {
          "Count": 7732,
          "Industry": "Retail Trade",
          "Year": 2013
         },
         {
          "Count": 5922,
          "Industry": "Educational Services",
          "Year": 2013
         },
         {
          "Count": 9608,
          "Industry": "Health Care",
          "Year": 2013
         },
         {
          "Count": 7138,
          "Industry": "Accom. & Food Services",
          "Year": 2013
         },
         {
          "Count": 5140,
          "Industry": "Manufacturing",
          "Year": 2013
         },
         {
          "Count": 2808,
          "Industry": "Construction",
          "Year": 2013
         },
         {
          "Count": 6877,
          "Industry": "Scientific & Tech Services",
          "Year": 2014
         },
         {
          "Count": 6898,
          "Industry": "Retail Trade",
          "Year": 2014
         },
         {
          "Count": 7767,
          "Industry": "Educational Services",
          "Year": 2014
         },
         {
          "Count": 6890,
          "Industry": "Health Care",
          "Year": 2014
         },
         {
          "Count": 8748,
          "Industry": "Accom. & Food Services",
          "Year": 2014
         },
         {
          "Count": 6804,
          "Industry": "Manufacturing",
          "Year": 2014
         },
         {
          "Count": 2396,
          "Industry": "Construction",
          "Year": 2014
         },
         {
          "Count": 8167,
          "Industry": "Scientific & Tech Services",
          "Year": 2015
         },
         {
          "Count": 7189,
          "Industry": "Retail Trade",
          "Year": 2015
         },
         {
          "Count": 7760,
          "Industry": "Educational Services",
          "Year": 2015
         },
         {
          "Count": 6044,
          "Industry": "Health Care",
          "Year": 2015
         },
         {
          "Count": 7970,
          "Industry": "Accom. & Food Services",
          "Year": 2015
         },
         {
          "Count": 3897,
          "Industry": "Manufacturing",
          "Year": 2015
         },
         {
          "Count": 3109,
          "Industry": "Construction",
          "Year": 2015
         },
         {
          "Count": 7805,
          "Industry": "Scientific & Tech Services",
          "Year": 2016
         },
         {
          "Count": 7602,
          "Industry": "Retail Trade",
          "Year": 2016
         },
         {
          "Count": 6249,
          "Industry": "Educational Services",
          "Year": 2016
         },
         {
          "Count": 6288,
          "Industry": "Health Care",
          "Year": 2016
         },
         {
          "Count": 8534,
          "Industry": "Accom. & Food Services",
          "Year": 2016
         },
         {
          "Count": 4199,
          "Industry": "Manufacturing",
          "Year": 2016
         },
         {
          "Count": 3414,
          "Industry": "Construction",
          "Year": 2016
         },
         {
          "Count": 8943,
          "Industry": "Scientific & Tech Services",
          "Year": 2017
         },
         {
          "Count": 8512,
          "Industry": "Retail Trade",
          "Year": 2017
         },
         {
          "Count": 6771,
          "Industry": "Educational Services",
          "Year": 2017
         },
         {
          "Count": 6878,
          "Industry": "Health Care",
          "Year": 2017
         },
         {
          "Count": 8211,
          "Industry": "Accom. & Food Services",
          "Year": 2017
         },
         {
          "Count": 6039,
          "Industry": "Manufacturing",
          "Year": 2017
         },
         {
          "Count": 5107,
          "Industry": "Construction",
          "Year": 2017
         }
        ]
       },
       "encoding": {
        "color": {
         "field": "Industry",
         "scale": {
          "domain": [
           "Retail Trade",
           "Scientific & Tech Services",
           "Health Care",
           "Accom. & Food Services",
           "Educational Services",
           "Manufacturing",
           "Construction"
          ],
          "range": [
           "#bc80bd",
           "#eeca3b",
           "#6baed6",
           "#66a61e",
           "#d6616b",
           "#08589e",
           "#fd8d3d"
          ]
         },
         "title": null,
         "type": "nominal"
        },
        "x": {
         "axis": {
          "grid": false
         },
         "field": "Year",
         "title": "Year",
         "type": "ordinal"
        },
        "y": {
         "field": "Count",
         "title": "Number of Out Migrators",
         "type": "quantitative"
        }
       },
       "mark": {
        "strokeCap": "round",
        "strokeWidth": 4,
        "type": "line"
       },
       "title": {
        "anchor": "middle",
        "offset": 30,
        "text": "LA Out Migration Counts - Top 7 Industries (No Family Income)"
       },
       "width": 500
      },
      "image/png": "[encoded data removed]",
      "text/plain": [
       "<VegaLite 2 object>\n",
       "\n",
       "If you see this message, it means the renderer has not been properly enabled\n",
       "for the frontend that you are using. For more information, see\n",
       "https://altair-viz.github.io/user_guide/troubleshooting.html\n"
      ]
     },
     "execution_count": 15,
     "metadata": {},
     "output_type": "execute_result"
    }
   ],
   "source": [
    "#Plotting top 7 via Altair\n",
    "title=alt.TitleParams(text='LA Out Migration Counts - Top 7 Industries (No Family Income)', offset=30, anchor='middle')\n",
    "\n",
    "top7 = alt.Chart(ind).configure_axis(labelAngle=0).mark_line(strokeWidth=4, strokeCap='round').encode(\n",
    "    x=alt.X('Year:O', \n",
    "            title='Year', \n",
    "            axis=alt.Axis(grid=False)), \n",
    "    y=alt.Y('Count', \n",
    "            title='Number of Out Migrators'), \n",
    "    color=alt.Color('Industry', \n",
    "                    title=None,\n",
    "                    scale=alt.Scale(range=['#bc80bd', '#eeca3b', '#6baed6', '#66a61e', '#d6616b', '#08589e', '#fd8d3d'], \n",
    "                                    domain=['Retail Trade', 'Scientific & Tech Services', 'Health Care', 'Accom. & Food Services', \n",
    "                                            'Educational Services', 'Manufacturing', 'Construction']),\n",
    ")).properties(width=500, \n",
    "              title=title,\n",
    "              background='white'\n",
    ").configure_legend(labelFontSize=13, \n",
    "                   symbolStrokeWidth=5.5, \n",
    "                   symbolSize=30\n",
    ").configure_view(strokeWidth=0)\n",
    "\n",
    "top7"
   ]
  },
  {
   "cell_type": "code",
   "execution_count": 16,
   "metadata": {},
   "outputs": [],
   "source": [
    "top7.save('top7_ind_out_no_fam.png', scale_factor=3)"
   ]
  }
 ],
 "metadata": {
  "kernelspec": {
   "display_name": "Python 3",
   "language": "python",
   "name": "python3"
  },
  "language_info": {
   "codemirror_mode": {
    "name": "ipython",
    "version": 3
   },
   "file_extension": ".py",
   "mimetype": "text/x-python",
   "name": "python",
   "nbconvert_exporter": "python",
   "pygments_lexer": "ipython3",
   "version": "3.6.2"
  }
 },
 "nbformat": 4,
 "nbformat_minor": 2
}
