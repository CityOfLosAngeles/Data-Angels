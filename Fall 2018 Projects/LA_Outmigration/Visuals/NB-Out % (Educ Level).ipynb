{
 "cells": [
  {
   "cell_type": "code",
   "execution_count": 1,
   "metadata": {},
   "outputs": [],
   "source": [
    "import pandas as pd\n",
    "import numpy as np\n",
    "import altair as alt"
   ]
  },
  {
   "cell_type": "code",
   "execution_count": 2,
   "metadata": {},
   "outputs": [],
   "source": [
    "residents = pd.read_csv('la_residents_data.csv')"
   ]
  },
  {
   "cell_type": "code",
   "execution_count": 3,
   "metadata": {},
   "outputs": [],
   "source": [
    "outmigrators = pd.read_csv('ipums_clean.csv')"
   ]
  },
  {
   "cell_type": "code",
   "execution_count": 4,
   "metadata": {},
   "outputs": [],
   "source": [
    "#Renaming & combining some labels from EDUC_DESC\n",
    "education = {\n",
    "0:'N/A or no schooling',\n",
    "1:'Less than high school',\n",
    "2:'Less than high school',\n",
    "3:'Some high school',\n",
    "4:'Some high school',\n",
    "5:'Some high school',\n",
    "6:'HS graduate',\n",
    "7:'Some college',\n",
    "8:'Some college',\n",
    "9:'Some college',\n",
    "10:\"College graduate\",\n",
    "11:'Graduate school'}"
   ]
  },
  {
   "cell_type": "code",
   "execution_count": 5,
   "metadata": {},
   "outputs": [],
   "source": [
    "#Applying combined education labels to residents & outmigrators dataframes\n",
    "residents['EDUC_DESC'] = residents.EDUC.map(education)\n",
    "outmigrators['EDUC_DESC'] = outmigrators.EDUC.map(education)"
   ]
  },
  {
   "cell_type": "markdown",
   "metadata": {},
   "source": [
    "---"
   ]
  },
  {
   "cell_type": "markdown",
   "metadata": {},
   "source": [
    "#### Resident & Out Migrator Education Breakdown:"
   ]
  },
  {
   "cell_type": "code",
   "execution_count": 6,
   "metadata": {},
   "outputs": [],
   "source": [
    "#Establishing one list of education levels to use for both resident & out migration data extraction\n",
    "education_levels = ['Graduate school',\n",
    "                    'College graduate', \n",
    "                    'Some college',\n",
    "                    'HS graduate',\n",
    "                    'Some high school',\n",
    "                    'Less than high school',\n",
    "                    'N/A or no schooling']"
   ]
  },
  {
   "cell_type": "markdown",
   "metadata": {},
   "source": [
    "(1) Residents:"
   ]
  },
  {
   "cell_type": "code",
   "execution_count": 7,
   "metadata": {},
   "outputs": [],
   "source": [
    "#Calculating annual resident counts for each education level\n",
    "res_educ = pd.DataFrame()\n",
    "for year in range(2006,2018):\n",
    "    df = residents[residents.YEAR == year]\n",
    "    counts = {}\n",
    "    \n",
    "    for level in education_levels:\n",
    "        count = df.PERWT[df.EDUC_DESC == level].sum()\n",
    "        counts[level] = count\n",
    "    \n",
    "    #Creating df from values stored in counts dict\n",
    "    educ_df = pd.DataFrame.from_dict(counts, orient='index')\n",
    "    educ_df = educ_df.reset_index().rename({'index':'Education Level', 0:'Resident Count'}, axis=1)\n",
    "    educ_df['Year'] = np.full(len(educ_df), year)\n",
    "    \n",
    "    res_educ = pd.concat([res_educ, educ_df])"
   ]
  },
  {
   "cell_type": "code",
   "execution_count": 8,
   "metadata": {},
   "outputs": [
    {
     "data": {
      "text/html": [
       "<div>\n",
       "<style scoped>\n",
       "    .dataframe tbody tr th:only-of-type {\n",
       "        vertical-align: middle;\n",
       "    }\n",
       "\n",
       "    .dataframe tbody tr th {\n",
       "        vertical-align: top;\n",
       "    }\n",
       "\n",
       "    .dataframe thead th {\n",
       "        text-align: right;\n",
       "    }\n",
       "</style>\n",
       "<table border=\"1\" class=\"dataframe\">\n",
       "  <thead>\n",
       "    <tr style=\"text-align: right;\">\n",
       "      <th></th>\n",
       "      <th>Education Level</th>\n",
       "      <th>Resident Count</th>\n",
       "      <th>Year</th>\n",
       "    </tr>\n",
       "  </thead>\n",
       "  <tbody>\n",
       "    <tr>\n",
       "      <th>0</th>\n",
       "      <td>Graduate school</td>\n",
       "      <td>822181</td>\n",
       "      <td>2006</td>\n",
       "    </tr>\n",
       "    <tr>\n",
       "      <th>1</th>\n",
       "      <td>College graduate</td>\n",
       "      <td>1687468</td>\n",
       "      <td>2006</td>\n",
       "    </tr>\n",
       "    <tr>\n",
       "      <th>2</th>\n",
       "      <td>Some college</td>\n",
       "      <td>2049409</td>\n",
       "      <td>2006</td>\n",
       "    </tr>\n",
       "    <tr>\n",
       "      <th>3</th>\n",
       "      <td>HS graduate</td>\n",
       "      <td>3116050</td>\n",
       "      <td>2006</td>\n",
       "    </tr>\n",
       "    <tr>\n",
       "      <th>4</th>\n",
       "      <td>Some high school</td>\n",
       "      <td>1223917</td>\n",
       "      <td>2006</td>\n",
       "    </tr>\n",
       "    <tr>\n",
       "      <th>5</th>\n",
       "      <td>Less than high school</td>\n",
       "      <td>2834265</td>\n",
       "      <td>2006</td>\n",
       "    </tr>\n",
       "    <tr>\n",
       "      <th>6</th>\n",
       "      <td>N/A or no schooling</td>\n",
       "      <td>1216904</td>\n",
       "      <td>2006</td>\n",
       "    </tr>\n",
       "  </tbody>\n",
       "</table>\n",
       "</div>"
      ],
      "text/plain": [
       "         Education Level  Resident Count  Year\n",
       "0        Graduate school          822181  2006\n",
       "1       College graduate         1687468  2006\n",
       "2           Some college         2049409  2006\n",
       "3            HS graduate         3116050  2006\n",
       "4       Some high school         1223917  2006\n",
       "5  Less than high school         2834265  2006\n",
       "6    N/A or no schooling         1216904  2006"
      ]
     },
     "execution_count": 8,
     "metadata": {},
     "output_type": "execute_result"
    }
   ],
   "source": [
    "res_educ.head(7)"
   ]
  },
  {
   "cell_type": "markdown",
   "metadata": {},
   "source": [
    "(2) Out Migrators:"
   ]
  },
  {
   "cell_type": "code",
   "execution_count": 9,
   "metadata": {},
   "outputs": [],
   "source": [
    "#Calculating annual out migrator counts for each education level\n",
    "out_educ = pd.DataFrame()\n",
    "for year in range(2006,2018):\n",
    "    df = outmigrators[outmigrators.YEAR == year]\n",
    "    counts = {}\n",
    "    \n",
    "    for level in education_levels:\n",
    "        count = df.PERWT[df.EDUC_DESC == level].sum()\n",
    "        counts[level] = count\n",
    "    \n",
    "    #Creating df from values stored in counts dict\n",
    "    educ_df = pd.DataFrame.from_dict(counts, orient='index')\n",
    "    educ_df = educ_df.reset_index().rename({'index':'Education Level', 0:'Out Migrator Count'}, axis=1)\n",
    "    educ_df['Year'] = np.full(len(educ_df), year)\n",
    "    \n",
    "    out_educ = pd.concat([out_educ, educ_df])"
   ]
  },
  {
   "cell_type": "code",
   "execution_count": 10,
   "metadata": {},
   "outputs": [
    {
     "data": {
      "text/html": [
       "<div>\n",
       "<style scoped>\n",
       "    .dataframe tbody tr th:only-of-type {\n",
       "        vertical-align: middle;\n",
       "    }\n",
       "\n",
       "    .dataframe tbody tr th {\n",
       "        vertical-align: top;\n",
       "    }\n",
       "\n",
       "    .dataframe thead th {\n",
       "        text-align: right;\n",
       "    }\n",
       "</style>\n",
       "<table border=\"1\" class=\"dataframe\">\n",
       "  <thead>\n",
       "    <tr style=\"text-align: right;\">\n",
       "      <th></th>\n",
       "      <th>Education Level</th>\n",
       "      <th>Out Migrator Count</th>\n",
       "      <th>Year</th>\n",
       "    </tr>\n",
       "  </thead>\n",
       "  <tbody>\n",
       "    <tr>\n",
       "      <th>0</th>\n",
       "      <td>Graduate school</td>\n",
       "      <td>33872</td>\n",
       "      <td>2006</td>\n",
       "    </tr>\n",
       "    <tr>\n",
       "      <th>1</th>\n",
       "      <td>College graduate</td>\n",
       "      <td>63256</td>\n",
       "      <td>2006</td>\n",
       "    </tr>\n",
       "    <tr>\n",
       "      <th>2</th>\n",
       "      <td>Some college</td>\n",
       "      <td>80117</td>\n",
       "      <td>2006</td>\n",
       "    </tr>\n",
       "    <tr>\n",
       "      <th>3</th>\n",
       "      <td>HS graduate</td>\n",
       "      <td>129532</td>\n",
       "      <td>2006</td>\n",
       "    </tr>\n",
       "    <tr>\n",
       "      <th>4</th>\n",
       "      <td>Some high school</td>\n",
       "      <td>44299</td>\n",
       "      <td>2006</td>\n",
       "    </tr>\n",
       "  </tbody>\n",
       "</table>\n",
       "</div>"
      ],
      "text/plain": [
       "    Education Level  Out Migrator Count  Year\n",
       "0   Graduate school               33872  2006\n",
       "1  College graduate               63256  2006\n",
       "2      Some college               80117  2006\n",
       "3       HS graduate              129532  2006\n",
       "4  Some high school               44299  2006"
      ]
     },
     "execution_count": 10,
     "metadata": {},
     "output_type": "execute_result"
    }
   ],
   "source": [
    "out_educ.head()"
   ]
  },
  {
   "cell_type": "markdown",
   "metadata": {},
   "source": [
    "#### Out Migration % From Each Education Level:"
   ]
  },
  {
   "cell_type": "code",
   "execution_count": 11,
   "metadata": {},
   "outputs": [],
   "source": [
    "combined = out_educ.copy()\n",
    "combined['Resident Count'] = res_educ['Resident Count']\n",
    "combined['Out Migrator %'] = combined['Out Migrator Count'] / (combined['Out Migrator Count'] + combined['Resident Count'])"
   ]
  },
  {
   "cell_type": "code",
   "execution_count": 12,
   "metadata": {},
   "outputs": [
    {
     "data": {
      "text/html": [
       "<div>\n",
       "<style scoped>\n",
       "    .dataframe tbody tr th:only-of-type {\n",
       "        vertical-align: middle;\n",
       "    }\n",
       "\n",
       "    .dataframe tbody tr th {\n",
       "        vertical-align: top;\n",
       "    }\n",
       "\n",
       "    .dataframe thead th {\n",
       "        text-align: right;\n",
       "    }\n",
       "</style>\n",
       "<table border=\"1\" class=\"dataframe\">\n",
       "  <thead>\n",
       "    <tr style=\"text-align: right;\">\n",
       "      <th></th>\n",
       "      <th>Education Level</th>\n",
       "      <th>Out Migrator Count</th>\n",
       "      <th>Year</th>\n",
       "      <th>Resident Count</th>\n",
       "      <th>Out Migrator %</th>\n",
       "    </tr>\n",
       "  </thead>\n",
       "  <tbody>\n",
       "    <tr>\n",
       "      <th>0</th>\n",
       "      <td>Graduate school</td>\n",
       "      <td>33872</td>\n",
       "      <td>2006</td>\n",
       "      <td>822181</td>\n",
       "      <td>0.039568</td>\n",
       "    </tr>\n",
       "    <tr>\n",
       "      <th>1</th>\n",
       "      <td>College graduate</td>\n",
       "      <td>63256</td>\n",
       "      <td>2006</td>\n",
       "      <td>1687468</td>\n",
       "      <td>0.036131</td>\n",
       "    </tr>\n",
       "    <tr>\n",
       "      <th>2</th>\n",
       "      <td>Some college</td>\n",
       "      <td>80117</td>\n",
       "      <td>2006</td>\n",
       "      <td>2049409</td>\n",
       "      <td>0.037622</td>\n",
       "    </tr>\n",
       "    <tr>\n",
       "      <th>3</th>\n",
       "      <td>HS graduate</td>\n",
       "      <td>129532</td>\n",
       "      <td>2006</td>\n",
       "      <td>3116050</td>\n",
       "      <td>0.039910</td>\n",
       "    </tr>\n",
       "    <tr>\n",
       "      <th>4</th>\n",
       "      <td>Some high school</td>\n",
       "      <td>44299</td>\n",
       "      <td>2006</td>\n",
       "      <td>1223917</td>\n",
       "      <td>0.034930</td>\n",
       "    </tr>\n",
       "    <tr>\n",
       "      <th>5</th>\n",
       "      <td>Less than high school</td>\n",
       "      <td>84334</td>\n",
       "      <td>2006</td>\n",
       "      <td>2834265</td>\n",
       "      <td>0.028895</td>\n",
       "    </tr>\n",
       "    <tr>\n",
       "      <th>6</th>\n",
       "      <td>N/A or no schooling</td>\n",
       "      <td>44514</td>\n",
       "      <td>2006</td>\n",
       "      <td>1216904</td>\n",
       "      <td>0.035289</td>\n",
       "    </tr>\n",
       "  </tbody>\n",
       "</table>\n",
       "</div>"
      ],
      "text/plain": [
       "         Education Level  Out Migrator Count  Year  Resident Count  \\\n",
       "0        Graduate school               33872  2006          822181   \n",
       "1       College graduate               63256  2006         1687468   \n",
       "2           Some college               80117  2006         2049409   \n",
       "3            HS graduate              129532  2006         3116050   \n",
       "4       Some high school               44299  2006         1223917   \n",
       "5  Less than high school               84334  2006         2834265   \n",
       "6    N/A or no schooling               44514  2006         1216904   \n",
       "\n",
       "   Out Migrator %  \n",
       "0        0.039568  \n",
       "1        0.036131  \n",
       "2        0.037622  \n",
       "3        0.039910  \n",
       "4        0.034930  \n",
       "5        0.028895  \n",
       "6        0.035289  "
      ]
     },
     "execution_count": 12,
     "metadata": {},
     "output_type": "execute_result"
    }
   ],
   "source": [
    "combined.head(7)"
   ]
  },
  {
   "cell_type": "code",
   "execution_count": 13,
   "metadata": {},
   "outputs": [
    {
     "data": {
      "application/vnd.vegalite.v2+json": {
       "$schema": "https://vega.github.io/schema/vega-lite/v2.6.0.json",
       "background": "white",
       "config": {
        "axis": {
         "labelAngle": 0
        },
        "legend": {
         "labelFontSize": 13,
         "symbolSize": 30,
         "symbolStrokeWidth": 5.5
        },
        "view": {
         "height": 300,
         "strokeWidth": 0,
         "width": 400
        }
       },
       "data": {
        "name": "data-48149d52a6875acd5929b87dcd52bc39"
       },
       "datasets": {
        "data-48149d52a6875acd5929b87dcd52bc39": [
         {
          "Education Level": "Graduate school",
          "Out Migrator %": 0.039567643592160764,
          "Out Migrator Count": 33872,
          "Resident Count": 822181,
          "Year": 2006
         },
         {
          "Education Level": "College graduate",
          "Out Migrator %": 0.03613133766373226,
          "Out Migrator Count": 63256,
          "Resident Count": 1687468,
          "Year": 2006
         },
         {
          "Education Level": "Some college",
          "Out Migrator %": 0.03762198724035302,
          "Out Migrator Count": 80117,
          "Resident Count": 2049409,
          "Year": 2006
         },
         {
          "Education Level": "HS graduate",
          "Out Migrator %": 0.03991025338444692,
          "Out Migrator Count": 129532,
          "Resident Count": 3116050,
          "Year": 2006
         },
         {
          "Education Level": "Some high school",
          "Out Migrator %": 0.034930169624101885,
          "Out Migrator Count": 44299,
          "Resident Count": 1223917,
          "Year": 2006
         },
         {
          "Education Level": "Less than high school",
          "Out Migrator %": 0.028895370689841257,
          "Out Migrator Count": 84334,
          "Resident Count": 2834265,
          "Year": 2006
         },
         {
          "Education Level": "N/A or no schooling",
          "Out Migrator %": 0.035288857460413596,
          "Out Migrator Count": 44514,
          "Resident Count": 1216904,
          "Year": 2006
         },
         {
          "Education Level": "Graduate school",
          "Out Migrator %": 0.030622577082258236,
          "Out Migrator Count": 26644,
          "Resident Count": 843433,
          "Year": 2007
         },
         {
          "Education Level": "College graduate",
          "Out Migrator %": 0.031342400617075425,
          "Out Migrator Count": 56318,
          "Resident Count": 1740545,
          "Year": 2007
         },
         {
          "Education Level": "Some college",
          "Out Migrator %": 0.037696953462334266,
          "Out Migrator Count": 79089,
          "Resident Count": 2018932,
          "Year": 2007
         },
         {
          "Education Level": "HS graduate",
          "Out Migrator %": 0.03871848434068667,
          "Out Migrator Count": 126502,
          "Resident Count": 3140723,
          "Year": 2007
         },
         {
          "Education Level": "Some high school",
          "Out Migrator %": 0.030537148417116872,
          "Out Migrator Count": 38917,
          "Resident Count": 1235498,
          "Year": 2007
         },
         {
          "Education Level": "Less than high school",
          "Out Migrator %": 0.022179309532589606,
          "Out Migrator Count": 61769,
          "Resident Count": 2723214,
          "Year": 2007
         },
         {
          "Education Level": "N/A or no schooling",
          "Out Migrator %": 0.031044579477904254,
          "Out Migrator Count": 37607,
          "Resident Count": 1173780,
          "Year": 2007
         },
         {
          "Education Level": "Graduate school",
          "Out Migrator %": 0.03138634172154931,
          "Out Migrator Count": 28351,
          "Resident Count": 874940,
          "Year": 2008
         },
         {
          "Education Level": "College graduate",
          "Out Migrator %": 0.030919523689199157,
          "Out Migrator Count": 54575,
          "Resident Count": 1710491,
          "Year": 2008
         },
         {
          "Education Level": "Some college",
          "Out Migrator %": 0.02699879553971991,
          "Out Migrator Count": 64333,
          "Resident Count": 2318477,
          "Year": 2008
         },
         {
          "Education Level": "HS graduate",
          "Out Migrator %": 0.029314273482075884,
          "Out Migrator Count": 84767,
          "Resident Count": 2806896,
          "Year": 2008
         },
         {
          "Education Level": "Some high school",
          "Out Migrator %": 0.023033645637983782,
          "Out Migrator Count": 30153,
          "Resident Count": 1278932,
          "Year": 2008
         },
         {
          "Education Level": "Less than high school",
          "Out Migrator %": 0.01582743957647687,
          "Out Migrator Count": 43999,
          "Resident Count": 2735920,
          "Year": 2008
         },
         {
          "Education Level": "N/A or no schooling",
          "Out Migrator %": 0.019406645996629626,
          "Out Migrator Count": 22652,
          "Resident Count": 1144577,
          "Year": 2008
         },
         {
          "Education Level": "Graduate school",
          "Out Migrator %": 0.026683014469147625,
          "Out Migrator Count": 23852,
          "Resident Count": 870050,
          "Year": 2009
         },
         {
          "Education Level": "College graduate",
          "Out Migrator %": 0.026803536724037777,
          "Out Migrator Count": 48864,
          "Resident Count": 1774179,
          "Year": 2009
         },
         {
          "Education Level": "Some college",
          "Out Migrator %": 0.028975806990715502,
          "Out Migrator Count": 69786,
          "Resident Count": 2338637,
          "Year": 2009
         },
         {
          "Education Level": "HS graduate",
          "Out Migrator %": 0.03231328359695781,
          "Out Migrator Count": 95366,
          "Resident Count": 2855928,
          "Year": 2009
         },
         {
          "Education Level": "Some high school",
          "Out Migrator %": 0.022402562334687102,
          "Out Migrator Count": 27586,
          "Resident Count": 1203791,
          "Year": 2009
         },
         {
          "Education Level": "Less than high school",
          "Out Migrator %": 0.01753522127055764,
          "Out Migrator Count": 47899,
          "Resident Count": 2683689,
          "Year": 2009
         },
         {
          "Education Level": "N/A or no schooling",
          "Out Migrator %": 0.021278246053372904,
          "Out Migrator Count": 24964,
          "Resident Count": 1148253,
          "Year": 2009
         },
         {
          "Education Level": "Graduate school",
          "Out Migrator %": 0.02780177102472585,
          "Out Migrator Count": 25814,
          "Resident Count": 902688,
          "Year": 2010
         },
         {
          "Education Level": "College graduate",
          "Out Migrator %": 0.03192963227009,
          "Out Migrator Count": 59253,
          "Resident Count": 1796484,
          "Year": 2010
         },
         {
          "Education Level": "Some college",
          "Out Migrator %": 0.029863319064826272,
          "Out Migrator Count": 73065,
          "Resident Count": 2373582,
          "Year": 2010
         },
         {
          "Education Level": "HS graduate",
          "Out Migrator %": 0.03215331757083877,
          "Out Migrator Count": 94772,
          "Resident Count": 2852731,
          "Year": 2010
         },
         {
          "Education Level": "Some high school",
          "Out Migrator %": 0.021013241451794736,
          "Out Migrator Count": 26151,
          "Resident Count": 1218350,
          "Year": 2010
         },
         {
          "Education Level": "Less than high school",
          "Out Migrator %": 0.01731441115542776,
          "Out Migrator Count": 46480,
          "Resident Count": 2637989,
          "Year": 2010
         },
         {
          "Education Level": "N/A or no schooling",
          "Out Migrator %": 0.021718141402868586,
          "Out Migrator Count": 23664,
          "Resident Count": 1065932,
          "Year": 2010
         },
         {
          "Education Level": "Graduate school",
          "Out Migrator %": 0.027841285802978604,
          "Out Migrator Count": 26413,
          "Resident Count": 922286,
          "Year": 2011
         },
         {
          "Education Level": "College graduate",
          "Out Migrator %": 0.029841828027533483,
          "Out Migrator Count": 56585,
          "Resident Count": 1839579,
          "Year": 2011
         },
         {
          "Education Level": "Some college",
          "Out Migrator %": 0.026944358872742036,
          "Out Migrator Count": 66561,
          "Resident Count": 2403752,
          "Year": 2011
         },
         {
          "Education Level": "HS graduate",
          "Out Migrator %": 0.028153766472309435,
          "Out Migrator Count": 84364,
          "Resident Count": 2912180,
          "Year": 2011
         },
         {
          "Education Level": "Some high school",
          "Out Migrator %": 0.01886155780423012,
          "Out Migrator Count": 23253,
          "Resident Count": 1209572,
          "Year": 2011
         },
         {
          "Education Level": "Less than high school",
          "Out Migrator %": 0.015135844605024193,
          "Out Migrator Count": 39762,
          "Resident Count": 2587247,
          "Year": 2011
         },
         {
          "Education Level": "N/A or no schooling",
          "Out Migrator %": 0.021843119225885547,
          "Out Migrator Count": 23946,
          "Resident Count": 1072326,
          "Year": 2011
         },
         {
          "Education Level": "Graduate school",
          "Out Migrator %": 0.027971423750246506,
          "Out Migrator Count": 27517,
          "Resident Count": 956237,
          "Year": 2012
         },
         {
          "Education Level": "College graduate",
          "Out Migrator %": 0.025656043797782118,
          "Out Migrator Count": 50593,
          "Resident Count": 1921379,
          "Year": 2012
         },
         {
          "Education Level": "Some college",
          "Out Migrator %": 0.02356144710927329,
          "Out Migrator Count": 59851,
          "Resident Count": 2480358,
          "Year": 2012
         },
         {
          "Education Level": "HS graduate",
          "Out Migrator %": 0.025796768652068786,
          "Out Migrator Count": 76796,
          "Resident Count": 2900166,
          "Year": 2012
         },
         {
          "Education Level": "Some high school",
          "Out Migrator %": 0.01749563113321683,
          "Out Migrator Count": 20824,
          "Resident Count": 1169416,
          "Year": 2012
         },
         {
          "Education Level": "Less than high school",
          "Out Migrator %": 0.0156995080494693,
          "Out Migrator Count": 40759,
          "Resident Count": 2555437,
          "Year": 2012
         },
         {
          "Education Level": "N/A or no schooling",
          "Out Migrator %": 0.018826069976337612,
          "Out Migrator Count": 20487,
          "Resident Count": 1067738,
          "Year": 2012
         },
         {
          "Education Level": "Graduate school",
          "Out Migrator %": 0.027699192119410156,
          "Out Migrator Count": 27669,
          "Resident Count": 971241,
          "Year": 2013
         },
         {
          "Education Level": "College graduate",
          "Out Migrator %": 0.0304957561021867,
          "Out Migrator Count": 60781,
          "Resident Count": 1932316,
          "Year": 2013
         },
         {
          "Education Level": "Some college",
          "Out Migrator %": 0.026414396458604997,
          "Out Migrator Count": 67272,
          "Resident Count": 2479521,
          "Year": 2013
         },
         {
          "Education Level": "HS graduate",
          "Out Migrator %": 0.027720925734240873,
          "Out Migrator Count": 84842,
          "Resident Count": 2975734,
          "Year": 2013
         },
         {
          "Education Level": "Some high school",
          "Out Migrator %": 0.020843475595463477,
          "Out Migrator Count": 24276,
          "Resident Count": 1140405,
          "Year": 2013
         },
         {
          "Education Level": "Less than high school",
          "Out Migrator %": 0.014755187259149895,
          "Out Migrator Count": 38297,
          "Resident Count": 2557197,
          "Year": 2013
         },
         {
          "Education Level": "N/A or no schooling",
          "Out Migrator %": 0.018061121237913286,
          "Out Migrator Count": 19777,
          "Resident Count": 1075227,
          "Year": 2013
         },
         {
          "Education Level": "Graduate school",
          "Out Migrator %": 0.03273649220541389,
          "Out Migrator Count": 34036,
          "Resident Count": 1005660,
          "Year": 2014
         },
         {
          "Education Level": "College graduate",
          "Out Migrator %": 0.03143814922354725,
          "Out Migrator Count": 64607,
          "Resident Count": 1990444,
          "Year": 2014
         },
         {
          "Education Level": "Some college",
          "Out Migrator %": 0.029512046738448167,
          "Out Migrator Count": 76403,
          "Resident Count": 2512472,
          "Year": 2014
         },
         {
          "Education Level": "HS graduate",
          "Out Migrator %": 0.029496329490826863,
          "Out Migrator Count": 91663,
          "Resident Count": 3015944,
          "Year": 2014
         },
         {
          "Education Level": "Some high school",
          "Out Migrator %": 0.01826703672775197,
          "Out Migrator Count": 20278,
          "Resident Count": 1089809,
          "Year": 2014
         },
         {
          "Education Level": "Less than high school",
          "Out Migrator %": 0.01685022303015785,
          "Out Migrator Count": 43612,
          "Resident Count": 2544603,
          "Year": 2014
         },
         {
          "Education Level": "N/A or no schooling",
          "Out Migrator %": 0.022090225910476127,
          "Out Migrator Count": 24921,
          "Resident Count": 1103225,
          "Year": 2014
         },
         {
          "Education Level": "Graduate school",
          "Out Migrator %": 0.03162574807842207,
          "Out Migrator Count": 34122,
          "Resident Count": 1044809,
          "Year": 2015
         },
         {
          "Education Level": "College graduate",
          "Out Migrator %": 0.029203542342147438,
          "Out Migrator Count": 61554,
          "Resident Count": 2046204,
          "Year": 2015
         },
         {
          "Education Level": "Some college",
          "Out Migrator %": 0.030272099964991372,
          "Out Migrator Count": 78861,
          "Resident Count": 2526211,
          "Year": 2015
         },
         {
          "Education Level": "HS graduate",
          "Out Migrator %": 0.03106243524017043,
          "Out Migrator Count": 97580,
          "Resident Count": 3043835,
          "Year": 2015
         },
         {
          "Education Level": "Some high school",
          "Out Migrator %": 0.02074270706942259,
          "Out Migrator Count": 23489,
          "Resident Count": 1108909,
          "Year": 2015
         },
         {
          "Education Level": "Less than high school",
          "Out Migrator %": 0.014012457463533063,
          "Out Migrator Count": 35207,
          "Resident Count": 2477343,
          "Year": 2015
         },
         {
          "Education Level": "N/A or no schooling",
          "Out Migrator %": 0.021094824333482948,
          "Out Migrator Count": 23593,
          "Resident Count": 1094833,
          "Year": 2015
         },
         {
          "Education Level": "Graduate school",
          "Out Migrator %": 0.03155599592825859,
          "Out Migrator Count": 34937,
          "Resident Count": 1072206,
          "Year": 2016
         },
         {
          "Education Level": "College graduate",
          "Out Migrator %": 0.03157521237487012,
          "Out Migrator Count": 68343,
          "Resident Count": 2096108,
          "Year": 2016
         },
         {
          "Education Level": "Some college",
          "Out Migrator %": 0.030593852131061854,
          "Out Migrator Count": 79485,
          "Resident Count": 2518586,
          "Year": 2016
         },
         {
          "Education Level": "HS graduate",
          "Out Migrator %": 0.02997488003606969,
          "Out Migrator Count": 93075,
          "Resident Count": 3012025,
          "Year": 2016
         },
         {
          "Education Level": "Some high school",
          "Out Migrator %": 0.019075431496446714,
          "Out Migrator Count": 20824,
          "Resident Count": 1070842,
          "Year": 2016
         },
         {
          "Education Level": "Less than high school",
          "Out Migrator %": 0.019272820303235575,
          "Out Migrator Count": 47912,
          "Resident Count": 2438076,
          "Year": 2016
         },
         {
          "Education Level": "N/A or no schooling",
          "Out Migrator %": 0.02120421515168965,
          "Out Migrator Count": 23935,
          "Resident Count": 1104850,
          "Year": 2016
         },
         {
          "Education Level": "Graduate school",
          "Out Migrator %": 0.03425515555969998,
          "Out Migrator Count": 38939,
          "Resident Count": 1097795,
          "Year": 2017
         },
         {
          "Education Level": "College graduate",
          "Out Migrator %": 0.030401025720420003,
          "Out Migrator Count": 68335,
          "Resident Count": 2179451,
          "Year": 2017
         },
         {
          "Education Level": "Some college",
          "Out Migrator %": 0.028030175710252753,
          "Out Migrator Count": 74219,
          "Resident Count": 2573606,
          "Year": 2017
         },
         {
          "Education Level": "HS graduate",
          "Out Migrator %": 0.031207200626642895,
          "Out Migrator Count": 97410,
          "Resident Count": 3023985,
          "Year": 2017
         },
         {
          "Education Level": "Some high school",
          "Out Migrator %": 0.018745094950236258,
          "Out Migrator Count": 19514,
          "Resident Count": 1021505,
          "Year": 2017
         },
         {
          "Education Level": "Less than high school",
          "Out Migrator %": 0.017422410884965704,
          "Out Migrator Count": 42143,
          "Resident Count": 2376753,
          "Year": 2017
         },
         {
          "Education Level": "N/A or no schooling",
          "Out Migrator %": 0.02018202145350152,
          "Out Migrator Count": 22222,
          "Resident Count": 1078857,
          "Year": 2017
         }
        ]
       },
       "encoding": {
        "color": {
         "field": "Education Level",
         "scale": {
          "domain": [
           "HS graduate",
           "College graduate",
           "Graduate school",
           "Some college",
           "N/A or no schooling",
           "Some high school",
           "Less than high school"
          ],
          "range": [
           "#08589e",
           "#6baed6",
           "#d6616b",
           "#bc80bd",
           "#eeca3b",
           "#fd8d3d",
           "#66a61e"
          ]
         },
         "title": null,
         "type": "nominal"
        },
        "x": {
         "axis": {
          "grid": false,
          "labelFlush": false
         },
         "field": "Year",
         "title": "Year",
         "type": "ordinal"
        },
        "y": {
         "axis": {
          "format": "%"
         },
         "field": "Out Migrator %",
         "scale": {
          "domain": [
           0,
           0.045
          ]
         },
         "title": "Percentage of Out Migrators",
         "type": "quantitative"
        }
       },
       "mark": {
        "strokeCap": "round",
        "strokeWidth": 4,
        "type": "line"
       },
       "title": {
        "anchor": "middle",
        "offset": 30,
        "text": "LA Out Migration % From Each Education Level"
       },
       "width": 500
      },
      "image/png": "[encoded data removed]",
      "text/plain": [
       "<VegaLite 2 object>\n",
       "\n",
       "If you see this message, it means the renderer has not been properly enabled\n",
       "for the frontend that you are using. For more information, see\n",
       "https://altair-viz.github.io/user_guide/troubleshooting.html\n"
      ]
     },
     "execution_count": 13,
     "metadata": {},
     "output_type": "execute_result"
    }
   ],
   "source": [
    "#Plotting via Altair\n",
    "title=alt.TitleParams(text='LA Out Migration % From Each Education Level', anchor='middle', offset=30)\n",
    "education = alt.Chart(combined).configure_axis(labelAngle=0).mark_line(strokeWidth=4, strokeCap='round').encode(\n",
    "    x=alt.X('Year:O', \n",
    "            title='Year', \n",
    "            axis=alt.Axis(labelFlush=False, grid=False)), \n",
    "    y=alt.Y('Out Migrator %', \n",
    "            title='Percentage of Out Migrators',\n",
    "            axis=alt.Axis(format='%'),\n",
    "            scale=alt.Scale(domain=(0,.045))), \n",
    "    color=alt.Color('Education Level', \n",
    "                    title=None, \n",
    "                    scale=alt.Scale(domain=['HS graduate', 'College graduate', 'Graduate school', 'Some college', 'N/A or no schooling', \n",
    "                                            'Some high school', 'Less than high school'],\n",
    "                                    range=['#08589e', '#6baed6', '#d6616b', '#bc80bd', '#eeca3b', '#fd8d3d', '#66a61e']))\n",
    ").properties(width=500, title=title, background='white'\n",
    ").configure_legend(labelFontSize=13, \n",
    "                   symbolStrokeWidth=5.5, \n",
    "                   symbolSize=30\n",
    ").configure_view(strokeWidth=0)\n",
    "\n",
    "education"
   ]
  },
  {
   "cell_type": "code",
   "execution_count": 14,
   "metadata": {},
   "outputs": [],
   "source": [
    "education.save('educ_outmigration_percentage.png', scale_factor=3)"
   ]
  }
 ],
 "metadata": {
  "kernelspec": {
   "display_name": "Python 3",
   "language": "python",
   "name": "python3"
  },
  "language_info": {
   "codemirror_mode": {
    "name": "ipython",
    "version": 3
   },
   "file_extension": ".py",
   "mimetype": "text/x-python",
   "name": "python",
   "nbconvert_exporter": "python",
   "pygments_lexer": "ipython3",
   "version": "3.6.2"
  }
 },
 "nbformat": 4,
 "nbformat_minor": 2
}
