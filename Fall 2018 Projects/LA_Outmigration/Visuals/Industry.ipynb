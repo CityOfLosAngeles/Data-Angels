{
 "cells": [
  {
   "cell_type": "markdown",
   "metadata": {},
   "source": [
    "### Analyzing Industries of LA Out Migrators\n",
    "*Contains plots of out migrator counts for top 7 & top 3 industries, as well as focus on health care & construction"
   ]
  },
  {
   "cell_type": "code",
   "execution_count": 1,
   "metadata": {},
   "outputs": [],
   "source": [
    "import pandas as pd\n",
    "import numpy as np\n",
    "import altair as alt"
   ]
  },
  {
   "cell_type": "code",
   "execution_count": 2,
   "metadata": {},
   "outputs": [],
   "source": [
    "file = pd.read_csv('ipums_clean.csv')"
   ]
  },
  {
   "cell_type": "code",
   "execution_count": 3,
   "metadata": {},
   "outputs": [],
   "source": [
    "#Removing rows with NA's\n",
    "file = file[file.IND_CAT.str.contains('N/A') == False]"
   ]
  },
  {
   "cell_type": "code",
   "execution_count": 4,
   "metadata": {},
   "outputs": [
    {
     "data": {
      "text/plain": [
       "Retail Trade                                                3021\n",
       "Health Care and Social Assistance                           2434\n",
       "Educational Services                                        2423\n",
       "Professional, Scientific, and Technical Services            2226\n",
       "Accommodation and Food Services                             2218\n",
       "Manufacturing                                               1985\n",
       "Construction                                                1498\n",
       "Other Services, Except Public Administration                1304\n",
       "Administrative and support and waste management services    1283\n",
       "Finance and Insurance                                       1127\n",
       "Arts, Entertainment, and Recreation                          941\n",
       "Transportation and Warehousing                               895\n",
       "Information                                                  870\n",
       "Public Administration                                        812\n",
       "Active Duty Military                                         796\n",
       "Wholesale Trade                                              573\n",
       "Real Estate and Rental and Leasing                           515\n",
       "Agriculture, Forestry, Fishing, and Hunting                  199\n",
       "Utilities                                                    124\n",
       "Mining, Quarrying, and Oil and Gas Extraction                 40\n",
       "Management of companies and enterprises                       25\n",
       "Name: IND_CAT, dtype: int64"
      ]
     },
     "execution_count": 4,
     "metadata": {},
     "output_type": "execute_result"
    }
   ],
   "source": [
    "file.IND_CAT.value_counts()"
   ]
  },
  {
   "cell_type": "code",
   "execution_count": 5,
   "metadata": {},
   "outputs": [],
   "source": [
    "#Shortening description of some top 7 industries\n",
    "file = file.replace({'Accommodation and Food Services':'Accom. & Food Services', \n",
    "                     'Professional, Scientific, and Technical Services':'Scientific & Tech Services', \n",
    "                     'Health Care and Social Assistance':'Health Care'})"
   ]
  },
  {
   "cell_type": "markdown",
   "metadata": {},
   "source": [
    "-----"
   ]
  },
  {
   "cell_type": "markdown",
   "metadata": {},
   "source": [
    "### Top 7 Industries"
   ]
  },
  {
   "cell_type": "code",
   "execution_count": 6,
   "metadata": {},
   "outputs": [],
   "source": [
    "#Calculating annual out migration counts for top 7 industries\n",
    "ind = {}\n",
    "for year in range(2006,2018):\n",
    "    df = file[file.YEAR == year]\n",
    "    top7 = file.IND_CAT.value_counts()[:7].index\n",
    "    counts = {}\n",
    "    for category in top7:\n",
    "        count = df.PERWT[df.IND_CAT == category].sum()\n",
    "        counts[category] = count\n",
    "    ind[year] = counts"
   ]
  },
  {
   "cell_type": "code",
   "execution_count": 7,
   "metadata": {},
   "outputs": [],
   "source": [
    "#Creating data frame for altair plot\n",
    "top_7 = pd.DataFrame()\n",
    "for year in ind:\n",
    "    df = pd.DataFrame.from_dict(ind[year], orient='index')\n",
    "    df = df.reset_index()\n",
    "    yr = np.full(len(df), str(year))\n",
    "    df['Year'] = pd.to_datetime(yr)\n",
    "    top_7 = pd.concat([top_7, df], sort=True)\n",
    "top_7 = top_7.reset_index(drop=True)\n",
    "top_7 = top_7.rename({'index':'Industry', 0:'Count'}, axis=1)"
   ]
  },
  {
   "cell_type": "code",
   "execution_count": 8,
   "metadata": {},
   "outputs": [
    {
     "data": {
      "application/vnd.vegalite.v2+json": {
       "$schema": "https://vega.github.io/schema/vega-lite/v2.6.0.json",
       "config": {
        "legend": {
         "labelFontSize": 13,
         "symbolSize": 30,
         "symbolStrokeWidth": 5.5
        },
        "view": {
         "height": 300,
         "strokeWidth": 0,
         "width": 400
        }
       },
       "data": {
        "name": "data-378a3e15a4799b5a3e2fc63e1645cea9"
       },
       "datasets": {
        "data-378a3e15a4799b5a3e2fc63e1645cea9": [
         {
          "Count": 41333,
          "Industry": "Retail Trade",
          "Year": "2006-01-01T00:00:00"
         },
         {
          "Count": 29059,
          "Industry": "Health Care",
          "Year": "2006-01-01T00:00:00"
         },
         {
          "Count": 19038,
          "Industry": "Educational Services",
          "Year": "2006-01-01T00:00:00"
         },
         {
          "Count": 22900,
          "Industry": "Scientific & Tech Services",
          "Year": "2006-01-01T00:00:00"
         },
         {
          "Count": 26302,
          "Industry": "Accom. & Food Services",
          "Year": "2006-01-01T00:00:00"
         },
         {
          "Count": 30765,
          "Industry": "Manufacturing",
          "Year": "2006-01-01T00:00:00"
         },
         {
          "Count": 28360,
          "Industry": "Construction",
          "Year": "2006-01-01T00:00:00"
         },
         {
          "Count": 34381,
          "Industry": "Retail Trade",
          "Year": "2007-01-01T00:00:00"
         },
         {
          "Count": 23002,
          "Industry": "Health Care",
          "Year": "2007-01-01T00:00:00"
         },
         {
          "Count": 20763,
          "Industry": "Educational Services",
          "Year": "2007-01-01T00:00:00"
         },
         {
          "Count": 20436,
          "Industry": "Scientific & Tech Services",
          "Year": "2007-01-01T00:00:00"
         },
         {
          "Count": 25916,
          "Industry": "Accom. & Food Services",
          "Year": "2007-01-01T00:00:00"
         },
         {
          "Count": 24031,
          "Industry": "Manufacturing",
          "Year": "2007-01-01T00:00:00"
         },
         {
          "Count": 27538,
          "Industry": "Construction",
          "Year": "2007-01-01T00:00:00"
         },
         {
          "Count": 29204,
          "Industry": "Retail Trade",
          "Year": "2008-01-01T00:00:00"
         },
         {
          "Count": 18253,
          "Industry": "Health Care",
          "Year": "2008-01-01T00:00:00"
         },
         {
          "Count": 19950,
          "Industry": "Educational Services",
          "Year": "2008-01-01T00:00:00"
         },
         {
          "Count": 19852,
          "Industry": "Scientific & Tech Services",
          "Year": "2008-01-01T00:00:00"
         },
         {
          "Count": 21289,
          "Industry": "Accom. & Food Services",
          "Year": "2008-01-01T00:00:00"
         },
         {
          "Count": 18710,
          "Industry": "Manufacturing",
          "Year": "2008-01-01T00:00:00"
         },
         {
          "Count": 16088,
          "Industry": "Construction",
          "Year": "2008-01-01T00:00:00"
         },
         {
          "Count": 31594,
          "Industry": "Retail Trade",
          "Year": "2009-01-01T00:00:00"
         },
         {
          "Count": 20101,
          "Industry": "Health Care",
          "Year": "2009-01-01T00:00:00"
         },
         {
          "Count": 20329,
          "Industry": "Educational Services",
          "Year": "2009-01-01T00:00:00"
         },
         {
          "Count": 16148,
          "Industry": "Scientific & Tech Services",
          "Year": "2009-01-01T00:00:00"
         },
         {
          "Count": 21227,
          "Industry": "Accom. & Food Services",
          "Year": "2009-01-01T00:00:00"
         },
         {
          "Count": 17898,
          "Industry": "Manufacturing",
          "Year": "2009-01-01T00:00:00"
         },
         {
          "Count": 14451,
          "Industry": "Construction",
          "Year": "2009-01-01T00:00:00"
         },
         {
          "Count": 27955,
          "Industry": "Retail Trade",
          "Year": "2010-01-01T00:00:00"
         },
         {
          "Count": 21976,
          "Industry": "Health Care",
          "Year": "2010-01-01T00:00:00"
         },
         {
          "Count": 18993,
          "Industry": "Educational Services",
          "Year": "2010-01-01T00:00:00"
         },
         {
          "Count": 19815,
          "Industry": "Scientific & Tech Services",
          "Year": "2010-01-01T00:00:00"
         },
         {
          "Count": 22026,
          "Industry": "Accom. & Food Services",
          "Year": "2010-01-01T00:00:00"
         },
         {
          "Count": 19690,
          "Industry": "Manufacturing",
          "Year": "2010-01-01T00:00:00"
         },
         {
          "Count": 12747,
          "Industry": "Construction",
          "Year": "2010-01-01T00:00:00"
         },
         {
          "Count": 31064,
          "Industry": "Retail Trade",
          "Year": "2011-01-01T00:00:00"
         },
         {
          "Count": 20723,
          "Industry": "Health Care",
          "Year": "2011-01-01T00:00:00"
         },
         {
          "Count": 19414,
          "Industry": "Educational Services",
          "Year": "2011-01-01T00:00:00"
         },
         {
          "Count": 16774,
          "Industry": "Scientific & Tech Services",
          "Year": "2011-01-01T00:00:00"
         },
         {
          "Count": 18033,
          "Industry": "Accom. & Food Services",
          "Year": "2011-01-01T00:00:00"
         },
         {
          "Count": 16371,
          "Industry": "Manufacturing",
          "Year": "2011-01-01T00:00:00"
         },
         {
          "Count": 9865,
          "Industry": "Construction",
          "Year": "2011-01-01T00:00:00"
         },
         {
          "Count": 25247,
          "Industry": "Retail Trade",
          "Year": "2012-01-01T00:00:00"
         },
         {
          "Count": 20058,
          "Industry": "Health Care",
          "Year": "2012-01-01T00:00:00"
         },
         {
          "Count": 19544,
          "Industry": "Educational Services",
          "Year": "2012-01-01T00:00:00"
         },
         {
          "Count": 17780,
          "Industry": "Scientific & Tech Services",
          "Year": "2012-01-01T00:00:00"
         },
         {
          "Count": 12692,
          "Industry": "Accom. & Food Services",
          "Year": "2012-01-01T00:00:00"
         },
         {
          "Count": 17709,
          "Industry": "Manufacturing",
          "Year": "2012-01-01T00:00:00"
         },
         {
          "Count": 11052,
          "Industry": "Construction",
          "Year": "2012-01-01T00:00:00"
         },
         {
          "Count": 23881,
          "Industry": "Retail Trade",
          "Year": "2013-01-01T00:00:00"
         },
         {
          "Count": 24066,
          "Industry": "Health Care",
          "Year": "2013-01-01T00:00:00"
         },
         {
          "Count": 18780,
          "Industry": "Educational Services",
          "Year": "2013-01-01T00:00:00"
         },
         {
          "Count": 18621,
          "Industry": "Scientific & Tech Services",
          "Year": "2013-01-01T00:00:00"
         },
         {
          "Count": 21243,
          "Industry": "Accom. & Food Services",
          "Year": "2013-01-01T00:00:00"
         },
         {
          "Count": 13755,
          "Industry": "Manufacturing",
          "Year": "2013-01-01T00:00:00"
         },
         {
          "Count": 11386,
          "Industry": "Construction",
          "Year": "2013-01-01T00:00:00"
         },
         {
          "Count": 24516,
          "Industry": "Retail Trade",
          "Year": "2014-01-01T00:00:00"
         },
         {
          "Count": 24254,
          "Industry": "Health Care",
          "Year": "2014-01-01T00:00:00"
         },
         {
          "Count": 21771,
          "Industry": "Educational Services",
          "Year": "2014-01-01T00:00:00"
         },
         {
          "Count": 20926,
          "Industry": "Scientific & Tech Services",
          "Year": "2014-01-01T00:00:00"
         },
         {
          "Count": 21952,
          "Industry": "Accom. & Food Services",
          "Year": "2014-01-01T00:00:00"
         },
         {
          "Count": 19564,
          "Industry": "Manufacturing",
          "Year": "2014-01-01T00:00:00"
         },
         {
          "Count": 9792,
          "Industry": "Construction",
          "Year": "2014-01-01T00:00:00"
         },
         {
          "Count": 24637,
          "Industry": "Retail Trade",
          "Year": "2015-01-01T00:00:00"
         },
         {
          "Count": 24608,
          "Industry": "Health Care",
          "Year": "2015-01-01T00:00:00"
         },
         {
          "Count": 22450,
          "Industry": "Educational Services",
          "Year": "2015-01-01T00:00:00"
         },
         {
          "Count": 20681,
          "Industry": "Scientific & Tech Services",
          "Year": "2015-01-01T00:00:00"
         },
         {
          "Count": 25701,
          "Industry": "Accom. & Food Services",
          "Year": "2015-01-01T00:00:00"
         },
         {
          "Count": 14578,
          "Industry": "Manufacturing",
          "Year": "2015-01-01T00:00:00"
         },
         {
          "Count": 10710,
          "Industry": "Construction",
          "Year": "2015-01-01T00:00:00"
         },
         {
          "Count": 27899,
          "Industry": "Retail Trade",
          "Year": "2016-01-01T00:00:00"
         },
         {
          "Count": 25644,
          "Industry": "Health Care",
          "Year": "2016-01-01T00:00:00"
         },
         {
          "Count": 22524,
          "Industry": "Educational Services",
          "Year": "2016-01-01T00:00:00"
         },
         {
          "Count": 20609,
          "Industry": "Scientific & Tech Services",
          "Year": "2016-01-01T00:00:00"
         },
         {
          "Count": 28216,
          "Industry": "Accom. & Food Services",
          "Year": "2016-01-01T00:00:00"
         },
         {
          "Count": 16334,
          "Industry": "Manufacturing",
          "Year": "2016-01-01T00:00:00"
         },
         {
          "Count": 11548,
          "Industry": "Construction",
          "Year": "2016-01-01T00:00:00"
         },
         {
          "Count": 28976,
          "Industry": "Retail Trade",
          "Year": "2017-01-01T00:00:00"
         },
         {
          "Count": 25826,
          "Industry": "Health Care",
          "Year": "2017-01-01T00:00:00"
         },
         {
          "Count": 21059,
          "Industry": "Educational Services",
          "Year": "2017-01-01T00:00:00"
         },
         {
          "Count": 23230,
          "Industry": "Scientific & Tech Services",
          "Year": "2017-01-01T00:00:00"
         },
         {
          "Count": 22629,
          "Industry": "Accom. & Food Services",
          "Year": "2017-01-01T00:00:00"
         },
         {
          "Count": 17387,
          "Industry": "Manufacturing",
          "Year": "2017-01-01T00:00:00"
         },
         {
          "Count": 13980,
          "Industry": "Construction",
          "Year": "2017-01-01T00:00:00"
         }
        ]
       },
       "encoding": {
        "color": {
         "field": "Industry",
         "scale": {
          "domain": [
           "Retail Trade",
           "Health Care",
           "Accom. & Food Services",
           "Educational Services",
           "Scientific & Tech Services",
           "Manufacturing",
           "Construction"
          ],
          "range": [
           "#bc80bd",
           "#6baed6",
           "#66a61e",
           "#d6616b",
           "#eeca3b",
           "#08589e",
           "#fd8d3d"
          ]
         },
         "title": null,
         "type": "nominal"
        },
        "x": {
         "axis": {
          "grid": false,
          "labelFlush": false
         },
         "field": "Year",
         "timeUnit": "year",
         "title": null,
         "type": "temporal"
        },
        "y": {
         "axis": {
          "offset": 1
         },
         "field": "Count",
         "title": null,
         "type": "quantitative"
        }
       },
       "mark": {
        "strokeWidth": 4,
        "type": "line"
       },
       "title": "LA Out Migration (Top 7 Industries)                                    ",
       "width": 500
      },
      "image/png": "[encoded data removed]",
      "text/plain": [
       "<VegaLite 2 object>\n",
       "\n",
       "If you see this message, it means the renderer has not been properly enabled\n",
       "for the frontend that you are using. For more information, see\n",
       "https://altair-viz.github.io/user_guide/troubleshooting.html\n"
      ]
     },
     "execution_count": 8,
     "metadata": {},
     "output_type": "execute_result"
    }
   ],
   "source": [
    "#Plotting top 7 via Altair\n",
    "alt.Chart(top_7).mark_line(strokeWidth=4).encode(\n",
    "    x=alt.X('year(Year)', \n",
    "            title=None, \n",
    "            axis=alt.Axis(labelFlush=False, grid=False)), \n",
    "    y=alt.Y('Count', \n",
    "            title=None, \n",
    "            axis=alt.Axis(offset=1)), \n",
    "    color=alt.Color('Industry', \n",
    "                    title=None,\n",
    "                    scale=alt.Scale(range=['#bc80bd', '#6baed6', '#66a61e', '#d6616b', '#eeca3b', '#08589e', '#fd8d3d'], \n",
    "                                    domain=['Retail Trade', 'Health Care', 'Accom. & Food Services', 'Educational Services', \n",
    "                                            'Scientific & Tech Services', 'Manufacturing', 'Construction']),\n",
    ")).properties(width=500, \n",
    "              title='LA Out Migration (Top 7 Industries)                                    '\n",
    ").configure_legend(labelFontSize=13, \n",
    "                   symbolStrokeWidth=5.5, \n",
    "                   symbolSize=30\n",
    ").configure_view(strokeWidth=0)"
   ]
  },
  {
   "cell_type": "markdown",
   "metadata": {},
   "source": [
    "--------------------"
   ]
  },
  {
   "cell_type": "markdown",
   "metadata": {},
   "source": [
    "### Top 3 Industries\n",
    "*Contains 2 plots of the same data"
   ]
  },
  {
   "cell_type": "code",
   "execution_count": 9,
   "metadata": {},
   "outputs": [],
   "source": [
    "#Calculating annual out migration counts for top 3 industries\n",
    "counts = {}\n",
    "for ind in file.IND_CAT.unique():\n",
    "    count = file.PERWT[file.IND_CAT == ind].sum()\n",
    "    counts[ind] = count"
   ]
  },
  {
   "cell_type": "code",
   "execution_count": 10,
   "metadata": {},
   "outputs": [],
   "source": [
    "#Identifying the top 3\n",
    "top3 = sorted(counts, key=counts.get, reverse=True)[:3]"
   ]
  },
  {
   "cell_type": "code",
   "execution_count": 11,
   "metadata": {},
   "outputs": [],
   "source": [
    "top_3 = top_7[top_7.Industry.isin(top3)]"
   ]
  },
  {
   "cell_type": "code",
   "execution_count": 12,
   "metadata": {},
   "outputs": [
    {
     "data": {
      "application/vnd.vegalite.v2+json": {
       "$schema": "https://vega.github.io/schema/vega-lite/v2.6.0.json",
       "config": {
        "legend": {
         "labelFontSize": 13
        },
        "view": {
         "height": 300,
         "strokeWidth": 0,
         "width": 400
        }
       },
       "data": {
        "name": "data-b4ee7e5386146f1a8f9b736a91cc3bb9"
       },
       "datasets": {
        "data-b4ee7e5386146f1a8f9b736a91cc3bb9": [
         {
          "Count": 41333,
          "Industry": "Retail Trade",
          "Year": "2006-01-01T00:00:00"
         },
         {
          "Count": 29059,
          "Industry": "Health Care",
          "Year": "2006-01-01T00:00:00"
         },
         {
          "Count": 26302,
          "Industry": "Accom. & Food Services",
          "Year": "2006-01-01T00:00:00"
         },
         {
          "Count": 34381,
          "Industry": "Retail Trade",
          "Year": "2007-01-01T00:00:00"
         },
         {
          "Count": 23002,
          "Industry": "Health Care",
          "Year": "2007-01-01T00:00:00"
         },
         {
          "Count": 25916,
          "Industry": "Accom. & Food Services",
          "Year": "2007-01-01T00:00:00"
         },
         {
          "Count": 29204,
          "Industry": "Retail Trade",
          "Year": "2008-01-01T00:00:00"
         },
         {
          "Count": 18253,
          "Industry": "Health Care",
          "Year": "2008-01-01T00:00:00"
         },
         {
          "Count": 21289,
          "Industry": "Accom. & Food Services",
          "Year": "2008-01-01T00:00:00"
         },
         {
          "Count": 31594,
          "Industry": "Retail Trade",
          "Year": "2009-01-01T00:00:00"
         },
         {
          "Count": 20101,
          "Industry": "Health Care",
          "Year": "2009-01-01T00:00:00"
         },
         {
          "Count": 21227,
          "Industry": "Accom. & Food Services",
          "Year": "2009-01-01T00:00:00"
         },
         {
          "Count": 27955,
          "Industry": "Retail Trade",
          "Year": "2010-01-01T00:00:00"
         },
         {
          "Count": 21976,
          "Industry": "Health Care",
          "Year": "2010-01-01T00:00:00"
         },
         {
          "Count": 22026,
          "Industry": "Accom. & Food Services",
          "Year": "2010-01-01T00:00:00"
         },
         {
          "Count": 31064,
          "Industry": "Retail Trade",
          "Year": "2011-01-01T00:00:00"
         },
         {
          "Count": 20723,
          "Industry": "Health Care",
          "Year": "2011-01-01T00:00:00"
         },
         {
          "Count": 18033,
          "Industry": "Accom. & Food Services",
          "Year": "2011-01-01T00:00:00"
         },
         {
          "Count": 25247,
          "Industry": "Retail Trade",
          "Year": "2012-01-01T00:00:00"
         },
         {
          "Count": 20058,
          "Industry": "Health Care",
          "Year": "2012-01-01T00:00:00"
         },
         {
          "Count": 12692,
          "Industry": "Accom. & Food Services",
          "Year": "2012-01-01T00:00:00"
         },
         {
          "Count": 23881,
          "Industry": "Retail Trade",
          "Year": "2013-01-01T00:00:00"
         },
         {
          "Count": 24066,
          "Industry": "Health Care",
          "Year": "2013-01-01T00:00:00"
         },
         {
          "Count": 21243,
          "Industry": "Accom. & Food Services",
          "Year": "2013-01-01T00:00:00"
         },
         {
          "Count": 24516,
          "Industry": "Retail Trade",
          "Year": "2014-01-01T00:00:00"
         },
         {
          "Count": 24254,
          "Industry": "Health Care",
          "Year": "2014-01-01T00:00:00"
         },
         {
          "Count": 21952,
          "Industry": "Accom. & Food Services",
          "Year": "2014-01-01T00:00:00"
         },
         {
          "Count": 24637,
          "Industry": "Retail Trade",
          "Year": "2015-01-01T00:00:00"
         },
         {
          "Count": 24608,
          "Industry": "Health Care",
          "Year": "2015-01-01T00:00:00"
         },
         {
          "Count": 25701,
          "Industry": "Accom. & Food Services",
          "Year": "2015-01-01T00:00:00"
         },
         {
          "Count": 27899,
          "Industry": "Retail Trade",
          "Year": "2016-01-01T00:00:00"
         },
         {
          "Count": 25644,
          "Industry": "Health Care",
          "Year": "2016-01-01T00:00:00"
         },
         {
          "Count": 28216,
          "Industry": "Accom. & Food Services",
          "Year": "2016-01-01T00:00:00"
         },
         {
          "Count": 28976,
          "Industry": "Retail Trade",
          "Year": "2017-01-01T00:00:00"
         },
         {
          "Count": 25826,
          "Industry": "Health Care",
          "Year": "2017-01-01T00:00:00"
         },
         {
          "Count": 22629,
          "Industry": "Accom. & Food Services",
          "Year": "2017-01-01T00:00:00"
         }
        ]
       },
       "encoding": {
        "color": {
         "field": "Industry",
         "scale": {
          "domain": [
           "Retail Trade",
           "Health Care",
           "Accom. & Food Services"
          ],
          "range": [
           "#8c6bb1",
           "#6baed6",
           "#66a61e"
          ]
         },
         "title": null,
         "type": "nominal"
        },
        "column": {
         "field": "Year",
         "timeUnit": "year",
         "title": null,
         "type": "temporal"
        },
        "x": {
         "axis": null,
         "field": "Industry",
         "scale": {
          "rangeStep": 12
         },
         "title": null,
         "type": "nominal"
        },
        "y": {
         "axis": {
          "grid": false
         },
         "field": "Count",
         "title": null,
         "type": "quantitative"
        }
       },
       "mark": {
        "size": 10,
        "type": "bar"
       },
       "title": "                                                         LA Out Migration (Top 3 Industries)"
      },
      "image/png": "[encoded data removed]",
      "text/plain": [
       "<VegaLite 2 object>\n",
       "\n",
       "If you see this message, it means the renderer has not been properly enabled\n",
       "for the frontend that you are using. For more information, see\n",
       "https://altair-viz.github.io/user_guide/troubleshooting.html\n"
      ]
     },
     "execution_count": 12,
     "metadata": {},
     "output_type": "execute_result"
    }
   ],
   "source": [
    "#Plotting via Altair\n",
    "alt.Chart(top_3).mark_bar(size=10).encode(\n",
    "    x=alt.X('Industry', \n",
    "            title=None, \n",
    "            axis=None, \n",
    "            scale=alt.Scale(rangeStep=12)),\n",
    "    y=alt.Y('Count', \n",
    "            title=None,\n",
    "            axis=alt.Axis(grid=False)),\n",
    "    color=alt.Color('Industry', \n",
    "                    title=None,\n",
    "                    scale=alt.Scale(domain=['Retail Trade', 'Health Care', 'Accom. & Food Services'], \n",
    "                                    range=['#8c6bb1', '#6baed6', '#66a61e'])),\n",
    "    column=alt.Column('year(Year)', \n",
    "                      title=None)\n",
    ").configure_view(strokeWidth=0\n",
    ").configure_legend(labelFontSize=13\n",
    ").properties(title='                                                         LA Out Migration (Top 3 Industries)')"
   ]
  },
  {
   "cell_type": "code",
   "execution_count": 13,
   "metadata": {},
   "outputs": [
    {
     "data": {
      "application/vnd.vegalite.v2+json": {
       "$schema": "https://vega.github.io/schema/vega-lite/v2.6.0.json",
       "config": {
        "legend": {
         "labelFontSize": 13,
         "symbolSize": 40,
         "symbolStrokeWidth": 6
        },
        "view": {
         "height": 300,
         "strokeWidth": 0,
         "width": 400
        }
       },
       "data": {
        "name": "data-b4ee7e5386146f1a8f9b736a91cc3bb9"
       },
       "datasets": {
        "data-b4ee7e5386146f1a8f9b736a91cc3bb9": [
         {
          "Count": 41333,
          "Industry": "Retail Trade",
          "Year": "2006-01-01T00:00:00"
         },
         {
          "Count": 29059,
          "Industry": "Health Care",
          "Year": "2006-01-01T00:00:00"
         },
         {
          "Count": 26302,
          "Industry": "Accom. & Food Services",
          "Year": "2006-01-01T00:00:00"
         },
         {
          "Count": 34381,
          "Industry": "Retail Trade",
          "Year": "2007-01-01T00:00:00"
         },
         {
          "Count": 23002,
          "Industry": "Health Care",
          "Year": "2007-01-01T00:00:00"
         },
         {
          "Count": 25916,
          "Industry": "Accom. & Food Services",
          "Year": "2007-01-01T00:00:00"
         },
         {
          "Count": 29204,
          "Industry": "Retail Trade",
          "Year": "2008-01-01T00:00:00"
         },
         {
          "Count": 18253,
          "Industry": "Health Care",
          "Year": "2008-01-01T00:00:00"
         },
         {
          "Count": 21289,
          "Industry": "Accom. & Food Services",
          "Year": "2008-01-01T00:00:00"
         },
         {
          "Count": 31594,
          "Industry": "Retail Trade",
          "Year": "2009-01-01T00:00:00"
         },
         {
          "Count": 20101,
          "Industry": "Health Care",
          "Year": "2009-01-01T00:00:00"
         },
         {
          "Count": 21227,
          "Industry": "Accom. & Food Services",
          "Year": "2009-01-01T00:00:00"
         },
         {
          "Count": 27955,
          "Industry": "Retail Trade",
          "Year": "2010-01-01T00:00:00"
         },
         {
          "Count": 21976,
          "Industry": "Health Care",
          "Year": "2010-01-01T00:00:00"
         },
         {
          "Count": 22026,
          "Industry": "Accom. & Food Services",
          "Year": "2010-01-01T00:00:00"
         },
         {
          "Count": 31064,
          "Industry": "Retail Trade",
          "Year": "2011-01-01T00:00:00"
         },
         {
          "Count": 20723,
          "Industry": "Health Care",
          "Year": "2011-01-01T00:00:00"
         },
         {
          "Count": 18033,
          "Industry": "Accom. & Food Services",
          "Year": "2011-01-01T00:00:00"
         },
         {
          "Count": 25247,
          "Industry": "Retail Trade",
          "Year": "2012-01-01T00:00:00"
         },
         {
          "Count": 20058,
          "Industry": "Health Care",
          "Year": "2012-01-01T00:00:00"
         },
         {
          "Count": 12692,
          "Industry": "Accom. & Food Services",
          "Year": "2012-01-01T00:00:00"
         },
         {
          "Count": 23881,
          "Industry": "Retail Trade",
          "Year": "2013-01-01T00:00:00"
         },
         {
          "Count": 24066,
          "Industry": "Health Care",
          "Year": "2013-01-01T00:00:00"
         },
         {
          "Count": 21243,
          "Industry": "Accom. & Food Services",
          "Year": "2013-01-01T00:00:00"
         },
         {
          "Count": 24516,
          "Industry": "Retail Trade",
          "Year": "2014-01-01T00:00:00"
         },
         {
          "Count": 24254,
          "Industry": "Health Care",
          "Year": "2014-01-01T00:00:00"
         },
         {
          "Count": 21952,
          "Industry": "Accom. & Food Services",
          "Year": "2014-01-01T00:00:00"
         },
         {
          "Count": 24637,
          "Industry": "Retail Trade",
          "Year": "2015-01-01T00:00:00"
         },
         {
          "Count": 24608,
          "Industry": "Health Care",
          "Year": "2015-01-01T00:00:00"
         },
         {
          "Count": 25701,
          "Industry": "Accom. & Food Services",
          "Year": "2015-01-01T00:00:00"
         },
         {
          "Count": 27899,
          "Industry": "Retail Trade",
          "Year": "2016-01-01T00:00:00"
         },
         {
          "Count": 25644,
          "Industry": "Health Care",
          "Year": "2016-01-01T00:00:00"
         },
         {
          "Count": 28216,
          "Industry": "Accom. & Food Services",
          "Year": "2016-01-01T00:00:00"
         },
         {
          "Count": 28976,
          "Industry": "Retail Trade",
          "Year": "2017-01-01T00:00:00"
         },
         {
          "Count": 25826,
          "Industry": "Health Care",
          "Year": "2017-01-01T00:00:00"
         },
         {
          "Count": 22629,
          "Industry": "Accom. & Food Services",
          "Year": "2017-01-01T00:00:00"
         }
        ]
       },
       "encoding": {
        "color": {
         "field": "Industry",
         "scale": {
          "domain": [
           "Retail Trade",
           "Health Care",
           "Accom. & Food Services"
          ],
          "range": [
           "#8c6bb1",
           "#6baed6",
           "#66a61e"
          ]
         },
         "title": null,
         "type": "nominal"
        },
        "x": {
         "axis": {
          "grid": false,
          "labelFlush": false
         },
         "field": "Year",
         "title": null,
         "type": "temporal"
        },
        "y": {
         "axis": {
          "offset": 1
         },
         "field": "Count",
         "title": null,
         "type": "quantitative"
        }
       },
       "mark": {
        "strokeWidth": 4,
        "type": "line"
       },
       "title": "LA Out Migration (Top 3 Industries)                       ",
       "width": 500
      },
      "image/png": "[encoded data removed]",
      "text/plain": [
       "<VegaLite 2 object>\n",
       "\n",
       "If you see this message, it means the renderer has not been properly enabled\n",
       "for the frontend that you are using. For more information, see\n",
       "https://altair-viz.github.io/user_guide/troubleshooting.html\n"
      ]
     },
     "execution_count": 13,
     "metadata": {},
     "output_type": "execute_result"
    }
   ],
   "source": [
    "#Plotting same data in a line plot\n",
    "alt.Chart(top_3).mark_line(strokeWidth=4).encode(\n",
    "    x=alt.X('Year', \n",
    "            title=None, \n",
    "            axis=alt.Axis(labelFlush=False, grid=False)),\n",
    "    y=alt.Y('Count', \n",
    "            title=None, \n",
    "            axis=alt.Axis(offset=1)),\n",
    "    color=alt.Color('Industry', \n",
    "                    title=None,\n",
    "                    scale=alt.Scale(domain=['Retail Trade', 'Health Care', 'Accom. & Food Services'], \n",
    "                                    range=['#8c6bb1', '#6baed6', '#66a61e']))\n",
    ").configure_view(strokeWidth=0\n",
    ").configure_legend(labelFontSize=13,\n",
    "                   symbolStrokeWidth=6, \n",
    "                   symbolSize=40\n",
    ").properties(width=500, \n",
    "             title='LA Out Migration (Top 3 Industries)                       ')"
   ]
  },
  {
   "cell_type": "markdown",
   "metadata": {},
   "source": [
    "--------------------"
   ]
  },
  {
   "cell_type": "markdown",
   "metadata": {},
   "source": [
    "### Health Care & Construction\n",
    "*Contains 3 plots of the same data"
   ]
  },
  {
   "cell_type": "code",
   "execution_count": 14,
   "metadata": {},
   "outputs": [],
   "source": [
    "#Extracting data for only health care & construction (from top_7 data frame)\n",
    "health_con = top_7[top_7.Industry.isin(['Health Care', 'Construction'])]"
   ]
  },
  {
   "cell_type": "code",
   "execution_count": 15,
   "metadata": {},
   "outputs": [
    {
     "data": {
      "application/vnd.vegalite.v2+json": {
       "$schema": "https://vega.github.io/schema/vega-lite/v2.6.0.json",
       "config": {
        "legend": {
         "labelFontSize": 13
        },
        "view": {
         "height": 300,
         "strokeWidth": 0,
         "width": 400
        }
       },
       "data": {
        "name": "data-de121e5789fcadecbdcbbe6aab36c2b3"
       },
       "datasets": {
        "data-de121e5789fcadecbdcbbe6aab36c2b3": [
         {
          "Count": 29059,
          "Industry": "Health Care",
          "Year": "2006-01-01T00:00:00"
         },
         {
          "Count": 28360,
          "Industry": "Construction",
          "Year": "2006-01-01T00:00:00"
         },
         {
          "Count": 23002,
          "Industry": "Health Care",
          "Year": "2007-01-01T00:00:00"
         },
         {
          "Count": 27538,
          "Industry": "Construction",
          "Year": "2007-01-01T00:00:00"
         },
         {
          "Count": 18253,
          "Industry": "Health Care",
          "Year": "2008-01-01T00:00:00"
         },
         {
          "Count": 16088,
          "Industry": "Construction",
          "Year": "2008-01-01T00:00:00"
         },
         {
          "Count": 20101,
          "Industry": "Health Care",
          "Year": "2009-01-01T00:00:00"
         },
         {
          "Count": 14451,
          "Industry": "Construction",
          "Year": "2009-01-01T00:00:00"
         },
         {
          "Count": 21976,
          "Industry": "Health Care",
          "Year": "2010-01-01T00:00:00"
         },
         {
          "Count": 12747,
          "Industry": "Construction",
          "Year": "2010-01-01T00:00:00"
         },
         {
          "Count": 20723,
          "Industry": "Health Care",
          "Year": "2011-01-01T00:00:00"
         },
         {
          "Count": 9865,
          "Industry": "Construction",
          "Year": "2011-01-01T00:00:00"
         },
         {
          "Count": 20058,
          "Industry": "Health Care",
          "Year": "2012-01-01T00:00:00"
         },
         {
          "Count": 11052,
          "Industry": "Construction",
          "Year": "2012-01-01T00:00:00"
         },
         {
          "Count": 24066,
          "Industry": "Health Care",
          "Year": "2013-01-01T00:00:00"
         },
         {
          "Count": 11386,
          "Industry": "Construction",
          "Year": "2013-01-01T00:00:00"
         },
         {
          "Count": 24254,
          "Industry": "Health Care",
          "Year": "2014-01-01T00:00:00"
         },
         {
          "Count": 9792,
          "Industry": "Construction",
          "Year": "2014-01-01T00:00:00"
         },
         {
          "Count": 24608,
          "Industry": "Health Care",
          "Year": "2015-01-01T00:00:00"
         },
         {
          "Count": 10710,
          "Industry": "Construction",
          "Year": "2015-01-01T00:00:00"
         },
         {
          "Count": 25644,
          "Industry": "Health Care",
          "Year": "2016-01-01T00:00:00"
         },
         {
          "Count": 11548,
          "Industry": "Construction",
          "Year": "2016-01-01T00:00:00"
         },
         {
          "Count": 25826,
          "Industry": "Health Care",
          "Year": "2017-01-01T00:00:00"
         },
         {
          "Count": 13980,
          "Industry": "Construction",
          "Year": "2017-01-01T00:00:00"
         }
        ]
       },
       "encoding": {
        "color": {
         "field": "Industry",
         "scale": {
          "domain": [
           "Health Care",
           "Construction"
          ],
          "range": [
           "#6baed6",
           "#fd8d3d"
          ]
         },
         "title": null,
         "type": "nominal"
        },
        "column": {
         "field": "Year",
         "timeUnit": "year",
         "title": null,
         "type": "temporal"
        },
        "x": {
         "axis": null,
         "field": "Industry",
         "scale": {
          "rangeStep": 12
         },
         "title": null,
         "type": "nominal"
        },
        "y": {
         "axis": {
          "grid": false
         },
         "field": "Count",
         "title": null,
         "type": "quantitative"
        }
       },
       "mark": {
        "size": 10,
        "type": "bar"
       },
       "title": "                           LA Out Migration (Health Care & Construction)",
       "width": 30
      },
      "image/png": "[encoded data removed]",
      "text/plain": [
       "<VegaLite 2 object>\n",
       "\n",
       "If you see this message, it means the renderer has not been properly enabled\n",
       "for the frontend that you are using. For more information, see\n",
       "https://altair-viz.github.io/user_guide/troubleshooting.html\n"
      ]
     },
     "execution_count": 15,
     "metadata": {},
     "output_type": "execute_result"
    }
   ],
   "source": [
    "#Plotting via Altair\n",
    "alt.Chart(health_con).mark_bar(size=10).encode(\n",
    "    x=alt.X('Industry', \n",
    "            title=None, \n",
    "            axis=None, \n",
    "            scale=alt.Scale(rangeStep=12)),\n",
    "    y=alt.Y('Count', \n",
    "            title=None,\n",
    "            axis=alt.Axis(grid=False)),\n",
    "    color=alt.Color('Industry', \n",
    "                    title=None, \n",
    "                    scale=alt.Scale(range=['#6baed6', '#fd8d3d'], \n",
    "                                    domain=['Health Care', 'Construction'])),\n",
    "    column=alt.Column('year(Year)', \n",
    "                      title=None)\n",
    ").configure_view(strokeWidth=0\n",
    ").configure_legend(labelFontSize=13\n",
    ").properties(width=30, \n",
    "             title='                           LA Out Migration (Health Care & Construction)')"
   ]
  },
  {
   "cell_type": "code",
   "execution_count": 16,
   "metadata": {},
   "outputs": [],
   "source": [
    "#Base configuration for line & area charts\n",
    "base = alt.Chart(health_con).encode(\n",
    "    x=alt.X('Year', title=None, axis=alt.Axis(labelFlush=False, grid=False, )),\n",
    "    y=alt.Y('Count', title=None, axis=alt.Axis(offset=1), stack=None),\n",
    "    color=alt.Color('Industry',\n",
    "                    title=None,\n",
    "                    scale=alt.Scale(domain=['Health Care', 'Construction'], \n",
    "                                    range=['#6baed6', '#fd8d3d']))\n",
    ").configure_view(strokeWidth=0\n",
    ").configure_legend(labelFontSize=13, \n",
    "                   symbolStrokeWidth=5.5, \n",
    "                   symbolSize=30\n",
    ").properties(width=500, \n",
    "             title='LA Out Migration (Health Care & Construction)                ')"
   ]
  },
  {
   "cell_type": "code",
   "execution_count": 17,
   "metadata": {},
   "outputs": [
    {
     "data": {
      "application/vnd.vegalite.v2+json": {
       "$schema": "https://vega.github.io/schema/vega-lite/v2.6.0.json",
       "config": {
        "legend": {
         "labelFontSize": 13,
         "symbolSize": 30,
         "symbolStrokeWidth": 5.5
        },
        "view": {
         "height": 300,
         "strokeWidth": 0,
         "width": 400
        }
       },
       "data": {
        "name": "data-de121e5789fcadecbdcbbe6aab36c2b3"
       },
       "datasets": {
        "data-de121e5789fcadecbdcbbe6aab36c2b3": [
         {
          "Count": 29059,
          "Industry": "Health Care",
          "Year": "2006-01-01T00:00:00"
         },
         {
          "Count": 28360,
          "Industry": "Construction",
          "Year": "2006-01-01T00:00:00"
         },
         {
          "Count": 23002,
          "Industry": "Health Care",
          "Year": "2007-01-01T00:00:00"
         },
         {
          "Count": 27538,
          "Industry": "Construction",
          "Year": "2007-01-01T00:00:00"
         },
         {
          "Count": 18253,
          "Industry": "Health Care",
          "Year": "2008-01-01T00:00:00"
         },
         {
          "Count": 16088,
          "Industry": "Construction",
          "Year": "2008-01-01T00:00:00"
         },
         {
          "Count": 20101,
          "Industry": "Health Care",
          "Year": "2009-01-01T00:00:00"
         },
         {
          "Count": 14451,
          "Industry": "Construction",
          "Year": "2009-01-01T00:00:00"
         },
         {
          "Count": 21976,
          "Industry": "Health Care",
          "Year": "2010-01-01T00:00:00"
         },
         {
          "Count": 12747,
          "Industry": "Construction",
          "Year": "2010-01-01T00:00:00"
         },
         {
          "Count": 20723,
          "Industry": "Health Care",
          "Year": "2011-01-01T00:00:00"
         },
         {
          "Count": 9865,
          "Industry": "Construction",
          "Year": "2011-01-01T00:00:00"
         },
         {
          "Count": 20058,
          "Industry": "Health Care",
          "Year": "2012-01-01T00:00:00"
         },
         {
          "Count": 11052,
          "Industry": "Construction",
          "Year": "2012-01-01T00:00:00"
         },
         {
          "Count": 24066,
          "Industry": "Health Care",
          "Year": "2013-01-01T00:00:00"
         },
         {
          "Count": 11386,
          "Industry": "Construction",
          "Year": "2013-01-01T00:00:00"
         },
         {
          "Count": 24254,
          "Industry": "Health Care",
          "Year": "2014-01-01T00:00:00"
         },
         {
          "Count": 9792,
          "Industry": "Construction",
          "Year": "2014-01-01T00:00:00"
         },
         {
          "Count": 24608,
          "Industry": "Health Care",
          "Year": "2015-01-01T00:00:00"
         },
         {
          "Count": 10710,
          "Industry": "Construction",
          "Year": "2015-01-01T00:00:00"
         },
         {
          "Count": 25644,
          "Industry": "Health Care",
          "Year": "2016-01-01T00:00:00"
         },
         {
          "Count": 11548,
          "Industry": "Construction",
          "Year": "2016-01-01T00:00:00"
         },
         {
          "Count": 25826,
          "Industry": "Health Care",
          "Year": "2017-01-01T00:00:00"
         },
         {
          "Count": 13980,
          "Industry": "Construction",
          "Year": "2017-01-01T00:00:00"
         }
        ]
       },
       "encoding": {
        "color": {
         "field": "Industry",
         "scale": {
          "domain": [
           "Health Care",
           "Construction"
          ],
          "range": [
           "#6baed6",
           "#fd8d3d"
          ]
         },
         "title": null,
         "type": "nominal"
        },
        "x": {
         "axis": {
          "grid": false,
          "labelFlush": false
         },
         "field": "Year",
         "title": null,
         "type": "temporal"
        },
        "y": {
         "axis": {
          "offset": 1
         },
         "field": "Count",
         "stack": null,
         "title": null,
         "type": "quantitative"
        }
       },
       "mark": {
        "strokeWidth": 4,
        "type": "line"
       },
       "title": "LA Out Migration (Health Care & Construction)                ",
       "width": 500
      },
      "image/png": "[encoded data removed]",
      "text/plain": [
       "<VegaLite 2 object>\n",
       "\n",
       "If you see this message, it means the renderer has not been properly enabled\n",
       "for the frontend that you are using. For more information, see\n",
       "https://altair-viz.github.io/user_guide/troubleshooting.html\n"
      ]
     },
     "execution_count": 17,
     "metadata": {},
     "output_type": "execute_result"
    }
   ],
   "source": [
    "base.mark_line(strokeWidth=4)"
   ]
  },
  {
   "cell_type": "code",
   "execution_count": 18,
   "metadata": {},
   "outputs": [
    {
     "data": {
      "application/vnd.vegalite.v2+json": {
       "$schema": "https://vega.github.io/schema/vega-lite/v2.6.0.json",
       "config": {
        "legend": {
         "labelFontSize": 13,
         "titleFontSize": 13
        },
        "view": {
         "height": 300,
         "strokeWidth": 0,
         "width": 400
        }
       },
       "data": {
        "name": "data-de121e5789fcadecbdcbbe6aab36c2b3"
       },
       "datasets": {
        "data-de121e5789fcadecbdcbbe6aab36c2b3": [
         {
          "Count": 29059,
          "Industry": "Health Care",
          "Year": "2006-01-01T00:00:00"
         },
         {
          "Count": 28360,
          "Industry": "Construction",
          "Year": "2006-01-01T00:00:00"
         },
         {
          "Count": 23002,
          "Industry": "Health Care",
          "Year": "2007-01-01T00:00:00"
         },
         {
          "Count": 27538,
          "Industry": "Construction",
          "Year": "2007-01-01T00:00:00"
         },
         {
          "Count": 18253,
          "Industry": "Health Care",
          "Year": "2008-01-01T00:00:00"
         },
         {
          "Count": 16088,
          "Industry": "Construction",
          "Year": "2008-01-01T00:00:00"
         },
         {
          "Count": 20101,
          "Industry": "Health Care",
          "Year": "2009-01-01T00:00:00"
         },
         {
          "Count": 14451,
          "Industry": "Construction",
          "Year": "2009-01-01T00:00:00"
         },
         {
          "Count": 21976,
          "Industry": "Health Care",
          "Year": "2010-01-01T00:00:00"
         },
         {
          "Count": 12747,
          "Industry": "Construction",
          "Year": "2010-01-01T00:00:00"
         },
         {
          "Count": 20723,
          "Industry": "Health Care",
          "Year": "2011-01-01T00:00:00"
         },
         {
          "Count": 9865,
          "Industry": "Construction",
          "Year": "2011-01-01T00:00:00"
         },
         {
          "Count": 20058,
          "Industry": "Health Care",
          "Year": "2012-01-01T00:00:00"
         },
         {
          "Count": 11052,
          "Industry": "Construction",
          "Year": "2012-01-01T00:00:00"
         },
         {
          "Count": 24066,
          "Industry": "Health Care",
          "Year": "2013-01-01T00:00:00"
         },
         {
          "Count": 11386,
          "Industry": "Construction",
          "Year": "2013-01-01T00:00:00"
         },
         {
          "Count": 24254,
          "Industry": "Health Care",
          "Year": "2014-01-01T00:00:00"
         },
         {
          "Count": 9792,
          "Industry": "Construction",
          "Year": "2014-01-01T00:00:00"
         },
         {
          "Count": 24608,
          "Industry": "Health Care",
          "Year": "2015-01-01T00:00:00"
         },
         {
          "Count": 10710,
          "Industry": "Construction",
          "Year": "2015-01-01T00:00:00"
         },
         {
          "Count": 25644,
          "Industry": "Health Care",
          "Year": "2016-01-01T00:00:00"
         },
         {
          "Count": 11548,
          "Industry": "Construction",
          "Year": "2016-01-01T00:00:00"
         },
         {
          "Count": 25826,
          "Industry": "Health Care",
          "Year": "2017-01-01T00:00:00"
         },
         {
          "Count": 13980,
          "Industry": "Construction",
          "Year": "2017-01-01T00:00:00"
         }
        ]
       },
       "encoding": {
        "color": {
         "field": "Industry",
         "scale": {
          "domain": [
           "Health Care",
           "Construction"
          ],
          "range": [
           "#6baed6",
           "#fd8d3d"
          ]
         },
         "title": null,
         "type": "nominal"
        },
        "x": {
         "axis": {
          "grid": false,
          "labelFlush": false
         },
         "field": "Year",
         "title": null,
         "type": "temporal"
        },
        "y": {
         "axis": {
          "offset": 1
         },
         "field": "Count",
         "stack": null,
         "title": null,
         "type": "quantitative"
        }
       },
       "mark": {
        "opacity": 0.8,
        "type": "area"
       },
       "title": "LA Out Migration (Health Care & Construction)                ",
       "width": 500
      },
      "image/png": "[encoded data removed]",
      "text/plain": [
       "<VegaLite 2 object>\n",
       "\n",
       "If you see this message, it means the renderer has not been properly enabled\n",
       "for the frontend that you are using. For more information, see\n",
       "https://altair-viz.github.io/user_guide/troubleshooting.html\n"
      ]
     },
     "execution_count": 18,
     "metadata": {},
     "output_type": "execute_result"
    }
   ],
   "source": [
    "base.mark_area(opacity=0.8).configure_legend(titleFontSize=13, labelFontSize=13)"
   ]
  }
 ],
 "metadata": {
  "kernelspec": {
   "display_name": "Python 3",
   "language": "python",
   "name": "python3"
  },
  "language_info": {
   "codemirror_mode": {
    "name": "ipython",
    "version": 3
   },
   "file_extension": ".py",
   "mimetype": "text/x-python",
   "name": "python",
   "nbconvert_exporter": "python",
   "pygments_lexer": "ipython3",
   "version": "3.6.2"
  }
 },
 "nbformat": 4,
 "nbformat_minor": 2
}
