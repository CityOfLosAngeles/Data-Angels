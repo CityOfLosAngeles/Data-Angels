{
 "cells": [
  {
   "cell_type": "markdown",
   "metadata": {},
   "source": [
    "### Analyzing Median Rent as a Percentage of Income\n",
    "*Comparing individual and family incomes"
   ]
  },
  {
   "cell_type": "code",
   "execution_count": 1,
   "metadata": {},
   "outputs": [],
   "source": [
    "import pandas as pd\n",
    "import numpy as np\n",
    "import altair as alt"
   ]
  },
  {
   "cell_type": "code",
   "execution_count": 2,
   "metadata": {},
   "outputs": [],
   "source": [
    "file = pd.read_csv('ipums_clean.csv')"
   ]
  },
  {
   "cell_type": "code",
   "execution_count": 3,
   "metadata": {},
   "outputs": [],
   "source": [
    "# Grouping rent amounts in increments of 100\n",
    "increment = 100\n",
    "for num in range(10, 4000, 10):\n",
    "    if num <= increment:\n",
    "        file.loc[file.RENT.isin([num]), 'RENT'] = increment\n",
    "    else:\n",
    "        increment+=100\n",
    "        file.loc[file.RENT.isin([num]), 'RENT'] = increment"
   ]
  },
  {
   "cell_type": "code",
   "execution_count": 4,
   "metadata": {},
   "outputs": [
    {
     "data": {
      "text/plain": [
       "0       21564\n",
       "1000     1736\n",
       "900      1430\n",
       "800      1328\n",
       "700      1115\n",
       "1200     1015\n",
       "1100     1006\n",
       "1300      939\n",
       "1400      856\n",
       "600       842\n",
       "Name: RENT, dtype: int64"
      ]
     },
     "execution_count": 4,
     "metadata": {},
     "output_type": "execute_result"
    }
   ],
   "source": [
    "file.RENT.value_counts()[:10]"
   ]
  },
  {
   "cell_type": "code",
   "execution_count": 5,
   "metadata": {},
   "outputs": [
    {
     "data": {
      "text/plain": [
       "38158"
      ]
     },
     "execution_count": 5,
     "metadata": {},
     "output_type": "execute_result"
    }
   ],
   "source": [
    "len(file)"
   ]
  },
  {
   "cell_type": "code",
   "execution_count": 6,
   "metadata": {},
   "outputs": [
    {
     "data": {
      "text/plain": [
       "16594"
      ]
     },
     "execution_count": 6,
     "metadata": {},
     "output_type": "execute_result"
    }
   ],
   "source": [
    "#Removing rows containing rent of 0 (i.e. N/A, as per: https://usa.ipums.org/usa-action/variables/RENT#codes_section)\n",
    "file = file[file.RENT != 0]\n",
    "len(file)"
   ]
  },
  {
   "cell_type": "code",
   "execution_count": 7,
   "metadata": {},
   "outputs": [
    {
     "data": {
      "text/plain": [
       "1000    1736\n",
       "900     1430\n",
       "800     1328\n",
       "700     1115\n",
       "1200    1015\n",
       "1100    1006\n",
       "1300     939\n",
       "1400     856\n",
       "600      842\n",
       "1500     829\n",
       "Name: RENT, dtype: int64"
      ]
     },
     "execution_count": 7,
     "metadata": {},
     "output_type": "execute_result"
    }
   ],
   "source": [
    "file.RENT.value_counts()[:10]"
   ]
  },
  {
   "cell_type": "markdown",
   "metadata": {},
   "source": [
    "----------"
   ]
  },
  {
   "cell_type": "markdown",
   "metadata": {},
   "source": [
    "### (1) *Individual* Income "
   ]
  },
  {
   "cell_type": "code",
   "execution_count": 8,
   "metadata": {},
   "outputs": [],
   "source": [
    "indiv_income = pd.DataFrame()\n",
    "for year in range(2006, 2018):\n",
    "    df = file[file.YEAR == year]\n",
    "    \n",
    "    incomes = np.array([])\n",
    "    for i, row in df[['INCTOT', 'PERWT']].iterrows():\n",
    "        income = np.full(row.PERWT, row.INCTOT)\n",
    "        incomes = np.append(incomes, income)\n",
    "    inc = np.median(incomes)\n",
    "\n",
    "    rents = np.array([])\n",
    "    for i, row in df[['RENT', 'PERWT']].iterrows():\n",
    "        rent = np.full(row.PERWT, row.RENT)\n",
    "        rents = np.append(rents, rent)\n",
    "    rent = np.median(rents)\n",
    "    \n",
    "    \n",
    "    individual = {'Year':pd.Series(year), 'Indiv_Income':pd.Series(inc)/12, 'Rent':pd.Series(rent)}  #Indiv_Income divided by 12 to return monthly amount (like Rent)\n",
    "    values = pd.DataFrame(individual)\n",
    "    indiv_income = pd.concat([indiv_income, values])\n",
    "year = indiv_income.Year.astype('str')\n",
    "indiv_income.Year = pd.to_datetime(year)\n",
    "\n",
    "indiv_income['Ratio'] = indiv_income.Rent / indiv_income.Indiv_Income"
   ]
  },
  {
   "cell_type": "code",
   "execution_count": 9,
   "metadata": {},
   "outputs": [
    {
     "data": {
      "text/html": [
       "<div>\n",
       "<style scoped>\n",
       "    .dataframe tbody tr th:only-of-type {\n",
       "        vertical-align: middle;\n",
       "    }\n",
       "\n",
       "    .dataframe tbody tr th {\n",
       "        vertical-align: top;\n",
       "    }\n",
       "\n",
       "    .dataframe thead th {\n",
       "        text-align: right;\n",
       "    }\n",
       "</style>\n",
       "<table border=\"1\" class=\"dataframe\">\n",
       "  <thead>\n",
       "    <tr style=\"text-align: right;\">\n",
       "      <th></th>\n",
       "      <th>Year</th>\n",
       "      <th>Indiv_Income</th>\n",
       "      <th>Rent</th>\n",
       "      <th>Ratio</th>\n",
       "    </tr>\n",
       "  </thead>\n",
       "  <tbody>\n",
       "    <tr>\n",
       "      <th>0</th>\n",
       "      <td>2006-01-01</td>\n",
       "      <td>2083.333333</td>\n",
       "      <td>1000.0</td>\n",
       "      <td>0.480000</td>\n",
       "    </tr>\n",
       "    <tr>\n",
       "      <th>0</th>\n",
       "      <td>2007-01-01</td>\n",
       "      <td>2333.333333</td>\n",
       "      <td>1000.0</td>\n",
       "      <td>0.428571</td>\n",
       "    </tr>\n",
       "    <tr>\n",
       "      <th>0</th>\n",
       "      <td>2008-01-01</td>\n",
       "      <td>2366.666667</td>\n",
       "      <td>1100.0</td>\n",
       "      <td>0.464789</td>\n",
       "    </tr>\n",
       "    <tr>\n",
       "      <th>0</th>\n",
       "      <td>2009-01-01</td>\n",
       "      <td>2000.000000</td>\n",
       "      <td>1000.0</td>\n",
       "      <td>0.500000</td>\n",
       "    </tr>\n",
       "    <tr>\n",
       "      <th>0</th>\n",
       "      <td>2010-01-01</td>\n",
       "      <td>2083.333333</td>\n",
       "      <td>1000.0</td>\n",
       "      <td>0.480000</td>\n",
       "    </tr>\n",
       "    <tr>\n",
       "      <th>0</th>\n",
       "      <td>2011-01-01</td>\n",
       "      <td>2085.833333</td>\n",
       "      <td>1000.0</td>\n",
       "      <td>0.479425</td>\n",
       "    </tr>\n",
       "    <tr>\n",
       "      <th>0</th>\n",
       "      <td>2012-01-01</td>\n",
       "      <td>2083.333333</td>\n",
       "      <td>1100.0</td>\n",
       "      <td>0.528000</td>\n",
       "    </tr>\n",
       "    <tr>\n",
       "      <th>0</th>\n",
       "      <td>2013-01-01</td>\n",
       "      <td>2450.000000</td>\n",
       "      <td>1100.0</td>\n",
       "      <td>0.448980</td>\n",
       "    </tr>\n",
       "    <tr>\n",
       "      <th>0</th>\n",
       "      <td>2014-01-01</td>\n",
       "      <td>2083.333333</td>\n",
       "      <td>1200.0</td>\n",
       "      <td>0.576000</td>\n",
       "    </tr>\n",
       "    <tr>\n",
       "      <th>0</th>\n",
       "      <td>2015-01-01</td>\n",
       "      <td>2166.666667</td>\n",
       "      <td>1200.0</td>\n",
       "      <td>0.553846</td>\n",
       "    </tr>\n",
       "    <tr>\n",
       "      <th>0</th>\n",
       "      <td>2016-01-01</td>\n",
       "      <td>2666.666667</td>\n",
       "      <td>1300.0</td>\n",
       "      <td>0.487500</td>\n",
       "    </tr>\n",
       "    <tr>\n",
       "      <th>0</th>\n",
       "      <td>2017-01-01</td>\n",
       "      <td>2500.000000</td>\n",
       "      <td>1300.0</td>\n",
       "      <td>0.520000</td>\n",
       "    </tr>\n",
       "  </tbody>\n",
       "</table>\n",
       "</div>"
      ],
      "text/plain": [
       "        Year  Indiv_Income    Rent     Ratio\n",
       "0 2006-01-01   2083.333333  1000.0  0.480000\n",
       "0 2007-01-01   2333.333333  1000.0  0.428571\n",
       "0 2008-01-01   2366.666667  1100.0  0.464789\n",
       "0 2009-01-01   2000.000000  1000.0  0.500000\n",
       "0 2010-01-01   2083.333333  1000.0  0.480000\n",
       "0 2011-01-01   2085.833333  1000.0  0.479425\n",
       "0 2012-01-01   2083.333333  1100.0  0.528000\n",
       "0 2013-01-01   2450.000000  1100.0  0.448980\n",
       "0 2014-01-01   2083.333333  1200.0  0.576000\n",
       "0 2015-01-01   2166.666667  1200.0  0.553846\n",
       "0 2016-01-01   2666.666667  1300.0  0.487500\n",
       "0 2017-01-01   2500.000000  1300.0  0.520000"
      ]
     },
     "execution_count": 9,
     "metadata": {},
     "output_type": "execute_result"
    }
   ],
   "source": [
    "indiv_income"
   ]
  },
  {
   "cell_type": "code",
   "execution_count": 10,
   "metadata": {},
   "outputs": [
    {
     "data": {
      "application/vnd.vegalite.v2+json": {
       "$schema": "https://vega.github.io/schema/vega-lite/v2.6.0.json",
       "config": {
        "view": {
         "height": 300,
         "strokeWidth": 0,
         "width": 400
        }
       },
       "data": {
        "name": "data-d92c70caad3b63f9b987c14a2fd96d84"
       },
       "datasets": {
        "data-d92c70caad3b63f9b987c14a2fd96d84": [
         {
          "Indiv_Income": 2083.3333333333335,
          "Ratio": 0.48,
          "Rent": 1000,
          "Year": "2006-01-01T00:00:00"
         },
         {
          "Indiv_Income": 2333.3333333333335,
          "Ratio": 0.42857142857142855,
          "Rent": 1000,
          "Year": "2007-01-01T00:00:00"
         },
         {
          "Indiv_Income": 2366.6666666666665,
          "Ratio": 0.46478873239436624,
          "Rent": 1100,
          "Year": "2008-01-01T00:00:00"
         },
         {
          "Indiv_Income": 2000,
          "Ratio": 0.5,
          "Rent": 1000,
          "Year": "2009-01-01T00:00:00"
         },
         {
          "Indiv_Income": 2083.3333333333335,
          "Ratio": 0.48,
          "Rent": 1000,
          "Year": "2010-01-01T00:00:00"
         },
         {
          "Indiv_Income": 2085.8333333333335,
          "Ratio": 0.4794246903715541,
          "Rent": 1000,
          "Year": "2011-01-01T00:00:00"
         },
         {
          "Indiv_Income": 2083.3333333333335,
          "Ratio": 0.5279999999999999,
          "Rent": 1100,
          "Year": "2012-01-01T00:00:00"
         },
         {
          "Indiv_Income": 2450,
          "Ratio": 0.4489795918367347,
          "Rent": 1100,
          "Year": "2013-01-01T00:00:00"
         },
         {
          "Indiv_Income": 2083.3333333333335,
          "Ratio": 0.576,
          "Rent": 1200,
          "Year": "2014-01-01T00:00:00"
         },
         {
          "Indiv_Income": 2166.6666666666665,
          "Ratio": 0.5538461538461539,
          "Rent": 1200,
          "Year": "2015-01-01T00:00:00"
         },
         {
          "Indiv_Income": 2666.6666666666665,
          "Ratio": 0.48750000000000004,
          "Rent": 1300,
          "Year": "2016-01-01T00:00:00"
         },
         {
          "Indiv_Income": 2500,
          "Ratio": 0.52,
          "Rent": 1300,
          "Year": "2017-01-01T00:00:00"
         }
        ]
       },
       "encoding": {
        "x": {
         "axis": {
          "grid": false,
          "labelFlush": false
         },
         "field": "Year",
         "title": null,
         "type": "temporal"
        },
        "y": {
         "axis": {
          "format": "%",
          "offset": 1
         },
         "field": "Ratio",
         "title": null,
         "type": "quantitative"
        }
       },
       "mark": {
        "strokeWidth": 4,
        "type": "line"
       },
       "title": "Median Rent - Percentage of Individual Median Income",
       "width": 500
      },
      "image/png": "[encoded data removed]",
      "text/plain": [
       "<VegaLite 2 object>\n",
       "\n",
       "If you see this message, it means the renderer has not been properly enabled\n",
       "for the frontend that you are using. For more information, see\n",
       "https://altair-viz.github.io/user_guide/troubleshooting.html\n"
      ]
     },
     "execution_count": 10,
     "metadata": {},
     "output_type": "execute_result"
    }
   ],
   "source": [
    "alt.Chart(indiv_income).mark_line(strokeWidth=4).encode(\n",
    "    x=alt.X('Year', title=None, axis=alt.Axis(grid=False, labelFlush=False)), \n",
    "    y=alt.Y('Ratio', axis=alt.Axis(offset=1, format='%'), title=None)\n",
    ").properties(title='Median Rent - Percentage of Individual Median Income', width=500).configure_view(strokeWidth=0)"
   ]
  },
  {
   "cell_type": "markdown",
   "metadata": {},
   "source": [
    "-------------"
   ]
  },
  {
   "cell_type": "markdown",
   "metadata": {},
   "source": [
    "### (2) *Family* Income "
   ]
  },
  {
   "cell_type": "code",
   "execution_count": 11,
   "metadata": {},
   "outputs": [],
   "source": [
    "fam_income = pd.DataFrame()\n",
    "for year in range(2006, 2018):\n",
    "    df = file[file.YEAR == year]\n",
    "    \n",
    "    incomes = np.array([])\n",
    "    for i, row in df[['FTOTINC', 'PERWT']].iterrows():\n",
    "        income = np.full(row.PERWT, row.FTOTINC)\n",
    "        incomes = np.append(incomes, income)\n",
    "    inc = np.median(incomes)\n",
    "\n",
    "    rents = np.array([])\n",
    "    for i, row in df[['RENT', 'PERWT']].iterrows():\n",
    "        rent = np.full(row.PERWT, row.RENT)\n",
    "        rents = np.append(rents, rent)\n",
    "    rent = np.median(rents)\n",
    "    \n",
    "    \n",
    "    individual = {'Year':pd.Series(year), 'Fam_Income':pd.Series(inc)/12, 'Rent':pd.Series(rent)}  #Fam_Income divided by 12 to return monthly amount (like Rent)\n",
    "    values = pd.DataFrame(individual)\n",
    "    fam_income = pd.concat([fam_income, values])\n",
    "year = fam_income.Year.astype('str')\n",
    "fam_income.Year = pd.to_datetime(year)\n",
    "\n",
    "fam_income['Ratio'] = fam_income.Rent / fam_income.Fam_Income"
   ]
  },
  {
   "cell_type": "code",
   "execution_count": 12,
   "metadata": {},
   "outputs": [
    {
     "data": {
      "text/html": [
       "<div>\n",
       "<style scoped>\n",
       "    .dataframe tbody tr th:only-of-type {\n",
       "        vertical-align: middle;\n",
       "    }\n",
       "\n",
       "    .dataframe tbody tr th {\n",
       "        vertical-align: top;\n",
       "    }\n",
       "\n",
       "    .dataframe thead th {\n",
       "        text-align: right;\n",
       "    }\n",
       "</style>\n",
       "<table border=\"1\" class=\"dataframe\">\n",
       "  <thead>\n",
       "    <tr style=\"text-align: right;\">\n",
       "      <th></th>\n",
       "      <th>Year</th>\n",
       "      <th>Fam_Income</th>\n",
       "      <th>Rent</th>\n",
       "      <th>Ratio</th>\n",
       "    </tr>\n",
       "  </thead>\n",
       "  <tbody>\n",
       "    <tr>\n",
       "      <th>0</th>\n",
       "      <td>2006-01-01</td>\n",
       "      <td>2337.500000</td>\n",
       "      <td>1000.0</td>\n",
       "      <td>0.427807</td>\n",
       "    </tr>\n",
       "    <tr>\n",
       "      <th>0</th>\n",
       "      <td>2007-01-01</td>\n",
       "      <td>2916.666667</td>\n",
       "      <td>1000.0</td>\n",
       "      <td>0.342857</td>\n",
       "    </tr>\n",
       "    <tr>\n",
       "      <th>0</th>\n",
       "      <td>2008-01-01</td>\n",
       "      <td>2883.333333</td>\n",
       "      <td>1100.0</td>\n",
       "      <td>0.381503</td>\n",
       "    </tr>\n",
       "    <tr>\n",
       "      <th>0</th>\n",
       "      <td>2009-01-01</td>\n",
       "      <td>2916.666667</td>\n",
       "      <td>1000.0</td>\n",
       "      <td>0.342857</td>\n",
       "    </tr>\n",
       "    <tr>\n",
       "      <th>0</th>\n",
       "      <td>2010-01-01</td>\n",
       "      <td>2883.333333</td>\n",
       "      <td>1000.0</td>\n",
       "      <td>0.346821</td>\n",
       "    </tr>\n",
       "    <tr>\n",
       "      <th>0</th>\n",
       "      <td>2011-01-01</td>\n",
       "      <td>2825.000000</td>\n",
       "      <td>1000.0</td>\n",
       "      <td>0.353982</td>\n",
       "    </tr>\n",
       "    <tr>\n",
       "      <th>0</th>\n",
       "      <td>2012-01-01</td>\n",
       "      <td>2650.000000</td>\n",
       "      <td>1100.0</td>\n",
       "      <td>0.415094</td>\n",
       "    </tr>\n",
       "    <tr>\n",
       "      <th>0</th>\n",
       "      <td>2013-01-01</td>\n",
       "      <td>3333.333333</td>\n",
       "      <td>1100.0</td>\n",
       "      <td>0.330000</td>\n",
       "    </tr>\n",
       "    <tr>\n",
       "      <th>0</th>\n",
       "      <td>2014-01-01</td>\n",
       "      <td>2916.666667</td>\n",
       "      <td>1200.0</td>\n",
       "      <td>0.411429</td>\n",
       "    </tr>\n",
       "    <tr>\n",
       "      <th>0</th>\n",
       "      <td>2015-01-01</td>\n",
       "      <td>2833.333333</td>\n",
       "      <td>1200.0</td>\n",
       "      <td>0.423529</td>\n",
       "    </tr>\n",
       "    <tr>\n",
       "      <th>0</th>\n",
       "      <td>2016-01-01</td>\n",
       "      <td>3741.666667</td>\n",
       "      <td>1300.0</td>\n",
       "      <td>0.347439</td>\n",
       "    </tr>\n",
       "    <tr>\n",
       "      <th>0</th>\n",
       "      <td>2017-01-01</td>\n",
       "      <td>3450.000000</td>\n",
       "      <td>1300.0</td>\n",
       "      <td>0.376812</td>\n",
       "    </tr>\n",
       "  </tbody>\n",
       "</table>\n",
       "</div>"
      ],
      "text/plain": [
       "        Year   Fam_Income    Rent     Ratio\n",
       "0 2006-01-01  2337.500000  1000.0  0.427807\n",
       "0 2007-01-01  2916.666667  1000.0  0.342857\n",
       "0 2008-01-01  2883.333333  1100.0  0.381503\n",
       "0 2009-01-01  2916.666667  1000.0  0.342857\n",
       "0 2010-01-01  2883.333333  1000.0  0.346821\n",
       "0 2011-01-01  2825.000000  1000.0  0.353982\n",
       "0 2012-01-01  2650.000000  1100.0  0.415094\n",
       "0 2013-01-01  3333.333333  1100.0  0.330000\n",
       "0 2014-01-01  2916.666667  1200.0  0.411429\n",
       "0 2015-01-01  2833.333333  1200.0  0.423529\n",
       "0 2016-01-01  3741.666667  1300.0  0.347439\n",
       "0 2017-01-01  3450.000000  1300.0  0.376812"
      ]
     },
     "execution_count": 12,
     "metadata": {},
     "output_type": "execute_result"
    }
   ],
   "source": [
    "fam_income"
   ]
  },
  {
   "cell_type": "code",
   "execution_count": 13,
   "metadata": {},
   "outputs": [
    {
     "data": {
      "application/vnd.vegalite.v2+json": {
       "$schema": "https://vega.github.io/schema/vega-lite/v2.6.0.json",
       "config": {
        "view": {
         "height": 300,
         "strokeWidth": 0,
         "width": 400
        }
       },
       "data": {
        "name": "data-a79ad38b2d29bf3bc9ba479d9111ac73"
       },
       "datasets": {
        "data-a79ad38b2d29bf3bc9ba479d9111ac73": [
         {
          "Fam_Income": 2337.5,
          "Ratio": 0.42780748663101603,
          "Rent": 1000,
          "Year": "2006-01-01T00:00:00"
         },
         {
          "Fam_Income": 2916.6666666666665,
          "Ratio": 0.34285714285714286,
          "Rent": 1000,
          "Year": "2007-01-01T00:00:00"
         },
         {
          "Fam_Income": 2883.3333333333335,
          "Ratio": 0.3815028901734104,
          "Rent": 1100,
          "Year": "2008-01-01T00:00:00"
         },
         {
          "Fam_Income": 2916.6666666666665,
          "Ratio": 0.34285714285714286,
          "Rent": 1000,
          "Year": "2009-01-01T00:00:00"
         },
         {
          "Fam_Income": 2883.3333333333335,
          "Ratio": 0.3468208092485549,
          "Rent": 1000,
          "Year": "2010-01-01T00:00:00"
         },
         {
          "Fam_Income": 2825,
          "Ratio": 0.35398230088495575,
          "Rent": 1000,
          "Year": "2011-01-01T00:00:00"
         },
         {
          "Fam_Income": 2650,
          "Ratio": 0.41509433962264153,
          "Rent": 1100,
          "Year": "2012-01-01T00:00:00"
         },
         {
          "Fam_Income": 3333.3333333333335,
          "Ratio": 0.32999999999999996,
          "Rent": 1100,
          "Year": "2013-01-01T00:00:00"
         },
         {
          "Fam_Income": 2916.6666666666665,
          "Ratio": 0.4114285714285715,
          "Rent": 1200,
          "Year": "2014-01-01T00:00:00"
         },
         {
          "Fam_Income": 2833.3333333333335,
          "Ratio": 0.4235294117647059,
          "Rent": 1200,
          "Year": "2015-01-01T00:00:00"
         },
         {
          "Fam_Income": 3741.6666666666665,
          "Ratio": 0.34743875278396436,
          "Rent": 1300,
          "Year": "2016-01-01T00:00:00"
         },
         {
          "Fam_Income": 3450,
          "Ratio": 0.37681159420289856,
          "Rent": 1300,
          "Year": "2017-01-01T00:00:00"
         }
        ]
       },
       "encoding": {
        "x": {
         "axis": {
          "grid": false,
          "labelFlush": false
         },
         "field": "Year",
         "title": null,
         "type": "temporal"
        },
        "y": {
         "axis": {
          "format": "%",
          "offset": 1
         },
         "field": "Ratio",
         "title": null,
         "type": "quantitative"
        }
       },
       "mark": {
        "strokeWidth": 4,
        "type": "line"
       },
       "title": "Median Rent - Percentage of Family Median Income",
       "width": 500
      },
      "image/png": "[encoded data removed]",
      "text/plain": [
       "<VegaLite 2 object>\n",
       "\n",
       "If you see this message, it means the renderer has not been properly enabled\n",
       "for the frontend that you are using. For more information, see\n",
       "https://altair-viz.github.io/user_guide/troubleshooting.html\n"
      ]
     },
     "execution_count": 13,
     "metadata": {},
     "output_type": "execute_result"
    }
   ],
   "source": [
    "alt.Chart(fam_income).mark_line(strokeWidth=4).encode(\n",
    "    x=alt.X('Year', title=None, axis=alt.Axis(grid=False, labelFlush=False)), \n",
    "    y=alt.Y('Ratio', axis=alt.Axis(offset=1, format='%'), title=None)\n",
    ").properties(title='Median Rent - Percentage of Family Median Income', width=500).configure_view(strokeWidth=0)"
   ]
  }
 ],
 "metadata": {
  "kernelspec": {
   "display_name": "Python 3",
   "language": "python",
   "name": "python3"
  },
  "language_info": {
   "codemirror_mode": {
    "name": "ipython",
    "version": 3
   },
   "file_extension": ".py",
   "mimetype": "text/x-python",
   "name": "python",
   "nbconvert_exporter": "python",
   "pygments_lexer": "ipython3",
   "version": "3.6.2"
  }
 },
 "nbformat": 4,
 "nbformat_minor": 2
}
