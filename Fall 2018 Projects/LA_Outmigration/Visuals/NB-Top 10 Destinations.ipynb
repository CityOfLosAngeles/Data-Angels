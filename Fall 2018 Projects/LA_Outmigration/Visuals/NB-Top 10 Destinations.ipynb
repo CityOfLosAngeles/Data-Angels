{
 "cells": [
  {
   "cell_type": "markdown",
   "metadata": {},
   "source": [
    "### Top 10 Destinations of LA Out Migrators"
   ]
  },
  {
   "cell_type": "code",
   "execution_count": 1,
   "metadata": {},
   "outputs": [],
   "source": [
    "import pandas as pd\n",
    "import numpy as np\n",
    "import altair as alt"
   ]
  },
  {
   "cell_type": "code",
   "execution_count": 52,
   "metadata": {},
   "outputs": [],
   "source": [
    "outmigrators = pd.read_csv('ipums_clean.csv')"
   ]
  },
  {
   "cell_type": "code",
   "execution_count": 53,
   "metadata": {},
   "outputs": [
    {
     "data": {
      "text/plain": [
       "Index(['Riverside-San Bernardino-Ontario, CA', 'San Diego-Carlsbad, CA',\n",
       "       'San Francisco-Oakland-Hayward, CA', 'Bakersfield, CA',\n",
       "       'Las Vegas-Henderson-Paradise, NV', 'Oxnard-Thousand Oaks-Ventura, CA',\n",
       "       'Phoenix-Mesa-Scottsdale, AZ',\n",
       "       'Sacramento--Roseville--Arden-Arcade, CA',\n",
       "       'Dallas-Fort Worth-Arlington, TX',\n",
       "       'New York-Newark-Jersey City, NY-NJ-PA'],\n",
       "      dtype='object')"
      ]
     },
     "execution_count": 53,
     "metadata": {},
     "output_type": "execute_result"
    }
   ],
   "source": [
    "outmigrators.MET2013.value_counts()[:10].index"
   ]
  },
  {
   "cell_type": "code",
   "execution_count": 54,
   "metadata": {},
   "outputs": [],
   "source": [
    "dest_abbrev = {'Riverside-San Bernardino-Ontario, CA':'Riverside/SB/Ontario, CA', \n",
    "               'San Diego-Carlsbad, CA': 'San Diego-Carlsbad, CA',\n",
    "               'San Francisco-Oakland-Hayward, CA':'SF/Oakland, CA', \n",
    "               'Bakersfield, CA':'Bakersfield, CA',\n",
    "               'Las Vegas-Henderson-Paradise, NV':'Las Vegas, NV', \n",
    "               'Oxnard-Thousand Oaks-Ventura, CA':'Oxnard/Ventura/1000 Oaks, CA',\n",
    "               'Phoenix-Mesa-Scottsdale, AZ':'Phoenix/Scottsdale, AZ',\n",
    "               'Sacramento--Roseville--Arden-Arcade, CA': 'Sacramento, CA',\n",
    "               'Dallas-Fort Worth-Arlington, TX':'Dallas/FW/Arlington, TX',\n",
    "               'New York-Newark-Jersey City, NY-NJ-PA':'NY/Newark/Jersey City, NY-NJ-PA'}"
   ]
  },
  {
   "cell_type": "code",
   "execution_count": 55,
   "metadata": {},
   "outputs": [],
   "source": [
    "outmigrators.MET2013 = outmigrators.MET2013.map(dest_abbrev)"
   ]
  },
  {
   "cell_type": "code",
   "execution_count": 56,
   "metadata": {},
   "outputs": [
    {
     "data": {
      "text/plain": [
       "Index(['Riverside/SB/Ontario, CA', 'San Diego-Carlsbad, CA', 'SF/Oakland, CA',\n",
       "       'Bakersfield, CA', 'Las Vegas, NV', 'Oxnard/Ventura/1000 Oaks, CA',\n",
       "       'Phoenix/Scottsdale, AZ', 'Sacramento, CA', 'Dallas/FW/Arlington, TX',\n",
       "       'NY/Newark/Jersey City, NY-NJ-PA'],\n",
       "      dtype='object')"
      ]
     },
     "execution_count": 56,
     "metadata": {},
     "output_type": "execute_result"
    }
   ],
   "source": [
    "top10_dest = outmigrators.MET2013.value_counts()[:10].index\n",
    "top10_dest"
   ]
  },
  {
   "cell_type": "code",
   "execution_count": 57,
   "metadata": {},
   "outputs": [],
   "source": [
    "destination = pd.DataFrame()\n",
    "for year in range(2006, 2018):\n",
    "    df = outmigrators[outmigrators.YEAR == year]\n",
    "    counts = {}\n",
    "    \n",
    "    for dest in top10_dest:\n",
    "        count = df.PERWT[df.MET2013 == dest].sum()\n",
    "        counts[dest] = count\n",
    "        \n",
    "    dest_df = pd.DataFrame.from_dict(counts, orient='index')\n",
    "    dest_df = dest_df.reset_index().rename({'index':'Destination', 0:'Count'}, axis=1)\n",
    "    dest_df['Year'] = np.full(len(dest_df), year)\n",
    "    \n",
    "    destination = pd.concat([destination, dest_df])"
   ]
  },
  {
   "cell_type": "code",
   "execution_count": 58,
   "metadata": {},
   "outputs": [
    {
     "data": {
      "application/vnd.vegalite.v2+json": {
       "$schema": "https://vega.github.io/schema/vega-lite/v2.6.0.json",
       "background": "white",
       "config": {
        "axis": {
         "labelAngle": 0
        },
        "legend": {
         "labelFontSize": 13,
         "symbolSize": 30,
         "symbolStrokeWidth": 5.5
        },
        "view": {
         "height": 300,
         "strokeWidth": 0,
         "width": 400
        }
       },
       "data": {
        "name": "data-c1515e0619a859fd41c71229b9c0be9d"
       },
       "datasets": {
        "data-c1515e0619a859fd41c71229b9c0be9d": [
         {
          "Count": 141439,
          "Destination": "Riverside/SB/Ontario, CA",
          "Year": 2006
         },
         {
          "Count": 23336,
          "Destination": "San Diego-Carlsbad, CA",
          "Year": 2006
         },
         {
          "Count": 16198,
          "Destination": "SF/Oakland, CA",
          "Year": 2006
         },
         {
          "Count": 17762,
          "Destination": "Bakersfield, CA",
          "Year": 2006
         },
         {
          "Count": 21592,
          "Destination": "Las Vegas, NV",
          "Year": 2006
         },
         {
          "Count": 13103,
          "Destination": "Oxnard/Ventura/1000 Oaks, CA",
          "Year": 2006
         },
         {
          "Count": 18045,
          "Destination": "Phoenix/Scottsdale, AZ",
          "Year": 2006
         },
         {
          "Count": 8889,
          "Destination": "Sacramento, CA",
          "Year": 2006
         },
         {
          "Count": 14400,
          "Destination": "Dallas/FW/Arlington, TX",
          "Year": 2006
         },
         {
          "Count": 10175,
          "Destination": "NY/Newark/Jersey City, NY-NJ-PA",
          "Year": 2006
         },
         {
          "Count": 113135,
          "Destination": "Riverside/SB/Ontario, CA",
          "Year": 2007
         },
         {
          "Count": 28083,
          "Destination": "San Diego-Carlsbad, CA",
          "Year": 2007
         },
         {
          "Count": 15486,
          "Destination": "SF/Oakland, CA",
          "Year": 2007
         },
         {
          "Count": 21120,
          "Destination": "Bakersfield, CA",
          "Year": 2007
         },
         {
          "Count": 19144,
          "Destination": "Las Vegas, NV",
          "Year": 2007
         },
         {
          "Count": 12012,
          "Destination": "Oxnard/Ventura/1000 Oaks, CA",
          "Year": 2007
         },
         {
          "Count": 19440,
          "Destination": "Phoenix/Scottsdale, AZ",
          "Year": 2007
         },
         {
          "Count": 7703,
          "Destination": "Sacramento, CA",
          "Year": 2007
         },
         {
          "Count": 9209,
          "Destination": "Dallas/FW/Arlington, TX",
          "Year": 2007
         },
         {
          "Count": 8239,
          "Destination": "NY/Newark/Jersey City, NY-NJ-PA",
          "Year": 2007
         },
         {
          "Count": 77690,
          "Destination": "Riverside/SB/Ontario, CA",
          "Year": 2008
         },
         {
          "Count": 23360,
          "Destination": "San Diego-Carlsbad, CA",
          "Year": 2008
         },
         {
          "Count": 19510,
          "Destination": "SF/Oakland, CA",
          "Year": 2008
         },
         {
          "Count": 14879,
          "Destination": "Bakersfield, CA",
          "Year": 2008
         },
         {
          "Count": 13785,
          "Destination": "Las Vegas, NV",
          "Year": 2008
         },
         {
          "Count": 10390,
          "Destination": "Oxnard/Ventura/1000 Oaks, CA",
          "Year": 2008
         },
         {
          "Count": 8682,
          "Destination": "Phoenix/Scottsdale, AZ",
          "Year": 2008
         },
         {
          "Count": 6980,
          "Destination": "Sacramento, CA",
          "Year": 2008
         },
         {
          "Count": 8666,
          "Destination": "Dallas/FW/Arlington, TX",
          "Year": 2008
         },
         {
          "Count": 6154,
          "Destination": "NY/Newark/Jersey City, NY-NJ-PA",
          "Year": 2008
         },
         {
          "Count": 106411,
          "Destination": "Riverside/SB/Ontario, CA",
          "Year": 2009
         },
         {
          "Count": 20837,
          "Destination": "San Diego-Carlsbad, CA",
          "Year": 2009
         },
         {
          "Count": 11388,
          "Destination": "SF/Oakland, CA",
          "Year": 2009
         },
         {
          "Count": 9937,
          "Destination": "Bakersfield, CA",
          "Year": 2009
         },
         {
          "Count": 10854,
          "Destination": "Las Vegas, NV",
          "Year": 2009
         },
         {
          "Count": 14566,
          "Destination": "Oxnard/Ventura/1000 Oaks, CA",
          "Year": 2009
         },
         {
          "Count": 8655,
          "Destination": "Phoenix/Scottsdale, AZ",
          "Year": 2009
         },
         {
          "Count": 8524,
          "Destination": "Sacramento, CA",
          "Year": 2009
         },
         {
          "Count": 7583,
          "Destination": "Dallas/FW/Arlington, TX",
          "Year": 2009
         },
         {
          "Count": 8109,
          "Destination": "NY/Newark/Jersey City, NY-NJ-PA",
          "Year": 2009
         },
         {
          "Count": 99975,
          "Destination": "Riverside/SB/Ontario, CA",
          "Year": 2010
         },
         {
          "Count": 17786,
          "Destination": "San Diego-Carlsbad, CA",
          "Year": 2010
         },
         {
          "Count": 13699,
          "Destination": "SF/Oakland, CA",
          "Year": 2010
         },
         {
          "Count": 12974,
          "Destination": "Bakersfield, CA",
          "Year": 2010
         },
         {
          "Count": 11601,
          "Destination": "Las Vegas, NV",
          "Year": 2010
         },
         {
          "Count": 18044,
          "Destination": "Oxnard/Ventura/1000 Oaks, CA",
          "Year": 2010
         },
         {
          "Count": 7600,
          "Destination": "Phoenix/Scottsdale, AZ",
          "Year": 2010
         },
         {
          "Count": 6124,
          "Destination": "Sacramento, CA",
          "Year": 2010
         },
         {
          "Count": 6954,
          "Destination": "Dallas/FW/Arlington, TX",
          "Year": 2010
         },
         {
          "Count": 8792,
          "Destination": "NY/Newark/Jersey City, NY-NJ-PA",
          "Year": 2010
         },
         {
          "Count": 87528,
          "Destination": "Riverside/SB/Ontario, CA",
          "Year": 2011
         },
         {
          "Count": 18122,
          "Destination": "San Diego-Carlsbad, CA",
          "Year": 2011
         },
         {
          "Count": 20700,
          "Destination": "SF/Oakland, CA",
          "Year": 2011
         },
         {
          "Count": 6643,
          "Destination": "Bakersfield, CA",
          "Year": 2011
         },
         {
          "Count": 8345,
          "Destination": "Las Vegas, NV",
          "Year": 2011
         },
         {
          "Count": 12051,
          "Destination": "Oxnard/Ventura/1000 Oaks, CA",
          "Year": 2011
         },
         {
          "Count": 6193,
          "Destination": "Phoenix/Scottsdale, AZ",
          "Year": 2011
         },
         {
          "Count": 4237,
          "Destination": "Sacramento, CA",
          "Year": 2011
         },
         {
          "Count": 6388,
          "Destination": "Dallas/FW/Arlington, TX",
          "Year": 2011
         },
         {
          "Count": 9551,
          "Destination": "NY/Newark/Jersey City, NY-NJ-PA",
          "Year": 2011
         },
         {
          "Count": 70395,
          "Destination": "Riverside/SB/Ontario, CA",
          "Year": 2012
         },
         {
          "Count": 20758,
          "Destination": "San Diego-Carlsbad, CA",
          "Year": 2012
         },
         {
          "Count": 14947,
          "Destination": "SF/Oakland, CA",
          "Year": 2012
         },
         {
          "Count": 12984,
          "Destination": "Bakersfield, CA",
          "Year": 2012
         },
         {
          "Count": 13741,
          "Destination": "Las Vegas, NV",
          "Year": 2012
         },
         {
          "Count": 10974,
          "Destination": "Oxnard/Ventura/1000 Oaks, CA",
          "Year": 2012
         },
         {
          "Count": 5439,
          "Destination": "Phoenix/Scottsdale, AZ",
          "Year": 2012
         },
         {
          "Count": 5629,
          "Destination": "Sacramento, CA",
          "Year": 2012
         },
         {
          "Count": 5697,
          "Destination": "Dallas/FW/Arlington, TX",
          "Year": 2012
         },
         {
          "Count": 7218,
          "Destination": "NY/Newark/Jersey City, NY-NJ-PA",
          "Year": 2012
         },
         {
          "Count": 79759,
          "Destination": "Riverside/SB/Ontario, CA",
          "Year": 2013
         },
         {
          "Count": 13698,
          "Destination": "San Diego-Carlsbad, CA",
          "Year": 2013
         },
         {
          "Count": 17056,
          "Destination": "SF/Oakland, CA",
          "Year": 2013
         },
         {
          "Count": 10996,
          "Destination": "Bakersfield, CA",
          "Year": 2013
         },
         {
          "Count": 15397,
          "Destination": "Las Vegas, NV",
          "Year": 2013
         },
         {
          "Count": 12278,
          "Destination": "Oxnard/Ventura/1000 Oaks, CA",
          "Year": 2013
         },
         {
          "Count": 12050,
          "Destination": "Phoenix/Scottsdale, AZ",
          "Year": 2013
         },
         {
          "Count": 10010,
          "Destination": "Sacramento, CA",
          "Year": 2013
         },
         {
          "Count": 8900,
          "Destination": "Dallas/FW/Arlington, TX",
          "Year": 2013
         },
         {
          "Count": 9498,
          "Destination": "NY/Newark/Jersey City, NY-NJ-PA",
          "Year": 2013
         },
         {
          "Count": 96262,
          "Destination": "Riverside/SB/Ontario, CA",
          "Year": 2014
         },
         {
          "Count": 15001,
          "Destination": "San Diego-Carlsbad, CA",
          "Year": 2014
         },
         {
          "Count": 16490,
          "Destination": "SF/Oakland, CA",
          "Year": 2014
         },
         {
          "Count": 14556,
          "Destination": "Bakersfield, CA",
          "Year": 2014
         },
         {
          "Count": 16933,
          "Destination": "Las Vegas, NV",
          "Year": 2014
         },
         {
          "Count": 10644,
          "Destination": "Oxnard/Ventura/1000 Oaks, CA",
          "Year": 2014
         },
         {
          "Count": 12408,
          "Destination": "Phoenix/Scottsdale, AZ",
          "Year": 2014
         },
         {
          "Count": 9705,
          "Destination": "Sacramento, CA",
          "Year": 2014
         },
         {
          "Count": 7799,
          "Destination": "Dallas/FW/Arlington, TX",
          "Year": 2014
         },
         {
          "Count": 11297,
          "Destination": "NY/Newark/Jersey City, NY-NJ-PA",
          "Year": 2014
         },
         {
          "Count": 84353,
          "Destination": "Riverside/SB/Ontario, CA",
          "Year": 2015
         },
         {
          "Count": 18649,
          "Destination": "San Diego-Carlsbad, CA",
          "Year": 2015
         },
         {
          "Count": 15981,
          "Destination": "SF/Oakland, CA",
          "Year": 2015
         },
         {
          "Count": 11751,
          "Destination": "Bakersfield, CA",
          "Year": 2015
         },
         {
          "Count": 22412,
          "Destination": "Las Vegas, NV",
          "Year": 2015
         },
         {
          "Count": 10182,
          "Destination": "Oxnard/Ventura/1000 Oaks, CA",
          "Year": 2015
         },
         {
          "Count": 14515,
          "Destination": "Phoenix/Scottsdale, AZ",
          "Year": 2015
         },
         {
          "Count": 10545,
          "Destination": "Sacramento, CA",
          "Year": 2015
         },
         {
          "Count": 11603,
          "Destination": "Dallas/FW/Arlington, TX",
          "Year": 2015
         },
         {
          "Count": 9040,
          "Destination": "NY/Newark/Jersey City, NY-NJ-PA",
          "Year": 2015
         },
         {
          "Count": 92227,
          "Destination": "Riverside/SB/Ontario, CA",
          "Year": 2016
         },
         {
          "Count": 18359,
          "Destination": "San Diego-Carlsbad, CA",
          "Year": 2016
         },
         {
          "Count": 25010,
          "Destination": "SF/Oakland, CA",
          "Year": 2016
         },
         {
          "Count": 11343,
          "Destination": "Bakersfield, CA",
          "Year": 2016
         },
         {
          "Count": 14183,
          "Destination": "Las Vegas, NV",
          "Year": 2016
         },
         {
          "Count": 13243,
          "Destination": "Oxnard/Ventura/1000 Oaks, CA",
          "Year": 2016
         },
         {
          "Count": 15661,
          "Destination": "Phoenix/Scottsdale, AZ",
          "Year": 2016
         },
         {
          "Count": 13912,
          "Destination": "Sacramento, CA",
          "Year": 2016
         },
         {
          "Count": 11372,
          "Destination": "Dallas/FW/Arlington, TX",
          "Year": 2016
         },
         {
          "Count": 6228,
          "Destination": "NY/Newark/Jersey City, NY-NJ-PA",
          "Year": 2016
         },
         {
          "Count": 84838,
          "Destination": "Riverside/SB/Ontario, CA",
          "Year": 2017
         },
         {
          "Count": 15926,
          "Destination": "San Diego-Carlsbad, CA",
          "Year": 2017
         },
         {
          "Count": 20480,
          "Destination": "SF/Oakland, CA",
          "Year": 2017
         },
         {
          "Count": 18696,
          "Destination": "Bakersfield, CA",
          "Year": 2017
         },
         {
          "Count": 15465,
          "Destination": "Las Vegas, NV",
          "Year": 2017
         },
         {
          "Count": 10639,
          "Destination": "Oxnard/Ventura/1000 Oaks, CA",
          "Year": 2017
         },
         {
          "Count": 8368,
          "Destination": "Phoenix/Scottsdale, AZ",
          "Year": 2017
         },
         {
          "Count": 10730,
          "Destination": "Sacramento, CA",
          "Year": 2017
         },
         {
          "Count": 11695,
          "Destination": "Dallas/FW/Arlington, TX",
          "Year": 2017
         },
         {
          "Count": 8674,
          "Destination": "NY/Newark/Jersey City, NY-NJ-PA",
          "Year": 2017
         }
        ]
       },
       "encoding": {
        "color": {
         "field": "Destination",
         "title": null,
         "type": "nominal"
        },
        "x": {
         "axis": {
          "grid": false
         },
         "field": "Year",
         "title": "Year",
         "type": "ordinal"
        },
        "y": {
         "field": "Count",
         "title": "Number of Out Migrators",
         "type": "quantitative"
        }
       },
       "mark": {
        "strokeCap": "round",
        "strokeWidth": 4,
        "type": "line"
       },
       "title": {
        "anchor": "middle",
        "offset": 30,
        "text": "LA Out Migration - Top 10 Destinations"
       },
       "width": 500
      },
      "image/png": "[encoded data removed]",
      "text/plain": [
       "<VegaLite 2 object>\n",
       "\n",
       "If you see this message, it means the renderer has not been properly enabled\n",
       "for the frontend that you are using. For more information, see\n",
       "https://altair-viz.github.io/user_guide/troubleshooting.html\n"
      ]
     },
     "execution_count": 58,
     "metadata": {},
     "output_type": "execute_result"
    }
   ],
   "source": [
    "#Plotting top 7 via Altair\n",
    "title=alt.TitleParams(text='LA Out Migration - Top 10 Destinations', offset=30, anchor='middle')\n",
    "\n",
    "top10 = alt.Chart(destination).configure_axis(labelAngle=0).mark_line(strokeWidth=4, strokeCap='round').encode(\n",
    "    x=alt.X('Year:O', \n",
    "            title='Year', \n",
    "            axis=alt.Axis(grid=False)), \n",
    "    y=alt.Y('Count', \n",
    "            title='Number of Out Migrators'), \n",
    "    color=alt.Color('Destination', \n",
    "                    title=None\n",
    ")).properties(width=500, \n",
    "              title=title,\n",
    "              background='white'\n",
    ").configure_legend(labelFontSize=13, \n",
    "                   symbolStrokeWidth=5.5, \n",
    "                   symbolSize=30\n",
    ").configure_view(strokeWidth=0)\n",
    "\n",
    "top10"
   ]
  },
  {
   "cell_type": "markdown",
   "metadata": {},
   "source": [
    "---"
   ]
  },
  {
   "cell_type": "markdown",
   "metadata": {},
   "source": [
    "Excluding Riverside/SB:"
   ]
  },
  {
   "cell_type": "code",
   "execution_count": 59,
   "metadata": {},
   "outputs": [],
   "source": [
    "destination_no_riv_sb = pd.DataFrame()\n",
    "for year in range(2006, 2018):\n",
    "    df = outmigrators[outmigrators.YEAR == year]\n",
    "    counts = {}\n",
    "    \n",
    "    for dest in top10_dest[1:]:  #Excluding Riverside/SB\n",
    "        count = df.PERWT[df.MET2013 == dest].sum()\n",
    "        counts[dest] = count\n",
    "        \n",
    "    dest_df = pd.DataFrame.from_dict(counts, orient='index')\n",
    "    dest_df = dest_df.reset_index().rename({'index':'Destination', 0:'Count'}, axis=1)\n",
    "    dest_df['Year'] = np.full(len(dest_df), year)\n",
    "    \n",
    "    destination_no_riv_sb = pd.concat([destination_no_riv_sb, dest_df])"
   ]
  },
  {
   "cell_type": "code",
   "execution_count": 60,
   "metadata": {},
   "outputs": [
    {
     "data": {
      "application/vnd.vegalite.v2+json": {
       "$schema": "https://vega.github.io/schema/vega-lite/v2.6.0.json",
       "background": "white",
       "config": {
        "axis": {
         "labelAngle": 0
        },
        "legend": {
         "labelFontSize": 13,
         "symbolSize": 30,
         "symbolStrokeWidth": 5.5
        },
        "view": {
         "height": 300,
         "strokeWidth": 0,
         "width": 400
        }
       },
       "data": {
        "name": "data-67b082ebfa87e27d567d33163a045c63"
       },
       "datasets": {
        "data-67b082ebfa87e27d567d33163a045c63": [
         {
          "Count": 23336,
          "Destination": "San Diego-Carlsbad, CA",
          "Year": 2006
         },
         {
          "Count": 16198,
          "Destination": "SF/Oakland, CA",
          "Year": 2006
         },
         {
          "Count": 17762,
          "Destination": "Bakersfield, CA",
          "Year": 2006
         },
         {
          "Count": 21592,
          "Destination": "Las Vegas, NV",
          "Year": 2006
         },
         {
          "Count": 13103,
          "Destination": "Oxnard/Ventura/1000 Oaks, CA",
          "Year": 2006
         },
         {
          "Count": 18045,
          "Destination": "Phoenix/Scottsdale, AZ",
          "Year": 2006
         },
         {
          "Count": 8889,
          "Destination": "Sacramento, CA",
          "Year": 2006
         },
         {
          "Count": 14400,
          "Destination": "Dallas/FW/Arlington, TX",
          "Year": 2006
         },
         {
          "Count": 10175,
          "Destination": "NY/Newark/Jersey City, NY-NJ-PA",
          "Year": 2006
         },
         {
          "Count": 28083,
          "Destination": "San Diego-Carlsbad, CA",
          "Year": 2007
         },
         {
          "Count": 15486,
          "Destination": "SF/Oakland, CA",
          "Year": 2007
         },
         {
          "Count": 21120,
          "Destination": "Bakersfield, CA",
          "Year": 2007
         },
         {
          "Count": 19144,
          "Destination": "Las Vegas, NV",
          "Year": 2007
         },
         {
          "Count": 12012,
          "Destination": "Oxnard/Ventura/1000 Oaks, CA",
          "Year": 2007
         },
         {
          "Count": 19440,
          "Destination": "Phoenix/Scottsdale, AZ",
          "Year": 2007
         },
         {
          "Count": 7703,
          "Destination": "Sacramento, CA",
          "Year": 2007
         },
         {
          "Count": 9209,
          "Destination": "Dallas/FW/Arlington, TX",
          "Year": 2007
         },
         {
          "Count": 8239,
          "Destination": "NY/Newark/Jersey City, NY-NJ-PA",
          "Year": 2007
         },
         {
          "Count": 23360,
          "Destination": "San Diego-Carlsbad, CA",
          "Year": 2008
         },
         {
          "Count": 19510,
          "Destination": "SF/Oakland, CA",
          "Year": 2008
         },
         {
          "Count": 14879,
          "Destination": "Bakersfield, CA",
          "Year": 2008
         },
         {
          "Count": 13785,
          "Destination": "Las Vegas, NV",
          "Year": 2008
         },
         {
          "Count": 10390,
          "Destination": "Oxnard/Ventura/1000 Oaks, CA",
          "Year": 2008
         },
         {
          "Count": 8682,
          "Destination": "Phoenix/Scottsdale, AZ",
          "Year": 2008
         },
         {
          "Count": 6980,
          "Destination": "Sacramento, CA",
          "Year": 2008
         },
         {
          "Count": 8666,
          "Destination": "Dallas/FW/Arlington, TX",
          "Year": 2008
         },
         {
          "Count": 6154,
          "Destination": "NY/Newark/Jersey City, NY-NJ-PA",
          "Year": 2008
         },
         {
          "Count": 20837,
          "Destination": "San Diego-Carlsbad, CA",
          "Year": 2009
         },
         {
          "Count": 11388,
          "Destination": "SF/Oakland, CA",
          "Year": 2009
         },
         {
          "Count": 9937,
          "Destination": "Bakersfield, CA",
          "Year": 2009
         },
         {
          "Count": 10854,
          "Destination": "Las Vegas, NV",
          "Year": 2009
         },
         {
          "Count": 14566,
          "Destination": "Oxnard/Ventura/1000 Oaks, CA",
          "Year": 2009
         },
         {
          "Count": 8655,
          "Destination": "Phoenix/Scottsdale, AZ",
          "Year": 2009
         },
         {
          "Count": 8524,
          "Destination": "Sacramento, CA",
          "Year": 2009
         },
         {
          "Count": 7583,
          "Destination": "Dallas/FW/Arlington, TX",
          "Year": 2009
         },
         {
          "Count": 8109,
          "Destination": "NY/Newark/Jersey City, NY-NJ-PA",
          "Year": 2009
         },
         {
          "Count": 17786,
          "Destination": "San Diego-Carlsbad, CA",
          "Year": 2010
         },
         {
          "Count": 13699,
          "Destination": "SF/Oakland, CA",
          "Year": 2010
         },
         {
          "Count": 12974,
          "Destination": "Bakersfield, CA",
          "Year": 2010
         },
         {
          "Count": 11601,
          "Destination": "Las Vegas, NV",
          "Year": 2010
         },
         {
          "Count": 18044,
          "Destination": "Oxnard/Ventura/1000 Oaks, CA",
          "Year": 2010
         },
         {
          "Count": 7600,
          "Destination": "Phoenix/Scottsdale, AZ",
          "Year": 2010
         },
         {
          "Count": 6124,
          "Destination": "Sacramento, CA",
          "Year": 2010
         },
         {
          "Count": 6954,
          "Destination": "Dallas/FW/Arlington, TX",
          "Year": 2010
         },
         {
          "Count": 8792,
          "Destination": "NY/Newark/Jersey City, NY-NJ-PA",
          "Year": 2010
         },
         {
          "Count": 18122,
          "Destination": "San Diego-Carlsbad, CA",
          "Year": 2011
         },
         {
          "Count": 20700,
          "Destination": "SF/Oakland, CA",
          "Year": 2011
         },
         {
          "Count": 6643,
          "Destination": "Bakersfield, CA",
          "Year": 2011
         },
         {
          "Count": 8345,
          "Destination": "Las Vegas, NV",
          "Year": 2011
         },
         {
          "Count": 12051,
          "Destination": "Oxnard/Ventura/1000 Oaks, CA",
          "Year": 2011
         },
         {
          "Count": 6193,
          "Destination": "Phoenix/Scottsdale, AZ",
          "Year": 2011
         },
         {
          "Count": 4237,
          "Destination": "Sacramento, CA",
          "Year": 2011
         },
         {
          "Count": 6388,
          "Destination": "Dallas/FW/Arlington, TX",
          "Year": 2011
         },
         {
          "Count": 9551,
          "Destination": "NY/Newark/Jersey City, NY-NJ-PA",
          "Year": 2011
         },
         {
          "Count": 20758,
          "Destination": "San Diego-Carlsbad, CA",
          "Year": 2012
         },
         {
          "Count": 14947,
          "Destination": "SF/Oakland, CA",
          "Year": 2012
         },
         {
          "Count": 12984,
          "Destination": "Bakersfield, CA",
          "Year": 2012
         },
         {
          "Count": 13741,
          "Destination": "Las Vegas, NV",
          "Year": 2012
         },
         {
          "Count": 10974,
          "Destination": "Oxnard/Ventura/1000 Oaks, CA",
          "Year": 2012
         },
         {
          "Count": 5439,
          "Destination": "Phoenix/Scottsdale, AZ",
          "Year": 2012
         },
         {
          "Count": 5629,
          "Destination": "Sacramento, CA",
          "Year": 2012
         },
         {
          "Count": 5697,
          "Destination": "Dallas/FW/Arlington, TX",
          "Year": 2012
         },
         {
          "Count": 7218,
          "Destination": "NY/Newark/Jersey City, NY-NJ-PA",
          "Year": 2012
         },
         {
          "Count": 13698,
          "Destination": "San Diego-Carlsbad, CA",
          "Year": 2013
         },
         {
          "Count": 17056,
          "Destination": "SF/Oakland, CA",
          "Year": 2013
         },
         {
          "Count": 10996,
          "Destination": "Bakersfield, CA",
          "Year": 2013
         },
         {
          "Count": 15397,
          "Destination": "Las Vegas, NV",
          "Year": 2013
         },
         {
          "Count": 12278,
          "Destination": "Oxnard/Ventura/1000 Oaks, CA",
          "Year": 2013
         },
         {
          "Count": 12050,
          "Destination": "Phoenix/Scottsdale, AZ",
          "Year": 2013
         },
         {
          "Count": 10010,
          "Destination": "Sacramento, CA",
          "Year": 2013
         },
         {
          "Count": 8900,
          "Destination": "Dallas/FW/Arlington, TX",
          "Year": 2013
         },
         {
          "Count": 9498,
          "Destination": "NY/Newark/Jersey City, NY-NJ-PA",
          "Year": 2013
         },
         {
          "Count": 15001,
          "Destination": "San Diego-Carlsbad, CA",
          "Year": 2014
         },
         {
          "Count": 16490,
          "Destination": "SF/Oakland, CA",
          "Year": 2014
         },
         {
          "Count": 14556,
          "Destination": "Bakersfield, CA",
          "Year": 2014
         },
         {
          "Count": 16933,
          "Destination": "Las Vegas, NV",
          "Year": 2014
         },
         {
          "Count": 10644,
          "Destination": "Oxnard/Ventura/1000 Oaks, CA",
          "Year": 2014
         },
         {
          "Count": 12408,
          "Destination": "Phoenix/Scottsdale, AZ",
          "Year": 2014
         },
         {
          "Count": 9705,
          "Destination": "Sacramento, CA",
          "Year": 2014
         },
         {
          "Count": 7799,
          "Destination": "Dallas/FW/Arlington, TX",
          "Year": 2014
         },
         {
          "Count": 11297,
          "Destination": "NY/Newark/Jersey City, NY-NJ-PA",
          "Year": 2014
         },
         {
          "Count": 18649,
          "Destination": "San Diego-Carlsbad, CA",
          "Year": 2015
         },
         {
          "Count": 15981,
          "Destination": "SF/Oakland, CA",
          "Year": 2015
         },
         {
          "Count": 11751,
          "Destination": "Bakersfield, CA",
          "Year": 2015
         },
         {
          "Count": 22412,
          "Destination": "Las Vegas, NV",
          "Year": 2015
         },
         {
          "Count": 10182,
          "Destination": "Oxnard/Ventura/1000 Oaks, CA",
          "Year": 2015
         },
         {
          "Count": 14515,
          "Destination": "Phoenix/Scottsdale, AZ",
          "Year": 2015
         },
         {
          "Count": 10545,
          "Destination": "Sacramento, CA",
          "Year": 2015
         },
         {
          "Count": 11603,
          "Destination": "Dallas/FW/Arlington, TX",
          "Year": 2015
         },
         {
          "Count": 9040,
          "Destination": "NY/Newark/Jersey City, NY-NJ-PA",
          "Year": 2015
         },
         {
          "Count": 18359,
          "Destination": "San Diego-Carlsbad, CA",
          "Year": 2016
         },
         {
          "Count": 25010,
          "Destination": "SF/Oakland, CA",
          "Year": 2016
         },
         {
          "Count": 11343,
          "Destination": "Bakersfield, CA",
          "Year": 2016
         },
         {
          "Count": 14183,
          "Destination": "Las Vegas, NV",
          "Year": 2016
         },
         {
          "Count": 13243,
          "Destination": "Oxnard/Ventura/1000 Oaks, CA",
          "Year": 2016
         },
         {
          "Count": 15661,
          "Destination": "Phoenix/Scottsdale, AZ",
          "Year": 2016
         },
         {
          "Count": 13912,
          "Destination": "Sacramento, CA",
          "Year": 2016
         },
         {
          "Count": 11372,
          "Destination": "Dallas/FW/Arlington, TX",
          "Year": 2016
         },
         {
          "Count": 6228,
          "Destination": "NY/Newark/Jersey City, NY-NJ-PA",
          "Year": 2016
         },
         {
          "Count": 15926,
          "Destination": "San Diego-Carlsbad, CA",
          "Year": 2017
         },
         {
          "Count": 20480,
          "Destination": "SF/Oakland, CA",
          "Year": 2017
         },
         {
          "Count": 18696,
          "Destination": "Bakersfield, CA",
          "Year": 2017
         },
         {
          "Count": 15465,
          "Destination": "Las Vegas, NV",
          "Year": 2017
         },
         {
          "Count": 10639,
          "Destination": "Oxnard/Ventura/1000 Oaks, CA",
          "Year": 2017
         },
         {
          "Count": 8368,
          "Destination": "Phoenix/Scottsdale, AZ",
          "Year": 2017
         },
         {
          "Count": 10730,
          "Destination": "Sacramento, CA",
          "Year": 2017
         },
         {
          "Count": 11695,
          "Destination": "Dallas/FW/Arlington, TX",
          "Year": 2017
         },
         {
          "Count": 8674,
          "Destination": "NY/Newark/Jersey City, NY-NJ-PA",
          "Year": 2017
         }
        ]
       },
       "encoding": {
        "color": {
         "field": "Destination",
         "title": null,
         "type": "nominal"
        },
        "x": {
         "axis": {
          "grid": false
         },
         "field": "Year",
         "title": "Year",
         "type": "ordinal"
        },
        "y": {
         "field": "Count",
         "title": "Number of Out Migrators",
         "type": "quantitative"
        }
       },
       "mark": {
        "strokeCap": "round",
        "strokeWidth": 4,
        "type": "line"
       },
       "title": {
        "anchor": "middle",
        "offset": 30,
        "text": "LA Out Migration - Top 9 Destinations (Not Incl. Riv/SB)"
       },
       "width": 500
      },
      "image/png": "[encoded data removed]",
      "text/plain": [
       "<VegaLite 2 object>\n",
       "\n",
       "If you see this message, it means the renderer has not been properly enabled\n",
       "for the frontend that you are using. For more information, see\n",
       "https://altair-viz.github.io/user_guide/troubleshooting.html\n"
      ]
     },
     "execution_count": 60,
     "metadata": {},
     "output_type": "execute_result"
    }
   ],
   "source": [
    "#Plotting via Altair\n",
    "title=alt.TitleParams(text='LA Out Migration - Top 9 Destinations (Not Incl. Riv/SB)', offset=30, anchor='middle')\n",
    "\n",
    "no_rv_sb = alt.Chart(destination_no_riv_sb).configure_axis(labelAngle=0).mark_line(strokeWidth=4, strokeCap='round').encode(\n",
    "    x=alt.X('Year:O', \n",
    "            title='Year', \n",
    "            axis=alt.Axis(grid=False)), \n",
    "    y=alt.Y('Count', \n",
    "            title='Number of Out Migrators'), \n",
    "    color=alt.Color('Destination', \n",
    "                    title=None\n",
    ")).properties(width=500, \n",
    "              title=title,\n",
    "              background='white'\n",
    ").configure_legend(labelFontSize=13, \n",
    "                   symbolStrokeWidth=5.5, \n",
    "                   symbolSize=30\n",
    ").configure_view(strokeWidth=0)\n",
    "\n",
    "no_rv_sb"
   ]
  },
  {
   "cell_type": "code",
   "execution_count": null,
   "metadata": {},
   "outputs": [],
   "source": []
  }
 ],
 "metadata": {
  "kernelspec": {
   "display_name": "Python 3",
   "language": "python",
   "name": "python3"
  },
  "language_info": {
   "codemirror_mode": {
    "name": "ipython",
    "version": 3
   },
   "file_extension": ".py",
   "mimetype": "text/x-python",
   "name": "python",
   "nbconvert_exporter": "python",
   "pygments_lexer": "ipython3",
   "version": "3.6.2"
  }
 },
 "nbformat": 4,
 "nbformat_minor": 2
}
