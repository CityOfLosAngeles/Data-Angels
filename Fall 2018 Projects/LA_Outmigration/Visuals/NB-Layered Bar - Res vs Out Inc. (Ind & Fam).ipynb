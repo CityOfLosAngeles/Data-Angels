{
 "cells": [
  {
   "cell_type": "markdown",
   "metadata": {},
   "source": [
    "### Comparison of Resident & Outmigrator Median Incomes:\n",
    "(Analysis covers individual & family incomes)\n",
    "\n",
    "*Note: Does not apply PERWT"
   ]
  },
  {
   "cell_type": "code",
   "execution_count": 1,
   "metadata": {},
   "outputs": [],
   "source": [
    "import pandas as pd\n",
    "import numpy as np\n",
    "import altair as alt"
   ]
  },
  {
   "cell_type": "markdown",
   "metadata": {},
   "source": [
    "#### Resident Data:"
   ]
  },
  {
   "cell_type": "code",
   "execution_count": 2,
   "metadata": {},
   "outputs": [],
   "source": [
    "residents = pd.read_csv('la_residents_data.csv')"
   ]
  },
  {
   "cell_type": "code",
   "execution_count": 3,
   "metadata": {},
   "outputs": [],
   "source": [
    "#Removing records with missing income data\n",
    "indiv_res = residents[(residents.INCTOT != 9999999)]\n",
    "fam_res = residents[(residents.FTOTINC != 9999999)]"
   ]
  },
  {
   "cell_type": "markdown",
   "metadata": {},
   "source": [
    "#### Outmigrator Data:"
   ]
  },
  {
   "cell_type": "code",
   "execution_count": 4,
   "metadata": {},
   "outputs": [],
   "source": [
    "outmigrators = pd.read_csv('ipums_clean.csv')"
   ]
  },
  {
   "cell_type": "code",
   "execution_count": 5,
   "metadata": {},
   "outputs": [],
   "source": [
    "#Removing records with missing income data\n",
    "indiv_out = outmigrators[(outmigrators.INCTOT != 9999999)]\n",
    "fam_out = outmigrators[(outmigrators.FTOTINC != 9999999)]"
   ]
  },
  {
   "cell_type": "markdown",
   "metadata": {},
   "source": [
    "-------"
   ]
  },
  {
   "cell_type": "markdown",
   "metadata": {},
   "source": [
    "#### (1) Individual Income:"
   ]
  },
  {
   "cell_type": "markdown",
   "metadata": {},
   "source": [
    "Outmigrators:"
   ]
  },
  {
   "cell_type": "code",
   "execution_count": 6,
   "metadata": {},
   "outputs": [],
   "source": [
    "ind_outmigrators_all = {}\n",
    "for year in range(2006, 2018):\n",
    "    df = indiv_out[indiv_out.YEAR == year]\n",
    "    income = df.INCTOT.median()\n",
    "    ind_outmigrators_all[year] = income"
   ]
  },
  {
   "cell_type": "code",
   "execution_count": 7,
   "metadata": {},
   "outputs": [
    {
     "data": {
      "text/plain": [
       "{2006: 14000.0,\n",
       " 2007: 16700.0,\n",
       " 2008: 15000.0,\n",
       " 2009: 14400.0,\n",
       " 2010: 12000.0,\n",
       " 2011: 9000.0,\n",
       " 2012: 10000.0,\n",
       " 2013: 10400.0,\n",
       " 2014: 13000.0,\n",
       " 2015: 11300.0,\n",
       " 2016: 14550.0,\n",
       " 2017: 15400.0}"
      ]
     },
     "execution_count": 7,
     "metadata": {},
     "output_type": "execute_result"
    }
   ],
   "source": [
    "ind_outmigrators_all"
   ]
  },
  {
   "cell_type": "markdown",
   "metadata": {},
   "source": [
    "Residents:"
   ]
  },
  {
   "cell_type": "code",
   "execution_count": 8,
   "metadata": {},
   "outputs": [],
   "source": [
    "#Median individual income for residents\n",
    "ind_residents_all = {}\n",
    "for year in range(2006, 2018):\n",
    "    df = indiv_res[indiv_res.YEAR == year]\n",
    "    income = df.INCTOT.median()\n",
    "    ind_residents_all[year] = income"
   ]
  },
  {
   "cell_type": "code",
   "execution_count": 9,
   "metadata": {},
   "outputs": [
    {
     "data": {
      "text/plain": [
       "{2006: 19800.0,\n",
       " 2007: 20000.0,\n",
       " 2008: 20000.0,\n",
       " 2009: 20000.0,\n",
       " 2010: 18200.0,\n",
       " 2011: 16900.0,\n",
       " 2012: 17600.0,\n",
       " 2013: 18000.0,\n",
       " 2014: 18200.0,\n",
       " 2015: 20000.0,\n",
       " 2016: 20000.0,\n",
       " 2017: 22000.0}"
      ]
     },
     "execution_count": 9,
     "metadata": {},
     "output_type": "execute_result"
    }
   ],
   "source": [
    "ind_residents_all"
   ]
  },
  {
   "cell_type": "markdown",
   "metadata": {},
   "source": [
    "#### Combining Individual Resident & Out Migrator data in dataframe (for plotting)"
   ]
  },
  {
   "cell_type": "code",
   "execution_count": 10,
   "metadata": {},
   "outputs": [],
   "source": [
    "#Outmigrators\n",
    "out_ind_inc_df = pd.DataFrame.from_dict(ind_outmigrators_all, orient='index').reset_index().rename({'index':'Year', 0:'Med_Income'}, axis=1)\n",
    "out_ind_inc_df['Status'] = np.full(len(out_ind_inc_df), 'Out Migrators')\n",
    "\n",
    "#Residents\n",
    "res_ind_inc_df = pd.DataFrame.from_dict(ind_residents_all, orient='index').reset_index().rename({'index':'Year', 0:'Med_Income'}, axis=1)\n",
    "res_ind_inc_df['Status'] = np.full(len(res_ind_inc_df), 'Residents')"
   ]
  },
  {
   "cell_type": "code",
   "execution_count": 11,
   "metadata": {},
   "outputs": [],
   "source": [
    "combined_ind_out_res = pd.concat([res_ind_inc_df, out_ind_inc_df])"
   ]
  },
  {
   "cell_type": "code",
   "execution_count": 12,
   "metadata": {},
   "outputs": [
    {
     "data": {
      "application/vnd.vegalite.v2+json": {
       "$schema": "https://vega.github.io/schema/vega-lite/v2.6.0.json",
       "background": "white",
       "config": {
        "axis": {
         "labelAngle": 0
        },
        "legend": {
         "labelFontSize": 13,
         "symbolSize": 100,
         "titleFontSize": 13
        },
        "view": {
         "height": 300,
         "strokeWidth": 0,
         "width": 400
        }
       },
       "data": {
        "name": "data-82a33e229b06c6b971774bbae3a88a07"
       },
       "datasets": {
        "data-82a33e229b06c6b971774bbae3a88a07": [
         {
          "Med_Income": 19800,
          "Status": "Residents",
          "Year": 2006
         },
         {
          "Med_Income": 20000,
          "Status": "Residents",
          "Year": 2007
         },
         {
          "Med_Income": 20000,
          "Status": "Residents",
          "Year": 2008
         },
         {
          "Med_Income": 20000,
          "Status": "Residents",
          "Year": 2009
         },
         {
          "Med_Income": 18200,
          "Status": "Residents",
          "Year": 2010
         },
         {
          "Med_Income": 16900,
          "Status": "Residents",
          "Year": 2011
         },
         {
          "Med_Income": 17600,
          "Status": "Residents",
          "Year": 2012
         },
         {
          "Med_Income": 18000,
          "Status": "Residents",
          "Year": 2013
         },
         {
          "Med_Income": 18200,
          "Status": "Residents",
          "Year": 2014
         },
         {
          "Med_Income": 20000,
          "Status": "Residents",
          "Year": 2015
         },
         {
          "Med_Income": 20000,
          "Status": "Residents",
          "Year": 2016
         },
         {
          "Med_Income": 22000,
          "Status": "Residents",
          "Year": 2017
         },
         {
          "Med_Income": 14000,
          "Status": "Out Migrators",
          "Year": 2006
         },
         {
          "Med_Income": 16700,
          "Status": "Out Migrators",
          "Year": 2007
         },
         {
          "Med_Income": 15000,
          "Status": "Out Migrators",
          "Year": 2008
         },
         {
          "Med_Income": 14400,
          "Status": "Out Migrators",
          "Year": 2009
         },
         {
          "Med_Income": 12000,
          "Status": "Out Migrators",
          "Year": 2010
         },
         {
          "Med_Income": 9000,
          "Status": "Out Migrators",
          "Year": 2011
         },
         {
          "Med_Income": 10000,
          "Status": "Out Migrators",
          "Year": 2012
         },
         {
          "Med_Income": 10400,
          "Status": "Out Migrators",
          "Year": 2013
         },
         {
          "Med_Income": 13000,
          "Status": "Out Migrators",
          "Year": 2014
         },
         {
          "Med_Income": 11300,
          "Status": "Out Migrators",
          "Year": 2015
         },
         {
          "Med_Income": 14550,
          "Status": "Out Migrators",
          "Year": 2016
         },
         {
          "Med_Income": 15400,
          "Status": "Out Migrators",
          "Year": 2017
         }
        ]
       },
       "encoding": {
        "color": {
         "field": "Status",
         "scale": {
          "domain": [
           "Residents",
           "Out Migrators"
          ],
          "range": [
           "#bcbd22",
           "#08589e"
          ]
         },
         "title": null,
         "type": "nominal"
        },
        "x": {
         "field": "Year",
         "title": "Year",
         "type": "ordinal"
        },
        "y": {
         "axis": {
          "format": "$s"
         },
         "field": "Med_Income",
         "scale": {
          "domain": [
           0,
           25000
          ]
         },
         "stack": null,
         "title": "Median Income",
         "type": "quantitative"
        }
       },
       "mark": {
        "opacity": 0.85,
        "type": "bar"
       },
       "title": {
        "anchor": "middle",
        "offset": 30,
        "text": "Median Individual Income of LA Residents & Out Migrators"
       },
       "width": 500
      },
      "image/png": "[encoded data removed]",
      "text/plain": [
       "<VegaLite 2 object>\n",
       "\n",
       "If you see this message, it means the renderer has not been properly enabled\n",
       "for the frontend that you are using. For more information, see\n",
       "https://altair-viz.github.io/user_guide/troubleshooting.html\n"
      ]
     },
     "execution_count": 12,
     "metadata": {},
     "output_type": "execute_result"
    }
   ],
   "source": [
    "#Plotting via Altair\n",
    "title = alt.TitleParams(text='Median Individual Income of LA Residents & Out Migrators', offset=30, anchor='middle')\n",
    "\n",
    "individual = alt.Chart(combined_ind_out_res).configure_axis(labelAngle=0).mark_bar(opacity=0.85).encode(\n",
    "    x = alt.X('Year:O', title='Year'),\n",
    "    y = alt.Y('Med_Income', title='Median Income', axis=alt.Axis(format='$s'), scale=alt.Scale(domain=[0,25000]), stack=None),\n",
    "    color = alt.Color('Status:N', title=None, scale=alt.Scale(range=['#bcbd22', '#08589e'], domain=['Residents', 'Out Migrators']))\n",
    ").configure_legend(titleFontSize=13,\n",
    "                   labelFontSize=13,\n",
    "                   symbolSize=100\n",
    ").configure_view(strokeWidth=0\n",
    ").properties(title=title, width=500, background='white')\n",
    "\n",
    "individual"
   ]
  },
  {
   "cell_type": "code",
   "execution_count": 13,
   "metadata": {},
   "outputs": [],
   "source": [
    "individual.save('indiv_inc_res_vs_out_no_perwt.png', scale_factor=3)"
   ]
  },
  {
   "cell_type": "markdown",
   "metadata": {},
   "source": [
    "-------"
   ]
  },
  {
   "cell_type": "markdown",
   "metadata": {},
   "source": [
    "#### (2) Family Income:"
   ]
  },
  {
   "cell_type": "markdown",
   "metadata": {},
   "source": [
    "Outmigrators:"
   ]
  },
  {
   "cell_type": "code",
   "execution_count": 14,
   "metadata": {},
   "outputs": [],
   "source": [
    "fam_outmigrators_all = {}\n",
    "for year in range(2006, 2018):\n",
    "    df = fam_out[fam_out.YEAR == year]\n",
    "    income = df.FTOTINC.median()\n",
    "    fam_outmigrators_all[year] = income"
   ]
  },
  {
   "cell_type": "code",
   "execution_count": 15,
   "metadata": {},
   "outputs": [
    {
     "data": {
      "text/plain": [
       "{2006: 47400.0,\n",
       " 2007: 52000.0,\n",
       " 2008: 52300.0,\n",
       " 2009: 51000.0,\n",
       " 2010: 49000.0,\n",
       " 2011: 45000.0,\n",
       " 2012: 48780.0,\n",
       " 2013: 50000.0,\n",
       " 2014: 54000.0,\n",
       " 2015: 55000.0,\n",
       " 2016: 60000.0,\n",
       " 2017: 61500.0}"
      ]
     },
     "execution_count": 15,
     "metadata": {},
     "output_type": "execute_result"
    }
   ],
   "source": [
    "fam_outmigrators_all"
   ]
  },
  {
   "cell_type": "markdown",
   "metadata": {},
   "source": [
    "Residents:"
   ]
  },
  {
   "cell_type": "code",
   "execution_count": 16,
   "metadata": {},
   "outputs": [],
   "source": [
    "fam_residents_all = {}\n",
    "for year in range(2006, 2018):\n",
    "    df = fam_res[fam_res.YEAR == year]\n",
    "    income = df.FTOTINC.median()\n",
    "    fam_residents_all[year] = income"
   ]
  },
  {
   "cell_type": "code",
   "execution_count": 17,
   "metadata": {},
   "outputs": [
    {
     "data": {
      "text/plain": [
       "{2006: 59000.0,\n",
       " 2007: 61200.0,\n",
       " 2008: 64000.0,\n",
       " 2009: 62200.0,\n",
       " 2010: 60000.0,\n",
       " 2011: 57600.0,\n",
       " 2012: 58920.0,\n",
       " 2013: 60500.0,\n",
       " 2014: 62000.0,\n",
       " 2015: 65200.0,\n",
       " 2016: 69000.0,\n",
       " 2017: 73600.0}"
      ]
     },
     "execution_count": 17,
     "metadata": {},
     "output_type": "execute_result"
    }
   ],
   "source": [
    "fam_residents_all"
   ]
  },
  {
   "cell_type": "markdown",
   "metadata": {},
   "source": [
    "#### Combining Family Out Migrator & Resident data in dataframe (for plotting)"
   ]
  },
  {
   "cell_type": "code",
   "execution_count": 18,
   "metadata": {},
   "outputs": [],
   "source": [
    "#Outmigrators\n",
    "out_fam_inc_df = pd.DataFrame.from_dict(fam_outmigrators_all, orient='index').reset_index().rename({'index':'Year', 0:'Med_Income'}, axis=1)\n",
    "out_fam_inc_df['Status'] = np.full(len(out_fam_inc_df), 'Out Migrators')\n",
    "\n",
    "#Residents\n",
    "res_fam_inc_df = pd.DataFrame.from_dict(fam_residents_all, orient='index').reset_index().rename({'index':'Year', 0:'Med_Income'}, axis=1)\n",
    "res_fam_inc_df['Status'] = np.full(len(res_fam_inc_df), 'Residents')"
   ]
  },
  {
   "cell_type": "code",
   "execution_count": 19,
   "metadata": {},
   "outputs": [],
   "source": [
    "combined_fam_out_res = pd.concat([res_fam_inc_df, out_fam_inc_df])"
   ]
  },
  {
   "cell_type": "code",
   "execution_count": 20,
   "metadata": {},
   "outputs": [
    {
     "data": {
      "application/vnd.vegalite.v2+json": {
       "$schema": "https://vega.github.io/schema/vega-lite/v2.6.0.json",
       "background": "white",
       "config": {
        "axis": {
         "labelAngle": 0
        },
        "legend": {
         "labelFontSize": 13,
         "symbolSize": 100,
         "titleFontSize": 13
        },
        "view": {
         "height": 300,
         "strokeWidth": 0,
         "width": 400
        }
       },
       "data": {
        "name": "data-ec52d63107c8e8f600f1a09bfcc4763b"
       },
       "datasets": {
        "data-ec52d63107c8e8f600f1a09bfcc4763b": [
         {
          "Med_Income": 59000,
          "Status": "Residents",
          "Year": 2006
         },
         {
          "Med_Income": 61200,
          "Status": "Residents",
          "Year": 2007
         },
         {
          "Med_Income": 64000,
          "Status": "Residents",
          "Year": 2008
         },
         {
          "Med_Income": 62200,
          "Status": "Residents",
          "Year": 2009
         },
         {
          "Med_Income": 60000,
          "Status": "Residents",
          "Year": 2010
         },
         {
          "Med_Income": 57600,
          "Status": "Residents",
          "Year": 2011
         },
         {
          "Med_Income": 58920,
          "Status": "Residents",
          "Year": 2012
         },
         {
          "Med_Income": 60500,
          "Status": "Residents",
          "Year": 2013
         },
         {
          "Med_Income": 62000,
          "Status": "Residents",
          "Year": 2014
         },
         {
          "Med_Income": 65200,
          "Status": "Residents",
          "Year": 2015
         },
         {
          "Med_Income": 69000,
          "Status": "Residents",
          "Year": 2016
         },
         {
          "Med_Income": 73600,
          "Status": "Residents",
          "Year": 2017
         },
         {
          "Med_Income": 47400,
          "Status": "Out Migrators",
          "Year": 2006
         },
         {
          "Med_Income": 52000,
          "Status": "Out Migrators",
          "Year": 2007
         },
         {
          "Med_Income": 52300,
          "Status": "Out Migrators",
          "Year": 2008
         },
         {
          "Med_Income": 51000,
          "Status": "Out Migrators",
          "Year": 2009
         },
         {
          "Med_Income": 49000,
          "Status": "Out Migrators",
          "Year": 2010
         },
         {
          "Med_Income": 45000,
          "Status": "Out Migrators",
          "Year": 2011
         },
         {
          "Med_Income": 48780,
          "Status": "Out Migrators",
          "Year": 2012
         },
         {
          "Med_Income": 50000,
          "Status": "Out Migrators",
          "Year": 2013
         },
         {
          "Med_Income": 54000,
          "Status": "Out Migrators",
          "Year": 2014
         },
         {
          "Med_Income": 55000,
          "Status": "Out Migrators",
          "Year": 2015
         },
         {
          "Med_Income": 60000,
          "Status": "Out Migrators",
          "Year": 2016
         },
         {
          "Med_Income": 61500,
          "Status": "Out Migrators",
          "Year": 2017
         }
        ]
       },
       "encoding": {
        "color": {
         "field": "Status",
         "scale": {
          "domain": [
           "Residents",
           "Out Migrators"
          ],
          "range": [
           "#bcbd22",
           "#08589e"
          ]
         },
         "title": null,
         "type": "nominal"
        },
        "x": {
         "field": "Year",
         "title": "Year",
         "type": "ordinal"
        },
        "y": {
         "axis": {
          "format": "$s"
         },
         "field": "Med_Income",
         "scale": {
          "domain": [
           0,
           80000
          ]
         },
         "stack": null,
         "title": "Median Income",
         "type": "quantitative"
        }
       },
       "mark": {
        "opacity": 0.85,
        "type": "bar"
       },
       "title": {
        "anchor": "middle",
        "offset": 30,
        "text": "Median Family Income of LA Residents & Out Migrators"
       },
       "width": 500
      },
      "image/png": "[encoded data removed]",
      "text/plain": [
       "<VegaLite 2 object>\n",
       "\n",
       "If you see this message, it means the renderer has not been properly enabled\n",
       "for the frontend that you are using. For more information, see\n",
       "https://altair-viz.github.io/user_guide/troubleshooting.html\n"
      ]
     },
     "execution_count": 20,
     "metadata": {},
     "output_type": "execute_result"
    }
   ],
   "source": [
    "#Plotting via Altair\n",
    "title = alt.TitleParams(text='Median Family Income of LA Residents & Out Migrators', offset=30, anchor='middle')\n",
    "\n",
    "family = alt.Chart(combined_fam_out_res).configure_axis(labelAngle=0).mark_bar(opacity=0.85).encode(\n",
    "    x = alt.X('Year:O', title='Year'),\n",
    "    y = alt.Y('Med_Income', title='Median Income', axis=alt.Axis(format='$s'), scale=alt.Scale(domain=[0,80000]), stack=None),\n",
    "    color = alt.Color('Status:N', title=None, scale=alt.Scale(range=['#bcbd22', '#08589e'], domain=['Residents', 'Out Migrators']))\n",
    ").configure_legend(titleFontSize=13,\n",
    "                   labelFontSize=13,\n",
    "                   symbolSize=100\n",
    ").configure_view(strokeWidth=0\n",
    ").properties(title=title, width=500, background='white')\n",
    "\n",
    "family"
   ]
  },
  {
   "cell_type": "code",
   "execution_count": 21,
   "metadata": {},
   "outputs": [],
   "source": [
    "family.save('fam_inc_res_vs_out_no_perwt.png', scale_factor=3)"
   ]
  }
 ],
 "metadata": {
  "kernelspec": {
   "display_name": "Python 3",
   "language": "python",
   "name": "python3"
  },
  "language_info": {
   "codemirror_mode": {
    "name": "ipython",
    "version": 3
   },
   "file_extension": ".py",
   "mimetype": "text/x-python",
   "name": "python",
   "nbconvert_exporter": "python",
   "pygments_lexer": "ipython3",
   "version": "3.6.2"
  }
 },
 "nbformat": 4,
 "nbformat_minor": 2
}
