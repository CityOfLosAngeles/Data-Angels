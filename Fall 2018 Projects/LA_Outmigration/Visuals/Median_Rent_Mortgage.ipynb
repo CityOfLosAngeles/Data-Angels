{
 "cells": [
  {
   "cell_type": "markdown",
   "metadata": {},
   "source": [
    "### LA Out Migrators - Median Monthly Rent & Mortgage\n",
    "*Bar & line plots represent the same data"
   ]
  },
  {
   "cell_type": "code",
   "execution_count": 1,
   "metadata": {},
   "outputs": [],
   "source": [
    "import pandas as pd\n",
    "import numpy as np\n",
    "import altair as alt"
   ]
  },
  {
   "cell_type": "code",
   "execution_count": 2,
   "metadata": {},
   "outputs": [],
   "source": [
    "file = pd.read_csv('ipums_clean.csv')"
   ]
  },
  {
   "cell_type": "markdown",
   "metadata": {},
   "source": [
    "### Median Rent"
   ]
  },
  {
   "cell_type": "code",
   "execution_count": 3,
   "metadata": {},
   "outputs": [
    {
     "data": {
      "text/plain": [
       "16594"
      ]
     },
     "execution_count": 3,
     "metadata": {},
     "output_type": "execute_result"
    }
   ],
   "source": [
    "#Removing rows containing rent of 0 (i.e. N/A, as per: https://usa.ipums.org/usa-action/variables/RENT#codes_section)\n",
    "rnt = file[file.RENT != 0]\n",
    "len(rnt)"
   ]
  },
  {
   "cell_type": "code",
   "execution_count": 4,
   "metadata": {},
   "outputs": [],
   "source": [
    "rent = pd.DataFrame()\n",
    "for year in range(2006, 2018):\n",
    "    df = rnt[rnt.YEAR == year]\n",
    "    \n",
    "    rents = np.array([])\n",
    "    for i, row in df[['RENT', 'PERWT']].iterrows():\n",
    "        amounts = np.full(row.PERWT, row.RENT)\n",
    "        rents = np.append(rents, amounts)\n",
    "    median = np.median(rents)\n",
    "    \n",
    "    \n",
    "    individual = {'Year':pd.Series(year), 'Rent':pd.Series(median)}\n",
    "    values = pd.DataFrame(individual)\n",
    "    rent = pd.concat([rent, values])\n",
    "year = rent.Year.astype('str')\n",
    "rent.Year = pd.to_datetime(year)"
   ]
  },
  {
   "cell_type": "code",
   "execution_count": 5,
   "metadata": {},
   "outputs": [],
   "source": [
    "#Plotting data via Altair\n",
    "base1 = alt.Chart(rent).encode(\n",
    "    x=alt.X('Year', axis=alt.Axis(grid=False, labelFlush=False), title=None)\n",
    ").configure_view(\n",
    "    strokeWidth=0\n",
    ").properties(\n",
    "title='LA Out Migrators - Median Monthly Rent', width=500)"
   ]
  },
  {
   "cell_type": "code",
   "execution_count": 6,
   "metadata": {},
   "outputs": [],
   "source": [
    "bar1 = base1.mark_bar(size=30).encode(y=alt.Y('Rent', \n",
    "                                              title=None, \n",
    "                                              axis=alt.Axis(offset=10, format='$f'), \n",
    "                                              scale=alt.Scale(domain=[0,1400]))) \n",
    "\n",
    "line1 = base1.mark_line(strokeWidth=4).encode(y=alt.Y('Rent', \n",
    "                                                      title=None, \n",
    "                                                      axis=alt.Axis(format='$f'), \n",
    "                                                      scale=alt.Scale(domain=[800, 1400])))"
   ]
  },
  {
   "cell_type": "code",
   "execution_count": 7,
   "metadata": {},
   "outputs": [
    {
     "data": {
      "application/vnd.vegalite.v2+json": {
       "$schema": "https://vega.github.io/schema/vega-lite/v2.6.0.json",
       "config": {
        "view": {
         "height": 300,
         "strokeWidth": 0,
         "width": 400
        }
       },
       "data": {
        "name": "data-a2727c8baf040849e2e9ec54ade62a4e"
       },
       "datasets": {
        "data-a2727c8baf040849e2e9ec54ade62a4e": [
         {
          "Rent": 930,
          "Year": "2006-01-01T00:00:00"
         },
         {
          "Rent": 1000,
          "Year": "2007-01-01T00:00:00"
         },
         {
          "Rent": 1100,
          "Year": "2008-01-01T00:00:00"
         },
         {
          "Rent": 1000,
          "Year": "2009-01-01T00:00:00"
         },
         {
          "Rent": 1000,
          "Year": "2010-01-01T00:00:00"
         },
         {
          "Rent": 1000,
          "Year": "2011-01-01T00:00:00"
         },
         {
          "Rent": 1100,
          "Year": "2012-01-01T00:00:00"
         },
         {
          "Rent": 1100,
          "Year": "2013-01-01T00:00:00"
         },
         {
          "Rent": 1200,
          "Year": "2014-01-01T00:00:00"
         },
         {
          "Rent": 1200,
          "Year": "2015-01-01T00:00:00"
         },
         {
          "Rent": 1300,
          "Year": "2016-01-01T00:00:00"
         },
         {
          "Rent": 1300,
          "Year": "2017-01-01T00:00:00"
         }
        ]
       },
       "encoding": {
        "x": {
         "axis": {
          "grid": false,
          "labelFlush": false
         },
         "field": "Year",
         "title": null,
         "type": "temporal"
        },
        "y": {
         "axis": {
          "format": "$f",
          "offset": 10
         },
         "field": "Rent",
         "scale": {
          "domain": [
           0,
           1400
          ]
         },
         "title": null,
         "type": "quantitative"
        }
       },
       "mark": {
        "size": 30,
        "type": "bar"
       },
       "title": "LA Out Migrators - Median Monthly Rent",
       "width": 500
      },
      "image/png": "[encoded data removed]",
      "text/plain": [
       "<VegaLite 2 object>\n",
       "\n",
       "If you see this message, it means the renderer has not been properly enabled\n",
       "for the frontend that you are using. For more information, see\n",
       "https://altair-viz.github.io/user_guide/troubleshooting.html\n"
      ]
     },
     "execution_count": 7,
     "metadata": {},
     "output_type": "execute_result"
    }
   ],
   "source": [
    "bar1"
   ]
  },
  {
   "cell_type": "code",
   "execution_count": 8,
   "metadata": {},
   "outputs": [
    {
     "data": {
      "application/vnd.vegalite.v2+json": {
       "$schema": "https://vega.github.io/schema/vega-lite/v2.6.0.json",
       "config": {
        "view": {
         "height": 300,
         "strokeWidth": 0,
         "width": 400
        }
       },
       "data": {
        "name": "data-a2727c8baf040849e2e9ec54ade62a4e"
       },
       "datasets": {
        "data-a2727c8baf040849e2e9ec54ade62a4e": [
         {
          "Rent": 930,
          "Year": "2006-01-01T00:00:00"
         },
         {
          "Rent": 1000,
          "Year": "2007-01-01T00:00:00"
         },
         {
          "Rent": 1100,
          "Year": "2008-01-01T00:00:00"
         },
         {
          "Rent": 1000,
          "Year": "2009-01-01T00:00:00"
         },
         {
          "Rent": 1000,
          "Year": "2010-01-01T00:00:00"
         },
         {
          "Rent": 1000,
          "Year": "2011-01-01T00:00:00"
         },
         {
          "Rent": 1100,
          "Year": "2012-01-01T00:00:00"
         },
         {
          "Rent": 1100,
          "Year": "2013-01-01T00:00:00"
         },
         {
          "Rent": 1200,
          "Year": "2014-01-01T00:00:00"
         },
         {
          "Rent": 1200,
          "Year": "2015-01-01T00:00:00"
         },
         {
          "Rent": 1300,
          "Year": "2016-01-01T00:00:00"
         },
         {
          "Rent": 1300,
          "Year": "2017-01-01T00:00:00"
         }
        ]
       },
       "encoding": {
        "x": {
         "axis": {
          "grid": false,
          "labelFlush": false
         },
         "field": "Year",
         "title": null,
         "type": "temporal"
        },
        "y": {
         "axis": {
          "format": "$f"
         },
         "field": "Rent",
         "scale": {
          "domain": [
           800,
           1400
          ]
         },
         "title": null,
         "type": "quantitative"
        }
       },
       "mark": {
        "strokeWidth": 4,
        "type": "line"
       },
       "title": "LA Out Migrators - Median Monthly Rent",
       "width": 500
      },
      "image/png": "[encoded data removed]",
      "text/plain": [
       "<VegaLite 2 object>\n",
       "\n",
       "If you see this message, it means the renderer has not been properly enabled\n",
       "for the frontend that you are using. For more information, see\n",
       "https://altair-viz.github.io/user_guide/troubleshooting.html\n"
      ]
     },
     "execution_count": 8,
     "metadata": {},
     "output_type": "execute_result"
    }
   ],
   "source": [
    "line1"
   ]
  },
  {
   "cell_type": "markdown",
   "metadata": {},
   "source": [
    "------------"
   ]
  },
  {
   "cell_type": "markdown",
   "metadata": {},
   "source": [
    "### Median Mortgage"
   ]
  },
  {
   "cell_type": "code",
   "execution_count": 9,
   "metadata": {},
   "outputs": [
    {
     "data": {
      "text/plain": [
       "10597"
      ]
     },
     "execution_count": 9,
     "metadata": {},
     "output_type": "execute_result"
    }
   ],
   "source": [
    "#Removing rows containing N/A from mortgage column (indicated by 0)\n",
    "mort = file[file.MORTAMT1 != 0]\n",
    "len(mort)"
   ]
  },
  {
   "cell_type": "code",
   "execution_count": 10,
   "metadata": {},
   "outputs": [],
   "source": [
    "mortgage = pd.DataFrame()\n",
    "for year in range(2006, 2018):\n",
    "    df = mort[mort.YEAR == year]\n",
    "\n",
    "    mortgages = np.array([])\n",
    "    for i, row in df[['MORTAMT1', 'PERWT']].iterrows():\n",
    "        amounts = np.full(row.PERWT, row.MORTAMT1)\n",
    "        mortgages = np.append(mortgages, amounts)\n",
    "    median = np.median(mortgages)\n",
    "    \n",
    "    individual = {'Year':pd.Series(year), 'Mortgage':pd.Series(median)}\n",
    "    values = pd.DataFrame(individual)\n",
    "    mortgage = pd.concat([values, mortgage])\n",
    "    \n",
    "years = mortgage.Year.astype('str')\n",
    "mortgage.Year = pd.to_datetime(years)"
   ]
  },
  {
   "cell_type": "code",
   "execution_count": 11,
   "metadata": {},
   "outputs": [],
   "source": [
    "#Plotting data via Altair\n",
    "base2 = alt.Chart(mortgage).encode(\n",
    "    x=alt.X('Year', axis=alt.Axis(grid=False, labelFlush=False), title=None)\n",
    ").configure_view(\n",
    "    strokeWidth=0\n",
    ").properties(\n",
    "title='LA Out Migrators - Median Monthly Mortgage', width=500)"
   ]
  },
  {
   "cell_type": "code",
   "execution_count": 12,
   "metadata": {},
   "outputs": [],
   "source": [
    "bar2 = base2.mark_bar(size=30).encode(y=alt.Y('Mortgage', \n",
    "                                            title=None, \n",
    "                                            axis=alt.Axis(offset=10, format='$f'), \n",
    "                                            scale=alt.Scale(domain=[0,2000])))\n",
    "\n",
    "line2 = base2.mark_line(strokeWidth=4).encode(y=alt.Y('Mortgage', \n",
    "                                                    title=None,\n",
    "                                                    axis=alt.Axis(format='$f'),\n",
    "                                                    scale=alt.Scale(domain=[1300, 1900])))"
   ]
  },
  {
   "cell_type": "code",
   "execution_count": 13,
   "metadata": {},
   "outputs": [
    {
     "data": {
      "application/vnd.vegalite.v2+json": {
       "$schema": "https://vega.github.io/schema/vega-lite/v2.6.0.json",
       "config": {
        "view": {
         "height": 300,
         "strokeWidth": 0,
         "width": 400
        }
       },
       "data": {
        "name": "data-2720102f33e35aaafd7c1b36dd508918"
       },
       "datasets": {
        "data-2720102f33e35aaafd7c1b36dd508918": [
         {
          "Mortgage": 1800,
          "Year": "2017-01-01T00:00:00"
         },
         {
          "Mortgage": 1600,
          "Year": "2016-01-01T00:00:00"
         },
         {
          "Mortgage": 1500,
          "Year": "2015-01-01T00:00:00"
         },
         {
          "Mortgage": 1600,
          "Year": "2014-01-01T00:00:00"
         },
         {
          "Mortgage": 1400,
          "Year": "2013-01-01T00:00:00"
         },
         {
          "Mortgage": 1500,
          "Year": "2012-01-01T00:00:00"
         },
         {
          "Mortgage": 1600,
          "Year": "2011-01-01T00:00:00"
         },
         {
          "Mortgage": 1500,
          "Year": "2010-01-01T00:00:00"
         },
         {
          "Mortgage": 1500,
          "Year": "2009-01-01T00:00:00"
         },
         {
          "Mortgage": 1600,
          "Year": "2008-01-01T00:00:00"
         },
         {
          "Mortgage": 1800,
          "Year": "2007-01-01T00:00:00"
         },
         {
          "Mortgage": 1700,
          "Year": "2006-01-01T00:00:00"
         }
        ]
       },
       "encoding": {
        "x": {
         "axis": {
          "grid": false,
          "labelFlush": false
         },
         "field": "Year",
         "title": null,
         "type": "temporal"
        },
        "y": {
         "axis": {
          "format": "$f",
          "offset": 10
         },
         "field": "Mortgage",
         "scale": {
          "domain": [
           0,
           2000
          ]
         },
         "title": null,
         "type": "quantitative"
        }
       },
       "mark": {
        "size": 30,
        "type": "bar"
       },
       "title": "LA Out Migrators - Median Monthly Mortgage",
       "width": 500
      },
      "image/png": "[encoded data removed]",
      "text/plain": [
       "<VegaLite 2 object>\n",
       "\n",
       "If you see this message, it means the renderer has not been properly enabled\n",
       "for the frontend that you are using. For more information, see\n",
       "https://altair-viz.github.io/user_guide/troubleshooting.html\n"
      ]
     },
     "execution_count": 13,
     "metadata": {},
     "output_type": "execute_result"
    }
   ],
   "source": [
    "bar2"
   ]
  },
  {
   "cell_type": "code",
   "execution_count": 14,
   "metadata": {},
   "outputs": [
    {
     "data": {
      "application/vnd.vegalite.v2+json": {
       "$schema": "https://vega.github.io/schema/vega-lite/v2.6.0.json",
       "config": {
        "view": {
         "height": 300,
         "strokeWidth": 0,
         "width": 400
        }
       },
       "data": {
        "name": "data-2720102f33e35aaafd7c1b36dd508918"
       },
       "datasets": {
        "data-2720102f33e35aaafd7c1b36dd508918": [
         {
          "Mortgage": 1800,
          "Year": "2017-01-01T00:00:00"
         },
         {
          "Mortgage": 1600,
          "Year": "2016-01-01T00:00:00"
         },
         {
          "Mortgage": 1500,
          "Year": "2015-01-01T00:00:00"
         },
         {
          "Mortgage": 1600,
          "Year": "2014-01-01T00:00:00"
         },
         {
          "Mortgage": 1400,
          "Year": "2013-01-01T00:00:00"
         },
         {
          "Mortgage": 1500,
          "Year": "2012-01-01T00:00:00"
         },
         {
          "Mortgage": 1600,
          "Year": "2011-01-01T00:00:00"
         },
         {
          "Mortgage": 1500,
          "Year": "2010-01-01T00:00:00"
         },
         {
          "Mortgage": 1500,
          "Year": "2009-01-01T00:00:00"
         },
         {
          "Mortgage": 1600,
          "Year": "2008-01-01T00:00:00"
         },
         {
          "Mortgage": 1800,
          "Year": "2007-01-01T00:00:00"
         },
         {
          "Mortgage": 1700,
          "Year": "2006-01-01T00:00:00"
         }
        ]
       },
       "encoding": {
        "x": {
         "axis": {
          "grid": false,
          "labelFlush": false
         },
         "field": "Year",
         "title": null,
         "type": "temporal"
        },
        "y": {
         "axis": {
          "format": "$f"
         },
         "field": "Mortgage",
         "scale": {
          "domain": [
           1300,
           1900
          ]
         },
         "title": null,
         "type": "quantitative"
        }
       },
       "mark": {
        "strokeWidth": 4,
        "type": "line"
       },
       "title": "LA Out Migrators - Median Monthly Mortgage",
       "width": 500
      },
      "image/png": "[encoded data removed]",
      "text/plain": [
       "<VegaLite 2 object>\n",
       "\n",
       "If you see this message, it means the renderer has not been properly enabled\n",
       "for the frontend that you are using. For more information, see\n",
       "https://altair-viz.github.io/user_guide/troubleshooting.html\n"
      ]
     },
     "execution_count": 14,
     "metadata": {},
     "output_type": "execute_result"
    }
   ],
   "source": [
    "line2"
   ]
  }
 ],
 "metadata": {
  "kernelspec": {
   "display_name": "Python 3",
   "language": "python",
   "name": "python3"
  },
  "language_info": {
   "codemirror_mode": {
    "name": "ipython",
    "version": 3
   },
   "file_extension": ".py",
   "mimetype": "text/x-python",
   "name": "python",
   "nbconvert_exporter": "python",
   "pygments_lexer": "ipython3",
   "version": "3.6.2"
  }
 },
 "nbformat": 4,
 "nbformat_minor": 2
}
