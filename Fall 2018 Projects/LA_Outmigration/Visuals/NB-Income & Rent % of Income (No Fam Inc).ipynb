{
 "cells": [
  {
   "cell_type": "markdown",
   "metadata": {},
   "source": [
    "### Out Migrators w/ No Family Income\n",
    "*Does not apply PERWT"
   ]
  },
  {
   "cell_type": "code",
   "execution_count": 1,
   "metadata": {},
   "outputs": [],
   "source": [
    "import pandas as pd\n",
    "import numpy as np\n",
    "import altair as alt"
   ]
  },
  {
   "cell_type": "code",
   "execution_count": 2,
   "metadata": {},
   "outputs": [],
   "source": [
    "outmigrators = pd.read_csv('ipums_clean.csv')"
   ]
  },
  {
   "cell_type": "code",
   "execution_count": 3,
   "metadata": {},
   "outputs": [],
   "source": [
    "#Removing records with missing rent or mortgage values (assigned the value 0)\n",
    "#Removing records with missing individual and/or family income values (assigned the value 9999999)\n",
    "#Only keeping records of individuals who do not have family incomes\n",
    "out_rent_inc = outmigrators[(outmigrators.RENT != 0) & (outmigrators.INCTOT != 9999999) & (outmigrators.FTOTINC != 9999999) & (outmigrators.INCTOT >= outmigrators.FTOTINC)]"
   ]
  },
  {
   "cell_type": "markdown",
   "metadata": {},
   "source": [
    "---"
   ]
  },
  {
   "cell_type": "markdown",
   "metadata": {},
   "source": [
    "### (1) Income:"
   ]
  },
  {
   "cell_type": "code",
   "execution_count": 4,
   "metadata": {},
   "outputs": [],
   "source": [
    "ind_outmigrators_income = {}\n",
    "for year in range(2006, 2018):\n",
    "    df = out_rent_inc[out_rent_inc.YEAR == year]\n",
    "    income = df.INCTOT.median()\n",
    "    ind_outmigrators_income[year] = income"
   ]
  },
  {
   "cell_type": "code",
   "execution_count": 5,
   "metadata": {},
   "outputs": [
    {
     "data": {
      "text/plain": [
       "{2006: 19500.0,\n",
       " 2007: 26100.0,\n",
       " 2008: 25000.0,\n",
       " 2009: 21000.0,\n",
       " 2010: 21050.0,\n",
       " 2011: 20000.0,\n",
       " 2012: 20000.0,\n",
       " 2013: 23000.0,\n",
       " 2014: 21850.0,\n",
       " 2015: 22000.0,\n",
       " 2016: 23000.0,\n",
       " 2017: 26000.0}"
      ]
     },
     "execution_count": 5,
     "metadata": {},
     "output_type": "execute_result"
    }
   ],
   "source": [
    "ind_outmigrators_income"
   ]
  },
  {
   "cell_type": "code",
   "execution_count": 6,
   "metadata": {},
   "outputs": [],
   "source": [
    "out_ind_income_df = pd.DataFrame.from_dict(ind_outmigrators_income, orient='index')\n",
    "out_ind_income_df = out_ind_income_df.reset_index().rename({'index':'Year', 0:'Med_Income'}, axis=1)"
   ]
  },
  {
   "cell_type": "code",
   "execution_count": 7,
   "metadata": {},
   "outputs": [
    {
     "data": {
      "application/vnd.vegalite.v2+json": {
       "$schema": "https://vega.github.io/schema/vega-lite/v2.6.0.json",
       "background": "white",
       "config": {
        "axis": {
         "labelAngle": 0
        },
        "view": {
         "height": 300,
         "strokeWidth": 0,
         "width": 400
        }
       },
       "data": {
        "name": "data-12717d84d082fbb9fdd1f81bfadb46e9"
       },
       "datasets": {
        "data-12717d84d082fbb9fdd1f81bfadb46e9": [
         {
          "Med_Income": 19500,
          "Year": 2006
         },
         {
          "Med_Income": 26100,
          "Year": 2007
         },
         {
          "Med_Income": 25000,
          "Year": 2008
         },
         {
          "Med_Income": 21000,
          "Year": 2009
         },
         {
          "Med_Income": 21050,
          "Year": 2010
         },
         {
          "Med_Income": 20000,
          "Year": 2011
         },
         {
          "Med_Income": 20000,
          "Year": 2012
         },
         {
          "Med_Income": 23000,
          "Year": 2013
         },
         {
          "Med_Income": 21850,
          "Year": 2014
         },
         {
          "Med_Income": 22000,
          "Year": 2015
         },
         {
          "Med_Income": 23000,
          "Year": 2016
         },
         {
          "Med_Income": 26000,
          "Year": 2017
         }
        ]
       },
       "encoding": {
        "x": {
         "axis": {
          "grid": false
         },
         "field": "Year",
         "title": "Year",
         "type": "ordinal"
        },
        "y": {
         "axis": {
          "format": "$s"
         },
         "field": "Med_Income",
         "scale": {
          "domain": [
           16000,
           28000
          ]
         },
         "title": "Median Income",
         "type": "quantitative"
        }
       },
       "mark": {
        "strokeCap": "round",
        "strokeWidth": 4,
        "type": "line"
       },
       "title": {
        "anchor": "middle",
        "offset": 30,
        "text": "LA Out Migrators - Median Individual Income (No Family Income)"
       },
       "width": 500
      },
      "image/png": "[encoded data removed]",
      "text/plain": [
       "<VegaLite 2 object>\n",
       "\n",
       "If you see this message, it means the renderer has not been properly enabled\n",
       "for the frontend that you are using. For more information, see\n",
       "https://altair-viz.github.io/user_guide/troubleshooting.html\n"
      ]
     },
     "execution_count": 7,
     "metadata": {},
     "output_type": "execute_result"
    }
   ],
   "source": [
    "#Plotting w/ Altair\n",
    "title=alt.TitleParams(text='LA Out Migrators - Median Individual Income (No Family Income)', offset=30, anchor='middle')\n",
    "\n",
    "indiv_income = alt.Chart(out_ind_income_df).configure_axis(labelAngle=0).mark_line(strokeWidth=4, strokeCap='round').encode(\n",
    "    x=alt.X('Year:O', \n",
    "            axis=alt.Axis(grid=False), \n",
    "            title='Year'),\n",
    "    y=alt.Y('Med_Income', \n",
    "            scale=alt.Scale(domain=[16000, 28000]), \n",
    "            axis=alt.Axis(format='$s'), \n",
    "            title='Median Income')\n",
    ").properties(title=title, \n",
    "             width=500, \n",
    "             background='white'\n",
    ").configure_view(strokeWidth=0)\n",
    "\n",
    "indiv_income"
   ]
  },
  {
   "cell_type": "code",
   "execution_count": 8,
   "metadata": {},
   "outputs": [],
   "source": [
    "indiv_income.save('out_med_inc_no_perwt_no_fam.png', scale_factor=3)"
   ]
  },
  {
   "cell_type": "markdown",
   "metadata": {},
   "source": [
    "----------"
   ]
  },
  {
   "cell_type": "markdown",
   "metadata": {},
   "source": [
    "### (2) Rent % of Income:"
   ]
  },
  {
   "cell_type": "markdown",
   "metadata": {},
   "source": [
    "Rent:"
   ]
  },
  {
   "cell_type": "code",
   "execution_count": 11,
   "metadata": {},
   "outputs": [],
   "source": [
    "ind_outmigrators_rent = {}\n",
    "for year in range(2006, 2018):\n",
    "    df = out_rent_inc[out_rent_inc.YEAR == year]\n",
    "    rent = df.RENT.median()\n",
    "    ind_outmigrators_rent[year] = rent"
   ]
  },
  {
   "cell_type": "code",
   "execution_count": 12,
   "metadata": {},
   "outputs": [
    {
     "data": {
      "text/plain": [
       "{2006: 930.0,\n",
       " 2007: 1000.0,\n",
       " 2008: 1100.0,\n",
       " 2009: 1000.0,\n",
       " 2010: 1000.0,\n",
       " 2011: 995.0,\n",
       " 2012: 1000.0,\n",
       " 2013: 1100.0,\n",
       " 2014: 1200.0,\n",
       " 2015: 1200.0,\n",
       " 2016: 1300.0,\n",
       " 2017: 1300.0}"
      ]
     },
     "execution_count": 12,
     "metadata": {},
     "output_type": "execute_result"
    }
   ],
   "source": [
    "ind_outmigrators_rent"
   ]
  },
  {
   "cell_type": "markdown",
   "metadata": {},
   "source": [
    "*Note: The additional filtering out of records w/ family incomes caused these individual rent values to be different than those in other charts"
   ]
  },
  {
   "cell_type": "markdown",
   "metadata": {},
   "source": [
    "----------"
   ]
  },
  {
   "cell_type": "markdown",
   "metadata": {},
   "source": [
    "#### *Combining rent & income data to calculate rent-to-income ratio"
   ]
  },
  {
   "cell_type": "code",
   "execution_count": 13,
   "metadata": {},
   "outputs": [
    {
     "data": {
      "text/html": [
       "<div>\n",
       "<style scoped>\n",
       "    .dataframe tbody tr th:only-of-type {\n",
       "        vertical-align: middle;\n",
       "    }\n",
       "\n",
       "    .dataframe tbody tr th {\n",
       "        vertical-align: top;\n",
       "    }\n",
       "\n",
       "    .dataframe thead th {\n",
       "        text-align: right;\n",
       "    }\n",
       "</style>\n",
       "<table border=\"1\" class=\"dataframe\">\n",
       "  <thead>\n",
       "    <tr style=\"text-align: right;\">\n",
       "      <th></th>\n",
       "      <th>Year</th>\n",
       "      <th>Med_Income</th>\n",
       "      <th>Med_Rent</th>\n",
       "      <th>Ratio</th>\n",
       "    </tr>\n",
       "  </thead>\n",
       "  <tbody>\n",
       "    <tr>\n",
       "      <th>0</th>\n",
       "      <td>2006</td>\n",
       "      <td>19500.0</td>\n",
       "      <td>930.0</td>\n",
       "      <td>0.572308</td>\n",
       "    </tr>\n",
       "    <tr>\n",
       "      <th>1</th>\n",
       "      <td>2007</td>\n",
       "      <td>26100.0</td>\n",
       "      <td>1000.0</td>\n",
       "      <td>0.459770</td>\n",
       "    </tr>\n",
       "    <tr>\n",
       "      <th>2</th>\n",
       "      <td>2008</td>\n",
       "      <td>25000.0</td>\n",
       "      <td>1100.0</td>\n",
       "      <td>0.528000</td>\n",
       "    </tr>\n",
       "    <tr>\n",
       "      <th>3</th>\n",
       "      <td>2009</td>\n",
       "      <td>21000.0</td>\n",
       "      <td>1000.0</td>\n",
       "      <td>0.571429</td>\n",
       "    </tr>\n",
       "    <tr>\n",
       "      <th>4</th>\n",
       "      <td>2010</td>\n",
       "      <td>21050.0</td>\n",
       "      <td>1000.0</td>\n",
       "      <td>0.570071</td>\n",
       "    </tr>\n",
       "    <tr>\n",
       "      <th>5</th>\n",
       "      <td>2011</td>\n",
       "      <td>20000.0</td>\n",
       "      <td>995.0</td>\n",
       "      <td>0.597000</td>\n",
       "    </tr>\n",
       "    <tr>\n",
       "      <th>6</th>\n",
       "      <td>2012</td>\n",
       "      <td>20000.0</td>\n",
       "      <td>1000.0</td>\n",
       "      <td>0.600000</td>\n",
       "    </tr>\n",
       "    <tr>\n",
       "      <th>7</th>\n",
       "      <td>2013</td>\n",
       "      <td>23000.0</td>\n",
       "      <td>1100.0</td>\n",
       "      <td>0.573913</td>\n",
       "    </tr>\n",
       "    <tr>\n",
       "      <th>8</th>\n",
       "      <td>2014</td>\n",
       "      <td>21850.0</td>\n",
       "      <td>1200.0</td>\n",
       "      <td>0.659039</td>\n",
       "    </tr>\n",
       "    <tr>\n",
       "      <th>9</th>\n",
       "      <td>2015</td>\n",
       "      <td>22000.0</td>\n",
       "      <td>1200.0</td>\n",
       "      <td>0.654545</td>\n",
       "    </tr>\n",
       "    <tr>\n",
       "      <th>10</th>\n",
       "      <td>2016</td>\n",
       "      <td>23000.0</td>\n",
       "      <td>1300.0</td>\n",
       "      <td>0.678261</td>\n",
       "    </tr>\n",
       "    <tr>\n",
       "      <th>11</th>\n",
       "      <td>2017</td>\n",
       "      <td>26000.0</td>\n",
       "      <td>1300.0</td>\n",
       "      <td>0.600000</td>\n",
       "    </tr>\n",
       "  </tbody>\n",
       "</table>\n",
       "</div>"
      ],
      "text/plain": [
       "    Year  Med_Income  Med_Rent     Ratio\n",
       "0   2006     19500.0     930.0  0.572308\n",
       "1   2007     26100.0    1000.0  0.459770\n",
       "2   2008     25000.0    1100.0  0.528000\n",
       "3   2009     21000.0    1000.0  0.571429\n",
       "4   2010     21050.0    1000.0  0.570071\n",
       "5   2011     20000.0     995.0  0.597000\n",
       "6   2012     20000.0    1000.0  0.600000\n",
       "7   2013     23000.0    1100.0  0.573913\n",
       "8   2014     21850.0    1200.0  0.659039\n",
       "9   2015     22000.0    1200.0  0.654545\n",
       "10  2016     23000.0    1300.0  0.678261\n",
       "11  2017     26000.0    1300.0  0.600000"
      ]
     },
     "execution_count": 13,
     "metadata": {},
     "output_type": "execute_result"
    }
   ],
   "source": [
    "indiv_inc_rent = out_ind_income_df.copy()\n",
    "indiv_inc_rent['Med_Rent'] = ind_outmigrators_rent.values()\n",
    "indiv_inc_rent['Ratio'] = indiv_inc_rent.Med_Rent / (indiv_inc_rent.Med_Income / 12)  #Div. by 12 for rent-to-income ratio to reflect monthly income\n",
    "indiv_inc_rent"
   ]
  },
  {
   "cell_type": "code",
   "execution_count": 14,
   "metadata": {},
   "outputs": [
    {
     "data": {
      "application/vnd.vegalite.v2+json": {
       "$schema": "https://vega.github.io/schema/vega-lite/v2.6.0.json",
       "background": "white",
       "config": {
        "axis": {
         "labelAngle": 0
        },
        "view": {
         "height": 300,
         "strokeWidth": 0,
         "width": 400
        }
       },
       "data": {
        "name": "data-75bc4d33fa07756335e3e38853ef9560"
       },
       "datasets": {
        "data-75bc4d33fa07756335e3e38853ef9560": [
         {
          "Med_Income": 19500,
          "Med_Rent": 930,
          "Ratio": 0.5723076923076923,
          "Year": 2006
         },
         {
          "Med_Income": 26100,
          "Med_Rent": 1000,
          "Ratio": 0.45977011494252873,
          "Year": 2007
         },
         {
          "Med_Income": 25000,
          "Med_Rent": 1100,
          "Ratio": 0.5279999999999999,
          "Year": 2008
         },
         {
          "Med_Income": 21000,
          "Med_Rent": 1000,
          "Ratio": 0.5714285714285714,
          "Year": 2009
         },
         {
          "Med_Income": 21050,
          "Med_Rent": 1000,
          "Ratio": 0.5700712589073634,
          "Year": 2010
         },
         {
          "Med_Income": 20000,
          "Med_Rent": 995,
          "Ratio": 0.597,
          "Year": 2011
         },
         {
          "Med_Income": 20000,
          "Med_Rent": 1000,
          "Ratio": 0.6,
          "Year": 2012
         },
         {
          "Med_Income": 23000,
          "Med_Rent": 1100,
          "Ratio": 0.5739130434782609,
          "Year": 2013
         },
         {
          "Med_Income": 21850,
          "Med_Rent": 1200,
          "Ratio": 0.6590389016018307,
          "Year": 2014
         },
         {
          "Med_Income": 22000,
          "Med_Rent": 1200,
          "Ratio": 0.6545454545454545,
          "Year": 2015
         },
         {
          "Med_Income": 23000,
          "Med_Rent": 1300,
          "Ratio": 0.6782608695652174,
          "Year": 2016
         },
         {
          "Med_Income": 26000,
          "Med_Rent": 1300,
          "Ratio": 0.6000000000000001,
          "Year": 2017
         }
        ]
       },
       "encoding": {
        "x": {
         "axis": {
          "grid": false,
          "labelFlush": false
         },
         "field": "Year",
         "title": "Year",
         "type": "ordinal"
        },
        "y": {
         "axis": {
          "format": "%"
         },
         "field": "Ratio",
         "scale": {
          "domain": [
           0.4,
           0.7
          ]
         },
         "title": "Rent % of Income",
         "type": "quantitative"
        }
       },
       "mark": {
        "strokeCap": "round",
        "strokeWidth": 4,
        "type": "line"
       },
       "title": {
        "anchor": "middle",
        "offset": 30,
        "text": "LA Out Migrators - Median Rent as % of Median Income (No Family Income)"
       },
       "width": 500
      },
      "image/png": "[encoded data removed]",
      "text/plain": [
       "<VegaLite 2 object>\n",
       "\n",
       "If you see this message, it means the renderer has not been properly enabled\n",
       "for the frontend that you are using. For more information, see\n",
       "https://altair-viz.github.io/user_guide/troubleshooting.html\n"
      ]
     },
     "execution_count": 14,
     "metadata": {},
     "output_type": "execute_result"
    }
   ],
   "source": [
    "#Plotting with Altair\n",
    "title=alt.TitleParams(text='LA Out Migrators - Median Rent as % of Median Income (No Family Income)', offset=30, anchor='middle')\n",
    "\n",
    "indiv_rent_inc = alt.Chart(indiv_inc_rent).configure_axis(labelAngle=0).mark_line(strokeWidth=4, strokeCap='round').encode(\n",
    "    x=alt.X('Year:O', \n",
    "            title='Year', \n",
    "            axis=alt.Axis(grid=False, \n",
    "                          labelFlush=False)), \n",
    "    y=alt.Y('Ratio', \n",
    "            title='Rent % of Income',\n",
    "            axis=alt.Axis(format='%'), \n",
    "            scale=alt.Scale(domain=[.4,.7]))\n",
    ").properties(title=title, \n",
    "             width=500,\n",
    "             background='white'\n",
    ").configure_view(strokeWidth=0)\n",
    "\n",
    "indiv_rent_inc"
   ]
  },
  {
   "cell_type": "code",
   "execution_count": 15,
   "metadata": {},
   "outputs": [],
   "source": [
    "indiv_rent_inc.save('rent_perc_indiv_inc_no_perwt_no_fam.png', scale_factor=3)"
   ]
  },
  {
   "cell_type": "markdown",
   "metadata": {},
   "source": [
    "---"
   ]
  },
  {
   "cell_type": "markdown",
   "metadata": {},
   "source": [
    "### (3) Rent % of Income (by Race):"
   ]
  },
  {
   "cell_type": "markdown",
   "metadata": {},
   "source": [
    "Median rent for each race:"
   ]
  },
  {
   "cell_type": "code",
   "execution_count": 16,
   "metadata": {},
   "outputs": [],
   "source": [
    "rent_race = pd.DataFrame()\n",
    "for year in range(2006, 2018):\n",
    "    df = out_rent_inc[out_rent_inc.YEAR == year]    \n",
    "    races = out_rent_inc.RACE.unique()\n",
    "    \n",
    "    rents = {}\n",
    "    for race in races:\n",
    "        race_df = df[df.RACE == race]\n",
    "        median = race_df.RENT.median()\n",
    "        rents[race] = median\n",
    "        \n",
    "    #Storing race income data in dataframe\n",
    "    race_df = pd.DataFrame.from_dict(rents, orient='index')\n",
    "    race_df = race_df.reset_index().rename({'index':'Race', 0:'Med_Rent'}, axis=1)\n",
    "    race_df['Year'] = np.full(len(race_df), year)\n",
    "    \n",
    "    #Appending to income_race df to contain race income data for all years\n",
    "    rent_race = pd.concat([rent_race, race_df])"
   ]
  },
  {
   "cell_type": "code",
   "execution_count": 17,
   "metadata": {},
   "outputs": [
    {
     "data": {
      "text/html": [
       "<div>\n",
       "<style scoped>\n",
       "    .dataframe tbody tr th:only-of-type {\n",
       "        vertical-align: middle;\n",
       "    }\n",
       "\n",
       "    .dataframe tbody tr th {\n",
       "        vertical-align: top;\n",
       "    }\n",
       "\n",
       "    .dataframe thead th {\n",
       "        text-align: right;\n",
       "    }\n",
       "</style>\n",
       "<table border=\"1\" class=\"dataframe\">\n",
       "  <thead>\n",
       "    <tr style=\"text-align: right;\">\n",
       "      <th></th>\n",
       "      <th>Race</th>\n",
       "      <th>Med_Rent</th>\n",
       "      <th>Year</th>\n",
       "    </tr>\n",
       "  </thead>\n",
       "  <tbody>\n",
       "    <tr>\n",
       "      <th>0</th>\n",
       "      <td>Other</td>\n",
       "      <td>940.0</td>\n",
       "      <td>2006</td>\n",
       "    </tr>\n",
       "    <tr>\n",
       "      <th>1</th>\n",
       "      <td>African American</td>\n",
       "      <td>820.0</td>\n",
       "      <td>2006</td>\n",
       "    </tr>\n",
       "    <tr>\n",
       "      <th>2</th>\n",
       "      <td>White</td>\n",
       "      <td>980.0</td>\n",
       "      <td>2006</td>\n",
       "    </tr>\n",
       "    <tr>\n",
       "      <th>3</th>\n",
       "      <td>Hispanic</td>\n",
       "      <td>820.0</td>\n",
       "      <td>2006</td>\n",
       "    </tr>\n",
       "    <tr>\n",
       "      <th>4</th>\n",
       "      <td>Asian</td>\n",
       "      <td>1000.0</td>\n",
       "      <td>2006</td>\n",
       "    </tr>\n",
       "  </tbody>\n",
       "</table>\n",
       "</div>"
      ],
      "text/plain": [
       "               Race  Med_Rent  Year\n",
       "0             Other     940.0  2006\n",
       "1  African American     820.0  2006\n",
       "2             White     980.0  2006\n",
       "3          Hispanic     820.0  2006\n",
       "4             Asian    1000.0  2006"
      ]
     },
     "execution_count": 17,
     "metadata": {},
     "output_type": "execute_result"
    }
   ],
   "source": [
    "rent_race.head()"
   ]
  },
  {
   "cell_type": "markdown",
   "metadata": {},
   "source": [
    "Median income for each race:"
   ]
  },
  {
   "cell_type": "code",
   "execution_count": 18,
   "metadata": {},
   "outputs": [],
   "source": [
    "income_race = pd.DataFrame()\n",
    "for year in range(2006, 2018):\n",
    "    df = out_rent_inc[out_rent_inc.YEAR == year]    \n",
    "    races = out_rent_inc.RACE.unique()\n",
    "    \n",
    "    incomes = {}\n",
    "    for race in races:\n",
    "        race_df = df[df.RACE == race]\n",
    "        median = race_df.INCTOT.median()\n",
    "        incomes[race] = median\n",
    "    \n",
    "    #Storing race income data in dataframe\n",
    "    df = pd.DataFrame.from_dict(incomes, orient='index')\n",
    "    df = df.reset_index().rename({'index':'Race', 0:'Med_Income'}, axis=1)\n",
    "    df['Year'] = np.full(len(df), year)\n",
    "    \n",
    "    #Appending to income_race df to contain race income data for all years\n",
    "    income_race = pd.concat([income_race, df])"
   ]
  },
  {
   "cell_type": "code",
   "execution_count": 19,
   "metadata": {},
   "outputs": [
    {
     "data": {
      "text/html": [
       "<div>\n",
       "<style scoped>\n",
       "    .dataframe tbody tr th:only-of-type {\n",
       "        vertical-align: middle;\n",
       "    }\n",
       "\n",
       "    .dataframe tbody tr th {\n",
       "        vertical-align: top;\n",
       "    }\n",
       "\n",
       "    .dataframe thead th {\n",
       "        text-align: right;\n",
       "    }\n",
       "</style>\n",
       "<table border=\"1\" class=\"dataframe\">\n",
       "  <thead>\n",
       "    <tr style=\"text-align: right;\">\n",
       "      <th></th>\n",
       "      <th>Race</th>\n",
       "      <th>Med_Income</th>\n",
       "      <th>Year</th>\n",
       "    </tr>\n",
       "  </thead>\n",
       "  <tbody>\n",
       "    <tr>\n",
       "      <th>0</th>\n",
       "      <td>Other</td>\n",
       "      <td>23150.0</td>\n",
       "      <td>2006</td>\n",
       "    </tr>\n",
       "    <tr>\n",
       "      <th>1</th>\n",
       "      <td>African American</td>\n",
       "      <td>18100.0</td>\n",
       "      <td>2006</td>\n",
       "    </tr>\n",
       "    <tr>\n",
       "      <th>2</th>\n",
       "      <td>White</td>\n",
       "      <td>23850.0</td>\n",
       "      <td>2006</td>\n",
       "    </tr>\n",
       "    <tr>\n",
       "      <th>3</th>\n",
       "      <td>Hispanic</td>\n",
       "      <td>16690.0</td>\n",
       "      <td>2006</td>\n",
       "    </tr>\n",
       "    <tr>\n",
       "      <th>4</th>\n",
       "      <td>Asian</td>\n",
       "      <td>15000.0</td>\n",
       "      <td>2006</td>\n",
       "    </tr>\n",
       "  </tbody>\n",
       "</table>\n",
       "</div>"
      ],
      "text/plain": [
       "               Race  Med_Income  Year\n",
       "0             Other     23150.0  2006\n",
       "1  African American     18100.0  2006\n",
       "2             White     23850.0  2006\n",
       "3          Hispanic     16690.0  2006\n",
       "4             Asian     15000.0  2006"
      ]
     },
     "execution_count": 19,
     "metadata": {},
     "output_type": "execute_result"
    }
   ],
   "source": [
    "income_race.head()"
   ]
  },
  {
   "cell_type": "markdown",
   "metadata": {},
   "source": [
    "Combining Rent & Income Data:"
   ]
  },
  {
   "cell_type": "code",
   "execution_count": 20,
   "metadata": {},
   "outputs": [],
   "source": [
    "indiv_race_inc_rent = income_race.copy()\n",
    "indiv_race_inc_rent['Med_Rent'] = rent_race['Med_Rent']\n",
    "indiv_race_inc_rent['Ratio'] = indiv_race_inc_rent.Med_Rent / (indiv_race_inc_rent.Med_Income / 12)  #Div. by 12 for rent-to-income ratio to reflect monthly income"
   ]
  },
  {
   "cell_type": "code",
   "execution_count": 21,
   "metadata": {},
   "outputs": [
    {
     "data": {
      "text/html": [
       "<div>\n",
       "<style scoped>\n",
       "    .dataframe tbody tr th:only-of-type {\n",
       "        vertical-align: middle;\n",
       "    }\n",
       "\n",
       "    .dataframe tbody tr th {\n",
       "        vertical-align: top;\n",
       "    }\n",
       "\n",
       "    .dataframe thead th {\n",
       "        text-align: right;\n",
       "    }\n",
       "</style>\n",
       "<table border=\"1\" class=\"dataframe\">\n",
       "  <thead>\n",
       "    <tr style=\"text-align: right;\">\n",
       "      <th></th>\n",
       "      <th>Race</th>\n",
       "      <th>Med_Income</th>\n",
       "      <th>Year</th>\n",
       "      <th>Med_Rent</th>\n",
       "      <th>Ratio</th>\n",
       "    </tr>\n",
       "  </thead>\n",
       "  <tbody>\n",
       "    <tr>\n",
       "      <th>0</th>\n",
       "      <td>Other</td>\n",
       "      <td>23150.0</td>\n",
       "      <td>2006</td>\n",
       "      <td>940.0</td>\n",
       "      <td>0.487257</td>\n",
       "    </tr>\n",
       "    <tr>\n",
       "      <th>1</th>\n",
       "      <td>African American</td>\n",
       "      <td>18100.0</td>\n",
       "      <td>2006</td>\n",
       "      <td>820.0</td>\n",
       "      <td>0.543646</td>\n",
       "    </tr>\n",
       "    <tr>\n",
       "      <th>2</th>\n",
       "      <td>White</td>\n",
       "      <td>23850.0</td>\n",
       "      <td>2006</td>\n",
       "      <td>980.0</td>\n",
       "      <td>0.493082</td>\n",
       "    </tr>\n",
       "    <tr>\n",
       "      <th>3</th>\n",
       "      <td>Hispanic</td>\n",
       "      <td>16690.0</td>\n",
       "      <td>2006</td>\n",
       "      <td>820.0</td>\n",
       "      <td>0.589575</td>\n",
       "    </tr>\n",
       "    <tr>\n",
       "      <th>4</th>\n",
       "      <td>Asian</td>\n",
       "      <td>15000.0</td>\n",
       "      <td>2006</td>\n",
       "      <td>1000.0</td>\n",
       "      <td>0.800000</td>\n",
       "    </tr>\n",
       "  </tbody>\n",
       "</table>\n",
       "</div>"
      ],
      "text/plain": [
       "               Race  Med_Income  Year  Med_Rent     Ratio\n",
       "0             Other     23150.0  2006     940.0  0.487257\n",
       "1  African American     18100.0  2006     820.0  0.543646\n",
       "2             White     23850.0  2006     980.0  0.493082\n",
       "3          Hispanic     16690.0  2006     820.0  0.589575\n",
       "4             Asian     15000.0  2006    1000.0  0.800000"
      ]
     },
     "execution_count": 21,
     "metadata": {},
     "output_type": "execute_result"
    }
   ],
   "source": [
    "indiv_race_inc_rent.head()"
   ]
  },
  {
   "cell_type": "code",
   "execution_count": 22,
   "metadata": {},
   "outputs": [],
   "source": [
    "no_other_mixed = indiv_race_inc_rent[indiv_race_inc_rent.Race.isin(['Other', 'Mixed']) == False] \n",
    "#Values from 'Mixed' & 'Other' were significantly skewed, which is why they are excluded from the plot"
   ]
  },
  {
   "cell_type": "code",
   "execution_count": 23,
   "metadata": {},
   "outputs": [
    {
     "data": {
      "application/vnd.vegalite.v2+json": {
       "$schema": "https://vega.github.io/schema/vega-lite/v2.6.0.json",
       "background": "white",
       "config": {
        "axis": {
         "labelAngle": 0
        },
        "legend": {
         "labelFontSize": 13,
         "symbolSize": 30,
         "symbolStrokeWidth": 5.5
        },
        "view": {
         "height": 300,
         "strokeWidth": 0,
         "width": 400
        }
       },
       "data": {
        "name": "data-dcc392a01f9fb8147eab16dcb29703b4"
       },
       "datasets": {
        "data-dcc392a01f9fb8147eab16dcb29703b4": [
         {
          "Med_Income": 18100,
          "Med_Rent": 820,
          "Race": "African American",
          "Ratio": 0.543646408839779,
          "Year": 2006
         },
         {
          "Med_Income": 23850,
          "Med_Rent": 980,
          "Race": "White",
          "Ratio": 0.4930817610062893,
          "Year": 2006
         },
         {
          "Med_Income": 16690,
          "Med_Rent": 820,
          "Race": "Hispanic",
          "Ratio": 0.5895745955662074,
          "Year": 2006
         },
         {
          "Med_Income": 15000,
          "Med_Rent": 1000,
          "Race": "Asian",
          "Ratio": 0.8,
          "Year": 2006
         },
         {
          "Med_Income": 24900,
          "Med_Rent": 900,
          "Race": "African American",
          "Ratio": 0.43373493975903615,
          "Year": 2007
         },
         {
          "Med_Income": 32000,
          "Med_Rent": 1100,
          "Race": "White",
          "Ratio": 0.41250000000000003,
          "Year": 2007
         },
         {
          "Med_Income": 20000,
          "Med_Rent": 845,
          "Race": "Hispanic",
          "Ratio": 0.507,
          "Year": 2007
         },
         {
          "Med_Income": 22930,
          "Med_Rent": 1100,
          "Race": "Asian",
          "Ratio": 0.5756650675970345,
          "Year": 2007
         },
         {
          "Med_Income": 18600,
          "Med_Rent": 790,
          "Race": "African American",
          "Ratio": 0.5096774193548387,
          "Year": 2008
         },
         {
          "Med_Income": 33500,
          "Med_Rent": 1100,
          "Race": "White",
          "Ratio": 0.3940298507462687,
          "Year": 2008
         },
         {
          "Med_Income": 18100,
          "Med_Rent": 1000,
          "Race": "Hispanic",
          "Ratio": 0.6629834254143647,
          "Year": 2008
         },
         {
          "Med_Income": 22000,
          "Med_Rent": 1300,
          "Race": "Asian",
          "Ratio": 0.7090909090909091,
          "Year": 2008
         },
         {
          "Med_Income": 14700,
          "Med_Rent": 760,
          "Race": "African American",
          "Ratio": 0.6204081632653061,
          "Year": 2009
         },
         {
          "Med_Income": 27500,
          "Med_Rent": 1200,
          "Race": "White",
          "Ratio": 0.5236363636363637,
          "Year": 2009
         },
         {
          "Med_Income": 15150,
          "Med_Rent": 975,
          "Race": "Hispanic",
          "Ratio": 0.7722772277227723,
          "Year": 2009
         },
         {
          "Med_Income": 17550,
          "Med_Rent": 1100,
          "Race": "Asian",
          "Ratio": 0.7521367521367521,
          "Year": 2009
         },
         {
          "Med_Income": 13800,
          "Med_Rent": 830,
          "Race": "African American",
          "Ratio": 0.7217391304347827,
          "Year": 2010
         },
         {
          "Med_Income": 24000,
          "Med_Rent": 1150,
          "Race": "White",
          "Ratio": 0.575,
          "Year": 2010
         },
         {
          "Med_Income": 18000,
          "Med_Rent": 850,
          "Race": "Hispanic",
          "Ratio": 0.5666666666666667,
          "Year": 2010
         },
         {
          "Med_Income": 21600,
          "Med_Rent": 1100,
          "Race": "Asian",
          "Ratio": 0.6111111111111112,
          "Year": 2010
         },
         {
          "Med_Income": 16000,
          "Med_Rent": 800,
          "Race": "African American",
          "Ratio": 0.6000000000000001,
          "Year": 2011
         },
         {
          "Med_Income": 24000,
          "Med_Rent": 1100,
          "Race": "White",
          "Ratio": 0.55,
          "Year": 2011
         },
         {
          "Med_Income": 11900,
          "Med_Rent": 810,
          "Race": "Hispanic",
          "Ratio": 0.8168067226890756,
          "Year": 2011
         },
         {
          "Med_Income": 17000,
          "Med_Rent": 1200,
          "Race": "Asian",
          "Ratio": 0.8470588235294118,
          "Year": 2011
         },
         {
          "Med_Income": 14250,
          "Med_Rent": 765,
          "Race": "African American",
          "Ratio": 0.6442105263157895,
          "Year": 2012
         },
         {
          "Med_Income": 26000,
          "Med_Rent": 1200,
          "Race": "White",
          "Ratio": 0.5538461538461539,
          "Year": 2012
         },
         {
          "Med_Income": 17000,
          "Med_Rent": 900,
          "Race": "Hispanic",
          "Ratio": 0.6352941176470588,
          "Year": 2012
         },
         {
          "Med_Income": 21500,
          "Med_Rent": 1200,
          "Race": "Asian",
          "Ratio": 0.6697674418604651,
          "Year": 2012
         },
         {
          "Med_Income": 13200,
          "Med_Rent": 750,
          "Race": "African American",
          "Ratio": 0.6818181818181818,
          "Year": 2013
         },
         {
          "Med_Income": 28000,
          "Med_Rent": 1200,
          "Race": "White",
          "Ratio": 0.5142857142857142,
          "Year": 2013
         },
         {
          "Med_Income": 19750,
          "Med_Rent": 900,
          "Race": "Hispanic",
          "Ratio": 0.5468354430379747,
          "Year": 2013
         },
         {
          "Med_Income": 30000,
          "Med_Rent": 1200,
          "Race": "Asian",
          "Ratio": 0.48,
          "Year": 2013
         },
         {
          "Med_Income": 17000,
          "Med_Rent": 800,
          "Race": "African American",
          "Ratio": 0.5647058823529412,
          "Year": 2014
         },
         {
          "Med_Income": 24700,
          "Med_Rent": 1300,
          "Race": "White",
          "Ratio": 0.631578947368421,
          "Year": 2014
         },
         {
          "Med_Income": 18000,
          "Med_Rent": 1000,
          "Race": "Hispanic",
          "Ratio": 0.6666666666666666,
          "Year": 2014
         },
         {
          "Med_Income": 24000,
          "Med_Rent": 1500,
          "Race": "Asian",
          "Ratio": 0.75,
          "Year": 2014
         },
         {
          "Med_Income": 14900,
          "Med_Rent": 800,
          "Race": "African American",
          "Ratio": 0.6442953020134228,
          "Year": 2015
         },
         {
          "Med_Income": 26700,
          "Med_Rent": 1300,
          "Race": "White",
          "Ratio": 0.5842696629213483,
          "Year": 2015
         },
         {
          "Med_Income": 17000,
          "Med_Rent": 1100,
          "Race": "Hispanic",
          "Ratio": 0.776470588235294,
          "Year": 2015
         },
         {
          "Med_Income": 22000,
          "Med_Rent": 1400,
          "Race": "Asian",
          "Ratio": 0.7636363636363637,
          "Year": 2015
         },
         {
          "Med_Income": 13800,
          "Med_Rent": 980,
          "Race": "African American",
          "Ratio": 0.8521739130434782,
          "Year": 2016
         },
         {
          "Med_Income": 24250,
          "Med_Rent": 1400,
          "Race": "White",
          "Ratio": 0.6927835051546392,
          "Year": 2016
         },
         {
          "Med_Income": 24000,
          "Med_Rent": 1000,
          "Race": "Hispanic",
          "Ratio": 0.5,
          "Year": 2016
         },
         {
          "Med_Income": 31000,
          "Med_Rent": 1450,
          "Race": "Asian",
          "Ratio": 0.5612903225806452,
          "Year": 2016
         },
         {
          "Med_Income": 25800,
          "Med_Rent": 1000,
          "Race": "African American",
          "Ratio": 0.46511627906976744,
          "Year": 2017
         },
         {
          "Med_Income": 30000,
          "Med_Rent": 1400,
          "Race": "White",
          "Ratio": 0.56,
          "Year": 2017
         },
         {
          "Med_Income": 23000,
          "Med_Rent": 1100,
          "Race": "Hispanic",
          "Ratio": 0.5739130434782609,
          "Year": 2017
         },
         {
          "Med_Income": 30000,
          "Med_Rent": 1800,
          "Race": "Asian",
          "Ratio": 0.72,
          "Year": 2017
         }
        ]
       },
       "encoding": {
        "color": {
         "field": "Race",
         "type": "nominal"
        },
        "x": {
         "axis": {
          "grid": false
         },
         "field": "Year",
         "title": "Year",
         "type": "ordinal"
        },
        "y": {
         "axis": {
          "format": "%"
         },
         "field": "Ratio",
         "scale": {
          "domain": [
           0.2,
           0.9
          ]
         },
         "title": "Rent % of Income",
         "type": "quantitative"
        }
       },
       "mark": {
        "strokeCap": "round",
        "strokeWidth": 4,
        "type": "line"
       },
       "title": {
        "anchor": "middle",
        "offset": 30,
        "text": "LA Out Migrators - Median Rent as % of Median Income (No Family Income)"
       },
       "width": 500
      },
      "image/png": "[encoded data removed]",
      "text/plain": [
       "<VegaLite 2 object>\n",
       "\n",
       "If you see this message, it means the renderer has not been properly enabled\n",
       "for the frontend that you are using. For more information, see\n",
       "https://altair-viz.github.io/user_guide/troubleshooting.html\n"
      ]
     },
     "execution_count": 23,
     "metadata": {},
     "output_type": "execute_result"
    }
   ],
   "source": [
    "#Plotting with Altair\n",
    "title=alt.TitleParams(text='LA Out Migrators - Median Rent as % of Median Income (No Family Income)', offset=30, anchor='middle')\n",
    "\n",
    "indiv_race_rent_inc = alt.Chart(no_other_mixed).mark_line(strokeWidth=4, strokeCap='round').configure_axis(labelAngle=0).encode(\n",
    "    x=alt.X('Year:O', \n",
    "            title='Year',\n",
    "            axis=alt.Axis(grid=False)), \n",
    "    y=alt.Y('Ratio', \n",
    "            title='Rent % of Income',\n",
    "            scale=alt.Scale(domain=[.2, .9]),\n",
    "            axis=alt.Axis(format='%')),\n",
    "    color=alt.Color('Race')\n",
    ").configure_view(strokeWidth=0\n",
    ").properties(\n",
    "    title=title, \n",
    "    width=500, \n",
    "    background='white'\n",
    ").configure_legend(labelFontSize=13, \n",
    "                   symbolStrokeWidth=5.5, \n",
    "                   symbolSize=30)\n",
    "\n",
    "indiv_race_rent_inc"
   ]
  },
  {
   "cell_type": "code",
   "execution_count": 24,
   "metadata": {},
   "outputs": [],
   "source": [
    "indiv_race_rent_inc.save('rent_perc_indiv_race_inc_no_perwt_no_fam.png', scale_factor=3)"
   ]
  }
 ],
 "metadata": {
  "kernelspec": {
   "display_name": "Python 3",
   "language": "python",
   "name": "python3"
  },
  "language_info": {
   "codemirror_mode": {
    "name": "ipython",
    "version": 3
   },
   "file_extension": ".py",
   "mimetype": "text/x-python",
   "name": "python",
   "nbconvert_exporter": "python",
   "pygments_lexer": "ipython3",
   "version": "3.6.2"
  }
 },
 "nbformat": 4,
 "nbformat_minor": 2
}
