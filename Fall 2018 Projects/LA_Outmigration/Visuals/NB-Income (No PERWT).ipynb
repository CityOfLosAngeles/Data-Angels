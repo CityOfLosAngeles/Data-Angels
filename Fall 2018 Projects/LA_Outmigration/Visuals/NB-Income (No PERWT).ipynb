{
 "cells": [
  {
   "cell_type": "markdown",
   "metadata": {},
   "source": [
    "### Outmigrator Median Income (Individual & Family)\n",
    "*Does not apply PERWT"
   ]
  },
  {
   "cell_type": "code",
   "execution_count": 1,
   "metadata": {},
   "outputs": [],
   "source": [
    "import pandas as pd\n",
    "import altair as alt"
   ]
  },
  {
   "cell_type": "code",
   "execution_count": 2,
   "metadata": {},
   "outputs": [],
   "source": [
    "outmigrators = pd.read_csv('ipums_clean.csv')"
   ]
  },
  {
   "cell_type": "code",
   "execution_count": 3,
   "metadata": {},
   "outputs": [],
   "source": [
    "#Removing records with missing income data\n",
    "indiv_out = outmigrators[(outmigrators.INCTOT != 9999999)]\n",
    "fam_out = outmigrators[(outmigrators.FTOTINC != 9999999)]"
   ]
  },
  {
   "cell_type": "markdown",
   "metadata": {},
   "source": [
    "-------"
   ]
  },
  {
   "cell_type": "markdown",
   "metadata": {},
   "source": [
    "#### (1) Individual Income:"
   ]
  },
  {
   "cell_type": "code",
   "execution_count": 4,
   "metadata": {},
   "outputs": [],
   "source": [
    "ind_outmigrators_all = {}\n",
    "for year in range(2006, 2018):\n",
    "    df = indiv_out[indiv_out.YEAR == year]\n",
    "    income = df.INCTOT.median()\n",
    "    ind_outmigrators_all[year] = income"
   ]
  },
  {
   "cell_type": "code",
   "execution_count": 5,
   "metadata": {},
   "outputs": [
    {
     "data": {
      "text/plain": [
       "{2006: 14000.0,\n",
       " 2007: 16700.0,\n",
       " 2008: 15000.0,\n",
       " 2009: 14400.0,\n",
       " 2010: 12000.0,\n",
       " 2011: 9000.0,\n",
       " 2012: 10000.0,\n",
       " 2013: 10400.0,\n",
       " 2014: 13000.0,\n",
       " 2015: 11300.0,\n",
       " 2016: 14550.0,\n",
       " 2017: 15400.0}"
      ]
     },
     "execution_count": 5,
     "metadata": {},
     "output_type": "execute_result"
    }
   ],
   "source": [
    "ind_outmigrators_all"
   ]
  },
  {
   "cell_type": "code",
   "execution_count": 6,
   "metadata": {},
   "outputs": [],
   "source": [
    "out_ind_inc_df = pd.DataFrame.from_dict(ind_outmigrators_all, orient='index')\n",
    "out_ind_inc_df = out_ind_inc_df.reset_index().rename({'index':'Year', 0:'Med_Income'}, axis=1)"
   ]
  },
  {
   "cell_type": "code",
   "execution_count": 7,
   "metadata": {},
   "outputs": [
    {
     "data": {
      "application/vnd.vegalite.v2+json": {
       "$schema": "https://vega.github.io/schema/vega-lite/v2.6.0.json",
       "background": "white",
       "config": {
        "axis": {
         "labelAngle": 0
        },
        "view": {
         "height": 300,
         "strokeWidth": 0,
         "width": 400
        }
       },
       "data": {
        "name": "data-3b03e78875090516e9824d7f4bf9fa8c"
       },
       "datasets": {
        "data-3b03e78875090516e9824d7f4bf9fa8c": [
         {
          "Med_Income": 14000,
          "Year": 2006
         },
         {
          "Med_Income": 16700,
          "Year": 2007
         },
         {
          "Med_Income": 15000,
          "Year": 2008
         },
         {
          "Med_Income": 14400,
          "Year": 2009
         },
         {
          "Med_Income": 12000,
          "Year": 2010
         },
         {
          "Med_Income": 9000,
          "Year": 2011
         },
         {
          "Med_Income": 10000,
          "Year": 2012
         },
         {
          "Med_Income": 10400,
          "Year": 2013
         },
         {
          "Med_Income": 13000,
          "Year": 2014
         },
         {
          "Med_Income": 11300,
          "Year": 2015
         },
         {
          "Med_Income": 14550,
          "Year": 2016
         },
         {
          "Med_Income": 15400,
          "Year": 2017
         }
        ]
       },
       "encoding": {
        "x": {
         "axis": {
          "grid": false
         },
         "field": "Year",
         "title": "Year",
         "type": "ordinal"
        },
        "y": {
         "axis": {
          "format": "$s"
         },
         "field": "Med_Income",
         "scale": {
          "domain": [
           4000,
           20000
          ]
         },
         "title": "Median Income",
         "type": "quantitative"
        }
       },
       "mark": {
        "strokeCap": "round",
        "strokeWidth": 4,
        "type": "line"
       },
       "title": {
        "anchor": "middle",
        "offset": 30,
        "text": "LA Out Migrators - Median Individual Income"
       },
       "width": 500
      },
      "image/png": "[encoded data removed]",
      "text/plain": [
       "<VegaLite 2 object>\n",
       "\n",
       "If you see this message, it means the renderer has not been properly enabled\n",
       "for the frontend that you are using. For more information, see\n",
       "https://altair-viz.github.io/user_guide/troubleshooting.html\n"
      ]
     },
     "execution_count": 7,
     "metadata": {},
     "output_type": "execute_result"
    }
   ],
   "source": [
    "#Plotting w/ Altair\n",
    "title=alt.TitleParams(text='LA Out Migrators - Median Individual Income', offset=30, anchor='middle')\n",
    "\n",
    "individual = alt.Chart(out_ind_inc_df).configure_axis(labelAngle=0).mark_line(strokeWidth=4, strokeCap='round').encode(\n",
    "    x=alt.X('Year:O', \n",
    "            axis=alt.Axis(grid=False), \n",
    "            title='Year'),\n",
    "    y=alt.Y('Med_Income', \n",
    "            scale=alt.Scale(domain=[4000, 20000]), \n",
    "            axis=alt.Axis(format='$s'), \n",
    "            title='Median Income')\n",
    ").properties(title=title, \n",
    "             width=500, \n",
    "             background='white'\n",
    ").configure_view(strokeWidth=0)\n",
    "\n",
    "individual"
   ]
  },
  {
   "cell_type": "code",
   "execution_count": 8,
   "metadata": {},
   "outputs": [],
   "source": [
    "individual.save('indiv_inc_out_no_perwt.png', scale_factor=3)"
   ]
  },
  {
   "cell_type": "markdown",
   "metadata": {},
   "source": [
    "-------"
   ]
  },
  {
   "cell_type": "markdown",
   "metadata": {},
   "source": [
    "#### (2) Family Income:"
   ]
  },
  {
   "cell_type": "code",
   "execution_count": 9,
   "metadata": {},
   "outputs": [],
   "source": [
    "fam_outmigrators_all = {}\n",
    "for year in range(2006, 2018):\n",
    "    df = fam_out[fam_out.YEAR == year]\n",
    "    income = df.FTOTINC.median()\n",
    "    fam_outmigrators_all[year] = income"
   ]
  },
  {
   "cell_type": "code",
   "execution_count": 10,
   "metadata": {},
   "outputs": [
    {
     "data": {
      "text/plain": [
       "{2006: 47400.0,\n",
       " 2007: 52000.0,\n",
       " 2008: 52300.0,\n",
       " 2009: 51000.0,\n",
       " 2010: 49000.0,\n",
       " 2011: 45000.0,\n",
       " 2012: 48780.0,\n",
       " 2013: 50000.0,\n",
       " 2014: 54000.0,\n",
       " 2015: 55000.0,\n",
       " 2016: 60000.0,\n",
       " 2017: 61500.0}"
      ]
     },
     "execution_count": 10,
     "metadata": {},
     "output_type": "execute_result"
    }
   ],
   "source": [
    "fam_outmigrators_all"
   ]
  },
  {
   "cell_type": "code",
   "execution_count": 11,
   "metadata": {},
   "outputs": [],
   "source": [
    "out_fam_inc_df = pd.DataFrame.from_dict(fam_outmigrators_all, orient='index')\n",
    "out_fam_inc_df = out_fam_inc_df.reset_index().rename({'index':'Year', 0:'Med_Income'}, axis=1)"
   ]
  },
  {
   "cell_type": "code",
   "execution_count": 12,
   "metadata": {},
   "outputs": [
    {
     "data": {
      "application/vnd.vegalite.v2+json": {
       "$schema": "https://vega.github.io/schema/vega-lite/v2.6.0.json",
       "background": "white",
       "config": {
        "axis": {
         "labelAngle": 0
        },
        "view": {
         "height": 300,
         "strokeWidth": 0,
         "width": 400
        }
       },
       "data": {
        "name": "data-0d35cf343bb9c43d38e9bfcd87d625df"
       },
       "datasets": {
        "data-0d35cf343bb9c43d38e9bfcd87d625df": [
         {
          "Med_Income": 47400,
          "Year": 2006
         },
         {
          "Med_Income": 52000,
          "Year": 2007
         },
         {
          "Med_Income": 52300,
          "Year": 2008
         },
         {
          "Med_Income": 51000,
          "Year": 2009
         },
         {
          "Med_Income": 49000,
          "Year": 2010
         },
         {
          "Med_Income": 45000,
          "Year": 2011
         },
         {
          "Med_Income": 48780,
          "Year": 2012
         },
         {
          "Med_Income": 50000,
          "Year": 2013
         },
         {
          "Med_Income": 54000,
          "Year": 2014
         },
         {
          "Med_Income": 55000,
          "Year": 2015
         },
         {
          "Med_Income": 60000,
          "Year": 2016
         },
         {
          "Med_Income": 61500,
          "Year": 2017
         }
        ]
       },
       "encoding": {
        "x": {
         "axis": {
          "grid": false
         },
         "field": "Year",
         "title": "Year",
         "type": "ordinal"
        },
        "y": {
         "axis": {
          "format": "$s"
         },
         "field": "Med_Income",
         "scale": {
          "domain": [
           30000,
           65000
          ]
         },
         "title": "Median Income",
         "type": "quantitative"
        }
       },
       "mark": {
        "strokeCap": "round",
        "strokeWidth": 4,
        "type": "line"
       },
       "title": {
        "anchor": "middle",
        "offset": 30,
        "text": "LA Out Migrators - Median Family Income"
       },
       "width": 500
      },
      "image/png": "[encoded data removed]",
      "text/plain": [
       "<VegaLite 2 object>\n",
       "\n",
       "If you see this message, it means the renderer has not been properly enabled\n",
       "for the frontend that you are using. For more information, see\n",
       "https://altair-viz.github.io/user_guide/troubleshooting.html\n"
      ]
     },
     "execution_count": 12,
     "metadata": {},
     "output_type": "execute_result"
    }
   ],
   "source": [
    "#Plotting w/ Altair\n",
    "title=alt.TitleParams(text='LA Out Migrators - Median Family Income', offset=30, anchor='middle')\n",
    "\n",
    "family = alt.Chart(out_fam_inc_df).configure_axis(labelAngle=0).mark_line(strokeWidth=4, strokeCap='round').encode(\n",
    "    x=alt.X('Year:O', \n",
    "            axis=alt.Axis(grid=False), \n",
    "            title='Year'),\n",
    "    y=alt.Y('Med_Income', \n",
    "            scale=alt.Scale(domain=[30000,65000]), \n",
    "            axis=alt.Axis(format='$s'), \n",
    "            title='Median Income')\n",
    ").properties(title=title, \n",
    "             width=500, \n",
    "             background='white'\n",
    ").configure_view(strokeWidth=0)\n",
    "\n",
    "family"
   ]
  },
  {
   "cell_type": "code",
   "execution_count": 13,
   "metadata": {},
   "outputs": [],
   "source": [
    "family.save('fam_inc_out_no_perwt.png', scale_factor=3)"
   ]
  }
 ],
 "metadata": {
  "kernelspec": {
   "display_name": "Python 3",
   "language": "python",
   "name": "python3"
  },
  "language_info": {
   "codemirror_mode": {
    "name": "ipython",
    "version": 3
   },
   "file_extension": ".py",
   "mimetype": "text/x-python",
   "name": "python",
   "nbconvert_exporter": "python",
   "pygments_lexer": "ipython3",
   "version": "3.6.2"
  }
 },
 "nbformat": 4,
 "nbformat_minor": 2
}
