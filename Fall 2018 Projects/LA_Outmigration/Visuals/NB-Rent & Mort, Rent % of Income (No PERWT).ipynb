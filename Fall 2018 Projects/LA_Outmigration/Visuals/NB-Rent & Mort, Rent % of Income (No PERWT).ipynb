{
 "cells": [
  {
   "cell_type": "markdown",
   "metadata": {},
   "source": [
    "### Out Migrator Median Rent & Mortgage\n",
    "*Does not apply PERWT"
   ]
  },
  {
   "cell_type": "code",
   "execution_count": 1,
   "metadata": {},
   "outputs": [],
   "source": [
    "import pandas as pd\n",
    "import numpy as np\n",
    "import altair as alt"
   ]
  },
  {
   "cell_type": "code",
   "execution_count": 2,
   "metadata": {},
   "outputs": [],
   "source": [
    "outmigrators = pd.read_csv('ipums_clean.csv')"
   ]
  },
  {
   "cell_type": "code",
   "execution_count": 3,
   "metadata": {},
   "outputs": [],
   "source": [
    "#Removing records containing missing rent or mortgage values, which were assigned the value 0\n",
    "outmigrators_rent = outmigrators[(outmigrators.RENT != 0)]\n",
    "outmigrators_mort = outmigrators[(outmigrators.MORTAMT1 != 0)]"
   ]
  },
  {
   "cell_type": "markdown",
   "metadata": {},
   "source": [
    "---"
   ]
  },
  {
   "cell_type": "markdown",
   "metadata": {},
   "source": [
    "#### (1) Rent:"
   ]
  },
  {
   "cell_type": "code",
   "execution_count": 4,
   "metadata": {},
   "outputs": [],
   "source": [
    "ind_outmigrators_rent = {}\n",
    "for year in range(2006, 2018):\n",
    "    df = outmigrators_rent[outmigrators_rent.YEAR == year]\n",
    "    rent = df.RENT.median()\n",
    "    ind_outmigrators_rent[year] = rent"
   ]
  },
  {
   "cell_type": "code",
   "execution_count": 5,
   "metadata": {},
   "outputs": [
    {
     "data": {
      "text/plain": [
       "{2006: 950.0,\n",
       " 2007: 1000.0,\n",
       " 2008: 1100.0,\n",
       " 2009: 1100.0,\n",
       " 2010: 1000.0,\n",
       " 2011: 1100.0,\n",
       " 2012: 1100.0,\n",
       " 2013: 1200.0,\n",
       " 2014: 1200.0,\n",
       " 2015: 1200.0,\n",
       " 2016: 1300.0,\n",
       " 2017: 1400.0}"
      ]
     },
     "execution_count": 5,
     "metadata": {},
     "output_type": "execute_result"
    }
   ],
   "source": [
    "ind_outmigrators_rent"
   ]
  },
  {
   "cell_type": "code",
   "execution_count": 6,
   "metadata": {},
   "outputs": [],
   "source": [
    "out_ind_rent_df = pd.DataFrame.from_dict(ind_outmigrators_rent, orient='index')\n",
    "out_ind_rent_df = out_ind_rent_df.reset_index().rename({'index':'Year', 0:'Med_Rent'}, axis=1)"
   ]
  },
  {
   "cell_type": "code",
   "execution_count": 7,
   "metadata": {},
   "outputs": [
    {
     "data": {
      "application/vnd.vegalite.v2+json": {
       "$schema": "https://vega.github.io/schema/vega-lite/v2.6.0.json",
       "background": "white",
       "config": {
        "axis": {
         "labelAngle": 0
        },
        "view": {
         "height": 300,
         "strokeWidth": 0,
         "width": 400
        }
       },
       "data": {
        "name": "data-5d35c852f596e4351a44290cbd6cb08a"
       },
       "datasets": {
        "data-5d35c852f596e4351a44290cbd6cb08a": [
         {
          "Med_Rent": 950,
          "Year": 2006
         },
         {
          "Med_Rent": 1000,
          "Year": 2007
         },
         {
          "Med_Rent": 1100,
          "Year": 2008
         },
         {
          "Med_Rent": 1100,
          "Year": 2009
         },
         {
          "Med_Rent": 1000,
          "Year": 2010
         },
         {
          "Med_Rent": 1100,
          "Year": 2011
         },
         {
          "Med_Rent": 1100,
          "Year": 2012
         },
         {
          "Med_Rent": 1200,
          "Year": 2013
         },
         {
          "Med_Rent": 1200,
          "Year": 2014
         },
         {
          "Med_Rent": 1200,
          "Year": 2015
         },
         {
          "Med_Rent": 1300,
          "Year": 2016
         },
         {
          "Med_Rent": 1400,
          "Year": 2017
         }
        ]
       },
       "encoding": {
        "x": {
         "axis": {
          "grid": false
         },
         "field": "Year",
         "title": "Year",
         "type": "ordinal"
        },
        "y": {
         "axis": {
          "format": "$f"
         },
         "field": "Med_Rent",
         "scale": {
          "domain": [
           800,
           1500
          ]
         },
         "title": "Median Rent",
         "type": "quantitative"
        }
       },
       "mark": {
        "strokeCap": "round",
        "strokeWidth": 4,
        "type": "line"
       },
       "title": {
        "anchor": "middle",
        "offset": 30,
        "text": "LA Out Migrators - Median Individual Rent"
       },
       "width": 500
      },
      "image/png": "[encoded data removed]",
      "text/plain": [
       "<VegaLite 2 object>\n",
       "\n",
       "If you see this message, it means the renderer has not been properly enabled\n",
       "for the frontend that you are using. For more information, see\n",
       "https://altair-viz.github.io/user_guide/troubleshooting.html\n"
      ]
     },
     "execution_count": 7,
     "metadata": {},
     "output_type": "execute_result"
    }
   ],
   "source": [
    "#Plotting w/ Altair\n",
    "title=alt.TitleParams(text='LA Out Migrators - Median Individual Rent', offset=30, anchor='middle')\n",
    "\n",
    "indiv_rent = alt.Chart(out_ind_rent_df).configure_axis(labelAngle=0).mark_line(strokeWidth=4, strokeCap='round').encode(\n",
    "    x=alt.X('Year:O', \n",
    "            axis=alt.Axis(grid=False), \n",
    "            title='Year'),\n",
    "    y=alt.Y('Med_Rent', \n",
    "            scale=alt.Scale(domain=[800, 1500]), \n",
    "            axis=alt.Axis(format='$f'), \n",
    "            title='Median Rent')\n",
    ").properties(title=title, \n",
    "             width=500, \n",
    "             background='white'\n",
    ").configure_view(strokeWidth=0)\n",
    "\n",
    "indiv_rent"
   ]
  },
  {
   "cell_type": "code",
   "execution_count": 8,
   "metadata": {},
   "outputs": [],
   "source": [
    "indiv_rent.save('out_med_inc_no_perwt.png', scale_factor=3)"
   ]
  },
  {
   "cell_type": "markdown",
   "metadata": {},
   "source": [
    "----------"
   ]
  },
  {
   "cell_type": "markdown",
   "metadata": {},
   "source": [
    "#### (2) Mortgage:"
   ]
  },
  {
   "cell_type": "code",
   "execution_count": 9,
   "metadata": {},
   "outputs": [],
   "source": [
    "ind_outmigrators_mort = {}\n",
    "for year in range(2006, 2018):\n",
    "    df = outmigrators_mort[outmigrators_mort.YEAR == year]\n",
    "    mort = df.MORTAMT1.median()\n",
    "    ind_outmigrators_mort[year] = mort"
   ]
  },
  {
   "cell_type": "code",
   "execution_count": 10,
   "metadata": {},
   "outputs": [
    {
     "data": {
      "text/plain": [
       "{2006: 1700.0,\n",
       " 2007: 1800.0,\n",
       " 2008: 1600.0,\n",
       " 2009: 1600.0,\n",
       " 2010: 1500.0,\n",
       " 2011: 1600.0,\n",
       " 2012: 1500.0,\n",
       " 2013: 1500.0,\n",
       " 2014: 1600.0,\n",
       " 2015: 1600.0,\n",
       " 2016: 1700.0,\n",
       " 2017: 1850.0}"
      ]
     },
     "execution_count": 10,
     "metadata": {},
     "output_type": "execute_result"
    }
   ],
   "source": [
    "ind_outmigrators_mort"
   ]
  },
  {
   "cell_type": "code",
   "execution_count": 11,
   "metadata": {},
   "outputs": [],
   "source": [
    "out_ind_mort_df = pd.DataFrame.from_dict(ind_outmigrators_mort, orient='index')\n",
    "out_ind_mort_df = out_ind_mort_df.reset_index().rename({'index':'Year', 0:'Med_Mort'}, axis=1)"
   ]
  },
  {
   "cell_type": "code",
   "execution_count": 12,
   "metadata": {},
   "outputs": [
    {
     "data": {
      "application/vnd.vegalite.v2+json": {
       "$schema": "https://vega.github.io/schema/vega-lite/v2.6.0.json",
       "background": "white",
       "config": {
        "axis": {
         "labelAngle": 0
        },
        "view": {
         "height": 300,
         "strokeWidth": 0,
         "width": 400
        }
       },
       "data": {
        "name": "data-f9223833e45f4090b97d7af689a3f793"
       },
       "datasets": {
        "data-f9223833e45f4090b97d7af689a3f793": [
         {
          "Med_Mort": 1700,
          "Year": 2006
         },
         {
          "Med_Mort": 1800,
          "Year": 2007
         },
         {
          "Med_Mort": 1600,
          "Year": 2008
         },
         {
          "Med_Mort": 1600,
          "Year": 2009
         },
         {
          "Med_Mort": 1500,
          "Year": 2010
         },
         {
          "Med_Mort": 1600,
          "Year": 2011
         },
         {
          "Med_Mort": 1500,
          "Year": 2012
         },
         {
          "Med_Mort": 1500,
          "Year": 2013
         },
         {
          "Med_Mort": 1600,
          "Year": 2014
         },
         {
          "Med_Mort": 1600,
          "Year": 2015
         },
         {
          "Med_Mort": 1700,
          "Year": 2016
         },
         {
          "Med_Mort": 1850,
          "Year": 2017
         }
        ]
       },
       "encoding": {
        "x": {
         "axis": {
          "grid": false
         },
         "field": "Year",
         "title": "Year",
         "type": "ordinal"
        },
        "y": {
         "axis": {
          "format": "$f"
         },
         "field": "Med_Mort",
         "scale": {
          "domain": [
           1300,
           1900
          ]
         },
         "title": "Median Mort",
         "type": "quantitative"
        }
       },
       "mark": {
        "strokeCap": "round",
        "strokeWidth": 4,
        "type": "line"
       },
       "title": {
        "anchor": "middle",
        "offset": 30,
        "text": "LA Out Migrators - Median Individual Mortgage"
       },
       "width": 500
      },
      "image/png": "[encoded data removed]",
      "text/plain": [
       "<VegaLite 2 object>\n",
       "\n",
       "If you see this message, it means the renderer has not been properly enabled\n",
       "for the frontend that you are using. For more information, see\n",
       "https://altair-viz.github.io/user_guide/troubleshooting.html\n"
      ]
     },
     "execution_count": 12,
     "metadata": {},
     "output_type": "execute_result"
    }
   ],
   "source": [
    "#Plotting w/ Altair\n",
    "title=alt.TitleParams(text='LA Out Migrators - Median Individual Mortgage', offset=30, anchor='middle')\n",
    "\n",
    "indiv_mort = alt.Chart(out_ind_mort_df).configure_axis(labelAngle=0).mark_line(strokeWidth=4, strokeCap='round').encode(\n",
    "    x=alt.X('Year:O', \n",
    "            axis=alt.Axis(grid=False), \n",
    "            title='Year'),\n",
    "    y=alt.Y('Med_Mort', \n",
    "            scale=alt.Scale(domain=[1300, 1900]), \n",
    "            axis=alt.Axis(format='$f'), \n",
    "            title='Median Mort')\n",
    ").properties(title=title, \n",
    "             width=500, \n",
    "             background='white'\n",
    ").configure_view(strokeWidth=0)\n",
    "\n",
    "indiv_mort"
   ]
  },
  {
   "cell_type": "markdown",
   "metadata": {},
   "source": [
    "----------"
   ]
  },
  {
   "cell_type": "markdown",
   "metadata": {},
   "source": [
    "### Out Migrator Rent % of Income (Individual & Family)\n",
    "*Does not apply PERWT"
   ]
  },
  {
   "cell_type": "code",
   "execution_count": 13,
   "metadata": {},
   "outputs": [],
   "source": [
    "indiv_inc = outmigrators_rent[(outmigrators_rent.INCTOT != 9999999)]\n",
    "fam_inc = outmigrators_rent[(outmigrators_rent.FTOTINC != 9999999)]"
   ]
  },
  {
   "cell_type": "markdown",
   "metadata": {},
   "source": [
    "#### (1) Individual Income:"
   ]
  },
  {
   "cell_type": "code",
   "execution_count": 14,
   "metadata": {},
   "outputs": [],
   "source": [
    "ind_outmigrators_inc = {}\n",
    "for year in range(2006, 2018):\n",
    "    df = indiv_inc[indiv_inc.YEAR == year]\n",
    "    income = df.INCTOT.median()\n",
    "    ind_outmigrators_inc[year] = income"
   ]
  },
  {
   "cell_type": "code",
   "execution_count": 15,
   "metadata": {},
   "outputs": [
    {
     "data": {
      "text/plain": [
       "{2006: 15000.0,\n",
       " 2007: 20100.0,\n",
       " 2008: 20000.0,\n",
       " 2009: 18000.0,\n",
       " 2010: 15800.0,\n",
       " 2011: 15600.0,\n",
       " 2012: 17200.0,\n",
       " 2013: 18250.0,\n",
       " 2014: 18500.0,\n",
       " 2015: 20000.0,\n",
       " 2016: 21000.0,\n",
       " 2017: 23500.0}"
      ]
     },
     "execution_count": 15,
     "metadata": {},
     "output_type": "execute_result"
    }
   ],
   "source": [
    "ind_outmigrators_inc"
   ]
  },
  {
   "cell_type": "markdown",
   "metadata": {},
   "source": [
    "*Note: The additional filtering out of missing rent values caused these individual income values to be higher than those in other charts"
   ]
  },
  {
   "cell_type": "code",
   "execution_count": 16,
   "metadata": {},
   "outputs": [
    {
     "data": {
      "text/html": [
       "<div>\n",
       "<style scoped>\n",
       "    .dataframe tbody tr th:only-of-type {\n",
       "        vertical-align: middle;\n",
       "    }\n",
       "\n",
       "    .dataframe tbody tr th {\n",
       "        vertical-align: top;\n",
       "    }\n",
       "\n",
       "    .dataframe thead th {\n",
       "        text-align: right;\n",
       "    }\n",
       "</style>\n",
       "<table border=\"1\" class=\"dataframe\">\n",
       "  <thead>\n",
       "    <tr style=\"text-align: right;\">\n",
       "      <th></th>\n",
       "      <th>Year</th>\n",
       "      <th>Med_Rent</th>\n",
       "      <th>Med_Annual_Income</th>\n",
       "      <th>Ratio</th>\n",
       "    </tr>\n",
       "  </thead>\n",
       "  <tbody>\n",
       "    <tr>\n",
       "      <th>0</th>\n",
       "      <td>2006</td>\n",
       "      <td>950.0</td>\n",
       "      <td>15000.0</td>\n",
       "      <td>0.760000</td>\n",
       "    </tr>\n",
       "    <tr>\n",
       "      <th>1</th>\n",
       "      <td>2007</td>\n",
       "      <td>1000.0</td>\n",
       "      <td>20100.0</td>\n",
       "      <td>0.597015</td>\n",
       "    </tr>\n",
       "    <tr>\n",
       "      <th>2</th>\n",
       "      <td>2008</td>\n",
       "      <td>1100.0</td>\n",
       "      <td>20000.0</td>\n",
       "      <td>0.660000</td>\n",
       "    </tr>\n",
       "    <tr>\n",
       "      <th>3</th>\n",
       "      <td>2009</td>\n",
       "      <td>1100.0</td>\n",
       "      <td>18000.0</td>\n",
       "      <td>0.733333</td>\n",
       "    </tr>\n",
       "    <tr>\n",
       "      <th>4</th>\n",
       "      <td>2010</td>\n",
       "      <td>1000.0</td>\n",
       "      <td>15800.0</td>\n",
       "      <td>0.759494</td>\n",
       "    </tr>\n",
       "    <tr>\n",
       "      <th>5</th>\n",
       "      <td>2011</td>\n",
       "      <td>1100.0</td>\n",
       "      <td>15600.0</td>\n",
       "      <td>0.846154</td>\n",
       "    </tr>\n",
       "    <tr>\n",
       "      <th>6</th>\n",
       "      <td>2012</td>\n",
       "      <td>1100.0</td>\n",
       "      <td>17200.0</td>\n",
       "      <td>0.767442</td>\n",
       "    </tr>\n",
       "    <tr>\n",
       "      <th>7</th>\n",
       "      <td>2013</td>\n",
       "      <td>1200.0</td>\n",
       "      <td>18250.0</td>\n",
       "      <td>0.789041</td>\n",
       "    </tr>\n",
       "    <tr>\n",
       "      <th>8</th>\n",
       "      <td>2014</td>\n",
       "      <td>1200.0</td>\n",
       "      <td>18500.0</td>\n",
       "      <td>0.778378</td>\n",
       "    </tr>\n",
       "    <tr>\n",
       "      <th>9</th>\n",
       "      <td>2015</td>\n",
       "      <td>1200.0</td>\n",
       "      <td>20000.0</td>\n",
       "      <td>0.720000</td>\n",
       "    </tr>\n",
       "    <tr>\n",
       "      <th>10</th>\n",
       "      <td>2016</td>\n",
       "      <td>1300.0</td>\n",
       "      <td>21000.0</td>\n",
       "      <td>0.742857</td>\n",
       "    </tr>\n",
       "    <tr>\n",
       "      <th>11</th>\n",
       "      <td>2017</td>\n",
       "      <td>1400.0</td>\n",
       "      <td>23500.0</td>\n",
       "      <td>0.714894</td>\n",
       "    </tr>\n",
       "  </tbody>\n",
       "</table>\n",
       "</div>"
      ],
      "text/plain": [
       "    Year  Med_Rent  Med_Annual_Income     Ratio\n",
       "0   2006     950.0            15000.0  0.760000\n",
       "1   2007    1000.0            20100.0  0.597015\n",
       "2   2008    1100.0            20000.0  0.660000\n",
       "3   2009    1100.0            18000.0  0.733333\n",
       "4   2010    1000.0            15800.0  0.759494\n",
       "5   2011    1100.0            15600.0  0.846154\n",
       "6   2012    1100.0            17200.0  0.767442\n",
       "7   2013    1200.0            18250.0  0.789041\n",
       "8   2014    1200.0            18500.0  0.778378\n",
       "9   2015    1200.0            20000.0  0.720000\n",
       "10  2016    1300.0            21000.0  0.742857\n",
       "11  2017    1400.0            23500.0  0.714894"
      ]
     },
     "execution_count": 16,
     "metadata": {},
     "output_type": "execute_result"
    }
   ],
   "source": [
    "indiv_inc_rent = out_ind_rent_df.copy()\n",
    "indiv_inc_rent['Med_Annual_Income'] = ind_outmigrators_inc.values()\n",
    "indiv_inc_rent['Ratio'] = indiv_inc_rent.Med_Rent / (indiv_inc_rent.Med_Annual_Income / 12)  #Dividing by 12 to calculate ratio based on monthly income\n",
    "indiv_inc_rent"
   ]
  },
  {
   "cell_type": "code",
   "execution_count": 17,
   "metadata": {},
   "outputs": [
    {
     "data": {
      "application/vnd.vegalite.v2+json": {
       "$schema": "https://vega.github.io/schema/vega-lite/v2.6.0.json",
       "background": "white",
       "config": {
        "axis": {
         "labelAngle": 0
        },
        "view": {
         "height": 300,
         "strokeWidth": 0,
         "width": 400
        }
       },
       "data": {
        "name": "data-9d984cb2481940ba7afcc8d60dc296a7"
       },
       "datasets": {
        "data-9d984cb2481940ba7afcc8d60dc296a7": [
         {
          "Med_Annual_Income": 15000,
          "Med_Rent": 950,
          "Ratio": 0.76,
          "Year": 2006
         },
         {
          "Med_Annual_Income": 20100,
          "Med_Rent": 1000,
          "Ratio": 0.5970149253731343,
          "Year": 2007
         },
         {
          "Med_Annual_Income": 20000,
          "Med_Rent": 1100,
          "Ratio": 0.6599999999999999,
          "Year": 2008
         },
         {
          "Med_Annual_Income": 18000,
          "Med_Rent": 1100,
          "Ratio": 0.7333333333333333,
          "Year": 2009
         },
         {
          "Med_Annual_Income": 15800,
          "Med_Rent": 1000,
          "Ratio": 0.7594936708860759,
          "Year": 2010
         },
         {
          "Med_Annual_Income": 15600,
          "Med_Rent": 1100,
          "Ratio": 0.8461538461538461,
          "Year": 2011
         },
         {
          "Med_Annual_Income": 17200,
          "Med_Rent": 1100,
          "Ratio": 0.7674418604651163,
          "Year": 2012
         },
         {
          "Med_Annual_Income": 18250,
          "Med_Rent": 1200,
          "Ratio": 0.789041095890411,
          "Year": 2013
         },
         {
          "Med_Annual_Income": 18500,
          "Med_Rent": 1200,
          "Ratio": 0.7783783783783783,
          "Year": 2014
         },
         {
          "Med_Annual_Income": 20000,
          "Med_Rent": 1200,
          "Ratio": 0.72,
          "Year": 2015
         },
         {
          "Med_Annual_Income": 21000,
          "Med_Rent": 1300,
          "Ratio": 0.7428571428571429,
          "Year": 2016
         },
         {
          "Med_Annual_Income": 23500,
          "Med_Rent": 1400,
          "Ratio": 0.7148936170212766,
          "Year": 2017
         }
        ]
       },
       "encoding": {
        "x": {
         "axis": {
          "grid": false,
          "labelFlush": false
         },
         "field": "Year",
         "title": "Year",
         "type": "ordinal"
        },
        "y": {
         "axis": {
          "format": "%"
         },
         "field": "Ratio",
         "scale": {
          "domain": [
           0.5,
           0.9
          ]
         },
         "title": "Rent % of Income",
         "type": "quantitative"
        }
       },
       "mark": {
        "strokeCap": "round",
        "strokeWidth": 4,
        "type": "line"
       },
       "title": {
        "anchor": "middle",
        "offset": 30,
        "text": "LA Out Migrators - Median Rent as % of Median Individual Income"
       },
       "width": 500
      },
      "image/png": "[encoded data removed]",
      "text/plain": [
       "<VegaLite 2 object>\n",
       "\n",
       "If you see this message, it means the renderer has not been properly enabled\n",
       "for the frontend that you are using. For more information, see\n",
       "https://altair-viz.github.io/user_guide/troubleshooting.html\n"
      ]
     },
     "execution_count": 17,
     "metadata": {},
     "output_type": "execute_result"
    }
   ],
   "source": [
    "title=alt.TitleParams(text='LA Out Migrators - Median Rent as % of Median Individual Income', offset=30, anchor='middle')\n",
    "individual = alt.Chart(indiv_inc_rent).configure_axis(labelAngle=0).mark_line(strokeWidth=4, strokeCap='round').encode(\n",
    "    x=alt.X('Year:O', \n",
    "            title='Year', \n",
    "            axis=alt.Axis(grid=False, \n",
    "                          labelFlush=False)), \n",
    "    y=alt.Y('Ratio', \n",
    "            title='Rent % of Income',\n",
    "            axis=alt.Axis(format='%'), \n",
    "            scale=alt.Scale(domain=[.5,.9]))\n",
    ").properties(title=title, \n",
    "             width=500,\n",
    "             background='white'\n",
    ").configure_view(strokeWidth=0)\n",
    "\n",
    "individual"
   ]
  },
  {
   "cell_type": "code",
   "execution_count": 18,
   "metadata": {},
   "outputs": [],
   "source": [
    "individual.save('rent_perc_indiv_inc_no_perwt.png', scale_factor=3)"
   ]
  },
  {
   "cell_type": "markdown",
   "metadata": {},
   "source": [
    "-----------"
   ]
  },
  {
   "cell_type": "markdown",
   "metadata": {},
   "source": [
    "#### (2) Family Income:"
   ]
  },
  {
   "cell_type": "code",
   "execution_count": 19,
   "metadata": {},
   "outputs": [],
   "source": [
    "fam_outmigrators_inc = {}\n",
    "for year in range(2006, 2018):\n",
    "    df = fam_inc[fam_inc.YEAR == year]\n",
    "    income = df.FTOTINC.median()\n",
    "    fam_outmigrators_inc[year] = income"
   ]
  },
  {
   "cell_type": "code",
   "execution_count": 20,
   "metadata": {},
   "outputs": [
    {
     "data": {
      "text/plain": [
       "{2006: 28000.0,\n",
       " 2007: 35710.0,\n",
       " 2008: 36200.0,\n",
       " 2009: 38700.0,\n",
       " 2010: 32500.0,\n",
       " 2011: 31052.0,\n",
       " 2012: 35400.0,\n",
       " 2013: 39750.0,\n",
       " 2014: 36000.0,\n",
       " 2015: 36015.0,\n",
       " 2016: 42425.0,\n",
       " 2017: 42600.0}"
      ]
     },
     "execution_count": 20,
     "metadata": {},
     "output_type": "execute_result"
    }
   ],
   "source": [
    "fam_outmigrators_inc"
   ]
  },
  {
   "cell_type": "markdown",
   "metadata": {},
   "source": [
    "*Note: The additional filtering out of missing rent values caused these family income values to be different than those in other charts"
   ]
  },
  {
   "cell_type": "code",
   "execution_count": 21,
   "metadata": {},
   "outputs": [
    {
     "data": {
      "text/html": [
       "<div>\n",
       "<style scoped>\n",
       "    .dataframe tbody tr th:only-of-type {\n",
       "        vertical-align: middle;\n",
       "    }\n",
       "\n",
       "    .dataframe tbody tr th {\n",
       "        vertical-align: top;\n",
       "    }\n",
       "\n",
       "    .dataframe thead th {\n",
       "        text-align: right;\n",
       "    }\n",
       "</style>\n",
       "<table border=\"1\" class=\"dataframe\">\n",
       "  <thead>\n",
       "    <tr style=\"text-align: right;\">\n",
       "      <th></th>\n",
       "      <th>Year</th>\n",
       "      <th>Med_Rent</th>\n",
       "      <th>Med_Annual_Income</th>\n",
       "      <th>Ratio</th>\n",
       "    </tr>\n",
       "  </thead>\n",
       "  <tbody>\n",
       "    <tr>\n",
       "      <th>0</th>\n",
       "      <td>2006</td>\n",
       "      <td>950.0</td>\n",
       "      <td>28000.0</td>\n",
       "      <td>0.407143</td>\n",
       "    </tr>\n",
       "    <tr>\n",
       "      <th>1</th>\n",
       "      <td>2007</td>\n",
       "      <td>1000.0</td>\n",
       "      <td>35710.0</td>\n",
       "      <td>0.336040</td>\n",
       "    </tr>\n",
       "    <tr>\n",
       "      <th>2</th>\n",
       "      <td>2008</td>\n",
       "      <td>1100.0</td>\n",
       "      <td>36200.0</td>\n",
       "      <td>0.364641</td>\n",
       "    </tr>\n",
       "    <tr>\n",
       "      <th>3</th>\n",
       "      <td>2009</td>\n",
       "      <td>1100.0</td>\n",
       "      <td>38700.0</td>\n",
       "      <td>0.341085</td>\n",
       "    </tr>\n",
       "    <tr>\n",
       "      <th>4</th>\n",
       "      <td>2010</td>\n",
       "      <td>1000.0</td>\n",
       "      <td>32500.0</td>\n",
       "      <td>0.369231</td>\n",
       "    </tr>\n",
       "    <tr>\n",
       "      <th>5</th>\n",
       "      <td>2011</td>\n",
       "      <td>1100.0</td>\n",
       "      <td>31052.0</td>\n",
       "      <td>0.425093</td>\n",
       "    </tr>\n",
       "    <tr>\n",
       "      <th>6</th>\n",
       "      <td>2012</td>\n",
       "      <td>1100.0</td>\n",
       "      <td>35400.0</td>\n",
       "      <td>0.372881</td>\n",
       "    </tr>\n",
       "    <tr>\n",
       "      <th>7</th>\n",
       "      <td>2013</td>\n",
       "      <td>1200.0</td>\n",
       "      <td>39750.0</td>\n",
       "      <td>0.362264</td>\n",
       "    </tr>\n",
       "    <tr>\n",
       "      <th>8</th>\n",
       "      <td>2014</td>\n",
       "      <td>1200.0</td>\n",
       "      <td>36000.0</td>\n",
       "      <td>0.400000</td>\n",
       "    </tr>\n",
       "    <tr>\n",
       "      <th>9</th>\n",
       "      <td>2015</td>\n",
       "      <td>1200.0</td>\n",
       "      <td>36015.0</td>\n",
       "      <td>0.399833</td>\n",
       "    </tr>\n",
       "    <tr>\n",
       "      <th>10</th>\n",
       "      <td>2016</td>\n",
       "      <td>1300.0</td>\n",
       "      <td>42425.0</td>\n",
       "      <td>0.367708</td>\n",
       "    </tr>\n",
       "    <tr>\n",
       "      <th>11</th>\n",
       "      <td>2017</td>\n",
       "      <td>1400.0</td>\n",
       "      <td>42600.0</td>\n",
       "      <td>0.394366</td>\n",
       "    </tr>\n",
       "  </tbody>\n",
       "</table>\n",
       "</div>"
      ],
      "text/plain": [
       "    Year  Med_Rent  Med_Annual_Income     Ratio\n",
       "0   2006     950.0            28000.0  0.407143\n",
       "1   2007    1000.0            35710.0  0.336040\n",
       "2   2008    1100.0            36200.0  0.364641\n",
       "3   2009    1100.0            38700.0  0.341085\n",
       "4   2010    1000.0            32500.0  0.369231\n",
       "5   2011    1100.0            31052.0  0.425093\n",
       "6   2012    1100.0            35400.0  0.372881\n",
       "7   2013    1200.0            39750.0  0.362264\n",
       "8   2014    1200.0            36000.0  0.400000\n",
       "9   2015    1200.0            36015.0  0.399833\n",
       "10  2016    1300.0            42425.0  0.367708\n",
       "11  2017    1400.0            42600.0  0.394366"
      ]
     },
     "execution_count": 21,
     "metadata": {},
     "output_type": "execute_result"
    }
   ],
   "source": [
    "fam_inc_rent = out_ind_rent_df.copy()\n",
    "fam_inc_rent['Med_Annual_Income'] = fam_outmigrators_inc.values()\n",
    "fam_inc_rent['Ratio'] = fam_inc_rent.Med_Rent / (fam_inc_rent.Med_Annual_Income / 12)  #Dividing by 12 to calculate ratio based on monthly income\n",
    "fam_inc_rent"
   ]
  },
  {
   "cell_type": "code",
   "execution_count": 22,
   "metadata": {},
   "outputs": [
    {
     "data": {
      "application/vnd.vegalite.v2+json": {
       "$schema": "https://vega.github.io/schema/vega-lite/v2.6.0.json",
       "background": "white",
       "config": {
        "axis": {
         "labelAngle": 0
        },
        "view": {
         "height": 300,
         "strokeWidth": 0,
         "width": 400
        }
       },
       "data": {
        "name": "data-717b34f27672a382f0ed1fd6a7957395"
       },
       "datasets": {
        "data-717b34f27672a382f0ed1fd6a7957395": [
         {
          "Med_Annual_Income": 28000,
          "Med_Rent": 950,
          "Ratio": 0.40714285714285714,
          "Year": 2006
         },
         {
          "Med_Annual_Income": 35710,
          "Med_Rent": 1000,
          "Ratio": 0.33604032483898066,
          "Year": 2007
         },
         {
          "Med_Annual_Income": 36200,
          "Med_Rent": 1100,
          "Ratio": 0.36464088397790057,
          "Year": 2008
         },
         {
          "Med_Annual_Income": 38700,
          "Med_Rent": 1100,
          "Ratio": 0.34108527131782945,
          "Year": 2009
         },
         {
          "Med_Annual_Income": 32500,
          "Med_Rent": 1000,
          "Ratio": 0.3692307692307692,
          "Year": 2010
         },
         {
          "Med_Annual_Income": 31052,
          "Med_Rent": 1100,
          "Ratio": 0.4250933917300013,
          "Year": 2011
         },
         {
          "Med_Annual_Income": 35400,
          "Med_Rent": 1100,
          "Ratio": 0.3728813559322034,
          "Year": 2012
         },
         {
          "Med_Annual_Income": 39750,
          "Med_Rent": 1200,
          "Ratio": 0.3622641509433962,
          "Year": 2013
         },
         {
          "Med_Annual_Income": 36000,
          "Med_Rent": 1200,
          "Ratio": 0.4,
          "Year": 2014
         },
         {
          "Med_Annual_Income": 36015,
          "Med_Rent": 1200,
          "Ratio": 0.39983340274885465,
          "Year": 2015
         },
         {
          "Med_Annual_Income": 42425,
          "Med_Rent": 1300,
          "Ratio": 0.36770771950500886,
          "Year": 2016
         },
         {
          "Med_Annual_Income": 42600,
          "Med_Rent": 1400,
          "Ratio": 0.39436619718309857,
          "Year": 2017
         }
        ]
       },
       "encoding": {
        "x": {
         "axis": {
          "grid": false,
          "labelFlush": false
         },
         "field": "Year",
         "title": "Year",
         "type": "ordinal"
        },
        "y": {
         "axis": {
          "format": "%"
         },
         "field": "Ratio",
         "scale": {
          "domain": [
           0.2,
           0.45
          ]
         },
         "title": "Rent % of Income",
         "type": "quantitative"
        }
       },
       "mark": {
        "strokeCap": "round",
        "strokeWidth": 4,
        "type": "line"
       },
       "title": {
        "anchor": "middle",
        "offset": 30,
        "text": "LA Out Migrators - Median Rent as % of Median Family Income"
       },
       "width": 500
      },
      "image/png": "[encoded data removed]",
      "text/plain": [
       "<VegaLite 2 object>\n",
       "\n",
       "If you see this message, it means the renderer has not been properly enabled\n",
       "for the frontend that you are using. For more information, see\n",
       "https://altair-viz.github.io/user_guide/troubleshooting.html\n"
      ]
     },
     "execution_count": 22,
     "metadata": {},
     "output_type": "execute_result"
    }
   ],
   "source": [
    "title=alt.TitleParams(text='LA Out Migrators - Median Rent as % of Median Family Income', offset=30, anchor='middle')\n",
    "family = alt.Chart(fam_inc_rent).configure_axis(labelAngle=0).mark_line(strokeWidth=4, strokeCap='round').encode(\n",
    "    x=alt.X('Year:O', \n",
    "            title='Year', \n",
    "            axis=alt.Axis(grid=False, \n",
    "                          labelFlush=False)), \n",
    "    y=alt.Y('Ratio', \n",
    "            title='Rent % of Income',\n",
    "            axis=alt.Axis(format='%'), \n",
    "            scale=alt.Scale(domain=[.2,.45]))\n",
    ").properties(title=title, \n",
    "             width=500,\n",
    "             background='white'\n",
    ").configure_view(strokeWidth=0)\n",
    "\n",
    "family"
   ]
  },
  {
   "cell_type": "code",
   "execution_count": 23,
   "metadata": {},
   "outputs": [],
   "source": [
    "family.save('rent_perc_fam_inc_no_perwt.png', scale_factor=3)"
   ]
  }
 ],
 "metadata": {
  "kernelspec": {
   "display_name": "Python 3",
   "language": "python",
   "name": "python3"
  },
  "language_info": {
   "codemirror_mode": {
    "name": "ipython",
    "version": 3
   },
   "file_extension": ".py",
   "mimetype": "text/x-python",
   "name": "python",
   "nbconvert_exporter": "python",
   "pygments_lexer": "ipython3",
   "version": "3.6.2"
  }
 },
 "nbformat": 4,
 "nbformat_minor": 2
}
