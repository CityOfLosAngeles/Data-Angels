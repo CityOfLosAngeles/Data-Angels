{
 "cells": [
  {
   "cell_type": "markdown",
   "metadata": {},
   "source": [
    "### Out Migrator Counts by Education Level (No Family Income)\n",
    "\\*PERWT *is* applied here (since the data doesn't directly address economic variables, such as income or rent)"
   ]
  },
  {
   "cell_type": "code",
   "execution_count": 1,
   "metadata": {},
   "outputs": [],
   "source": [
    "import pandas as pd\n",
    "import numpy as np\n",
    "import altair as alt"
   ]
  },
  {
   "cell_type": "code",
   "execution_count": 2,
   "metadata": {},
   "outputs": [],
   "source": [
    "outmigrators = pd.read_csv('ipums_clean.csv')"
   ]
  },
  {
   "cell_type": "code",
   "execution_count": 3,
   "metadata": {},
   "outputs": [],
   "source": [
    "#Renaming & combining some labels from EDUC_DESC\n",
    "education = {\n",
    "0:'N/A or no schooling',\n",
    "1:'Less than high school',\n",
    "2:'Less than high school',\n",
    "3:'Some high school',\n",
    "4:'Some high school',\n",
    "5:'Some high school',\n",
    "6:'HS graduate',\n",
    "7:'Some college',\n",
    "8:'Some college',\n",
    "9:'Some college',\n",
    "10:\"College graduate\",\n",
    "11:'Graduate school'}\n",
    "\n",
    "outmigrators.EDUC_DESC = outmigrators.EDUC.map(education)"
   ]
  },
  {
   "cell_type": "code",
   "execution_count": 4,
   "metadata": {},
   "outputs": [],
   "source": [
    "#Removing records with missing rent or mortgage values (assigned the value 0)\n",
    "#Removing records with missing individual and/or family income values (assigned the value 9999999)\n",
    "#Only keeping records of individuals who do not have family incomes\n",
    "out_rent_inc = outmigrators[(outmigrators.RENT != 0) & (outmigrators.INCTOT != 9999999) & (outmigrators.FTOTINC != 9999999) & (outmigrators.INCTOT >= outmigrators.FTOTINC)]"
   ]
  },
  {
   "cell_type": "code",
   "execution_count": 5,
   "metadata": {},
   "outputs": [],
   "source": [
    "#Calculating annual out migration counts for each education level\n",
    "educ = pd.DataFrame()\n",
    "for year in range(2006,2018):\n",
    "    df = out_rent_inc[out_rent_inc.YEAR == year]\n",
    "    ed_levels = out_rent_inc.EDUC_DESC.unique()\n",
    "    counts = {}\n",
    "    \n",
    "    for level in ed_levels:\n",
    "        count = df.PERWT[df.EDUC_DESC == level].sum()\n",
    "        counts[level] = count\n",
    "\n",
    "    educ_df = pd.DataFrame.from_dict(counts, orient='index')\n",
    "    educ_df = educ_df.reset_index().rename({'index':'Education Level', 0:'Count'}, axis=1)\n",
    "    educ_df['Year'] = np.full(len(educ_df), year)\n",
    "    \n",
    "    educ = pd.concat([educ, educ_df])"
   ]
  },
  {
   "cell_type": "code",
   "execution_count": 6,
   "metadata": {},
   "outputs": [
    {
     "data": {
      "text/html": [
       "<div>\n",
       "<style scoped>\n",
       "    .dataframe tbody tr th:only-of-type {\n",
       "        vertical-align: middle;\n",
       "    }\n",
       "\n",
       "    .dataframe tbody tr th {\n",
       "        vertical-align: top;\n",
       "    }\n",
       "\n",
       "    .dataframe thead th {\n",
       "        text-align: right;\n",
       "    }\n",
       "</style>\n",
       "<table border=\"1\" class=\"dataframe\">\n",
       "  <thead>\n",
       "    <tr style=\"text-align: right;\">\n",
       "      <th></th>\n",
       "      <th>Education Level</th>\n",
       "      <th>Count</th>\n",
       "      <th>Year</th>\n",
       "    </tr>\n",
       "  </thead>\n",
       "  <tbody>\n",
       "    <tr>\n",
       "      <th>0</th>\n",
       "      <td>Some college</td>\n",
       "      <td>25164</td>\n",
       "      <td>2006</td>\n",
       "    </tr>\n",
       "    <tr>\n",
       "      <th>1</th>\n",
       "      <td>N/A or no schooling</td>\n",
       "      <td>1265</td>\n",
       "      <td>2006</td>\n",
       "    </tr>\n",
       "    <tr>\n",
       "      <th>2</th>\n",
       "      <td>College graduate</td>\n",
       "      <td>19033</td>\n",
       "      <td>2006</td>\n",
       "    </tr>\n",
       "    <tr>\n",
       "      <th>3</th>\n",
       "      <td>Graduate school</td>\n",
       "      <td>8306</td>\n",
       "      <td>2006</td>\n",
       "    </tr>\n",
       "    <tr>\n",
       "      <th>4</th>\n",
       "      <td>HS graduate</td>\n",
       "      <td>24256</td>\n",
       "      <td>2006</td>\n",
       "    </tr>\n",
       "  </tbody>\n",
       "</table>\n",
       "</div>"
      ],
      "text/plain": [
       "       Education Level  Count  Year\n",
       "0         Some college  25164  2006\n",
       "1  N/A or no schooling   1265  2006\n",
       "2     College graduate  19033  2006\n",
       "3      Graduate school   8306  2006\n",
       "4          HS graduate  24256  2006"
      ]
     },
     "execution_count": 6,
     "metadata": {},
     "output_type": "execute_result"
    }
   ],
   "source": [
    "educ.head()"
   ]
  },
  {
   "cell_type": "code",
   "execution_count": 7,
   "metadata": {},
   "outputs": [
    {
     "data": {
      "application/vnd.vegalite.v2+json": {
       "$schema": "https://vega.github.io/schema/vega-lite/v2.6.0.json",
       "background": "white",
       "config": {
        "axis": {
         "labelAngle": 0
        },
        "legend": {
         "labelFontSize": 13,
         "symbolSize": 30,
         "symbolStrokeWidth": 5.5
        },
        "view": {
         "height": 300,
         "strokeWidth": 0,
         "width": 400
        }
       },
       "data": {
        "name": "data-1e7601a913bb858e8c7d8c4934adc730"
       },
       "datasets": {
        "data-1e7601a913bb858e8c7d8c4934adc730": [
         {
          "Count": 25164,
          "Education Level": "Some college",
          "Year": 2006
         },
         {
          "Count": 1265,
          "Education Level": "N/A or no schooling",
          "Year": 2006
         },
         {
          "Count": 19033,
          "Education Level": "College graduate",
          "Year": 2006
         },
         {
          "Count": 8306,
          "Education Level": "Graduate school",
          "Year": 2006
         },
         {
          "Count": 24256,
          "Education Level": "HS graduate",
          "Year": 2006
         },
         {
          "Count": 5481,
          "Education Level": "Some high school",
          "Year": 2006
         },
         {
          "Count": 4650,
          "Education Level": "Less than high school",
          "Year": 2006
         },
         {
          "Count": 22627,
          "Education Level": "Some college",
          "Year": 2007
         },
         {
          "Count": 766,
          "Education Level": "N/A or no schooling",
          "Year": 2007
         },
         {
          "Count": 18414,
          "Education Level": "College graduate",
          "Year": 2007
         },
         {
          "Count": 8687,
          "Education Level": "Graduate school",
          "Year": 2007
         },
         {
          "Count": 27912,
          "Education Level": "HS graduate",
          "Year": 2007
         },
         {
          "Count": 5708,
          "Education Level": "Some high school",
          "Year": 2007
         },
         {
          "Count": 4598,
          "Education Level": "Less than high school",
          "Year": 2007
         },
         {
          "Count": 22216,
          "Education Level": "Some college",
          "Year": 2008
         },
         {
          "Count": 254,
          "Education Level": "N/A or no schooling",
          "Year": 2008
         },
         {
          "Count": 21842,
          "Education Level": "College graduate",
          "Year": 2008
         },
         {
          "Count": 9677,
          "Education Level": "Graduate school",
          "Year": 2008
         },
         {
          "Count": 18922,
          "Education Level": "HS graduate",
          "Year": 2008
         },
         {
          "Count": 4097,
          "Education Level": "Some high school",
          "Year": 2008
         },
         {
          "Count": 2791,
          "Education Level": "Less than high school",
          "Year": 2008
         },
         {
          "Count": 22401,
          "Education Level": "Some college",
          "Year": 2009
         },
         {
          "Count": 929,
          "Education Level": "N/A or no schooling",
          "Year": 2009
         },
         {
          "Count": 15306,
          "Education Level": "College graduate",
          "Year": 2009
         },
         {
          "Count": 6285,
          "Education Level": "Graduate school",
          "Year": 2009
         },
         {
          "Count": 19622,
          "Education Level": "HS graduate",
          "Year": 2009
         },
         {
          "Count": 2197,
          "Education Level": "Some high school",
          "Year": 2009
         },
         {
          "Count": 2092,
          "Education Level": "Less than high school",
          "Year": 2009
         },
         {
          "Count": 21041,
          "Education Level": "Some college",
          "Year": 2010
         },
         {
          "Count": 126,
          "Education Level": "N/A or no schooling",
          "Year": 2010
         },
         {
          "Count": 21470,
          "Education Level": "College graduate",
          "Year": 2010
         },
         {
          "Count": 8882,
          "Education Level": "Graduate school",
          "Year": 2010
         },
         {
          "Count": 14761,
          "Education Level": "HS graduate",
          "Year": 2010
         },
         {
          "Count": 3237,
          "Education Level": "Some high school",
          "Year": 2010
         },
         {
          "Count": 3628,
          "Education Level": "Less than high school",
          "Year": 2010
         },
         {
          "Count": 22601,
          "Education Level": "Some college",
          "Year": 2011
         },
         {
          "Count": 1560,
          "Education Level": "N/A or no schooling",
          "Year": 2011
         },
         {
          "Count": 22286,
          "Education Level": "College graduate",
          "Year": 2011
         },
         {
          "Count": 9778,
          "Education Level": "Graduate school",
          "Year": 2011
         },
         {
          "Count": 17268,
          "Education Level": "HS graduate",
          "Year": 2011
         },
         {
          "Count": 2202,
          "Education Level": "Some high school",
          "Year": 2011
         },
         {
          "Count": 1984,
          "Education Level": "Less than high school",
          "Year": 2011
         },
         {
          "Count": 19653,
          "Education Level": "Some college",
          "Year": 2012
         },
         {
          "Count": 687,
          "Education Level": "N/A or no schooling",
          "Year": 2012
         },
         {
          "Count": 20790,
          "Education Level": "College graduate",
          "Year": 2012
         },
         {
          "Count": 8262,
          "Education Level": "Graduate school",
          "Year": 2012
         },
         {
          "Count": 16718,
          "Education Level": "HS graduate",
          "Year": 2012
         },
         {
          "Count": 3220,
          "Education Level": "Some high school",
          "Year": 2012
         },
         {
          "Count": 2632,
          "Education Level": "Less than high school",
          "Year": 2012
         },
         {
          "Count": 19477,
          "Education Level": "Some college",
          "Year": 2013
         },
         {
          "Count": 60,
          "Education Level": "N/A or no schooling",
          "Year": 2013
         },
         {
          "Count": 27251,
          "Education Level": "College graduate",
          "Year": 2013
         },
         {
          "Count": 11787,
          "Education Level": "Graduate school",
          "Year": 2013
         },
         {
          "Count": 16531,
          "Education Level": "HS graduate",
          "Year": 2013
         },
         {
          "Count": 3064,
          "Education Level": "Some high school",
          "Year": 2013
         },
         {
          "Count": 1452,
          "Education Level": "Less than high school",
          "Year": 2013
         },
         {
          "Count": 26486,
          "Education Level": "Some college",
          "Year": 2014
         },
         {
          "Count": 781,
          "Education Level": "N/A or no schooling",
          "Year": 2014
         },
         {
          "Count": 22222,
          "Education Level": "College graduate",
          "Year": 2014
         },
         {
          "Count": 10771,
          "Education Level": "Graduate school",
          "Year": 2014
         },
         {
          "Count": 21228,
          "Education Level": "HS graduate",
          "Year": 2014
         },
         {
          "Count": 2934,
          "Education Level": "Some high school",
          "Year": 2014
         },
         {
          "Count": 2277,
          "Education Level": "Less than high school",
          "Year": 2014
         },
         {
          "Count": 28806,
          "Education Level": "Some college",
          "Year": 2015
         },
         {
          "Count": 892,
          "Education Level": "N/A or no schooling",
          "Year": 2015
         },
         {
          "Count": 21142,
          "Education Level": "College graduate",
          "Year": 2015
         },
         {
          "Count": 11739,
          "Education Level": "Graduate school",
          "Year": 2015
         },
         {
          "Count": 18614,
          "Education Level": "HS graduate",
          "Year": 2015
         },
         {
          "Count": 3999,
          "Education Level": "Some high school",
          "Year": 2015
         },
         {
          "Count": 1726,
          "Education Level": "Less than high school",
          "Year": 2015
         },
         {
          "Count": 26807,
          "Education Level": "Some college",
          "Year": 2016
         },
         {
          "Count": 688,
          "Education Level": "N/A or no schooling",
          "Year": 2016
         },
         {
          "Count": 20795,
          "Education Level": "College graduate",
          "Year": 2016
         },
         {
          "Count": 11551,
          "Education Level": "Graduate school",
          "Year": 2016
         },
         {
          "Count": 16294,
          "Education Level": "HS graduate",
          "Year": 2016
         },
         {
          "Count": 2980,
          "Education Level": "Some high school",
          "Year": 2016
         },
         {
          "Count": 1224,
          "Education Level": "Less than high school",
          "Year": 2016
         },
         {
          "Count": 25536,
          "Education Level": "Some college",
          "Year": 2017
         },
         {
          "Count": 431,
          "Education Level": "N/A or no schooling",
          "Year": 2017
         },
         {
          "Count": 24081,
          "Education Level": "College graduate",
          "Year": 2017
         },
         {
          "Count": 13494,
          "Education Level": "Graduate school",
          "Year": 2017
         },
         {
          "Count": 20390,
          "Education Level": "HS graduate",
          "Year": 2017
         },
         {
          "Count": 2988,
          "Education Level": "Some high school",
          "Year": 2017
         },
         {
          "Count": 648,
          "Education Level": "Less than high school",
          "Year": 2017
         }
        ]
       },
       "encoding": {
        "color": {
         "field": "Education Level",
         "scale": {
          "domain": [
           "Some college",
           "College graduate",
           "HS graduate",
           "Graduate school",
           "Some high school",
           "Less than high school",
           "N/A or no schooling"
          ],
          "range": [
           "#bc80bd",
           "#6baed6",
           "#08589e",
           "#d6616b",
           "#fd8d3d",
           "#66a61e",
           "#eeca3b"
          ]
         },
         "title": null,
         "type": "nominal"
        },
        "x": {
         "axis": {
          "grid": false,
          "labelFlush": false
         },
         "field": "Year",
         "title": "Year",
         "type": "ordinal"
        },
        "y": {
         "field": "Count",
         "scale": {
          "domain": [
           0,
           30000
          ]
         },
         "title": "Number of Out Migrators",
         "type": "quantitative"
        }
       },
       "mark": {
        "strokeCap": "round",
        "strokeWidth": 4,
        "type": "line"
       },
       "title": {
        "anchor": "middle",
        "offset": 30,
        "text": "LA Out Migration Counts - Educational Attainment (No Family Income)"
       },
       "width": 500
      },
      "image/png": "[encoded data removed]",
      "text/plain": [
       "<VegaLite 2 object>\n",
       "\n",
       "If you see this message, it means the renderer has not been properly enabled\n",
       "for the frontend that you are using. For more information, see\n",
       "https://altair-viz.github.io/user_guide/troubleshooting.html\n"
      ]
     },
     "execution_count": 7,
     "metadata": {},
     "output_type": "execute_result"
    }
   ],
   "source": [
    "#Plotting via Altair\n",
    "title=alt.TitleParams(text='LA Out Migration Counts - Educational Attainment (No Family Income)', anchor='middle', offset=30)\n",
    "education = alt.Chart(educ).configure_axis(labelAngle=0).mark_line(strokeWidth=4, strokeCap='round').encode(\n",
    "    x=alt.X('Year:O', \n",
    "            title='Year', \n",
    "            axis=alt.Axis(labelFlush=False, grid=False)), \n",
    "    y=alt.Y('Count', \n",
    "            title='Number of Out Migrators',\n",
    "            scale=alt.Scale(domain=(0,30000))), \n",
    "    color=alt.Color('Education Level', \n",
    "                    title=None, \n",
    "                    scale=alt.Scale(domain=['Some college', 'College graduate', 'HS graduate',  'Graduate school', 'Some high school', \n",
    "                                            'Less than high school', 'N/A or no schooling',],\n",
    "                                    range=['#bc80bd', '#6baed6', '#08589e', '#d6616b', '#fd8d3d', '#66a61e', '#eeca3b']))\n",
    ").properties(width=500, title=title, background='white'\n",
    ").configure_legend(labelFontSize=13, \n",
    "                   symbolStrokeWidth=5.5, \n",
    "                   symbolSize=30\n",
    ").configure_view(strokeWidth=0)\n",
    "\n",
    "education"
   ]
  },
  {
   "cell_type": "code",
   "execution_count": 8,
   "metadata": {},
   "outputs": [],
   "source": [
    "education.save('educ_ind_out_no_fam.png', scale_factor=3)"
   ]
  }
 ],
 "metadata": {
  "kernelspec": {
   "display_name": "Python 3",
   "language": "python",
   "name": "python3"
  },
  "language_info": {
   "codemirror_mode": {
    "name": "ipython",
    "version": 3
   },
   "file_extension": ".py",
   "mimetype": "text/x-python",
   "name": "python",
   "nbconvert_exporter": "python",
   "pygments_lexer": "ipython3",
   "version": "3.6.2"
  }
 },
 "nbformat": 4,
 "nbformat_minor": 2
}
