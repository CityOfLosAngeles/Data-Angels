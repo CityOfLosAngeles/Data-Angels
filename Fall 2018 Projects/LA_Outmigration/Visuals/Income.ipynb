{
 "cells": [
  {
   "cell_type": "markdown",
   "metadata": {},
   "source": [
    "### Plotting Median Income\n",
    "*Comparing individual and family incomes"
   ]
  },
  {
   "cell_type": "code",
   "execution_count": 1,
   "metadata": {},
   "outputs": [],
   "source": [
    "import pandas as pd\n",
    "import numpy as np\n",
    "import altair as alt"
   ]
  },
  {
   "cell_type": "code",
   "execution_count": 2,
   "metadata": {},
   "outputs": [],
   "source": [
    "file = pd.read_csv('ipums_clean.csv')"
   ]
  },
  {
   "cell_type": "code",
   "execution_count": 3,
   "metadata": {},
   "outputs": [
    {
     "data": {
      "text/plain": [
       "38158"
      ]
     },
     "execution_count": 3,
     "metadata": {},
     "output_type": "execute_result"
    }
   ],
   "source": [
    "len(file)"
   ]
  },
  {
   "cell_type": "code",
   "execution_count": 4,
   "metadata": {},
   "outputs": [],
   "source": [
    "#Removing N/A income records (value = 9999999)\n",
    "file = file[file.INCTOT != 9999999]"
   ]
  },
  {
   "cell_type": "code",
   "execution_count": 5,
   "metadata": {},
   "outputs": [
    {
     "data": {
      "text/plain": [
       "32681"
      ]
     },
     "execution_count": 5,
     "metadata": {},
     "output_type": "execute_result"
    }
   ],
   "source": [
    "len(file)"
   ]
  },
  {
   "cell_type": "markdown",
   "metadata": {},
   "source": [
    "------------------"
   ]
  },
  {
   "cell_type": "markdown",
   "metadata": {},
   "source": [
    "### (1) *Individual* Income"
   ]
  },
  {
   "cell_type": "code",
   "execution_count": 6,
   "metadata": {},
   "outputs": [],
   "source": [
    "indiv_income = {}\n",
    "for year in range(2006, 2018):\n",
    "    df = file[file.YEAR == year]\n",
    "    incomes = np.array([])\n",
    "    for i, row in df[['INCTOT', 'PERWT']].iterrows():\n",
    "        income = np.full(row.PERWT, row.INCTOT)\n",
    "        incomes = np.append(incomes, income)\n",
    "    indiv_income[year] = np.median(incomes)"
   ]
  },
  {
   "cell_type": "code",
   "execution_count": 7,
   "metadata": {},
   "outputs": [
    {
     "data": {
      "text/plain": [
       "{2006: 14400.0,\n",
       " 2007: 16000.0,\n",
       " 2008: 15000.0,\n",
       " 2009: 14310.0,\n",
       " 2010: 12800.0,\n",
       " 2011: 12000.0,\n",
       " 2012: 12000.0,\n",
       " 2013: 13900.0,\n",
       " 2014: 15000.0,\n",
       " 2015: 14900.0,\n",
       " 2016: 17000.0,\n",
       " 2017: 19100.0}"
      ]
     },
     "execution_count": 7,
     "metadata": {},
     "output_type": "execute_result"
    }
   ],
   "source": [
    "indiv_income"
   ]
  },
  {
   "cell_type": "code",
   "execution_count": 8,
   "metadata": {},
   "outputs": [],
   "source": [
    "individual = pd.DataFrame.from_dict(indiv_income, orient='index')\n",
    "individual = individual.reset_index().rename({'index':'Year', 0:'Income'}, axis=1)\n",
    "yr = individual.Year.astype('str')\n",
    "individual.Year = pd.to_datetime(yr)"
   ]
  },
  {
   "cell_type": "code",
   "execution_count": 17,
   "metadata": {},
   "outputs": [
    {
     "data": {
      "application/vnd.vegalite.v2+json": {
       "$schema": "https://vega.github.io/schema/vega-lite/v2.6.0.json",
       "config": {
        "view": {
         "height": 300,
         "strokeWidth": 0,
         "width": 400
        }
       },
       "data": {
        "name": "data-795b4a0af42e5a9fad837b4cad72bf2a"
       },
       "datasets": {
        "data-795b4a0af42e5a9fad837b4cad72bf2a": [
         {
          "Income": 14400,
          "Year": "2006-01-01T00:00:00"
         },
         {
          "Income": 16000,
          "Year": "2007-01-01T00:00:00"
         },
         {
          "Income": 15000,
          "Year": "2008-01-01T00:00:00"
         },
         {
          "Income": 14310,
          "Year": "2009-01-01T00:00:00"
         },
         {
          "Income": 12800,
          "Year": "2010-01-01T00:00:00"
         },
         {
          "Income": 12000,
          "Year": "2011-01-01T00:00:00"
         },
         {
          "Income": 12000,
          "Year": "2012-01-01T00:00:00"
         },
         {
          "Income": 13900,
          "Year": "2013-01-01T00:00:00"
         },
         {
          "Income": 15000,
          "Year": "2014-01-01T00:00:00"
         },
         {
          "Income": 14900,
          "Year": "2015-01-01T00:00:00"
         },
         {
          "Income": 17000,
          "Year": "2016-01-01T00:00:00"
         },
         {
          "Income": 19100,
          "Year": "2017-01-01T00:00:00"
         }
        ]
       },
       "encoding": {
        "x": {
         "axis": {
          "grid": false,
          "labelFlush": false
         },
         "field": "Year",
         "title": null,
         "type": "temporal"
        },
        "y": {
         "axis": {
          "format": "$s",
          "offset": 1
         },
         "field": "Income",
         "scale": {
          "domain": [
           10000,
           20000
          ]
         },
         "title": null,
         "type": "quantitative"
        }
       },
       "mark": {
        "strokeWidth": 4,
        "type": "line"
       },
       "title": "LA Out Migrators - Median Individual Income",
       "width": 500
      },
      "image/png": "[encoded data removed]",
      "text/plain": [
       "<VegaLite 2 object>\n",
       "\n",
       "If you see this message, it means the renderer has not been properly enabled\n",
       "for the frontend that you are using. For more information, see\n",
       "https://altair-viz.github.io/user_guide/troubleshooting.html\n"
      ]
     },
     "execution_count": 17,
     "metadata": {},
     "output_type": "execute_result"
    }
   ],
   "source": [
    "alt.Chart(individual).mark_line(strokeWidth=4).encode(\n",
    "    x=alt.X('Year', \n",
    "            axis=alt.Axis(grid=False, labelFlush=False), \n",
    "            title=None),\n",
    "    y=alt.Y('Income', \n",
    "            scale=alt.Scale(domain=[10000,20000]), \n",
    "            axis=alt.Axis(offset=1, format='$s'), \n",
    "            title=None)\n",
    ").properties(title='LA Out Migrators - Median Individual Income', width=500\n",
    ").configure_view(strokeWidth=0)"
   ]
  },
  {
   "cell_type": "markdown",
   "metadata": {},
   "source": [
    "-----------------"
   ]
  },
  {
   "cell_type": "markdown",
   "metadata": {},
   "source": [
    "### (2) *Family* Income"
   ]
  },
  {
   "cell_type": "code",
   "execution_count": 10,
   "metadata": {},
   "outputs": [],
   "source": [
    "fam_income = {}\n",
    "for year in range(2006, 2018):\n",
    "    df = file[file.YEAR == year]\n",
    "    incomes = np.array([])\n",
    "    for i, row in df[['FTOTINC', 'PERWT']].iterrows():\n",
    "        income = np.full(row.PERWT, row.FTOTINC)\n",
    "        incomes = np.append(incomes, income)\n",
    "    fam_income[year] = np.median(incomes)"
   ]
  },
  {
   "cell_type": "code",
   "execution_count": 11,
   "metadata": {},
   "outputs": [
    {
     "data": {
      "text/plain": [
       "{2006: 50200.0,\n",
       " 2007: 55000.0,\n",
       " 2008: 59950.0,\n",
       " 2009: 60000.0,\n",
       " 2010: 65000.0,\n",
       " 2011: 60000.0,\n",
       " 2012: 55000.0,\n",
       " 2013: 64550.0,\n",
       " 2014: 61000.0,\n",
       " 2015: 65000.0,\n",
       " 2016: 70100.0,\n",
       " 2017: 68200.0}"
      ]
     },
     "execution_count": 11,
     "metadata": {},
     "output_type": "execute_result"
    }
   ],
   "source": [
    "fam_income"
   ]
  },
  {
   "cell_type": "code",
   "execution_count": 12,
   "metadata": {},
   "outputs": [],
   "source": [
    "family = pd.DataFrame.from_dict(fam_income, orient='index')\n",
    "family = family.reset_index().rename({'index':'Year', 0:'Income'}, axis=1)\n",
    "yr = family.Year.astype('str')\n",
    "family.Year = pd.to_datetime(yr)"
   ]
  },
  {
   "cell_type": "code",
   "execution_count": 16,
   "metadata": {},
   "outputs": [
    {
     "data": {
      "application/vnd.vegalite.v2+json": {
       "$schema": "https://vega.github.io/schema/vega-lite/v2.6.0.json",
       "config": {
        "view": {
         "height": 300,
         "strokeWidth": 0,
         "width": 400
        }
       },
       "data": {
        "name": "data-1ddeedc980775861fa80da2b3e04df7a"
       },
       "datasets": {
        "data-1ddeedc980775861fa80da2b3e04df7a": [
         {
          "Income": 50200,
          "Year": "2006-01-01T00:00:00"
         },
         {
          "Income": 55000,
          "Year": "2007-01-01T00:00:00"
         },
         {
          "Income": 59950,
          "Year": "2008-01-01T00:00:00"
         },
         {
          "Income": 60000,
          "Year": "2009-01-01T00:00:00"
         },
         {
          "Income": 65000,
          "Year": "2010-01-01T00:00:00"
         },
         {
          "Income": 60000,
          "Year": "2011-01-01T00:00:00"
         },
         {
          "Income": 55000,
          "Year": "2012-01-01T00:00:00"
         },
         {
          "Income": 64550,
          "Year": "2013-01-01T00:00:00"
         },
         {
          "Income": 61000,
          "Year": "2014-01-01T00:00:00"
         },
         {
          "Income": 65000,
          "Year": "2015-01-01T00:00:00"
         },
         {
          "Income": 70100,
          "Year": "2016-01-01T00:00:00"
         },
         {
          "Income": 68200,
          "Year": "2017-01-01T00:00:00"
         }
        ]
       },
       "encoding": {
        "x": {
         "axis": {
          "grid": false,
          "labelFlush": false
         },
         "field": "Year",
         "title": null,
         "type": "temporal"
        },
        "y": {
         "axis": {
          "format": "$s",
          "offset": 1
         },
         "field": "Income",
         "scale": {
          "domain": [
           45000,
           75000
          ]
         },
         "title": null,
         "type": "quantitative"
        }
       },
       "mark": {
        "strokeWidth": 4,
        "type": "line"
       },
       "title": "LA Out Migrators - Median Family Income",
       "width": 500
      },
      "image/png": "[encoded data removed]",
      "text/plain": [
       "<VegaLite 2 object>\n",
       "\n",
       "If you see this message, it means the renderer has not been properly enabled\n",
       "for the frontend that you are using. For more information, see\n",
       "https://altair-viz.github.io/user_guide/troubleshooting.html\n"
      ]
     },
     "execution_count": 16,
     "metadata": {},
     "output_type": "execute_result"
    }
   ],
   "source": [
    "alt.Chart(family).mark_line(strokeWidth=4).encode(\n",
    "    x=alt.X('Year', \n",
    "            axis=alt.Axis(grid=False, labelFlush=False), \n",
    "            title=None),\n",
    "    y=alt.Y('Income', \n",
    "            scale=alt.Scale(domain=[45000,75000]), \n",
    "            axis=alt.Axis(offset=1, format='$s'), \n",
    "            title=None)\n",
    ").properties(title='LA Out Migrators - Median Family Income', width=500\n",
    ").configure_view(strokeWidth=0)"
   ]
  }
 ],
 "metadata": {
  "kernelspec": {
   "display_name": "Python 3",
   "language": "python",
   "name": "python3"
  },
  "language_info": {
   "codemirror_mode": {
    "name": "ipython",
    "version": 3
   },
   "file_extension": ".py",
   "mimetype": "text/x-python",
   "name": "python",
   "nbconvert_exporter": "python",
   "pygments_lexer": "ipython3",
   "version": "3.6.2"
  }
 },
 "nbformat": 4,
 "nbformat_minor": 2
}
