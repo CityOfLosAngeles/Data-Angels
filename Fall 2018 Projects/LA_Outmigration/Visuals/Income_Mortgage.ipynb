{
 "cells": [
  {
   "cell_type": "markdown",
   "metadata": {},
   "source": [
    "### Analyzing Median Mortgage as a Percentage of Income\n",
    "*Comparing individual and family incomes"
   ]
  },
  {
   "cell_type": "code",
   "execution_count": 1,
   "metadata": {},
   "outputs": [],
   "source": [
    "import pandas as pd\n",
    "import numpy as np\n",
    "import altair as alt"
   ]
  },
  {
   "cell_type": "code",
   "execution_count": 2,
   "metadata": {},
   "outputs": [],
   "source": [
    "file = pd.read_csv('ipums_clean.csv')"
   ]
  },
  {
   "cell_type": "code",
   "execution_count": 3,
   "metadata": {},
   "outputs": [
    {
     "data": {
      "text/plain": [
       "10597"
      ]
     },
     "execution_count": 3,
     "metadata": {},
     "output_type": "execute_result"
    }
   ],
   "source": [
    "#Removing rows containing N/A from mortgage column (indicated by 0)\n",
    "file = file[file.MORTAMT1 != 0]\n",
    "len(file)"
   ]
  },
  {
   "cell_type": "code",
   "execution_count": 4,
   "metadata": {},
   "outputs": [
    {
     "data": {
      "text/plain": [
       "8569"
      ]
     },
     "execution_count": 4,
     "metadata": {},
     "output_type": "execute_result"
    }
   ],
   "source": [
    "#Removing rows containing  N/A's from individual income column (indicated by 9999999)\n",
    "file = file[file.INCTOT != 9999999]\n",
    "len(file)"
   ]
  },
  {
   "cell_type": "markdown",
   "metadata": {},
   "source": [
    "### (1) *Individual* Income "
   ]
  },
  {
   "cell_type": "code",
   "execution_count": 5,
   "metadata": {},
   "outputs": [],
   "source": [
    "indiv_inc_mort = pd.DataFrame()\n",
    "for year in range(2006, 2018):\n",
    "    df = file[file.YEAR == year]\n",
    "    \n",
    "    incomes = np.array([])\n",
    "    for i, row in df[['INCTOT', 'PERWT']].iterrows():\n",
    "        income = np.full(row.PERWT, row.INCTOT)\n",
    "        incomes = np.append(incomes, income)\n",
    "    inc = np.median(incomes)\n",
    "    \n",
    "    mortgages = np.array([])\n",
    "    for i, row in df[['MORTAMT1', 'PERWT']].iterrows():\n",
    "        mortgage = np.full(row.PERWT, row.MORTAMT1)\n",
    "        mortgages = np.append(mortgages, mortgage)\n",
    "    mort = np.median(mortgages)\n",
    "    \n",
    "    individual = {'Year':pd.Series(year), 'Indiv_Income':pd.Series(inc)/12, 'Mortgage':pd.Series(mort)}  #Indiv_Income divided by 12 to return monthly amount (like Mortgage)\n",
    "    values = pd.DataFrame(individual)\n",
    "    indiv_inc_mort = pd.concat([values, indiv_inc_mort])\n",
    "    \n",
    "indiv_inc_mort['Ratio'] = indiv_inc_mort.Mortgage / indiv_inc_mort.Indiv_Income\n",
    "years = indiv_inc_mort.Year.astype('str')\n",
    "indiv_inc_mort.Year = pd.to_datetime(years)"
   ]
  },
  {
   "cell_type": "code",
   "execution_count": 6,
   "metadata": {},
   "outputs": [
    {
     "data": {
      "text/html": [
       "<div>\n",
       "<style scoped>\n",
       "    .dataframe tbody tr th:only-of-type {\n",
       "        vertical-align: middle;\n",
       "    }\n",
       "\n",
       "    .dataframe tbody tr th {\n",
       "        vertical-align: top;\n",
       "    }\n",
       "\n",
       "    .dataframe thead th {\n",
       "        text-align: right;\n",
       "    }\n",
       "</style>\n",
       "<table border=\"1\" class=\"dataframe\">\n",
       "  <thead>\n",
       "    <tr style=\"text-align: right;\">\n",
       "      <th></th>\n",
       "      <th>Year</th>\n",
       "      <th>Indiv_Income</th>\n",
       "      <th>Mortgage</th>\n",
       "      <th>Ratio</th>\n",
       "    </tr>\n",
       "  </thead>\n",
       "  <tbody>\n",
       "    <tr>\n",
       "      <th>0</th>\n",
       "      <td>2017-01-01</td>\n",
       "      <td>2250.000000</td>\n",
       "      <td>1700.0</td>\n",
       "      <td>0.755556</td>\n",
       "    </tr>\n",
       "    <tr>\n",
       "      <th>0</th>\n",
       "      <td>2016-01-01</td>\n",
       "      <td>2250.000000</td>\n",
       "      <td>1600.0</td>\n",
       "      <td>0.711111</td>\n",
       "    </tr>\n",
       "    <tr>\n",
       "      <th>0</th>\n",
       "      <td>2015-01-01</td>\n",
       "      <td>1750.000000</td>\n",
       "      <td>1500.0</td>\n",
       "      <td>0.857143</td>\n",
       "    </tr>\n",
       "    <tr>\n",
       "      <th>0</th>\n",
       "      <td>2014-01-01</td>\n",
       "      <td>2000.000000</td>\n",
       "      <td>1500.0</td>\n",
       "      <td>0.750000</td>\n",
       "    </tr>\n",
       "    <tr>\n",
       "      <th>0</th>\n",
       "      <td>2013-01-01</td>\n",
       "      <td>1666.666667</td>\n",
       "      <td>1400.0</td>\n",
       "      <td>0.840000</td>\n",
       "    </tr>\n",
       "    <tr>\n",
       "      <th>0</th>\n",
       "      <td>2012-01-01</td>\n",
       "      <td>1500.000000</td>\n",
       "      <td>1500.0</td>\n",
       "      <td>1.000000</td>\n",
       "    </tr>\n",
       "    <tr>\n",
       "      <th>0</th>\n",
       "      <td>2011-01-01</td>\n",
       "      <td>1500.000000</td>\n",
       "      <td>1600.0</td>\n",
       "      <td>1.066667</td>\n",
       "    </tr>\n",
       "    <tr>\n",
       "      <th>0</th>\n",
       "      <td>2010-01-01</td>\n",
       "      <td>1666.666667</td>\n",
       "      <td>1500.0</td>\n",
       "      <td>0.900000</td>\n",
       "    </tr>\n",
       "    <tr>\n",
       "      <th>0</th>\n",
       "      <td>2009-01-01</td>\n",
       "      <td>1666.666667</td>\n",
       "      <td>1600.0</td>\n",
       "      <td>0.960000</td>\n",
       "    </tr>\n",
       "    <tr>\n",
       "      <th>0</th>\n",
       "      <td>2008-01-01</td>\n",
       "      <td>1925.000000</td>\n",
       "      <td>1600.0</td>\n",
       "      <td>0.831169</td>\n",
       "    </tr>\n",
       "    <tr>\n",
       "      <th>0</th>\n",
       "      <td>2007-01-01</td>\n",
       "      <td>1791.666667</td>\n",
       "      <td>1800.0</td>\n",
       "      <td>1.004651</td>\n",
       "    </tr>\n",
       "    <tr>\n",
       "      <th>0</th>\n",
       "      <td>2006-01-01</td>\n",
       "      <td>1666.666667</td>\n",
       "      <td>1700.0</td>\n",
       "      <td>1.020000</td>\n",
       "    </tr>\n",
       "  </tbody>\n",
       "</table>\n",
       "</div>"
      ],
      "text/plain": [
       "        Year  Indiv_Income  Mortgage     Ratio\n",
       "0 2017-01-01   2250.000000    1700.0  0.755556\n",
       "0 2016-01-01   2250.000000    1600.0  0.711111\n",
       "0 2015-01-01   1750.000000    1500.0  0.857143\n",
       "0 2014-01-01   2000.000000    1500.0  0.750000\n",
       "0 2013-01-01   1666.666667    1400.0  0.840000\n",
       "0 2012-01-01   1500.000000    1500.0  1.000000\n",
       "0 2011-01-01   1500.000000    1600.0  1.066667\n",
       "0 2010-01-01   1666.666667    1500.0  0.900000\n",
       "0 2009-01-01   1666.666667    1600.0  0.960000\n",
       "0 2008-01-01   1925.000000    1600.0  0.831169\n",
       "0 2007-01-01   1791.666667    1800.0  1.004651\n",
       "0 2006-01-01   1666.666667    1700.0  1.020000"
      ]
     },
     "execution_count": 6,
     "metadata": {},
     "output_type": "execute_result"
    }
   ],
   "source": [
    "indiv_inc_mort"
   ]
  },
  {
   "cell_type": "code",
   "execution_count": 7,
   "metadata": {},
   "outputs": [
    {
     "data": {
      "application/vnd.vegalite.v2+json": {
       "$schema": "https://vega.github.io/schema/vega-lite/v2.6.0.json",
       "config": {
        "view": {
         "height": 300,
         "strokeWidth": 0,
         "width": 400
        }
       },
       "data": {
        "name": "data-6c890e7d5478007dbc8e9808408837e4"
       },
       "datasets": {
        "data-6c890e7d5478007dbc8e9808408837e4": [
         {
          "Indiv_Income": 2250,
          "Mortgage": 1700,
          "Ratio": 0.7555555555555555,
          "Year": "2017-01-01T00:00:00"
         },
         {
          "Indiv_Income": 2250,
          "Mortgage": 1600,
          "Ratio": 0.7111111111111111,
          "Year": "2016-01-01T00:00:00"
         },
         {
          "Indiv_Income": 1750,
          "Mortgage": 1500,
          "Ratio": 0.8571428571428571,
          "Year": "2015-01-01T00:00:00"
         },
         {
          "Indiv_Income": 2000,
          "Mortgage": 1500,
          "Ratio": 0.75,
          "Year": "2014-01-01T00:00:00"
         },
         {
          "Indiv_Income": 1666.6666666666667,
          "Mortgage": 1400,
          "Ratio": 0.84,
          "Year": "2013-01-01T00:00:00"
         },
         {
          "Indiv_Income": 1500,
          "Mortgage": 1500,
          "Ratio": 1,
          "Year": "2012-01-01T00:00:00"
         },
         {
          "Indiv_Income": 1500,
          "Mortgage": 1600,
          "Ratio": 1.0666666666666667,
          "Year": "2011-01-01T00:00:00"
         },
         {
          "Indiv_Income": 1666.6666666666667,
          "Mortgage": 1500,
          "Ratio": 0.8999999999999999,
          "Year": "2010-01-01T00:00:00"
         },
         {
          "Indiv_Income": 1666.6666666666667,
          "Mortgage": 1600,
          "Ratio": 0.96,
          "Year": "2009-01-01T00:00:00"
         },
         {
          "Indiv_Income": 1925,
          "Mortgage": 1600,
          "Ratio": 0.8311688311688312,
          "Year": "2008-01-01T00:00:00"
         },
         {
          "Indiv_Income": 1791.6666666666667,
          "Mortgage": 1800,
          "Ratio": 1.0046511627906975,
          "Year": "2007-01-01T00:00:00"
         },
         {
          "Indiv_Income": 1666.6666666666667,
          "Mortgage": 1700,
          "Ratio": 1.02,
          "Year": "2006-01-01T00:00:00"
         }
        ]
       },
       "encoding": {
        "x": {
         "axis": {
          "grid": false,
          "labelFlush": false
         },
         "field": "Year",
         "title": null,
         "type": "temporal"
        },
        "y": {
         "axis": {
          "format": "%",
          "offset": 1
         },
         "field": "Ratio",
         "title": null,
         "type": "quantitative"
        }
       },
       "mark": {
        "strokeWidth": 4,
        "type": "line"
       },
       "title": "Median Mortgage - Percentage of Individual Median Income",
       "width": 500
      },
      "image/png": "[encoded data removed]",
      "text/plain": [
       "<VegaLite 2 object>\n",
       "\n",
       "If you see this message, it means the renderer has not been properly enabled\n",
       "for the frontend that you are using. For more information, see\n",
       "https://altair-viz.github.io/user_guide/troubleshooting.html\n"
      ]
     },
     "execution_count": 7,
     "metadata": {},
     "output_type": "execute_result"
    }
   ],
   "source": [
    "#Plotting data via Altair\n",
    "\n",
    "alt.Chart(indiv_inc_mort).mark_line(strokeWidth=4).encode(\n",
    "    x=alt.X('Year', axis=alt.Axis(grid=False, labelFlush=False), title=None), \n",
    "    y=alt.Y('Ratio', axis=alt.Axis(offset=1, format='%'), title=None)\n",
    ").configure_view(\n",
    "    strokeWidth=0\n",
    ").properties(\n",
    "title='Median Mortgage - Percentage of Individual Median Income', width=500)"
   ]
  },
  {
   "cell_type": "markdown",
   "metadata": {},
   "source": [
    "### (2) *Family* Income "
   ]
  },
  {
   "cell_type": "code",
   "execution_count": 8,
   "metadata": {},
   "outputs": [],
   "source": [
    "fam_inc_mort = pd.DataFrame()\n",
    "for year in range(2006, 2018):\n",
    "    df = file[file.YEAR == year]\n",
    "    \n",
    "    incomes = np.array([])\n",
    "    for i, row in df[['FTOTINC', 'PERWT']].iterrows():\n",
    "        income = np.full(row.PERWT, row.FTOTINC)\n",
    "        incomes = np.append(incomes, income)\n",
    "    inc = np.median(incomes)\n",
    "    \n",
    "    mortgages = np.array([])\n",
    "    for i, row in df[['MORTAMT1', 'PERWT']].iterrows():\n",
    "        mortgage = np.full(row.PERWT, row.MORTAMT1)\n",
    "        mortgages = np.append(mortgages, mortgage)\n",
    "    mort = np.median(mortgages)\n",
    "    \n",
    "    family = {'Year':pd.Series(year), 'Fam_Income':pd.Series(inc)/12, 'Mortgage':pd.Series(mort)}  #Fam_Income divided by 12 to return monthly amount (consistent w/ Mortgage)\n",
    "    values = pd.DataFrame(family)\n",
    "    fam_inc_mort = pd.concat([values, fam_inc_mort])\n",
    "    \n",
    "fam_inc_mort['Ratio'] = fam_inc_mort.Mortgage / fam_inc_mort.Fam_Income\n",
    "years = fam_inc_mort.Year.astype('str')\n",
    "fam_inc_mort.Year = pd.to_datetime(years)"
   ]
  },
  {
   "cell_type": "code",
   "execution_count": 9,
   "metadata": {},
   "outputs": [
    {
     "data": {
      "text/html": [
       "<div>\n",
       "<style scoped>\n",
       "    .dataframe tbody tr th:only-of-type {\n",
       "        vertical-align: middle;\n",
       "    }\n",
       "\n",
       "    .dataframe tbody tr th {\n",
       "        vertical-align: top;\n",
       "    }\n",
       "\n",
       "    .dataframe thead th {\n",
       "        text-align: right;\n",
       "    }\n",
       "</style>\n",
       "<table border=\"1\" class=\"dataframe\">\n",
       "  <thead>\n",
       "    <tr style=\"text-align: right;\">\n",
       "      <th></th>\n",
       "      <th>Year</th>\n",
       "      <th>Fam_Income</th>\n",
       "      <th>Mortgage</th>\n",
       "      <th>Ratio</th>\n",
       "    </tr>\n",
       "  </thead>\n",
       "  <tbody>\n",
       "    <tr>\n",
       "      <th>0</th>\n",
       "      <td>2017-01-01</td>\n",
       "      <td>8433.333333</td>\n",
       "      <td>1700.0</td>\n",
       "      <td>0.201581</td>\n",
       "    </tr>\n",
       "    <tr>\n",
       "      <th>0</th>\n",
       "      <td>2016-01-01</td>\n",
       "      <td>7916.666667</td>\n",
       "      <td>1600.0</td>\n",
       "      <td>0.202105</td>\n",
       "    </tr>\n",
       "    <tr>\n",
       "      <th>0</th>\n",
       "      <td>2015-01-01</td>\n",
       "      <td>7983.333333</td>\n",
       "      <td>1500.0</td>\n",
       "      <td>0.187891</td>\n",
       "    </tr>\n",
       "    <tr>\n",
       "      <th>0</th>\n",
       "      <td>2014-01-01</td>\n",
       "      <td>8191.666667</td>\n",
       "      <td>1500.0</td>\n",
       "      <td>0.183113</td>\n",
       "    </tr>\n",
       "    <tr>\n",
       "      <th>0</th>\n",
       "      <td>2013-01-01</td>\n",
       "      <td>6666.666667</td>\n",
       "      <td>1400.0</td>\n",
       "      <td>0.210000</td>\n",
       "    </tr>\n",
       "    <tr>\n",
       "      <th>0</th>\n",
       "      <td>2012-01-01</td>\n",
       "      <td>6725.000000</td>\n",
       "      <td>1500.0</td>\n",
       "      <td>0.223048</td>\n",
       "    </tr>\n",
       "    <tr>\n",
       "      <th>0</th>\n",
       "      <td>2011-01-01</td>\n",
       "      <td>6500.000000</td>\n",
       "      <td>1600.0</td>\n",
       "      <td>0.246154</td>\n",
       "    </tr>\n",
       "    <tr>\n",
       "      <th>0</th>\n",
       "      <td>2010-01-01</td>\n",
       "      <td>5916.666667</td>\n",
       "      <td>1500.0</td>\n",
       "      <td>0.253521</td>\n",
       "    </tr>\n",
       "    <tr>\n",
       "      <th>0</th>\n",
       "      <td>2009-01-01</td>\n",
       "      <td>7250.000000</td>\n",
       "      <td>1600.0</td>\n",
       "      <td>0.220690</td>\n",
       "    </tr>\n",
       "    <tr>\n",
       "      <th>0</th>\n",
       "      <td>2008-01-01</td>\n",
       "      <td>6583.333333</td>\n",
       "      <td>1600.0</td>\n",
       "      <td>0.243038</td>\n",
       "    </tr>\n",
       "    <tr>\n",
       "      <th>0</th>\n",
       "      <td>2007-01-01</td>\n",
       "      <td>5930.000000</td>\n",
       "      <td>1800.0</td>\n",
       "      <td>0.303541</td>\n",
       "    </tr>\n",
       "    <tr>\n",
       "      <th>0</th>\n",
       "      <td>2006-01-01</td>\n",
       "      <td>5208.333333</td>\n",
       "      <td>1700.0</td>\n",
       "      <td>0.326400</td>\n",
       "    </tr>\n",
       "  </tbody>\n",
       "</table>\n",
       "</div>"
      ],
      "text/plain": [
       "        Year   Fam_Income  Mortgage     Ratio\n",
       "0 2017-01-01  8433.333333    1700.0  0.201581\n",
       "0 2016-01-01  7916.666667    1600.0  0.202105\n",
       "0 2015-01-01  7983.333333    1500.0  0.187891\n",
       "0 2014-01-01  8191.666667    1500.0  0.183113\n",
       "0 2013-01-01  6666.666667    1400.0  0.210000\n",
       "0 2012-01-01  6725.000000    1500.0  0.223048\n",
       "0 2011-01-01  6500.000000    1600.0  0.246154\n",
       "0 2010-01-01  5916.666667    1500.0  0.253521\n",
       "0 2009-01-01  7250.000000    1600.0  0.220690\n",
       "0 2008-01-01  6583.333333    1600.0  0.243038\n",
       "0 2007-01-01  5930.000000    1800.0  0.303541\n",
       "0 2006-01-01  5208.333333    1700.0  0.326400"
      ]
     },
     "execution_count": 9,
     "metadata": {},
     "output_type": "execute_result"
    }
   ],
   "source": [
    "fam_inc_mort"
   ]
  },
  {
   "cell_type": "code",
   "execution_count": 10,
   "metadata": {},
   "outputs": [
    {
     "data": {
      "application/vnd.vegalite.v2+json": {
       "$schema": "https://vega.github.io/schema/vega-lite/v2.6.0.json",
       "config": {
        "view": {
         "height": 300,
         "strokeWidth": 0,
         "width": 400
        }
       },
       "data": {
        "name": "data-f39268acf3443d3445a0d30beda5e34b"
       },
       "datasets": {
        "data-f39268acf3443d3445a0d30beda5e34b": [
         {
          "Fam_Income": 8433.333333333334,
          "Mortgage": 1700,
          "Ratio": 0.20158102766798416,
          "Year": "2017-01-01T00:00:00"
         },
         {
          "Fam_Income": 7916.666666666667,
          "Mortgage": 1600,
          "Ratio": 0.20210526315789473,
          "Year": "2016-01-01T00:00:00"
         },
         {
          "Fam_Income": 7983.333333333333,
          "Mortgage": 1500,
          "Ratio": 0.18789144050104384,
          "Year": "2015-01-01T00:00:00"
         },
         {
          "Fam_Income": 8191.666666666667,
          "Mortgage": 1500,
          "Ratio": 0.18311291963377416,
          "Year": "2014-01-01T00:00:00"
         },
         {
          "Fam_Income": 6666.666666666667,
          "Mortgage": 1400,
          "Ratio": 0.21,
          "Year": "2013-01-01T00:00:00"
         },
         {
          "Fam_Income": 6725,
          "Mortgage": 1500,
          "Ratio": 0.22304832713754646,
          "Year": "2012-01-01T00:00:00"
         },
         {
          "Fam_Income": 6500,
          "Mortgage": 1600,
          "Ratio": 0.24615384615384617,
          "Year": "2011-01-01T00:00:00"
         },
         {
          "Fam_Income": 5916.666666666667,
          "Mortgage": 1500,
          "Ratio": 0.2535211267605634,
          "Year": "2010-01-01T00:00:00"
         },
         {
          "Fam_Income": 7250,
          "Mortgage": 1600,
          "Ratio": 0.2206896551724138,
          "Year": "2009-01-01T00:00:00"
         },
         {
          "Fam_Income": 6583.333333333333,
          "Mortgage": 1600,
          "Ratio": 0.24303797468354432,
          "Year": "2008-01-01T00:00:00"
         },
         {
          "Fam_Income": 5930,
          "Mortgage": 1800,
          "Ratio": 0.30354131534569984,
          "Year": "2007-01-01T00:00:00"
         },
         {
          "Fam_Income": 5208.333333333333,
          "Mortgage": 1700,
          "Ratio": 0.3264,
          "Year": "2006-01-01T00:00:00"
         }
        ]
       },
       "encoding": {
        "x": {
         "axis": {
          "grid": false,
          "labelFlush": false
         },
         "field": "Year",
         "title": null,
         "type": "temporal"
        },
        "y": {
         "axis": {
          "format": "%",
          "offset": 1
         },
         "field": "Ratio",
         "title": null,
         "type": "quantitative"
        }
       },
       "mark": {
        "strokeWidth": 4,
        "type": "line"
       },
       "title": "Median Mortgage - Percentage of Family Median Income",
       "width": 500
      },
      "image/png": "[encoded data removed]",
      "text/plain": [
       "<VegaLite 2 object>\n",
       "\n",
       "If you see this message, it means the renderer has not been properly enabled\n",
       "for the frontend that you are using. For more information, see\n",
       "https://altair-viz.github.io/user_guide/troubleshooting.html\n"
      ]
     },
     "execution_count": 10,
     "metadata": {},
     "output_type": "execute_result"
    }
   ],
   "source": [
    "#Plotting data via Altair\n",
    "\n",
    "alt.Chart(fam_inc_mort).mark_line(strokeWidth=4).encode(\n",
    "    x=alt.X('Year', \n",
    "            axis=alt.Axis(grid=False, labelFlush=False), \n",
    "            title=None), \n",
    "    y=alt.Y('Ratio', \n",
    "            axis=alt.Axis(offset=1, format='%'), \n",
    "            title=None)\n",
    ").configure_view(\n",
    "    strokeWidth=0\n",
    ").properties(\n",
    "title='Median Mortgage - Percentage of Family Median Income', width=500)"
   ]
  }
 ],
 "metadata": {
  "kernelspec": {
   "display_name": "Python 3",
   "language": "python",
   "name": "python3"
  },
  "language_info": {
   "codemirror_mode": {
    "name": "ipython",
    "version": 3
   },
   "file_extension": ".py",
   "mimetype": "text/x-python",
   "name": "python",
   "nbconvert_exporter": "python",
   "pygments_lexer": "ipython3",
   "version": "3.6.2"
  }
 },
 "nbformat": 4,
 "nbformat_minor": 2
}
