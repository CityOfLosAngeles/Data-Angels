{
 "cells": [
  {
   "cell_type": "markdown",
   "metadata": {},
   "source": [
    "### IPUMS Data Cleaning Summary:\n",
    "#### Variables:\n",
    "- After exploring the data for all years, it was decided that the geographic variable MET2013 was the best choice for filtering out residents who reside in LA Metro (which  effectively comprises of LA & Orange counties). This decision was driven by the preference for analyzing migration out of the same exact geographic region for all years (2006-2016). MET2013 data is (1) available for all years (unlike METAREA) and (2) provides enough data for all years (unlike PUMA). **Note: PUMA is included in the data for more specific insight on migration destinations if desired.**\n",
    "- The migration variables (MIGMET1 & MIGPUMA1/MIGPLAC1) were filtered to reflect the same geographic area of MET2013 (i.e. LA and Orange counties).\n",
    "\n",
    "#### Columns:\n",
    "- Some numeric values were replaced with corresponding key words if the column values were few (e.g. SEX: 'Male' for 1, 'Female' for 2)\n",
    "- Other columns retain their original numeric values, though an additional column with the key words/descriptions was added for potentially easier analysis (e.g. the educational attainment column EDU2010 is complemented with the column EDU2010_DESC, which provides the text description corresponding to the column's numeric code)\n",
    "- Additional columns were added (OCC2010_CAT & IND_CAT) for the 'occupation' and 'industry' variables, containing a description of the broader category of the occupation or industry"
   ]
  },
  {
   "cell_type": "markdown",
   "metadata": {},
   "source": [
    "-------------------"
   ]
  },
  {
   "cell_type": "markdown",
   "metadata": {},
   "source": [
    "### Variables Included:\n",
    "\n",
    "Demographic:\n",
    "- SEX (https://usa.ipums.org/usa-action/variables/SEX#codes_section)\n",
    "- AGE (https://usa.ipums.org/usa-action/variables/AGE#codes_section)\n",
    "- MARST (https://usa.ipums.org/usa-action/variables/MARST#codes_section)\n",
    "- RACE (https://usa.ipums.org/usa-action/variables/RACE#codes_section)\n",
    "- HISPAN (https://usa.ipums.org/usa-action/variables/HISPAN#codes_section)\n",
    "\n",
    "Economic:\n",
    "- OWNERSHP (https://usa.ipums.org/usa-action/variables/OWNERSHP#codes_section)\n",
    "- MORTAMT1 (https://usa.ipums.org/usa-action/variables/MORTAMT1#codes_section)\n",
    "- RENT (https://usa.ipums.org/usa-action/variables/RENT#codes_section)\n",
    "- EMPSTAT (https://usa.ipums.org/usa-action/variables/EMPSTAT#codes_section)\n",
    "- OCC2010 (https://usa.ipums.org/usa-action/variables/OCC2010#codes_section)\n",
    "- IND (https://usa.ipums.org/usa-action/variables/IND#codes_section)\n",
    "- INCTOT (https://usa.ipums.org/usa-action/variables/INCTOT#codes_section)\n",
    "- FTOTINC (https://usa.ipums.org/usa-action/variables/FTOTINC#codes_section)\n",
    "- POVERTY (https://usa.ipums.org/usa-action/variables/POVERTY#codes_section)\n",
    "\n",
    "Education:\n",
    "- EDUC (https://usa.ipums.org/usa-action/variables/EDUC#codes_section)\n",
    "\n",
    "Geographic/Migration:\n",
    "- MET2013 (https://usa.ipums.org/usa-action/variables/MET2013#codes_section)\n",
    "- PUMA (https://usa.ipums.org/usa-action/variables/PUMA#codes_section)\n",
    "- MIGPUMA1 (https://usa.ipums.org/usa-action/variables/MIGPUMA1#codes_section)\n",
    "\n",
    "Technical:\n",
    "- PERNUM (https://usa.ipums.org/usa-action/variables/PERNUM#codes_section)\n",
    "- PERWT (https://usa.ipums.org/usa-action/variables/PERWT#codes_section)\n",
    "- HHWT (https://usa.ipums.org/usa-action/variables/HHWT#codes_section)"
   ]
  },
  {
   "cell_type": "markdown",
   "metadata": {},
   "source": [
    "### Filtering Raw Data:"
   ]
  },
  {
   "cell_type": "code",
   "execution_count": 1,
   "metadata": {},
   "outputs": [],
   "source": [
    "import pandas as pd"
   ]
  },
  {
   "cell_type": "code",
   "execution_count": 2,
   "metadata": {},
   "outputs": [],
   "source": [
    "#Combining each year's data; removing default columns that aren't useful; filtering out residents who did not move out of LA metro\n",
    "dfs = {}\n",
    "for year in range(2006, 2017):\n",
    "    name = str(year) + \"Final.csv\"\n",
    "    file = pd.read_csv(name)\n",
    "    file = file.drop(['OWNERSHP', 'EMPSTATD', 'EDUCD', 'RACED', 'HISPAND'], axis=1)\n",
    "    if year < 2012:\n",
    "        file = file[(~file.MET2013.isin([0, 31080])) & (file.MIGMET1.isin([4480,4482]))]\n",
    "    else:\n",
    "        file = file[(~file.MET2013.isin([0, 31080])) & (file.MIGPUMA1.isin([3700, 5900])) & (file.MIGPLAC1==6)]\n",
    "    dfs[year] = file"
   ]
  },
  {
   "cell_type": "code",
   "execution_count": 3,
   "metadata": {},
   "outputs": [],
   "source": [
    "#Combining the filtered data for each year in a master data frame\n",
    "master = pd.concat([dfs[year] for year in range(2006,2017)], sort=False, ignore_index=True)"
   ]
  },
  {
   "cell_type": "code",
   "execution_count": 4,
   "metadata": {},
   "outputs": [],
   "source": [
    "#MIGPLAC1 Contains single value (6) and was only used for filtering, so no longer needed\n",
    "master = master.drop('MIGPLAC1', axis=1)"
   ]
  },
  {
   "cell_type": "code",
   "execution_count": 5,
   "metadata": {},
   "outputs": [
    {
     "data": {
      "text/plain": [
       "34761"
      ]
     },
     "execution_count": 5,
     "metadata": {},
     "output_type": "execute_result"
    }
   ],
   "source": [
    "#Filtered data contains 34,761 records for 2006-2016\n",
    "len(master)"
   ]
  },
  {
   "cell_type": "markdown",
   "metadata": {},
   "source": [
    "-------------------"
   ]
  },
  {
   "cell_type": "markdown",
   "metadata": {},
   "source": [
    "### Manipulating & Creating Columns"
   ]
  },
  {
   "cell_type": "code",
   "execution_count": 6,
   "metadata": {},
   "outputs": [],
   "source": [
    "#Replacing numeric values with key words\n",
    "sex = {1:'Male', 2:'Female'}\n",
    "series = master.SEX.map(sex)\n",
    "master.SEX = series"
   ]
  },
  {
   "cell_type": "markdown",
   "metadata": {},
   "source": [
    "-------------------"
   ]
  },
  {
   "cell_type": "code",
   "execution_count": 7,
   "metadata": {},
   "outputs": [],
   "source": [
    "education = {\n",
    "0: 'N/A or no schooling',\n",
    "1: 'Nursery school to grade 4',\n",
    "2: 'Grade 5, 6, 7, or 8',\n",
    "3:\t'Grade 9',\n",
    "4:\t'Grade 10',\n",
    "5:\t'Grade 11',\n",
    "6:\t'Grade 12',\n",
    "7:\t'1 year of college',\n",
    "8:\t'2 years of college',\n",
    "9:\t'3 years of college',\n",
    "10:\t'4 years of college',\n",
    "11:\t'5+ years of college'}\n",
    "\n",
    "series = master.EDUC.map(education)\n",
    "master['EDUC_DESC'] = series"
   ]
  },
  {
   "cell_type": "markdown",
   "metadata": {},
   "source": [
    "-------------------"
   ]
  },
  {
   "cell_type": "code",
   "execution_count": 8,
   "metadata": {},
   "outputs": [],
   "source": [
    "ownership = {\n",
    "0:\t'N/A',\n",
    "12:\t'Owned free and clear',\n",
    "13:\t'Owned with mortgage or loan',\n",
    "21:\t'No cash rent',\n",
    "22:\t'With cash rent'}\n",
    "\n",
    "series = master.OWNERSHPD.map(ownership)\n",
    "master['OWNERSHPD_DESC'] = series"
   ]
  },
  {
   "cell_type": "markdown",
   "metadata": {},
   "source": [
    "-------------------"
   ]
  },
  {
   "cell_type": "code",
   "execution_count": 9,
   "metadata": {},
   "outputs": [],
   "source": [
    "employment = {\n",
    "0: 'N/A',\n",
    "1:'Employed',\n",
    "2:'Unemployed',\n",
    "3:'Not in labor force'}\n",
    "\n",
    "series = master.EMPSTAT.map(employment)\n",
    "master['EMPSTAT'] = series"
   ]
  },
  {
   "cell_type": "markdown",
   "metadata": {},
   "source": [
    "-------------------"
   ]
  },
  {
   "cell_type": "code",
   "execution_count": 10,
   "metadata": {},
   "outputs": [],
   "source": [
    "marital = {\n",
    "1:\t'Married, spouse present',\n",
    "2:\t'Married, spouse absent',\n",
    "3:\t'Separated',\n",
    "4:\t'Divorced',\n",
    "5:\t'Widowed',\n",
    "6:\t'Never married/single'}\n",
    "\n",
    "series = master.MARST.map(marital)\n",
    "master['MARST_DESC'] = series"
   ]
  },
  {
   "cell_type": "markdown",
   "metadata": {},
   "source": [
    "-------------------"
   ]
  },
  {
   "cell_type": "code",
   "execution_count": 11,
   "metadata": {},
   "outputs": [],
   "source": [
    "race = {\n",
    "1:\t'White',\n",
    "2:\t'Black/African American/Negro',\n",
    "3:\t'American Indian or Alaska Native',\n",
    "4:\t'Chinese',\n",
    "5:\t'Japanese',\n",
    "6:\t'Other Asian or Pacific Islander',\n",
    "7:\t'Other race, nec',\n",
    "8:\t'Two major races',\n",
    "9:\t'Three or more major races'}\n",
    "\n",
    "series = master.RACE.map(race)\n",
    "master['RACE_DESC'] = series"
   ]
  },
  {
   "cell_type": "markdown",
   "metadata": {},
   "source": [
    "-------------------"
   ]
  },
  {
   "cell_type": "code",
   "execution_count": 12,
   "metadata": {},
   "outputs": [],
   "source": [
    "hispanic = {\n",
    "0:\t'Not Hispanic',\n",
    "1:\t'Mexican',\n",
    "2:\t'Puerto Rican',\n",
    "3:\t'Cuban',\n",
    "4:\t'Other',\n",
    "9:\t'Not Reported'}\n",
    "series = master.HISPAN.map(hispanic)\n",
    "master['HISPAN_DESC'] = series"
   ]
  },
  {
   "cell_type": "markdown",
   "metadata": {},
   "source": [
    "-------------------"
   ]
  },
  {
   "cell_type": "code",
   "execution_count": 13,
   "metadata": {},
   "outputs": [],
   "source": [
    "migmet = {4480: 'LA County', 4482: 'Orange County'}\n",
    "\n",
    "series = master.MIGMET1.map(migmet)\n",
    "master['MIGMET1_DESC'] = series"
   ]
  },
  {
   "cell_type": "markdown",
   "metadata": {},
   "source": [
    "-------------------"
   ]
  },
  {
   "cell_type": "code",
   "execution_count": 14,
   "metadata": {},
   "outputs": [],
   "source": [
    "migpuma = {3700: 'LA County', 5900: 'Orange County'}\n",
    "\n",
    "series = master.MIGPUMA1.map(migpuma)\n",
    "master['MIGPUMA1_DESC'] = series"
   ]
  },
  {
   "cell_type": "markdown",
   "metadata": {},
   "source": [
    "-------------------"
   ]
  },
  {
   "cell_type": "markdown",
   "metadata": {},
   "source": [
    "##### *The following variables contained a lot of data, which is why I had to load/parse a text file here (rather than copy/paste like above)"
   ]
  },
  {
   "cell_type": "code",
   "execution_count": 15,
   "metadata": {},
   "outputs": [],
   "source": [
    "text = open('met2013.txt')\n",
    "file = text.readlines()[1:]\n",
    "\n",
    "met2013 = {}\n",
    "for line in file:\n",
    "    code = line.split('\\t')[0]\n",
    "    city = line.split('\\t')[1]\n",
    "    met2013[int(code)] = city\n",
    "\n",
    "series = master.MET2013.map(met2013)\n",
    "master['MET2013_DESC'] = series"
   ]
  },
  {
   "cell_type": "markdown",
   "metadata": {},
   "source": [
    "-------------------"
   ]
  },
  {
   "cell_type": "code",
   "execution_count": 16,
   "metadata": {},
   "outputs": [],
   "source": [
    "text = open('occ2010.txt')\n",
    "file = text.readlines()[1:]\n",
    "\n",
    "occ2010 = {}\n",
    "for line in file:\n",
    "    code = line.split('\\t')[0]\n",
    "    city = line.split('\\t')[1]\n",
    "    occ2010[int(code)] = city\n",
    "    \n",
    "series = master.OCC2010.map(occ2010)\n",
    "master['OCC2010_DESC'] = series"
   ]
  },
  {
   "cell_type": "markdown",
   "metadata": {},
   "source": [
    "##### *Adding broader 'occupation category' column that identifies occupations more generally (from the bolded subheadings here: https://usa.ipums.org/usa-action/variables/OCC2010#codes_section)"
   ]
  },
  {
   "cell_type": "code",
   "execution_count": 17,
   "metadata": {},
   "outputs": [],
   "source": [
    "occupations = {}\n",
    "for number in range(0, 9930, 5):\n",
    "    if number < 440:\n",
    "        occupations[number] = 'MANAGEMENT, BUSINESS, SCIENCE, AND ARTS'\n",
    "    elif number > 490 and number < 740:\n",
    "        occupations[number] = 'BUSINESS OPERATIONS SPECIALISTS'\n",
    "    elif number > 790 and number < 960:\n",
    "        occupations[number] = 'FINANCIAL SPECIALISTS'\n",
    "    elif number > 990 and number < 1550:\n",
    "        occupations[number] = 'COMPUTER AND MATHEMATICAL'\n",
    "    elif number > 1540 and number < 1570:\n",
    "        occupations[number] = 'TECHNICIANS'\n",
    "    elif number > 1590 and number < 1990:\n",
    "        occupations[number] = 'LIFE, PHYSICAL, AND SOCIAL SCIENCE'\n",
    "    elif number > 1990 and number < 2070:\n",
    "        occupations[number] = 'COMMUNITY AND SOCIAL SERVICES'\n",
    "    elif number > 2090 and number < 2160:\n",
    "        occupations[number] = 'LEGAL'\n",
    "    elif number > 2190 and number < 2560:\n",
    "        occupations[number] = 'EDUCATION, TRAINING, AND LIBRARY'\n",
    "    elif number > 2590 and number < 2930:\n",
    "        occupations[number] = 'ARTS, DESIGN, ENTERTAINMENT, SPORTS, AND MEDIA'\n",
    "    elif number > 2990 and number < 3550:\n",
    "        occupations[number] = 'HEALTHCARE PRACTITIONERS AND TECHNICAL'\n",
    "    elif number > 3590 and number < 3660:\n",
    "        occupations[number] = 'HEALTHCARE SUPPORT'\n",
    "    elif number > 3690 and number < 4000:\n",
    "        occupations[number] = 'PROTECTIVE SERVICE'\n",
    "    elif number > 4000 and number < 4160:\n",
    "        occupations[number] = 'FOOD PREPARATION AND SERVING'\n",
    "    elif number > 4190 and number < 4260:\n",
    "        occupations[number] = 'BUILDING AND GROUNDS CLEANING AND MAINTENANCE'\n",
    "    elif number > 4290 and number < 4660:\n",
    "        occupations[number] = 'PERSONAL CARE AND SERVICE'\n",
    "    elif number > 4690 and number < 5000:\n",
    "        occupations[number] = 'SALES AND RELATED'\n",
    "    elif number > 5000 and number < 5950:\n",
    "        occupations[number] = 'OFFICE AND ADMINISTRATIVE SUPPORT'\n",
    "    elif number > 6000 and number < 6135:\n",
    "        occupations[number] = 'FARMING, FISHING, AND FORESTRY'\n",
    "    elif number > 6190 and number < 6770:\n",
    "        occupations[number] = 'CONSTRUCTION'\n",
    "    elif number > 6790 and number < 6950:\n",
    "        occupations[number] = 'EXTRACTION'\n",
    "    elif number > 6990 and number < 7640:\n",
    "        occupations[number] = 'INSTALLATION, MAINTENANCE, AND REPAIR'\n",
    "    elif number > 7990 and number < 8970:\n",
    "        occupations[number] = 'PRODUCTION'\n",
    "    elif number > 8990 and number < 9760:\n",
    "        occupations[number] = 'TRANSPORTATION AND MATERIAL MOVING'\n",
    "    elif number > 9790:\n",
    "        occupations[number] = 'MILITARY SPECIFIC'\n",
    "        \n",
    "series = master.OCC2010.map(occupations)\n",
    "master['OCC2010_CAT'] = series"
   ]
  },
  {
   "cell_type": "markdown",
   "metadata": {},
   "source": [
    "-------------------"
   ]
  },
  {
   "cell_type": "code",
   "execution_count": 18,
   "metadata": {},
   "outputs": [],
   "source": [
    "text = open('industry.txt')\n",
    "file = text.readlines()[1:]\n",
    "\n",
    "ind = {}\n",
    "for line in file:\n",
    "    code = line.split('\\t')[0]\n",
    "    city = line.split('\\t')[1]\n",
    "    ind[int(code)] = city.rstrip()\n",
    "    \n",
    "series = master.IND.map(ind)\n",
    "master['IND_DESC'] = series"
   ]
  },
  {
   "cell_type": "markdown",
   "metadata": {},
   "source": [
    "##### *Adding broader 'industry category' column that identifies industries more generally (from the headings - and subheadings when available - here: https://usa.ipums.org/usa/volii/ind2013.shtml)"
   ]
  },
  {
   "cell_type": "code",
   "execution_count": 19,
   "metadata": {},
   "outputs": [],
   "source": [
    "industries = {}\n",
    "for number in range(0, 9930, 10):\n",
    "    if number == 0:\n",
    "        industries[number] = 'N/A (less than 16 years old/unemployed who never worked/NILF who last worked more than 5 years ago)'\n",
    "    elif number > 160 and number < 300:\n",
    "        industries[number] = 'Agriculture, Forestry, Fishing, and Hunting'\n",
    "    elif number > 360 and number < 500:\n",
    "        industries[number] = 'Mining, Quarrying, and Oil and Gas Extraction'\n",
    "    elif number > 560 and number < 700:\n",
    "        industries[number] = 'Utilities'\n",
    "    elif number == 770:\n",
    "        industries[number] = 'Construction'\n",
    "    elif number > 1060 and number < 4000:\n",
    "        industries[number] = 'Manufacturing'\n",
    "    elif number > 4070 and number < 4600:\n",
    "        industries[number] = 'Wholesale Trade'\n",
    "    elif number > 4660 and number < 5800:\n",
    "        industries[number] = 'Retail Trade'\n",
    "    elif number > 6060 and number < 6400:\n",
    "        industries[number] = 'Transportation and Warehousing'\n",
    "    elif number > 6460 and number < 6790:\n",
    "        industries[number] = 'Information'\n",
    "    elif number > 6860 and number < 7000:\n",
    "        industries[number] = 'Finance and Insurance'\n",
    "    elif number > 7060 and number < 7200:\n",
    "        industries[number] = 'Real Estate and Rental and Leasing'\n",
    "    elif number > 7260 and number < 7500:\n",
    "        industries[number] = 'Professional, Scientific, and Technical Services'\n",
    "    elif number == 7570:\n",
    "        industries[number] = 'Management of companies and enterprises'        \n",
    "    elif number > 7570 and number < 7800:\n",
    "        industries[number] = 'Administrative and support and waste management services'\n",
    "    elif number > 7850 and number < 7900:\n",
    "        industries[number] = 'Educational Services'\n",
    "    elif number > 7960 and number < 8480:\n",
    "        industries[number] = 'Health Care and Social Assistance'\n",
    "    elif number > 8550 and number < 8600:\n",
    "        industries[number] = 'Arts, Entertainment, and Recreation'\n",
    "    elif number > 8650 and number < 8700:\n",
    "        industries[number] = 'Accommodation and Food Services'\n",
    "    elif number > 8760 and number < 9300:\n",
    "        industries[number] = 'Other Services, Except Public Administration'\n",
    "    elif number > 9360 and number < 9600:\n",
    "        industries[number] = 'Public Administration'\n",
    "    elif number > 9660 and number < 9930:\n",
    "        industries[number] = 'Active Duty Military'\n",
    "        \n",
    "series = master.IND.map(industries)\n",
    "master['IND_CAT'] = series"
   ]
  },
  {
   "cell_type": "markdown",
   "metadata": {},
   "source": [
    "-------------------"
   ]
  },
  {
   "cell_type": "code",
   "execution_count": 20,
   "metadata": {},
   "outputs": [],
   "source": [
    "#Sorting columns alphabetically\n",
    "cols = list(master.columns)\n",
    "cols.sort()\n",
    "master = master[cols]"
   ]
  },
  {
   "cell_type": "code",
   "execution_count": 21,
   "metadata": {},
   "outputs": [],
   "source": [
    "#Exporting data to csv\n",
    "master.to_csv('ipums_clean.csv', encoding='utf-8', index=False)"
   ]
  }
 ],
 "metadata": {
  "kernelspec": {
   "display_name": "Python 3",
   "language": "python",
   "name": "python3"
  },
  "language_info": {
   "codemirror_mode": {
    "name": "ipython",
    "version": 3
   },
   "file_extension": ".py",
   "mimetype": "text/x-python",
   "name": "python",
   "nbconvert_exporter": "python",
   "pygments_lexer": "ipython3",
   "version": "3.6.2"
  }
 },
 "nbformat": 4,
 "nbformat_minor": 2
}
