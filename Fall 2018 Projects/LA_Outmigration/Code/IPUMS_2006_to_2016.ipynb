{
 "cells": [
  {
   "cell_type": "markdown",
   "metadata": {},
   "source": [
    "## Migration of Angelenos Out of LA"
   ]
  },
  {
   "cell_type": "markdown",
   "metadata": {},
   "source": [
    "#### Objective: Use IPUMS data to better understand the migration residents out of Los Angeles (2006-2016)\n",
    "\\*Specifically, how many residents move out, where they move to, and what their demographics and economic characteristics are."
   ]
  },
  {
   "cell_type": "markdown",
   "metadata": {},
   "source": [
    "### Relevant Terms:\n",
    "- **PUMA**: Public Use Microdata Area (geographic unit comprising between 100,000 & 200,000 people)\n",
    "- **IPUMS**: Integrated Public Use Microdata Series (collection of high-precision samples of the American population drawn from fifteen federal censuses and from the American Community Surveys of 2000-2012)"
   ]
  },
  {
   "cell_type": "markdown",
   "metadata": {},
   "source": [
    "### Summary of IPUMS Data:\n",
    "- Based on the number of records available, it seems that PUMA became the standard geographical unit used by the Census Bureau after 2011, while metropolitan areas were the unit of choice before that; consequently, the standards of analysis for 2006-2011 & 2012-2016 migration data aren't identical.\n",
    "\n",
    "### Choice of Variables:\n",
    "- The main driver for choosing different variables for each set of years was the significantly greater amount of data available.\n",
    "- I relied on metropolitan variables to analyze migration out of the LA *metro area* from 2006-2011 & PUMA data to analyze migration out of LA *county* from 2012-2016 (*Note:* PUMA variables indicate the county a resident moved out of but provide the precise PUMA a resident moved to)."
   ]
  },
  {
   "cell_type": "markdown",
   "metadata": {},
   "source": [
    "### Key Variables (geographic & migration):\n",
    "- **METAREAD**: Current metropolitan area of residence (https://usa.ipums.org/usa-action/variables/METAREA#description_section)\n",
    "- **MIGMET1**: Metropolitan area of residence 1 year ago (https://usa.ipums.org/usa-action/variables/MIGMET1#description_section)\n",
    "- **PUMA**: Current PUMA of residence (https://usa.ipums.org/usa-action/variables/PUMA#description_section)\n",
    "- **MIGPUMA1**: PUMA of residence 1 year ago (https://usa.ipums.org/usa-action/variables/MIGPUMA1#description_section)\n",
    "- **MIGPLAC1**: State of residence 1 year ago (https://usa.ipums.org/usa-action/variables/MIGPLAC1#description_section)\n",
    "\n",
    "*All variables can be found here (HOUSEHOLD-GEOGRAPHIC & PERSON-MIGRATION): https://usa.ipums.org/usa-action/variables/group"
   ]
  },
  {
   "cell_type": "markdown",
   "metadata": {},
   "source": [
    "------------------------------------------------------------------------"
   ]
  },
  {
   "cell_type": "markdown",
   "metadata": {},
   "source": [
    "## 2006-2011 Data\n",
    "#### Choosing the Best IPUMS Geographic Variables "
   ]
  },
  {
   "cell_type": "markdown",
   "metadata": {},
   "source": [
    "#### Options:\n",
    "(1) PUMA/CPUMA0010 & MIGPUMA1\n",
    "\n",
    "(2) COUNTY \n",
    "\n",
    "(3) METAREAD & MIGMET1"
   ]
  },
  {
   "cell_type": "markdown",
   "metadata": {},
   "source": [
    "#### Findings:\n",
    "- PUMA variables for 2006-2011 data only yield about 2.5k records of residents moving out of LA county annually (MIGPUMA1 actually records the county a resident moved out of- not the PUMA).\n",
    "\n",
    "- The COUNTY variable (which indicates current county of residence) isn't an option since there is no corresponding variable that indicates the county a resident moved from (other than MIGPUMA1, which doesn't yield enough data)."
   ]
  },
  {
   "cell_type": "markdown",
   "metadata": {},
   "source": [
    "#### Conclusion:\n",
    "Tracking migration by **metropolitan area is the best choice** since it yields the most total records (about 16k), though it's still a relatively low number of records."
   ]
  },
  {
   "cell_type": "markdown",
   "metadata": {},
   "source": [
    "------------------------------------------------------------------------"
   ]
  },
  {
   "cell_type": "markdown",
   "metadata": {},
   "source": [
    "### Comparing the Total Records Returned From Different Variables (2006-2011)"
   ]
  },
  {
   "cell_type": "code",
   "execution_count": 1,
   "metadata": {},
   "outputs": [],
   "source": [
    "import pandas as pd\n",
    "import numpy as np"
   ]
  },
  {
   "cell_type": "code",
   "execution_count": 2,
   "metadata": {},
   "outputs": [],
   "source": [
    "#Combining data for 2006-2011\n",
    "combined1 = pd.DataFrame()\n",
    "for year in range(2006,2012):\n",
    "    file = '../ipums/ipums_' + str(year) + '.csv'\n",
    "    data = pd.read_csv(file)\n",
    "    combined1 = pd.concat([combined1, data], sort = False, ignore_index = True)"
   ]
  },
  {
   "cell_type": "code",
   "execution_count": 3,
   "metadata": {},
   "outputs": [
    {
     "data": {
      "text/plain": [
       "18169497"
      ]
     },
     "execution_count": 3,
     "metadata": {},
     "output_type": "execute_result"
    }
   ],
   "source": [
    "#Total before filtering to only include LA data\n",
    "len(combined1)"
   ]
  },
  {
   "cell_type": "markdown",
   "metadata": {},
   "source": [
    "#### (1) MIGMET/METAREAD - 16,110 total records\n",
    "*Note: 68,075 was the total count of LA metro residents who moved during 2006-2011, but only 16,110 moved out of LA metro"
   ]
  },
  {
   "cell_type": "code",
   "execution_count": 4,
   "metadata": {},
   "outputs": [],
   "source": [
    "#Filtering to only include records of residents who moved from LA metro (code: 4480) in the previous year (for any year between 2006-2011)\n",
    "metro = combined1[(combined1.MIGMET1 == 4480) & (combined1.MIGPLAC1 == 6) & (combined1.METAREAD.isin([0, 4480]) == False)]"
   ]
  },
  {
   "cell_type": "code",
   "execution_count": 5,
   "metadata": {},
   "outputs": [
    {
     "data": {
      "text/plain": [
       "16110"
      ]
     },
     "execution_count": 5,
     "metadata": {},
     "output_type": "execute_result"
    }
   ],
   "source": [
    "#Total number of records of residents moving out of LA metro (2006-2011)\n",
    "len(metro)"
   ]
  },
  {
   "cell_type": "code",
   "execution_count": 6,
   "metadata": {},
   "outputs": [
    {
     "data": {
      "text/plain": [
       "6780    3515\n",
       "4482    2172\n",
       "680      747\n",
       "7320     714\n",
       "8730     660\n",
       "4120     642\n",
       "6200     388\n",
       "7361     377\n",
       "7360     276\n",
       "3360     251\n",
       "7470     242\n",
       "2840     241\n",
       "5600     228\n",
       "6920     227\n",
       "520      210\n",
       "7600     201\n",
       "6440     187\n",
       "8840     180\n",
       "1920     180\n",
       "7400     171\n",
       "Name: METAREAD, dtype: int64"
      ]
     },
     "execution_count": 6,
     "metadata": {},
     "output_type": "execute_result"
    }
   ],
   "source": [
    "#Counts of top 20 metro destinations\n",
    "metro.METAREAD.value_counts()[:20]"
   ]
  },
  {
   "cell_type": "code",
   "execution_count": 7,
   "metadata": {},
   "outputs": [],
   "source": [
    "#Assigning name of metro to top 20 codes from the METAREAD variable above (from: https://usa.ipums.org/usa-action/variables/METAREA#codes_section)\n",
    "destination_metros = {6780:'Riverside-San Bernardino, CA', 4482:'Orange County, CA', 680:'Bakersfield, CA', 7320:'San Diego, CA', \n",
    "                      8730:'Ventura-Oxnard-Simi Valley, CA', 4120:'Las Vegas, NV', 6200:'Phoenix, AZ', 7361:'Oakland, CA', \n",
    "                      7360:'San Francisco-Oakland-Vallejo, CA', 3360:'Houston-Brazoria, TX', 7470:'Santa Barbara-Santa Maria-Lompoc, CA', \n",
    "                      2840:'Fresno, CA', 5600:'New York, NY-Northeastern NJ', 6920:'Sacramento, CA', 520:'Atlanta, GA', \n",
    "                      7600:'Seattle-Everett, WA', 6440:'Portland-Vancouver, OR', 8840:'Washington, DC/MD/VA', 1920:'Dallas-Fort Worth, TX',\n",
    "                      7400:'San Jose, CA'}"
   ]
  },
  {
   "cell_type": "code",
   "execution_count": 8,
   "metadata": {},
   "outputs": [],
   "source": [
    "#Mapping name of top 20 metro areas to associated METAREAD code\n",
    "metro_names = metro.copy()\n",
    "metro_names['Metro'] = metro_names.METAREAD.map(destination_metros)"
   ]
  },
  {
   "cell_type": "code",
   "execution_count": 9,
   "metadata": {},
   "outputs": [
    {
     "data": {
      "text/plain": [
       "Riverside-San Bernardino, CA            3515\n",
       "Orange County, CA                       2172\n",
       "Bakersfield, CA                          747\n",
       "San Diego, CA                            714\n",
       "Ventura-Oxnard-Simi Valley, CA           660\n",
       "Las Vegas, NV                            642\n",
       "Phoenix, AZ                              388\n",
       "Oakland, CA                              377\n",
       "San Francisco-Oakland-Vallejo, CA        276\n",
       "Houston-Brazoria, TX                     251\n",
       "Santa Barbara-Santa Maria-Lompoc, CA     242\n",
       "Fresno, CA                               241\n",
       "New York, NY-Northeastern NJ             228\n",
       "Sacramento, CA                           227\n",
       "Atlanta, GA                              210\n",
       "Seattle-Everett, WA                      201\n",
       "Portland-Vancouver, OR                   187\n",
       "Washington, DC/MD/VA                     180\n",
       "Dallas-Fort Worth, TX                    180\n",
       "San Jose, CA                             171\n",
       "Name: Metro, dtype: int64"
      ]
     },
     "execution_count": 9,
     "metadata": {},
     "output_type": "execute_result"
    }
   ],
   "source": [
    "#Total number of records for each metro destination\n",
    "metro_names.Metro.value_counts()"
   ]
  },
  {
   "cell_type": "markdown",
   "metadata": {},
   "source": [
    "------------------------------------------------------------------------"
   ]
  },
  {
   "cell_type": "markdown",
   "metadata": {},
   "source": [
    "### Other Variables:\n",
    "*Info on PUMA variables found here: https://usa.ipums.org/usa/volii/cpuma0010.shtml"
   ]
  },
  {
   "cell_type": "markdown",
   "metadata": {},
   "source": [
    "#### (2) MIGPUMA1/PUMA - 2,517 total records"
   ]
  },
  {
   "cell_type": "code",
   "execution_count": 10,
   "metadata": {},
   "outputs": [],
   "source": [
    "#Filtering to only include records of residents who moved from LA county (PUMA code: 3700)\n",
    "puma2006_2011 = combined1[(combined1.MIGPUMA1 == 3700) & (combined1.MIGPLAC1 == 6) & (combined1.PUMA != 3700)]"
   ]
  },
  {
   "cell_type": "code",
   "execution_count": 11,
   "metadata": {},
   "outputs": [
    {
     "data": {
      "text/plain": [
       "2517"
      ]
     },
     "execution_count": 11,
     "metadata": {},
     "output_type": "execute_result"
    }
   ],
   "source": [
    "len(puma2006_2011)"
   ]
  },
  {
   "cell_type": "markdown",
   "metadata": {},
   "source": [
    "------------------------------------------------------------------------"
   ]
  },
  {
   "cell_type": "markdown",
   "metadata": {},
   "source": [
    "#### (3) MIGPUMA1/CPUMA0010 (LA county) - 2,445 total records\n",
    "*CPUMA0010 (https://usa.ipums.org/usa-action/variables/CPUMA0010#description_section)"
   ]
  },
  {
   "cell_type": "code",
   "execution_count": 12,
   "metadata": {},
   "outputs": [],
   "source": [
    "#CPUMA0010 codes for LA county comprise codes 71-99\n",
    "cpuma0010_county = combined1[(combined1.MIGPUMA1 == 3700) & (combined1.MIGPLAC1 == 6) & (combined1.CPUMA0010.isin(range(71,100)) == False)]"
   ]
  },
  {
   "cell_type": "code",
   "execution_count": 13,
   "metadata": {},
   "outputs": [
    {
     "data": {
      "text/plain": [
       "2445"
      ]
     },
     "execution_count": 13,
     "metadata": {},
     "output_type": "execute_result"
    }
   ],
   "source": [
    "len(cpuma0010_county)"
   ]
  },
  {
   "cell_type": "markdown",
   "metadata": {},
   "source": [
    "------------------------------------------------------------------------"
   ]
  },
  {
   "cell_type": "markdown",
   "metadata": {},
   "source": [
    "#### (4) MIGPUMA1/CPUMA0010 (LA city) - 2,517 total records"
   ]
  },
  {
   "cell_type": "code",
   "execution_count": 14,
   "metadata": {},
   "outputs": [],
   "source": [
    "#File containing all CPUMA0010 codes\n",
    "cpuma_codes = pd.read_csv('../ipums/PUMA2000_PUMA2010_crosswalk.csv')"
   ]
  },
  {
   "cell_type": "code",
   "execution_count": 15,
   "metadata": {},
   "outputs": [],
   "source": [
    "#Returning unique CPUMA0010 codes corresponding to LA city\n",
    "la_city_PUMA_codes = set(cpuma_codes.PUMA10[cpuma_codes.PUMA10_Name.str.contains('LA City')])"
   ]
  },
  {
   "cell_type": "code",
   "execution_count": 16,
   "metadata": {},
   "outputs": [],
   "source": [
    "#Filtering out CPUMA0010 codes corresponding to LA city codes (above)\n",
    "cpuma0010_city = combined1[(combined1.MIGPUMA1 == 3700) & (combined1.MIGPLAC1 == 6) & (combined1.CPUMA0010.isin(la_city_PUMA_codes) == False)]"
   ]
  },
  {
   "cell_type": "code",
   "execution_count": 17,
   "metadata": {},
   "outputs": [
    {
     "data": {
      "text/plain": [
       "2517"
      ]
     },
     "execution_count": 17,
     "metadata": {},
     "output_type": "execute_result"
    }
   ],
   "source": [
    "len(cpuma0010_city)"
   ]
  },
  {
   "cell_type": "markdown",
   "metadata": {},
   "source": [
    "*Question to look into: Why do 2 & 4 yield the same exact record count? (I don't notice a mistake but maybe someone reading this can point it out if there is one)"
   ]
  },
  {
   "cell_type": "markdown",
   "metadata": {},
   "source": [
    "------------------------------------------------------------------------"
   ]
  },
  {
   "cell_type": "markdown",
   "metadata": {},
   "source": [
    "## 2012-2016 Data\n",
    "##### PUMA was the only viable geographic variable (since metro data wasn't available after 2011)"
   ]
  },
  {
   "cell_type": "code",
   "execution_count": 18,
   "metadata": {},
   "outputs": [],
   "source": [
    "#Combining data for 2012-2016\n",
    "combined2 = pd.DataFrame()\n",
    "for year in range(2012,2017):\n",
    "    file = '../ipums/ipums_' + str(year) + '.csv'\n",
    "    data = pd.read_csv(file)\n",
    "    combined2 = pd.concat([combined2, data], sort = False, ignore_index = True)"
   ]
  },
  {
   "cell_type": "code",
   "execution_count": 19,
   "metadata": {},
   "outputs": [
    {
     "data": {
      "text/plain": [
       "15681927"
      ]
     },
     "execution_count": 19,
     "metadata": {},
     "output_type": "execute_result"
    }
   ],
   "source": [
    "#Total number of records before filtering out non-LA migration data\n",
    "len(combined2)"
   ]
  },
  {
   "cell_type": "code",
   "execution_count": 20,
   "metadata": {},
   "outputs": [
    {
     "data": {
      "text/plain": [
       "59110"
      ]
     },
     "execution_count": 20,
     "metadata": {},
     "output_type": "execute_result"
    }
   ],
   "source": [
    "#Total number of records after filtering out non-LA migration data\n",
    "combined2 = combined2[(combined2.MIGPUMA1 == 3700) & (combined2.MIGPLAC1 == 6)]\n",
    "len(combined2)"
   ]
  },
  {
   "cell_type": "markdown",
   "metadata": {},
   "source": [
    "#### Filtering Out LA City vs LA County Records..."
   ]
  },
  {
   "cell_type": "code",
   "execution_count": 21,
   "metadata": {},
   "outputs": [
    {
     "data": {
      "text/plain": [
       "41333"
      ]
     },
     "execution_count": 21,
     "metadata": {},
     "output_type": "execute_result"
    }
   ],
   "source": [
    "#Filtering out migration within LA city\n",
    "la_city_PUMA_codes = set(cpuma_codes.PUMA10[cpuma_codes.PUMA10_Name.str.contains('LA City')])\n",
    "la_city = combined2[combined2.PUMA.isin(la_city_PUMA_codes) == False]\n",
    "len(la_city)"
   ]
  },
  {
   "cell_type": "code",
   "execution_count": 22,
   "metadata": {},
   "outputs": [
    {
     "data": {
      "text/plain": [
       "14686"
      ]
     },
     "execution_count": 22,
     "metadata": {},
     "output_type": "execute_result"
    }
   ],
   "source": [
    "#Filtering out migration within LA county (returns much fewer records than just filtering out LA city)\n",
    "la_county = combined2[combined2.CPUMA0010.isin(range(71,100)) == False]\n",
    "len(la_county)"
   ]
  },
  {
   "cell_type": "markdown",
   "metadata": {},
   "source": [
    "#### Mapping PUMA Codes to Names of Areas"
   ]
  },
  {
   "cell_type": "code",
   "execution_count": 23,
   "metadata": {},
   "outputs": [],
   "source": [
    "#File identifying names of areas encompassed by a particular PUMA\n",
    "puma_codes = pd.read_csv('../ipums/puma_codes.csv')"
   ]
  },
  {
   "cell_type": "code",
   "execution_count": 24,
   "metadata": {},
   "outputs": [],
   "source": [
    "#Keeping relevant variables before merging with combined2\n",
    "puma_names = puma_codes.copy()[['State_FIPS', 'State_Name', 'PUMA', 'PUMA_Name']]"
   ]
  },
  {
   "cell_type": "code",
   "execution_count": 25,
   "metadata": {},
   "outputs": [],
   "source": [
    "#Merging puma_names file with combined2 to assign PUMA name (i.e. parts of cities/counties encompassed by PUMA) to respective PUMA code\n",
    "puma_codes_names = pd.merge(puma_names, combined2, how='inner', left_on=['State_FIPS', 'PUMA'], right_on=['STATEFIP', 'PUMA'])"
   ]
  },
  {
   "cell_type": "markdown",
   "metadata": {},
   "source": [
    "#### Names of PUMAs: Including LA City vs Excluding LA City vs Excluding LA County"
   ]
  },
  {
   "cell_type": "code",
   "execution_count": 26,
   "metadata": {},
   "outputs": [
    {
     "data": {
      "text/plain": [
       "Los Angeles County (West Central)--LA City (West Central/Westwood & West Los Angeles)    1550\n",
       "Los Angeles County (Central)--LA City (East Central/Central City & Boyle Heights)        1244\n",
       "Los Angeles County--LA City (East Central/Silver Lake, Echo Park & Westlake)             1086\n",
       "Los Angeles County (Northwest)--Santa Clarita City                                       1038\n",
       "Los Angeles County--LA City (Mount Washington, Highland Park & Glassell Park)             994\n",
       "Los Angeles County (North)--LA City (Northwest/Chatsworth & Porter Ranch)                 933\n",
       "Los Angeles County (Central)--LA City (East Central/Hollywood)                            927\n",
       "Los Angeles County (North/Unincorporated)--Castaic                                        916\n",
       "Los Angeles County--LA City (Northwest/Canoga Park, Winnetka & Woodland Hills)            908\n",
       "Los Angeles County (North Central)--Palmdale City                                         905\n",
       "Name: PUMA_Name, dtype: int64"
      ]
     },
     "execution_count": 26,
     "metadata": {},
     "output_type": "execute_result"
    }
   ],
   "source": [
    "#Top 10 PUMA destinations before filtering out PUMAs encompassing part of LA city\n",
    "incl_la_city = puma_codes_names.PUMA_Name\n",
    "incl_la_city.value_counts()[:10]"
   ]
  },
  {
   "cell_type": "code",
   "execution_count": 27,
   "metadata": {},
   "outputs": [
    {
     "data": {
      "text/plain": [
       "Los Angeles County (Northwest)--Santa Clarita City                                      1038\n",
       "Los Angeles County (North/Unincorporated)--Castaic                                       916\n",
       "Los Angeles County (North Central)--Palmdale City                                        905\n",
       "Los Angeles County--LA (Southwest/Marina del Rey & Westchester) & Culver City Cities     887\n",
       "Los Angeles County (South)--South Gate & Lynwood Cities                                  835\n",
       "Los Angeles County (East Central)--Pomona City                                           808\n",
       "Los Angeles County (Central)--Glendale City                                              767\n",
       "Los Angeles County (Central)--Pasadena City                                              764\n",
       "Los Angeles County (North Central)--Lancaster City                                       725\n",
       "Los Angeles County--Baldwin Park, Azusa, Duarte & Irwindale Cities                       688\n",
       "Name: PUMA_Name, dtype: int64"
      ]
     },
     "execution_count": 27,
     "metadata": {},
     "output_type": "execute_result"
    }
   ],
   "source": [
    "#Top 10 PUMA destinations after filtering out PUMAs encompassing part of LA city\n",
    "excl_la_city = puma_codes_names.PUMA_Name[puma_codes_names.PUMA_Name.str.contains('LA City') == False]\n",
    "excl_la_city.value_counts()[:10]"
   ]
  },
  {
   "cell_type": "code",
   "execution_count": 28,
   "metadata": {},
   "outputs": [
    {
     "data": {
      "text/plain": [
       "Kern County (West)--Delano, Wasco & Shafter Cities                    318\n",
       "Orange County (Central)--Irvine City (Central)                        291\n",
       "Orange County (Northwest)--Buena Park, Cypress & Seal Beach Cities    286\n",
       "San Bernardino County (Southwest)--Chino & Chino Hills Cities         281\n",
       "San Bernardino County (Southwest)--Upland & Montclair Cities          208\n",
       "Orange County (North Central)--Fullerton & Placentia Cities           199\n",
       "Santa Barbara County--South Coast Region                              190\n",
       "San Bernardino County (Southwest)--Rancho Cucamonga City              178\n",
       "Ventura County (Southeast)--Thousand Oaks City                        168\n",
       "San Bernardino County (Southwest)--Ontario City                       167\n",
       "Name: PUMA_Name, dtype: int64"
      ]
     },
     "execution_count": 28,
     "metadata": {},
     "output_type": "execute_result"
    }
   ],
   "source": [
    "#Top 10 PUMA destinations after filtering out PUMAs encompassing part of LA county\n",
    "excl_la_county = puma_codes_names.PUMA_Name[puma_codes_names.PUMA_Name.str.contains('Los Angeles County') == False]\n",
    "excl_la_county.value_counts()[:10]"
   ]
  }
 ],
 "metadata": {
  "kernelspec": {
   "display_name": "Python 3",
   "language": "python",
   "name": "python3"
  },
  "language_info": {
   "codemirror_mode": {
    "name": "ipython",
    "version": 3
   },
   "file_extension": ".py",
   "mimetype": "text/x-python",
   "name": "python",
   "nbconvert_exporter": "python",
   "pygments_lexer": "ipython3",
   "version": "3.6.2"
  }
 },
 "nbformat": 4,
 "nbformat_minor": 2
}
